{
  "nbformat": 4,
  "nbformat_minor": 0,
  "metadata": {
    "colab": {
      "name": "SeqNLP_Project1_Questions_1.ipynb",
      "version": "0.3.2",
      "provenance": []
    },
    "kernelspec": {
      "name": "python2",
      "display_name": "Python 2"
    }
  },
  "cells": [
    {
      "cell_type": "markdown",
      "metadata": {
        "id": "sSdlg6hDVwjl",
        "colab_type": "text"
      },
      "source": [
        "# Sentiment Classification\n",
        "\n",
        "\n",
        "### Generate Word Embeddings and retrieve outputs of each layer with Keras based on Classification task\n",
        "\n",
        "Word embeddings are a type of word representation that allows words with similar meaning to have a similar representation.\n",
        "\n",
        "It is a distributed representation for text that is perhaps one of the key breakthroughs for the impressive performance of deep learning methods on challenging natural language processing problems.\n",
        "\n",
        "We willl use the imdb dataset to learn word embeddings as we train our dataset. This dataset contains 25,000 movie reviews from IMDB, labeled with sentiment (positive or negative). \n",
        "\n",
        "\n",
        "\n",
        "### Dataset\n",
        "\n",
        "`from keras.datasets import imdb`\n",
        "\n",
        "Dataset of 25,000 movies reviews from IMDB, labeled by sentiment (positive/negative). Reviews have been preprocessed, and each review is encoded as a sequence of word indexes (integers). For convenience, the words are indexed by their frequency in the dataset, meaning the for that has index 1 is the most frequent word. Use the first 20 words from each review to speed up training, using a max vocab size of 10,000.\n",
        "\n",
        "As a convention, \"0\" does not stand for a specific word, but instead is used to encode any unknown word.\n",
        "\n",
        "\n",
        "### Aim\n",
        "\n",
        "1. Import test and train data  \n",
        "2. Import the labels ( train and test) \n",
        "3. Get the word index and then Create key value pair for word and word_id. (12.5 points)\n",
        "4. Build a Sequential Model using Keras for Sentiment Classification task. (10 points)\n",
        "5. Report the Accuracy of the model. (5 points)  \n",
        "6. Retrive the output of each layer in keras for a given single test sample from the trained model you built. (2.5 points)\n"
      ]
    },
    {
      "cell_type": "code",
      "metadata": {
        "id": "zYxhagojRNEB",
        "colab_type": "code",
        "outputId": "3aa4d571-ebeb-45e8-ae76-9eef243643e2",
        "colab": {
          "base_uri": "https://localhost:8080/",
          "height": 33
        }
      },
      "source": [
        "from google.colab import drive\n",
        "drive.mount('/content/drive/')"
      ],
      "execution_count": 1,
      "outputs": [
        {
          "output_type": "stream",
          "text": [
            "Drive already mounted at /content/drive/; to attempt to forcibly remount, call drive.mount(\"/content/drive/\", force_remount=True).\n"
          ],
          "name": "stdout"
        }
      ]
    },
    {
      "cell_type": "code",
      "metadata": {
        "id": "KrInxqWLRSwx",
        "colab_type": "code",
        "colab": {}
      },
      "source": [
        "import os"
      ],
      "execution_count": 0,
      "outputs": []
    },
    {
      "cell_type": "code",
      "metadata": {
        "id": "wUjQKkvlRYZn",
        "colab_type": "code",
        "outputId": "234ad632-f910-4a4e-ed1d-fd23accb6bc0",
        "colab": {
          "base_uri": "https://localhost:8080/",
          "height": 33
        }
      },
      "source": [
        "pwd"
      ],
      "execution_count": 3,
      "outputs": [
        {
          "output_type": "execute_result",
          "data": {
            "text/plain": [
              "u'/content'"
            ]
          },
          "metadata": {
            "tags": []
          },
          "execution_count": 3
        }
      ]
    },
    {
      "cell_type": "code",
      "metadata": {
        "id": "WEQMXZpURd2O",
        "colab_type": "code",
        "colab": {}
      },
      "source": [
        "import os\n",
        "os.chdir('/content/drive/My Drive/')"
      ],
      "execution_count": 0,
      "outputs": []
    },
    {
      "cell_type": "code",
      "metadata": {
        "id": "6V0_NcFDSDqW",
        "colab_type": "code",
        "colab": {}
      },
      "source": [
        "os.chdir('/content/drive/My Drive/greatlakes/labexternal9/')"
      ],
      "execution_count": 0,
      "outputs": []
    },
    {
      "cell_type": "code",
      "metadata": {
        "id": "nGIFXYhhSToU",
        "colab_type": "code",
        "outputId": "9f456b6d-959b-413d-f2c7-360d7306a96d",
        "colab": {
          "base_uri": "https://localhost:8080/",
          "height": 33
        }
      },
      "source": [
        "\n",
        "import numpy as np\n",
        "\n",
        "from keras.preprocessing import sequence\n",
        "from keras.models import Sequential, load_model\n",
        "from keras.layers import Dense, Embedding\n",
        "from keras.layers import LSTM"
      ],
      "execution_count": 6,
      "outputs": [
        {
          "output_type": "stream",
          "text": [
            "Using TensorFlow backend.\n"
          ],
          "name": "stderr"
        }
      ]
    },
    {
      "cell_type": "code",
      "metadata": {
        "id": "HvSzSjXnS4Zb",
        "colab_type": "code",
        "colab": {}
      },
      "source": [
        "from keras.datasets import imdb\n",
        "#vocab size\n",
        "vocab_size = 10000\n",
        "# save np.load\n",
        "np_load_data = np.load"
      ],
      "execution_count": 0,
      "outputs": []
    },
    {
      "cell_type": "code",
      "metadata": {
        "id": "FPgQQHYATLqa",
        "colab_type": "code",
        "colab": {}
      },
      "source": [
        "# modify the default parameters of np.load\n",
        "np.load = lambda *a,**k: np_load_data(*a, allow_pickle=True, **k)"
      ],
      "execution_count": 0,
      "outputs": []
    },
    {
      "cell_type": "code",
      "metadata": {
        "id": "cFqUAEfNTPy9",
        "colab_type": "code",
        "colab": {}
      },
      "source": [
        "\n",
        "\n",
        "# call load_data with allow_pickle implicitly set to true\n",
        "(x_train, y_train), (x_test, y_test) = imdb.load_data(num_words=vocab_size) "
      ],
      "execution_count": 0,
      "outputs": []
    },
    {
      "cell_type": "code",
      "metadata": {
        "id": "mHHq3bb2TTm-",
        "colab_type": "code",
        "colab": {}
      },
      "source": [
        "# restore np.load for future normal usage\n",
        "np.load = np_load_data"
      ],
      "execution_count": 0,
      "outputs": []
    },
    {
      "cell_type": "code",
      "metadata": {
        "id": "aQQOUsZBT6jG",
        "colab_type": "code",
        "outputId": "6831ba22-4520-4c80-aaaf-c43bb3421e29",
        "colab": {
          "base_uri": "https://localhost:8080/",
          "height": 67
        }
      },
      "source": [
        "print(\"x_train \", x_train.shape)\n",
        "print(\"y_train \", y_train.shape)\n",
        "print(\"_\"*100)"
      ],
      "execution_count": 11,
      "outputs": [
        {
          "output_type": "stream",
          "text": [
            "('x_train ', (25000,))\n",
            "('y_train ', (25000,))\n",
            "____________________________________________________________________________________________________\n"
          ],
          "name": "stdout"
        }
      ]
    },
    {
      "cell_type": "code",
      "metadata": {
        "id": "cr1dapUET9bJ",
        "colab_type": "code",
        "outputId": "11c01126-1b25-4495-cd96-d50ee22ecd71",
        "colab": {
          "base_uri": "https://localhost:8080/",
          "height": 67
        }
      },
      "source": [
        "\n",
        "print(\"x_test \", x_test.shape)\n",
        "print(\"y_test \", y_test.shape)\n",
        "print(\"_\"*100)"
      ],
      "execution_count": 12,
      "outputs": [
        {
          "output_type": "stream",
          "text": [
            "('x_test ', (25000,))\n",
            "('y_test ', (25000,))\n",
            "____________________________________________________________________________________________________\n"
          ],
          "name": "stdout"
        }
      ]
    },
    {
      "cell_type": "code",
      "metadata": {
        "id": "YMwx3pe8T_M5",
        "colab_type": "code",
        "outputId": "3a7e7e42-3cf8-4bfc-b448-e45c9bf418b1",
        "colab": {
          "base_uri": "https://localhost:8080/",
          "height": 84
        }
      },
      "source": [
        "print(\"Maximum value of a word index \")\n",
        "print(max([max(sequence) for sequence in x_train]))\n",
        "print(\"Maximum length num words of review in train \")\n",
        "print(max([len(sequence) for sequence in x_train]))\n"
      ],
      "execution_count": 13,
      "outputs": [
        {
          "output_type": "stream",
          "text": [
            "Maximum value of a word index \n",
            "9999\n",
            "Maximum length num words of review in train \n",
            "2494\n"
          ],
          "name": "stdout"
        }
      ]
    },
    {
      "cell_type": "code",
      "metadata": {
        "id": "Dap50VoXUF2_",
        "colab_type": "code",
        "outputId": "0ec38608-4360-4bf7-86cc-a4bce820c82b",
        "colab": {
          "base_uri": "https://localhost:8080/",
          "height": 33
        }
      },
      "source": [
        "print(x_train.shape, y_train.shape)"
      ],
      "execution_count": 14,
      "outputs": [
        {
          "output_type": "stream",
          "text": [
            "((25000,), (25000,))\n"
          ],
          "name": "stdout"
        }
      ]
    },
    {
      "cell_type": "code",
      "metadata": {
        "id": "Yx6H99_5UNlg",
        "colab_type": "code",
        "outputId": "81b8c163-b813-43c4-dd33-95e8bcb21407",
        "colab": {
          "base_uri": "https://localhost:8080/",
          "height": 33
        }
      },
      "source": [
        "print(x_test.shape, y_test.shape)"
      ],
      "execution_count": 15,
      "outputs": [
        {
          "output_type": "stream",
          "text": [
            "((25000,), (25000,))\n"
          ],
          "name": "stdout"
        }
      ]
    },
    {
      "cell_type": "code",
      "metadata": {
        "id": "ovMerFdWURC7",
        "colab_type": "code",
        "outputId": "48add79e-b76e-440b-95e6-433c34198796",
        "colab": {
          "base_uri": "https://localhost:8080/",
          "height": 53
        }
      },
      "source": [
        "word_index = imdb.get_word_index()\n",
        "\n",
        "reverse_word_index = dict(\n",
        "[(value, key) for (key, value) in word_index.items()])\n",
        "\n",
        "decoded_review = ' '.join(\n",
        "[reverse_word_index.get(i - 3, '?') for i in x_train[123]])\n",
        "\n",
        "print(decoded_review)"
      ],
      "execution_count": 16,
      "outputs": [
        {
          "output_type": "stream",
          "text": [
            "? beautiful and touching movie rich colors great settings good acting and one of the most charming movies i have seen in a while i never saw such an interesting setting when i was in china my wife liked it so much she asked me to ? on and rate it so other would enjoy too\n"
          ],
          "name": "stdout"
        }
      ]
    },
    {
      "cell_type": "code",
      "metadata": {
        "id": "C7mgq697UTt5",
        "colab_type": "code",
        "colab": {}
      },
      "source": [
        "from keras.preprocessing.sequence import pad_sequences\n",
        "vocab_size = 10000 #vocab size\n",
        "maxlen = 300  #number of word used from each review"
      ],
      "execution_count": 0,
      "outputs": []
    },
    {
      "cell_type": "code",
      "metadata": {
        "id": "JJHLLW40UYbQ",
        "colab_type": "code",
        "colab": {}
      },
      "source": [
        "#load dataset as a list of ints\n",
        "# save np.load\n",
        "np_load_data = np.load\n",
        "\n",
        "# modify the default parameters of np.load\n",
        "np.load = lambda *a,**k: np_load_data(*a, allow_pickle=True, **k)\n",
        "(x_train, y_train), (x_test, y_test) = imdb.load_data(num_words=vocab_size)\n",
        "#make all sequences of the same length\n",
        "x_train = pad_sequences(x_train, maxlen=maxlen)\n",
        "x_test =  pad_sequences(x_test, maxlen=maxlen)"
      ],
      "execution_count": 0,
      "outputs": []
    },
    {
      "cell_type": "code",
      "metadata": {
        "id": "LJket3hjUnxh",
        "colab_type": "code",
        "outputId": "957a9870-beb4-4590-b4e1-e907583bae88",
        "colab": {
          "base_uri": "https://localhost:8080/",
          "height": 184
        }
      },
      "source": [
        "print(\"x_train \", x_train.shape)\n",
        "print(\"y_train \", y_train.shape)\n",
        "print(\"_\"*100)\n",
        "print(\"x_test \", x_test.shape)\n",
        "print(\"y_test \", y_test.shape)\n",
        "print(\"_\"*100)\n",
        "print(\"Maximum value of a word index \")\n",
        "print(max([max(sequence) for sequence in x_train]))\n",
        "print(\"Maximum length num words of review in train \")\n",
        "print(max([len(sequence) for sequence in x_train]))"
      ],
      "execution_count": 19,
      "outputs": [
        {
          "output_type": "stream",
          "text": [
            "('x_train ', (25000, 300))\n",
            "('y_train ', (25000,))\n",
            "____________________________________________________________________________________________________\n",
            "('x_test ', (25000, 300))\n",
            "('y_test ', (25000,))\n",
            "____________________________________________________________________________________________________\n",
            "Maximum value of a word index \n",
            "9999\n",
            "Maximum length num words of review in train \n",
            "300\n"
          ],
          "name": "stdout"
        }
      ]
    },
    {
      "cell_type": "code",
      "metadata": {
        "id": "tSKfoeSRUyrm",
        "colab_type": "code",
        "outputId": "c545fa34-8491-48e6-deea-3af44f7d47c2",
        "colab": {
          "base_uri": "https://localhost:8080/",
          "height": 50
        }
      },
      "source": [
        "print(x_train.shape, y_train.shape)\n",
        "print(x_test.shape, y_test.shape)"
      ],
      "execution_count": 20,
      "outputs": [
        {
          "output_type": "stream",
          "text": [
            "((25000, 300), (25000,))\n",
            "((25000, 300), (25000,))\n"
          ],
          "name": "stdout"
        }
      ]
    },
    {
      "cell_type": "markdown",
      "metadata": {
        "id": "iRMXvXqIWCQh",
        "colab_type": "text"
      },
      "source": [
        "## Build Keras Embedding Layer Model\n",
        "We can think of the Embedding layer as a dicionary that maps a index assigned to a word to a word vector. This layer is very flexible and can be used in a few ways:\n",
        "\n",
        "* The embedding layer can be used at the start of a larger deep learning model. \n",
        "* Also we could load pre-train word embeddings into the embedding layer when we create our model.\n",
        "* Use the embedding layer to train our own word2vec models.\n",
        "\n",
        "The keras embedding layer doesn't require us to onehot encode our words, instead we have to give each word a unqiue intger number as an id. For the imdb dataset we've loaded this has already been done, but if this wasn't the case we could use sklearn [LabelEncoder](http://scikit-learn.org/stable/modules/generated/sklearn.preprocessing.LabelEncoder.html)."
      ]
    },
    {
      "cell_type": "code",
      "metadata": {
        "id": "PC-YFdsLU7yL",
        "colab_type": "code",
        "outputId": "8c3bde29-71b8-4892-a2a6-57b247431dc4",
        "colab": {
          "base_uri": "https://localhost:8080/",
          "height": 572
        }
      },
      "source": [
        "model = Sequential()\n",
        "model.add(Embedding(vocab_size, 128))\n",
        "model.add(LSTM(128, dropout=0.2, recurrent_dropout=0.2))\n",
        "model.add(Dense(1, activation='sigmoid'))\n",
        "\n",
        "# try using different optimizers and different optimizer configs\n",
        "model.compile(loss='binary_crossentropy',\n",
        "              optimizer='adam',\n",
        "              metrics=['accuracy'])\n",
        "model.summary()"
      ],
      "execution_count": 21,
      "outputs": [
        {
          "output_type": "stream",
          "text": [
            "WARNING: Logging before flag parsing goes to stderr.\n",
            "W0804 12:43:14.216044 140399556089728 deprecation_wrapper.py:119] From /usr/local/lib/python2.7/dist-packages/keras/backend/tensorflow_backend.py:74: The name tf.get_default_graph is deprecated. Please use tf.compat.v1.get_default_graph instead.\n",
            "\n",
            "W0804 12:43:14.238028 140399556089728 deprecation_wrapper.py:119] From /usr/local/lib/python2.7/dist-packages/keras/backend/tensorflow_backend.py:517: The name tf.placeholder is deprecated. Please use tf.compat.v1.placeholder instead.\n",
            "\n",
            "W0804 12:43:14.241085 140399556089728 deprecation_wrapper.py:119] From /usr/local/lib/python2.7/dist-packages/keras/backend/tensorflow_backend.py:4138: The name tf.random_uniform is deprecated. Please use tf.random.uniform instead.\n",
            "\n",
            "W0804 12:43:14.346317 140399556089728 deprecation_wrapper.py:119] From /usr/local/lib/python2.7/dist-packages/keras/backend/tensorflow_backend.py:133: The name tf.placeholder_with_default is deprecated. Please use tf.compat.v1.placeholder_with_default instead.\n",
            "\n",
            "W0804 12:43:14.359673 140399556089728 deprecation.py:506] From /usr/local/lib/python2.7/dist-packages/keras/backend/tensorflow_backend.py:3445: calling dropout (from tensorflow.python.ops.nn_ops) with keep_prob is deprecated and will be removed in a future version.\n",
            "Instructions for updating:\n",
            "Please use `rate` instead of `keep_prob`. Rate should be set to `rate = 1 - keep_prob`.\n",
            "W0804 12:43:14.631402 140399556089728 deprecation_wrapper.py:119] From /usr/local/lib/python2.7/dist-packages/keras/optimizers.py:790: The name tf.train.Optimizer is deprecated. Please use tf.compat.v1.train.Optimizer instead.\n",
            "\n",
            "W0804 12:43:14.654125 140399556089728 deprecation_wrapper.py:119] From /usr/local/lib/python2.7/dist-packages/keras/backend/tensorflow_backend.py:3376: The name tf.log is deprecated. Please use tf.math.log instead.\n",
            "\n",
            "W0804 12:43:14.661031 140399556089728 deprecation.py:323] From /usr/local/lib/python2.7/dist-packages/tensorflow/python/ops/nn_impl.py:180: where (from tensorflow.python.ops.array_ops) is deprecated and will be removed in a future version.\n",
            "Instructions for updating:\n",
            "Use tf.where in 2.0, which has the same broadcast rule as np.where\n"
          ],
          "name": "stderr"
        },
        {
          "output_type": "stream",
          "text": [
            "_________________________________________________________________\n",
            "Layer (type)                 Output Shape              Param #   \n",
            "=================================================================\n",
            "embedding_1 (Embedding)      (None, None, 128)         1280000   \n",
            "_________________________________________________________________\n",
            "lstm_1 (LSTM)                (None, 128)               131584    \n",
            "_________________________________________________________________\n",
            "dense_1 (Dense)              (None, 1)                 129       \n",
            "=================================================================\n",
            "Total params: 1,411,713\n",
            "Trainable params: 1,411,713\n",
            "Non-trainable params: 0\n",
            "_________________________________________________________________\n"
          ],
          "name": "stdout"
        }
      ]
    },
    {
      "cell_type": "code",
      "metadata": {
        "id": "b8wV0FUOVM08",
        "colab_type": "code",
        "outputId": "0b21a1ea-5497-424b-825f-a315612cea75",
        "colab": {
          "base_uri": "https://localhost:8080/",
          "height": 385
        }
      },
      "source": [
        "batch_size = 50\n",
        "\n",
        "model.fit(x_train, y_train,\n",
        "          batch_size=batch_size,\n",
        "          epochs=10,\n",
        "          validation_data=(x_test, y_test))"
      ],
      "execution_count": 22,
      "outputs": [
        {
          "output_type": "stream",
          "text": [
            "Train on 25000 samples, validate on 25000 samples\n",
            "Epoch 1/10\n",
            "25000/25000 [==============================] - 363s 15ms/step - loss: 0.4812 - acc: 0.7736 - val_loss: 0.3719 - val_acc: 0.8397\n",
            "Epoch 2/10\n",
            "25000/25000 [==============================] - 362s 14ms/step - loss: 0.3279 - acc: 0.8648 - val_loss: 0.3330 - val_acc: 0.8662\n",
            "Epoch 3/10\n",
            "25000/25000 [==============================] - 362s 14ms/step - loss: 0.3192 - acc: 0.8654 - val_loss: 0.3757 - val_acc: 0.8403\n",
            "Epoch 4/10\n",
            "25000/25000 [==============================] - 361s 14ms/step - loss: 0.2396 - acc: 0.9064 - val_loss: 0.3383 - val_acc: 0.8637\n",
            "Epoch 5/10\n",
            "25000/25000 [==============================] - 362s 14ms/step - loss: 0.1851 - acc: 0.9298 - val_loss: 0.3646 - val_acc: 0.8652\n",
            "Epoch 6/10\n",
            "25000/25000 [==============================] - 361s 14ms/step - loss: 0.1535 - acc: 0.9418 - val_loss: 0.3626 - val_acc: 0.8650\n",
            "Epoch 7/10\n",
            "25000/25000 [==============================] - 362s 14ms/step - loss: 0.1323 - acc: 0.9509 - val_loss: 0.3983 - val_acc: 0.8717\n",
            "Epoch 8/10\n",
            "25000/25000 [==============================] - 363s 15ms/step - loss: 0.0945 - acc: 0.9652 - val_loss: 0.4722 - val_acc: 0.8558\n",
            "Epoch 9/10\n",
            "25000/25000 [==============================] - 362s 14ms/step - loss: 0.0846 - acc: 0.9703 - val_loss: 0.4726 - val_acc: 0.8596\n",
            "Epoch 10/10\n",
            "25000/25000 [==============================] - 361s 14ms/step - loss: 0.0760 - acc: 0.9737 - val_loss: 0.5031 - val_acc: 0.8610\n"
          ],
          "name": "stdout"
        },
        {
          "output_type": "execute_result",
          "data": {
            "text/plain": [
              "<keras.callbacks.History at 0x7fb11a775490>"
            ]
          },
          "metadata": {
            "tags": []
          },
          "execution_count": 22
        }
      ]
    },
    {
      "cell_type": "code",
      "metadata": {
        "id": "YZvanmU34IAg",
        "colab_type": "code",
        "colab": {}
      },
      "source": [
        "os.chdir('/content/drive/My Drive/greatlakes/labexternal9/')"
      ],
      "execution_count": 0,
      "outputs": []
    },
    {
      "cell_type": "code",
      "metadata": {
        "id": "rFqlBS68VWbi",
        "colab_type": "code",
        "colab": {}
      },
      "source": [
        "# save the model to file\n",
        "model.save('SeqNLP_Project1_model.h5')"
      ],
      "execution_count": 0,
      "outputs": []
    },
    {
      "cell_type": "code",
      "metadata": {
        "id": "6mOtS4AK35Ic",
        "colab_type": "code",
        "colab": {
          "base_uri": "https://localhost:8080/",
          "height": 33
        },
        "outputId": "b63dff89-3d6b-457b-efb6-82e7eb7018e0"
      },
      "source": [
        "pwd"
      ],
      "execution_count": 30,
      "outputs": [
        {
          "output_type": "execute_result",
          "data": {
            "text/plain": [
              "u'/content/drive/My Drive/greatlakes/labexternal9'"
            ]
          },
          "metadata": {
            "tags": []
          },
          "execution_count": 30
        }
      ]
    },
    {
      "cell_type": "code",
      "metadata": {
        "id": "DYOvJyyjVdnY",
        "colab_type": "code",
        "colab": {}
      },
      "source": [
        "# load the model\n",
        "model = load_model('SeqNLP_Project1_model.h5')"
      ],
      "execution_count": 0,
      "outputs": []
    },
    {
      "cell_type": "code",
      "metadata": {
        "id": "B7DFh85PVii9",
        "colab_type": "code",
        "colab": {
          "base_uri": "https://localhost:8080/",
          "height": 368
        },
        "outputId": "0b86097c-ecef-47b6-ee04-f43c15770ec1"
      },
      "source": [
        "model.fit(x_train, y_train, batch_size=batch_size, epochs=10)"
      ],
      "execution_count": 32,
      "outputs": [
        {
          "output_type": "stream",
          "text": [
            "Epoch 1/10\n",
            "25000/25000 [==============================] - 304s 12ms/step - loss: 0.0627 - acc: 0.9780\n",
            "Epoch 2/10\n",
            "25000/25000 [==============================] - 304s 12ms/step - loss: 0.0489 - acc: 0.9843\n",
            "Epoch 3/10\n",
            "25000/25000 [==============================] - 303s 12ms/step - loss: 0.0435 - acc: 0.9858\n",
            "Epoch 4/10\n",
            "25000/25000 [==============================] - 303s 12ms/step - loss: 0.0406 - acc: 0.9872\n",
            "Epoch 5/10\n",
            "25000/25000 [==============================] - 303s 12ms/step - loss: 0.0258 - acc: 0.9916\n",
            "Epoch 6/10\n",
            "25000/25000 [==============================] - 299s 12ms/step - loss: 0.0241 - acc: 0.9920\n",
            "Epoch 7/10\n",
            "25000/25000 [==============================] - 299s 12ms/step - loss: 0.0220 - acc: 0.9928\n",
            "Epoch 8/10\n",
            "25000/25000 [==============================] - 302s 12ms/step - loss: 0.0211 - acc: 0.9936\n",
            "Epoch 9/10\n",
            "25000/25000 [==============================] - 302s 12ms/step - loss: 0.0150 - acc: 0.9956\n",
            "Epoch 10/10\n",
            "25000/25000 [==============================] - 303s 12ms/step - loss: 0.0162 - acc: 0.9945\n"
          ],
          "name": "stdout"
        },
        {
          "output_type": "execute_result",
          "data": {
            "text/plain": [
              "<keras.callbacks.History at 0x7fb111298850>"
            ]
          },
          "metadata": {
            "tags": []
          },
          "execution_count": 32
        }
      ]
    },
    {
      "cell_type": "code",
      "metadata": {
        "id": "N_T3rzfsmAtG",
        "colab_type": "code",
        "colab": {
          "base_uri": "https://localhost:8080/",
          "height": 67
        },
        "outputId": "254d832e-e995-44ce-c654-31e1d59f9db3"
      },
      "source": [
        "score, acc = model.evaluate(x_test, y_test,\n",
        "                            batch_size=batch_size)\n",
        "print('Test score:', score)\n",
        "print('Test accuracy:', acc)"
      ],
      "execution_count": 33,
      "outputs": [
        {
          "output_type": "stream",
          "text": [
            "25000/25000 [==============================] - 63s 3ms/step\n",
            "('Test score:', 0.7613391863256693)\n",
            "('Test accuracy:', 0.8599599949121475)\n"
          ],
          "name": "stdout"
        }
      ]
    },
    {
      "cell_type": "markdown",
      "metadata": {
        "id": "1FF0OLU1pFYC",
        "colab_type": "text"
      },
      "source": [
        "#### Insights : \n",
        "\n",
        "* Hence the Model evaluation shows the model accuracy has 0.85 and model score as 0.76 "
      ]
    }
  ]
}
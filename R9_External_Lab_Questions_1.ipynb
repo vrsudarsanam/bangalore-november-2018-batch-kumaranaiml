{
  "nbformat": 4,
  "nbformat_minor": 0,
  "metadata": {
    "colab": {
      "name": "R9_External_Lab_Questions_1.ipynb",
      "version": "0.3.2",
      "provenance": [],
      "collapsed_sections": []
    },
    "kernelspec": {
      "display_name": "Python 3",
      "language": "python",
      "name": "python3"
    },
    "language_info": {
      "codemirror_mode": {
        "name": "ipython",
        "version": 3
      },
      "file_extension": ".py",
      "mimetype": "text/x-python",
      "name": "python",
      "nbconvert_exporter": "python",
      "pygments_lexer": "ipython3",
      "version": "3.7.0"
    }
  },
  "cells": [
    {
      "cell_type": "markdown",
      "metadata": {
        "colab_type": "text",
        "id": "WPJHV_CIn6Bg"
      },
      "source": [
        "# U - Net\n",
        "## Problem: \n",
        "\n",
        "Seismic data is collected using reflection seismology, or seismic reflection. The method requires a controlled seismic source of energy, such as compressed air or a seismic vibrator, and sensors record the reflection from rock interfaces within the subsurface. The recorded data is then processed to create a 3D view of earth’s interior. Reflection seismology is similar to X-ray, sonar and echolocation.\n",
        "\n",
        "A seismic image is produced from imaging the reflection coming from rock boundaries. The seismic image shows the boundaries between different rock types. In theory, the strength of reflection is directly proportional to the difference in the physical properties on either sides of the interface. While seismic images show rock boundaries, they don't say much about the rock themselves; some rocks are easy to identify while some are difficult.\n",
        "\n",
        "There are several areas of the world where there are vast quantities of salt in the subsurface. One of the challenges of seismic imaging is to identify the part of subsurface which is salt. Salt has characteristics that makes it both simple and hard to identify. Salt density is usually 2.14 g/cc which is lower than most surrounding rocks. The seismic velocity of salt is 4.5 km/sec, which is usually faster than its surrounding rocks. This difference creates a sharp reflection at the salt-sediment interface. Usually salt is an amorphous rock without much internal structure. This means that there is typically not much reflectivity inside the salt, unless there are sediments trapped inside it. The unusually high seismic velocity of salt can create problems with seismic imaging.\n",
        "\n",
        "### Data\n",
        "The data is a set of images chosen at various locations chosen at random in the subsurface. The images are 101 x 101 pixels and each pixel is classified as either salt or sediment. In addition to the seismic images, the depth of the imaged location is provided for each image. The goal of the competition is to segment regions that contain salt.\n",
        "\n",
        "#### Source: \n",
        "https://www.kaggle.com/c/tgs-salt-identification-challenge\n",
        "\n",
        "\n",
        "### Note: \n",
        "Accept the terms and download data from the above link"
      ]
    },
    {
      "cell_type": "markdown",
      "metadata": {
        "colab_type": "text",
        "id": "3OKrTNUtn-od"
      },
      "source": [
        "### Aim: \n",
        "\n",
        "Implement U-Net neural model architecture in keras to solve this problem.\n",
        "\n",
        "\n",
        "In this, you are asked to segment salt deposits beneath the Earth’s surface. Given a set of seismic images that are 101 x 101 pixels each and each pixel we need to classify as either salt or sediment. Our goal is to segment regions that contain salt. A seismic image is produced from imaging the reflection coming from rock boundaries. The seismic image shows the boundaries between different rock types. "
      ]
    },
    {
      "cell_type": "markdown",
      "metadata": {
        "colab_type": "text",
        "id": "ZUOAF8WWoA1x"
      },
      "source": [
        "### Broad Steps:\n",
        "\n",
        "1. Download the dataset\n",
        "2. Upload to Drive\n",
        "3. Import from drive to colab\n",
        "4. Load the images and create training data.\n",
        "5. Build U-net Model\n",
        "6. Train your model.\n",
        "7. Check the validation accuracy and plot sample."
      ]
    },
    {
      "cell_type": "code",
      "metadata": {
        "colab_type": "code",
        "id": "b7TLNzB6oDep",
        "colab": {
          "base_uri": "https://localhost:8080/",
          "height": 34
        },
        "outputId": "abc1800a-5a06-4017-b128-f7a9909f673a"
      },
      "source": [
        "#Importing necessary libraries\n",
        "import os\n",
        "import random\n",
        "import pandas as pd\n",
        "import numpy as np\n",
        "import matplotlib.pyplot as plt\n",
        "plt.style.use(\"ggplot\")\n",
        "%matplotlib inline\n",
        "\n",
        "from tqdm import tqdm_notebook, tnrange\n",
        "from itertools import chain\n",
        "from skimage.io import imread, imshow, concatenate_images\n",
        "from skimage.transform import resize\n",
        "from skimage.morphology import label\n",
        "from sklearn.model_selection import train_test_split\n",
        "\n",
        "import tensorflow as tf\n",
        "from keras.models import Model, load_model\n",
        "from keras.layers import Input, BatchNormalization, Activation, Dense, Dropout\n",
        "from keras.layers.core import Lambda, RepeatVector, Reshape\n",
        "from keras.layers.convolutional import Conv2D, Conv2DTranspose\n",
        "from keras.layers.pooling import MaxPooling2D, GlobalMaxPool2D\n",
        "from keras.layers.merge import concatenate, add\n",
        "from keras.callbacks import EarlyStopping, ModelCheckpoint, ReduceLROnPlateau\n",
        "from keras.optimizers import Adam\n",
        "from keras.preprocessing.image import ImageDataGenerator, array_to_img, img_to_array, load_img"
      ],
      "execution_count": 2,
      "outputs": [
        {
          "output_type": "stream",
          "text": [
            "Using TensorFlow backend.\n"
          ],
          "name": "stderr"
        }
      ]
    },
    {
      "cell_type": "code",
      "metadata": {
        "colab_type": "code",
        "id": "6qiCvW9coD_E",
        "colab": {
          "base_uri": "https://localhost:8080/",
          "height": 121
        },
        "outputId": "0c527232-d72a-44f6-907f-3b57b9218597"
      },
      "source": [
        "#Mount drive\n",
        "from google.colab import drive\n",
        "drive.mount('/content/drive/')"
      ],
      "execution_count": 8,
      "outputs": [
        {
          "output_type": "stream",
          "text": [
            "Go to this URL in a browser: https://accounts.google.com/o/oauth2/auth?client_id=947318989803-6bn6qk8qdgf4n4g3pfee6491hc0brc4i.apps.googleusercontent.com&redirect_uri=urn%3Aietf%3Awg%3Aoauth%3A2.0%3Aoob&scope=email%20https%3A%2F%2Fwww.googleapis.com%2Fauth%2Fdocs.test%20https%3A%2F%2Fwww.googleapis.com%2Fauth%2Fdrive%20https%3A%2F%2Fwww.googleapis.com%2Fauth%2Fdrive.photos.readonly%20https%3A%2F%2Fwww.googleapis.com%2Fauth%2Fpeopleapi.readonly&response_type=code\n",
            "\n",
            "Enter your authorization code:\n",
            "··········\n",
            "Mounted at /content/drive/\n"
          ],
          "name": "stdout"
        }
      ]
    },
    {
      "cell_type": "markdown",
      "metadata": {
        "colab_type": "text",
        "id": "B4IaUgploION"
      },
      "source": [
        "### 1.Set your project path where you have your data and related files for this lab."
      ]
    },
    {
      "cell_type": "code",
      "metadata": {
        "colab_type": "code",
        "id": "0tPkbXWyoK-z",
        "colab": {}
      },
      "source": [
        ""
      ],
      "execution_count": 0,
      "outputs": []
    },
    {
      "cell_type": "code",
      "metadata": {
        "colab_type": "code",
        "id": "Kxy5LexhoLMT",
        "colab": {}
      },
      "source": [
        ""
      ],
      "execution_count": 0,
      "outputs": []
    },
    {
      "cell_type": "markdown",
      "metadata": {
        "colab_type": "text",
        "id": "g15qSXZSoSuL"
      },
      "source": [
        "### 2. Set the necessary parameters"
      ]
    },
    {
      "cell_type": "markdown",
      "metadata": {
        "colab_type": "text",
        "id": "Dzrz2Or_HdxR"
      },
      "source": [
        "## Setup"
      ]
    },
    {
      "cell_type": "code",
      "metadata": {
        "colab_type": "code",
        "id": "3IEaEnuzoW2a",
        "colab": {}
      },
      "source": [
        "im_width = 128      #width of your train image\n",
        "im_height = 128     #hight of your train image\n",
        "#border =        \n",
        "path_train = project_path + 'train/'   #Path for your train data"
      ],
      "execution_count": 0,
      "outputs": []
    },
    {
      "cell_type": "code",
      "metadata": {
        "colab_type": "code",
        "id": "uZQyyn55oKW-",
        "colab": {}
      },
      "source": [
        ""
      ],
      "execution_count": 0,
      "outputs": []
    },
    {
      "cell_type": "markdown",
      "metadata": {
        "colab_type": "text",
        "id": "Q3IoS6RCoZPh"
      },
      "source": [
        "# 3. Make directory for train data at in your project/lab folder.\n",
        "\n",
        "Hint - use !mkdir function."
      ]
    },
    {
      "cell_type": "code",
      "metadata": {
        "colab_type": "code",
        "id": "MRPpQ2QrocBQ",
        "colab": {}
      },
      "source": [
        ""
      ],
      "execution_count": 0,
      "outputs": []
    },
    {
      "cell_type": "code",
      "metadata": {
        "colab_type": "code",
        "id": "RWATodbkocN9",
        "colab": {}
      },
      "source": [
        ""
      ],
      "execution_count": 0,
      "outputs": []
    },
    {
      "cell_type": "markdown",
      "metadata": {
        "colab_type": "text",
        "id": "fRbC22DGoeb7"
      },
      "source": [
        "# 4. Extract your train images to the train directory you have just created above. \n",
        "train.zip and test.zip files available at your google drive/local system.\n",
        "\n",
        "As a good practice - Upload or copy the data at your project path folder.\n",
        "\n",
        "Make sure you are providing the right project_path."
      ]
    },
    {
      "cell_type": "code",
      "metadata": {
        "colab_type": "code",
        "id": "5BtPznFbogjG",
        "colab": {}
      },
      "source": [
        "#For simplicity we have added the required code here.\n",
        "from zipfile import ZipFile\n",
        "\n",
        "with ZipFile(project_path + 'train.zip', 'r') as zf:\n",
        "  zf.extractall('train/')\n"
      ],
      "execution_count": 0,
      "outputs": []
    },
    {
      "cell_type": "code",
      "metadata": {
        "colab_type": "code",
        "id": "7YZ2prb9oiX4",
        "colab": {}
      },
      "source": [
        "#The train file have both images and masks with the same names_ids."
      ],
      "execution_count": 0,
      "outputs": []
    },
    {
      "cell_type": "code",
      "metadata": {
        "colab_type": "code",
        "id": "zxQ1u8Bvoj1M",
        "colab": {}
      },
      "source": [
        ""
      ],
      "execution_count": 0,
      "outputs": []
    },
    {
      "cell_type": "markdown",
      "metadata": {
        "colab_type": "text",
        "id": "iwCH81ZWomLA"
      },
      "source": [
        "### 5. Get the list of names of images and masks and name the list imagelist and masklist.\n",
        "\n",
        "Hint - Use os.listdir() funtions."
      ]
    },
    {
      "cell_type": "code",
      "metadata": {
        "colab_type": "code",
        "id": "Clt5ya_JoplC",
        "colab": {}
      },
      "source": [
        ""
      ],
      "execution_count": 0,
      "outputs": []
    },
    {
      "cell_type": "code",
      "metadata": {
        "colab_type": "code",
        "id": "-vHPQoHVoppK",
        "colab": {}
      },
      "source": [
        "#Test your list names by printing some of the names as given below.\n",
        "print(imagelist[-1])\n",
        "print(masklist[-1])\n",
        "print(imagelist[10])\n",
        "print(masklist[10])"
      ],
      "execution_count": 0,
      "outputs": []
    },
    {
      "cell_type": "code",
      "metadata": {
        "colab_type": "code",
        "id": "WUZw-kSKoqIr",
        "colab": {}
      },
      "source": [
        ""
      ],
      "execution_count": 0,
      "outputs": []
    },
    {
      "cell_type": "markdown",
      "metadata": {
        "colab_type": "text",
        "id": "1t8raFq5ous8"
      },
      "source": [
        "# 6. Read and test your images and respective masks.\n",
        "\n",
        "Hint -\n",
        "\n",
        "import  matplotlib.pyplot as plt\n",
        "\n",
        "import cv2\n",
        "\n",
        "plt.imshow(cv2.imread('path of image'))\n",
        "\n",
        "plt.imshow(cv2.imread('path of mask'))\n"
      ]
    },
    {
      "cell_type": "code",
      "metadata": {
        "colab_type": "code",
        "id": "1gGpCSPpovvH",
        "colab": {}
      },
      "source": [
        ""
      ],
      "execution_count": 0,
      "outputs": []
    },
    {
      "cell_type": "code",
      "metadata": {
        "colab_type": "code",
        "id": "9E-McW2toyaR",
        "colab": {}
      },
      "source": [
        ""
      ],
      "execution_count": 0,
      "outputs": []
    },
    {
      "cell_type": "markdown",
      "metadata": {
        "colab_type": "text",
        "id": "_qFeroMNoylc"
      },
      "source": [
        "# 7. Create your training data.\n",
        "\n",
        "Hints - \n",
        "\n",
        "image_path = os.path.join(project_path +'path of your image directory' +n )\n",
        "\n",
        "mask_path = os.path.join(project_path +'path of your mask directory'+n )"
      ]
    },
    {
      "cell_type": "code",
      "metadata": {
        "colab_type": "code",
        "id": "gJbRVbL4o1qT",
        "colab": {}
      },
      "source": [
        "# Get and resize train images and masks\n",
        "def get_data():\n",
        "    X = np.zeros(((len(imagelist), im_height, im_width, 1)), dtype=np.float32) # Create an array for image\n",
        "    y = np.zeros(((len(masklist), im_height, im_width, 1)), dtype=np.float32) #Create an array for mask\n",
        "    \n",
        "    for n in imagelist: \n",
        "        k = imagelist.index(n)\n",
        "        ##Add image_path\n",
        "        image_path =  /*** Add your code here***/\n",
        "        ##Add mask_path\n",
        "        mask_path =                                                            \n",
        "        \n",
        "        # Load images and resize to (128,128,1)\n",
        "        /*** Add your code here***/\n",
        "        \n",
        "        # Load masks and resize to (128,128,1)\n",
        "        /*** Add your code here***/\n",
        "        \n",
        "        # Save images\n",
        "        X[k, ..., 0] = resized_img.squeeze() / 255\n",
        "        y[k] = resized_mask/255\n",
        "    print('Done!')\n",
        "    if train:\n",
        "        return X, y\n",
        "    else:\n",
        "        return X\n",
        "    \n",
        "X, y = get_data()"
      ],
      "execution_count": 0,
      "outputs": []
    },
    {
      "cell_type": "code",
      "metadata": {
        "colab_type": "code",
        "id": "seheYxTBo32V",
        "colab": {}
      },
      "source": [
        ""
      ],
      "execution_count": 0,
      "outputs": []
    },
    {
      "cell_type": "code",
      "metadata": {
        "colab_type": "code",
        "id": "kt6zXJPHo35y",
        "colab": {}
      },
      "source": [
        "# Split train and valid\n",
        "from sklearn.model_selection import train_test_split\n",
        "X_train, X_valid, y_train, y_valid = train_test_split(X, y, test_size=0.15, random_state=2019)"
      ],
      "execution_count": 0,
      "outputs": []
    },
    {
      "cell_type": "code",
      "metadata": {
        "colab_type": "code",
        "id": "mh_SRFGro6wr",
        "colab": {}
      },
      "source": [
        "## Test your data whether it looks fine - Random check\n",
        "import random \n",
        "# Check if training data looks all right\n",
        "ix = random.randint(0, len(X_train))\n",
        "has_mask = y_train[ix].max() > 0\n",
        "\n",
        "fig, ax = plt.subplots(1, 2, figsize=(10, 10))\n",
        "\n",
        "ax[0].imshow(X_train[ix, ..., 0], cmap='seismic', interpolation='bilinear')\n",
        "if has_mask:\n",
        "    ax[0].contour(y_train[ix].squeeze(), colors='k', levels=[0.5])\n",
        "ax[0].set_title('Seismic')\n",
        "\n",
        "ax[1].imshow(y_train[ix].squeeze(), interpolation='bilinear', cmap='gray')\n",
        "ax[1].set_title('Salt');\n",
        "\n",
        "\n"
      ],
      "execution_count": 0,
      "outputs": []
    },
    {
      "cell_type": "code",
      "metadata": {
        "colab_type": "code",
        "id": "aqMLP_Jwo8K5",
        "colab": {}
      },
      "source": [
        ""
      ],
      "execution_count": 0,
      "outputs": []
    },
    {
      "cell_type": "code",
      "metadata": {
        "colab_type": "code",
        "id": "_-JXuxrRo8a6",
        "colab": {}
      },
      "source": [
        ""
      ],
      "execution_count": 0,
      "outputs": []
    },
    {
      "cell_type": "markdown",
      "metadata": {
        "colab_type": "text",
        "id": "em5jGV93o8qR"
      },
      "source": [
        "### 8. Define loss and dice_coeff function."
      ]
    },
    {
      "cell_type": "code",
      "metadata": {
        "colab_type": "code",
        "id": "Uyxf8uhQpA78",
        "colab": {}
      },
      "source": [
        ""
      ],
      "execution_count": 0,
      "outputs": []
    },
    {
      "cell_type": "code",
      "metadata": {
        "colab_type": "code",
        "id": "EmCjyEUUpA_V",
        "colab": {}
      },
      "source": [
        ""
      ],
      "execution_count": 0,
      "outputs": []
    },
    {
      "cell_type": "markdown",
      "metadata": {
        "colab_type": "text",
        "id": "-ofKZA-9pDVJ"
      },
      "source": [
        "### 9. Build and compile UNet Model for your data.\n",
        "\n",
        "Hint - \n",
        "You can install and use segmentation models from this github repository.\n",
        "\n",
        "#Install segmentation models\n",
        "\n",
        "!pip install git+https://github.com/qubvel/segmentation_models"
      ]
    },
    {
      "cell_type": "code",
      "metadata": {
        "colab_type": "code",
        "id": "456utznCpGco",
        "colab": {}
      },
      "source": [
        "#model = Unet(backbone_name='resnet34', encoder_weights=None, input_shape=(None, None, 1))\n",
        "#compile your model by adding the parameters like optimizer, loss and metrics.\n",
        "\n"
      ],
      "execution_count": 0,
      "outputs": []
    },
    {
      "cell_type": "code",
      "metadata": {
        "colab_type": "code",
        "id": "eL1lRlXDpIHl",
        "colab": {}
      },
      "source": [
        "#Get the summary of your model\n"
      ],
      "execution_count": 0,
      "outputs": []
    },
    {
      "cell_type": "code",
      "metadata": {
        "colab_type": "code",
        "id": "cA4f4oYYpJA6",
        "colab": {}
      },
      "source": [
        ""
      ],
      "execution_count": 0,
      "outputs": []
    },
    {
      "cell_type": "markdown",
      "metadata": {
        "colab_type": "text",
        "id": "6UYvb8OdpLV5"
      },
      "source": [
        "### 10. Fit your model using model.fit function.\n",
        "Hint - As it might take long time to run. Run it for only 1 or 2 epochs."
      ]
    },
    {
      "cell_type": "code",
      "metadata": {
        "colab_type": "code",
        "id": "bFw1Yq06pQbp",
        "colab": {}
      },
      "source": [
        ""
      ],
      "execution_count": 0,
      "outputs": []
    },
    {
      "cell_type": "markdown",
      "metadata": {
        "colab_type": "text",
        "id": "iH34vMq9pSnh"
      },
      "source": [
        "### 11.Predict on val set using model.predict funtion and store in preds_val variable.\n",
        "\n"
      ]
    },
    {
      "cell_type": "code",
      "metadata": {
        "colab_type": "code",
        "id": "FymN5QpopXW-",
        "colab": {}
      },
      "source": [
        ""
      ],
      "execution_count": 0,
      "outputs": []
    },
    {
      "cell_type": "code",
      "metadata": {
        "colab_type": "code",
        "id": "uKkpE3vEpXi8",
        "colab": {}
      },
      "source": [
        "#Get the threshold predictions to look at refined results.\n",
        "preds_val_t = (preds_val > 0.5).astype(np.uint8)"
      ],
      "execution_count": 0,
      "outputs": []
    },
    {
      "cell_type": "code",
      "metadata": {
        "colab_type": "code",
        "id": "Pyn3RyCRpaRH",
        "colab": {}
      },
      "source": [
        "#Plot a sample\n",
        "def plot_sample(X, y, preds, binary_preds, ix=None):\n",
        "    if ix is None:\n",
        "        ix = random.randint(0, len(X))\n",
        "\n",
        "    has_mask = y[ix].max() > 0\n",
        "\n",
        "    fig, ax = plt.subplots(1, 4, figsize=(20, 10))\n",
        "    ax[0].imshow(X[ix, ..., 0], cmap='seismic')\n",
        "    if has_mask:\n",
        "        ax[0].contour(y[ix].squeeze(), colors='k', levels=[0.5])\n",
        "    ax[0].set_title('Seismic')\n",
        "\n",
        "    ax[1].imshow(y[ix].squeeze())\n",
        "    ax[1].set_title('Salt')\n",
        "\n",
        "    ax[2].imshow(preds[ix].squeeze(), vmin=0, vmax=1)\n",
        "    if has_mask:\n",
        "        ax[2].contour(y[ix].squeeze(), colors='k', levels=[0.5])\n",
        "    ax[2].set_title('Salt Predicted')\n",
        "    \n",
        "    ax[3].imshow(binary_preds[ix].squeeze(), vmin=0, vmax=1)\n",
        "    if has_mask:\n",
        "        ax[3].contour(y[ix].squeeze(), colors='k', levels=[0.5])\n",
        "    ax[3].set_title('Salt Predicted binary');"
      ],
      "execution_count": 0,
      "outputs": []
    },
    {
      "cell_type": "code",
      "metadata": {
        "colab_type": "code",
        "id": "s_h5fcgYpbyR",
        "colab": {}
      },
      "source": [
        "# Check if valid data looks all right\n",
        "plot_sample(X_valid, y_valid, preds_val, preds_val_t, ix=15)"
      ],
      "execution_count": 0,
      "outputs": []
    },
    {
      "cell_type": "markdown",
      "metadata": {
        "colab_type": "text",
        "id": "oasnhlaDpeU0"
      },
      "source": [
        "If you are getting good results- Congratulations.\n",
        "If you are not, try to explore what might be the reason."
      ]
    },
    {
      "cell_type": "markdown",
      "metadata": {
        "colab_type": "text",
        "id": "yllJR0PQpm4M"
      },
      "source": [
        "# Text generation using a RNN"
      ]
    },
    {
      "cell_type": "markdown",
      "metadata": {
        "colab_type": "text",
        "id": "2W6g03QsptwG"
      },
      "source": [
        "Given a sequence of words from this data, train a model to predict the next word in the sequence. Longer sequences of text can be generated by calling the model repeatedly."
      ]
    },
    {
      "cell_type": "markdown",
      "metadata": {
        "colab_type": "text",
        "id": "hbd3E0IuHwjz"
      },
      "source": [
        "**Mount your Google Drive**"
      ]
    },
    {
      "cell_type": "code",
      "metadata": {
        "id": "bOh48HXUvl3c",
        "colab_type": "code",
        "colab": {
          "base_uri": "https://localhost:8080/",
          "height": 50
        },
        "outputId": "9a62ec66-820a-46e5-8a96-f29429f45ac2"
      },
      "source": [
        "from google.colab import drive\n",
        "drive.mount('/gdrive')\n",
        "%cd /gdrive"
      ],
      "execution_count": 12,
      "outputs": [
        {
          "output_type": "stream",
          "text": [
            "Mounted at /gdrive\n",
            "/gdrive\n"
          ],
          "name": "stdout"
        }
      ]
    },
    {
      "cell_type": "code",
      "metadata": {
        "id": "pjtt7stwvoBr",
        "colab_type": "code",
        "colab": {}
      },
      "source": [
        ""
      ],
      "execution_count": 0,
      "outputs": []
    },
    {
      "cell_type": "code",
      "metadata": {
        "colab_type": "code",
        "id": "Dikrw1ylHtAL",
        "colab": {}
      },
      "source": [
        "projectPath = \"/gdrive/My Drive/R9/\""
      ],
      "execution_count": 0,
      "outputs": []
    },
    {
      "cell_type": "code",
      "metadata": {
        "id": "_roEGqRcv7wR",
        "colab_type": "code",
        "colab": {}
      },
      "source": [
        ""
      ],
      "execution_count": 0,
      "outputs": []
    },
    {
      "cell_type": "markdown",
      "metadata": {
        "colab_type": "text",
        "id": "fnIX_mLXHdxS"
      },
      "source": [
        "### Import Keras and other libraries"
      ]
    },
    {
      "cell_type": "code",
      "metadata": {
        "colab_type": "code",
        "id": "0TmrQuvpHdxU",
        "colab": {}
      },
      "source": [
        "import glob\n",
        "\n",
        "from sklearn.utils import shuffle\n",
        "import numpy as np\n",
        "\n",
        "from keras.preprocessing.text import Tokenizer\n",
        "from keras.models import Sequential, load_model\n",
        "from keras.layers import LSTM, Dense, Dropout, Embedding, Masking, Bidirectional\n",
        "from keras.optimizers import Adam\n",
        "from keras import backend"
      ],
      "execution_count": 0,
      "outputs": []
    },
    {
      "cell_type": "markdown",
      "metadata": {
        "colab_type": "text",
        "id": "zKBXQflGlPjG"
      },
      "source": [
        "## Download data\n",
        "Reference: Data is collected from http://www.gutenberg.org\n",
        "\n",
        "For the lab purpose, you can load the dataset provided by Great Learning"
      ]
    },
    {
      "cell_type": "markdown",
      "metadata": {
        "colab_type": "text",
        "id": "s321mV4DHdxZ"
      },
      "source": [
        "### Load the Oscar Wilde dataset\n",
        "\n",
        "Store all the \".txt\" file names in a list"
      ]
    },
    {
      "cell_type": "code",
      "metadata": {
        "colab_type": "code",
        "id": "VUanlzNJHdxa",
        "colab": {
          "base_uri": "https://localhost:8080/",
          "height": 54
        },
        "outputId": "04b10130-07b2-43cb-a579-8d8e0c6007d1"
      },
      "source": [
        "oscarlist = glob.glob(projectPath+\"data/*.txt\")\n",
        "print(oscarlist)"
      ],
      "execution_count": 15,
      "outputs": [
        {
          "output_type": "stream",
          "text": [
            "['/gdrive/My Drive/R9/data/Impressions of America.txt', '/gdrive/My Drive/R9/data/A Critic in Pall Mall.txt', '/gdrive/My Drive/R9/data/For Love of the King.txt', '/gdrive/My Drive/R9/data/An Ideal Husband.txt', '/gdrive/My Drive/R9/data/A House of Pomegranates.txt', '/gdrive/My Drive/R9/data/Essays and Lectures.txt', '/gdrive/My Drive/R9/data/Children in Prison and Other Cruelties of Prison Life.txt', '/gdrive/My Drive/R9/data/De Profundis.txt', '/gdrive/My Drive/R9/data/Charmides and Other Poems.txt', '/gdrive/My Drive/R9/data/A Woman of No Importance a play.txt', '/gdrive/My Drive/R9/data/Intentions.txt', '/gdrive/My Drive/R9/data/Lady Windermere_s Fan.txt', '/gdrive/My Drive/R9/data/Lord Arthur Savile_s Crime.txt', '/gdrive/My Drive/R9/data/Miscellaneous Aphorisms_ The Soul of Man.txt', '/gdrive/My Drive/R9/data/Selected prose of oscar wilde with a Preface by Robert Ross.txt', '/gdrive/My Drive/R9/data/Rose Leaf and Apple Leaf.txt', '/gdrive/My Drive/R9/data/Poems with the Ballad of Reading Gaol.txt', '/gdrive/My Drive/R9/data/Oscar Wilde Miscellaneous.txt', '/gdrive/My Drive/R9/data/Shorter Prose Pieces.txt', '/gdrive/My Drive/R9/data/Miscellanies.txt', '/gdrive/My Drive/R9/data/Reviews.txt', '/gdrive/My Drive/R9/data/Salomé A tragedy in one act.txt', '/gdrive/My Drive/R9/data/Selected poems of oscar wilde including The Ballad of Reading Gaol.txt', '/gdrive/My Drive/R9/data/The Ballad of Reading Gaol.txt', '/gdrive/My Drive/R9/data/The Duchess of Padua.txt', '/gdrive/My Drive/R9/data/The Canterville Ghost.txt', '/gdrive/My Drive/R9/data/The Soul of Man.txt', '/gdrive/My Drive/R9/data/The Happy Prince and other tales.txt', '/gdrive/My Drive/R9/data/The Picture of Dorian Gray.txt', '/gdrive/My Drive/R9/data/The Importance of Being Earnest.txt', '/gdrive/My Drive/R9/data/Vera or, The Nihilists.txt']\n"
          ],
          "name": "stdout"
        }
      ]
    },
    {
      "cell_type": "markdown",
      "metadata": {
        "colab_type": "text",
        "id": "glr4hv6uZkL-"
      },
      "source": [
        "### Read the data\n",
        "\n",
        "Read contents of every file from the list and append the text in a new list"
      ]
    },
    {
      "cell_type": "code",
      "metadata": {
        "colab_type": "code",
        "id": "zLrMMjrkRt9x",
        "colab": {}
      },
      "source": [
        "codetext = []\n",
        "bookranges = []\n",
        "for oscarfile in oscarlist:\n",
        "    booktext = open(oscarfile, \"r\")\n",
        "    start = len(codetext)\n",
        "    codetext.append(booktext.read())\n",
        "    end = len(codetext)\n",
        "    bookranges.append({\"start\": start, \"end\": end, \"name\": oscarfile.rsplit(\"/\", 1)[-1]})\n",
        "    booktext.close()"
      ],
      "execution_count": 0,
      "outputs": []
    },
    {
      "cell_type": "markdown",
      "metadata": {
        "colab_type": "text",
        "id": "jMX-Fu-GHdxj"
      },
      "source": [
        "## Process the text\n",
        "Initialize and fit the tokenizer"
      ]
    },
    {
      "cell_type": "code",
      "metadata": {
        "colab_type": "code",
        "id": "zQf1AV8wHdxl",
        "colab": {}
      },
      "source": [
        "tokenizer = Tokenizer(lower=True, filters='!\"#$%&()*+,-./:;<=>?@[\\\\]^_`{|}~\\t\\n')\n",
        "tokenizer.fit_on_texts(codetext)"
      ],
      "execution_count": 0,
      "outputs": []
    },
    {
      "cell_type": "markdown",
      "metadata": {
        "colab_type": "text",
        "id": "vpZ0A2-xHdxp"
      },
      "source": [
        "### Vectorize the text\n",
        "\n",
        "Before training, we need to map strings to a numerical representation. Create two lookup tables: one mapping words to numbers, and another for numbers to words."
      ]
    },
    {
      "cell_type": "code",
      "metadata": {
        "colab_type": "code",
        "id": "_Nsq-rSPHdxq",
        "colab": {}
      },
      "source": [
        "wordidx = tokenizer.word_index\n",
        "idxword = tokenizer.index_word"
      ],
      "execution_count": 0,
      "outputs": []
    },
    {
      "cell_type": "markdown",
      "metadata": {
        "colab_type": "text",
        "id": "YMYdjx4aHdxu"
      },
      "source": [
        "Get the word count for every word and also get the total number of words."
      ]
    },
    {
      "cell_type": "code",
      "metadata": {
        "colab_type": "code",
        "id": "ioEZ2c21Hdxw",
        "colab": {}
      },
      "source": [
        "wordcounts = tokenizer.word_counts\n",
        "numwords = len(wordidx) + 1"
      ],
      "execution_count": 0,
      "outputs": []
    },
    {
      "cell_type": "markdown",
      "metadata": {
        "colab_type": "text",
        "id": "dWUBr9rHHdx0"
      },
      "source": [
        "Convert text to sequence of numbers"
      ]
    },
    {
      "cell_type": "code",
      "metadata": {
        "colab_type": "code",
        "id": "dwLl0BWKHdx2",
        "colab": {}
      },
      "source": [
        "sequences = tokenizer.texts_to_sequences(codetext)"
      ],
      "execution_count": 0,
      "outputs": []
    },
    {
      "cell_type": "markdown",
      "metadata": {
        "colab_type": "text",
        "id": "GkpK8McUHdx6"
      },
      "source": [
        "### Generate Features and Labels"
      ]
    },
    {
      "cell_type": "code",
      "metadata": {
        "colab_type": "code",
        "id": "zxhQamjwHdx7",
        "colab": {}
      },
      "source": [
        "features = []\n",
        "labels = []\n",
        "\n",
        "training_length = 50\n",
        "# Iterate through the sequences of tokens\n",
        "for seq in sequences:\n",
        "    # Create multiple training examples from each sequence\n",
        "    for i in range(training_length, training_length+300):\n",
        "        # Extract the features and label\n",
        "        extract = seq[i - training_length: i - training_length + 20]\n",
        "\n",
        "        # Set the features and label\n",
        "        features.append(extract[:-1])\n",
        "        labels.append(extract[-1])"
      ],
      "execution_count": 0,
      "outputs": []
    },
    {
      "cell_type": "markdown",
      "metadata": {
        "colab_type": "text",
        "id": "bbmsf23Bymwe"
      },
      "source": [
        "### The prediction task"
      ]
    },
    {
      "cell_type": "markdown",
      "metadata": {
        "colab_type": "text",
        "id": "wssHQ1oGymwe"
      },
      "source": [
        "Given a word, or a sequence of words, what is the most probable next word? This is the task we're training the model to perform. The input to the model will be a sequence of words, and we train the model to predict the output—the following word at each time step.\n",
        "\n",
        "Since RNNs maintain an internal state that depends on the previously seen elements, given all the words computed until this moment, what is the next word?"
      ]
    },
    {
      "cell_type": "markdown",
      "metadata": {
        "colab_type": "text",
        "id": "T2bsVOl7HdyA"
      },
      "source": [
        "### Generate training and testing data"
      ]
    },
    {
      "cell_type": "code",
      "metadata": {
        "colab_type": "code",
        "id": "j7-IsvynHdyB",
        "colab": {}
      },
      "source": [
        "from sklearn.utils import shuffle\n",
        "import numpy as np\n",
        "\n",
        "features, labels = shuffle(features, labels, random_state=1)\n",
        "\n",
        "# Decide on number of samples for training\n",
        "trainend = int(0.7 * len(labels))\n",
        "\n",
        "trainfeatures = np.array(features[:trainend])\n",
        "validfeatures = np.array(features[trainend:])\n",
        "\n",
        "trainlabels = labels[:trainend]\n",
        "validlabels = labels[trainend:]\n",
        "\n",
        "# Convert to arrays\n",
        "X_train, X_valid = np.array(trainfeatures), np.array(validfeatures)\n",
        "\n",
        "# Using int8 for memory savings\n",
        "y_train = np.zeros((len(trainlabels), numwords), dtype=np.int8)\n",
        "y_valid = np.zeros((len(validlabels), numwords), dtype=np.int8)\n",
        "\n",
        "# One hot encoding of labels\n",
        "for example_index, word_index in enumerate(trainlabels):\n",
        "    y_train[example_index, word_index] = 1\n",
        "\n",
        "for example_index, word_index in enumerate(validlabels):\n",
        "    y_valid[example_index, word_index] = 1"
      ],
      "execution_count": 0,
      "outputs": []
    },
    {
      "cell_type": "markdown",
      "metadata": {
        "colab_type": "text",
        "id": "juT1mZrUHdyE"
      },
      "source": [
        "This is just to check the features and labels"
      ]
    },
    {
      "cell_type": "code",
      "metadata": {
        "colab_type": "code",
        "id": "wkdmNbgjHdyF",
        "colab": {
          "base_uri": "https://localhost:8080/",
          "height": 151
        },
        "outputId": "8eb9b183-fa47-45f5-8614-22537f74ad17"
      },
      "source": [
        "for i, sequence in enumerate(X_train[:2]):\n",
        "    text = []\n",
        "#     print(i, sequence)\n",
        "    for idx in sequence:\n",
        "        text.append(idxword[idx])\n",
        "        \n",
        "    print('Features: ' + ' '.join(text)+'\\n')\n",
        "    print('Label: ' + idxword[np.argmax(y_train[i])] + '\\n')"
      ],
      "execution_count": 26,
      "outputs": [
        {
          "output_type": "stream",
          "text": [
            "Features: points of view in the author's literary career which may have escaped his greatest admirers and detractors the wide\n",
            "\n",
            "Label: range\n",
            "\n",
            "Features: with such a wistful eye upon that little tent of blue which prisoners call the sky and at every\n",
            "\n",
            "Label: drifting\n",
            "\n"
          ],
          "name": "stdout"
        }
      ]
    },
    {
      "cell_type": "markdown",
      "metadata": {
        "colab_type": "text",
        "id": "r6oUuElIMgVx"
      },
      "source": [
        "## Build The Model"
      ]
    },
    {
      "cell_type": "markdown",
      "metadata": {
        "colab_type": "text",
        "id": "m8gPwEjRzf-Z"
      },
      "source": [
        "Use `keras.Sequential` to define the model. For this simple example three layers are used to define our model:\n",
        "\n",
        "* `keras.layers.Embedding`: The input layer. A trainable lookup table that will map the numbers of each character to a vector with `embedding_dim` dimensions;\n",
        "* `keras.layers.LSTM`: A type of RNN with size `units=rnn_units` (You can also use a GRU layer here.)\n",
        "* `keras.layers.Dense`: The output layer, with `num_words` outputs."
      ]
    },
    {
      "cell_type": "code",
      "metadata": {
        "colab_type": "code",
        "id": "GKpCQFZLHdyN",
        "colab": {
          "base_uri": "https://localhost:8080/",
          "height": 390
        },
        "outputId": "70f6ebb3-8d1e-4273-a4b6-3ac0df92bfef"
      },
      "source": [
        "model = Sequential()\n",
        "\n",
        "# Embedding layer\n",
        "model.add(\n",
        "    Embedding(\n",
        "        input_dim=len(wordidx) + 1,\n",
        "        output_dim=100,\n",
        "        weights=None,\n",
        "        trainable=True))\n",
        "\n",
        "# Recurrent layer\n",
        "model.add(\n",
        "    LSTM(\n",
        "        64, return_sequences=False, dropout=0.1,\n",
        "        recurrent_dropout=0.1))\n",
        "\n",
        "# Fully connected layer\n",
        "model.add(Dense(64, activation='relu'))\n",
        "\n",
        "# Dropout for regularization\n",
        "model.add(Dropout(0.5))\n",
        "\n",
        "# Output layer\n",
        "model.add(Dense(numwords, activation='softmax'))\n",
        "\n",
        "# Compile the model\n",
        "model.compile(\n",
        "    optimizer='adam', loss='categorical_crossentropy', metrics=['accuracy'])\n",
        "\n",
        "model.summary()"
      ],
      "execution_count": 29,
      "outputs": [
        {
          "output_type": "stream",
          "text": [
            "W0721 13:41:22.562522 140557783013248 deprecation_wrapper.py:119] From /usr/local/lib/python3.6/dist-packages/keras/optimizers.py:790: The name tf.train.Optimizer is deprecated. Please use tf.compat.v1.train.Optimizer instead.\n",
            "\n",
            "W0721 13:41:22.591585 140557783013248 deprecation_wrapper.py:119] From /usr/local/lib/python3.6/dist-packages/keras/backend/tensorflow_backend.py:3295: The name tf.log is deprecated. Please use tf.math.log instead.\n",
            "\n"
          ],
          "name": "stderr"
        },
        {
          "output_type": "stream",
          "text": [
            "_________________________________________________________________\n",
            "Layer (type)                 Output Shape              Param #   \n",
            "=================================================================\n",
            "embedding_2 (Embedding)      (None, None, 100)         3283900   \n",
            "_________________________________________________________________\n",
            "lstm_2 (LSTM)                (None, 64)                42240     \n",
            "_________________________________________________________________\n",
            "dense_2 (Dense)              (None, 64)                4160      \n",
            "_________________________________________________________________\n",
            "dropout_2 (Dropout)          (None, 64)                0         \n",
            "_________________________________________________________________\n",
            "dense_3 (Dense)              (None, 32839)             2134535   \n",
            "=================================================================\n",
            "Total params: 5,464,835\n",
            "Trainable params: 5,464,835\n",
            "Non-trainable params: 0\n",
            "_________________________________________________________________\n"
          ],
          "name": "stdout"
        }
      ]
    },
    {
      "cell_type": "markdown",
      "metadata": {
        "colab_type": "text",
        "id": "vL3tUp1UHdyS"
      },
      "source": [
        "For each word the model looks up the embedding, runs the LSTM one timestep with the embedding as input, and applies the dense layer to generate logits predicting the log-liklihood of the next word."
      ]
    },
    {
      "cell_type": "markdown",
      "metadata": {
        "colab_type": "text",
        "id": "LJL0Q0YPY6Ee"
      },
      "source": [
        "## Train the model"
      ]
    },
    {
      "cell_type": "code",
      "metadata": {
        "colab_type": "code",
        "id": "6o84puBcHdyV",
        "colab": {
          "base_uri": "https://localhost:8080/",
          "height": 1000
        },
        "outputId": "5c6e2683-3e23-4b92-e057-8c4143c81fad"
      },
      "source": [
        "h = model.fit(X_train, y_train, epochs = 100, batch_size = 50, \n",
        "          verbose = 1)## Train the model\n",
        "#Due to time constraint I ran with 100 epochs"
      ],
      "execution_count": 30,
      "outputs": [
        {
          "output_type": "stream",
          "text": [
            "W0721 13:41:52.203180 140557783013248 deprecation.py:323] From /usr/local/lib/python3.6/dist-packages/tensorflow/python/ops/math_grad.py:1250: add_dispatch_support.<locals>.wrapper (from tensorflow.python.ops.array_ops) is deprecated and will be removed in a future version.\n",
            "Instructions for updating:\n",
            "Use tf.where in 2.0, which has the same broadcast rule as np.where\n"
          ],
          "name": "stderr"
        },
        {
          "output_type": "stream",
          "text": [
            "Epoch 1/100\n",
            "6510/6510 [==============================] - 28s 4ms/step - loss: 8.2755 - acc: 0.0567\n",
            "Epoch 2/100\n",
            "6510/6510 [==============================] - 26s 4ms/step - loss: 6.7578 - acc: 0.0611\n",
            "Epoch 3/100\n",
            "6510/6510 [==============================] - 26s 4ms/step - loss: 6.4943 - acc: 0.0594\n",
            "Epoch 4/100\n",
            "6510/6510 [==============================] - 26s 4ms/step - loss: 6.3222 - acc: 0.0573\n",
            "Epoch 5/100\n",
            "6510/6510 [==============================] - 26s 4ms/step - loss: 6.1904 - acc: 0.0604\n",
            "Epoch 6/100\n",
            "6510/6510 [==============================] - 26s 4ms/step - loss: 6.0821 - acc: 0.0624\n",
            "Epoch 7/100\n",
            "6510/6510 [==============================] - 26s 4ms/step - loss: 5.9542 - acc: 0.0662\n",
            "Epoch 8/100\n",
            "6510/6510 [==============================] - 26s 4ms/step - loss: 5.8339 - acc: 0.0708\n",
            "Epoch 9/100\n",
            "6510/6510 [==============================] - 26s 4ms/step - loss: 5.7244 - acc: 0.0756\n",
            "Epoch 10/100\n",
            "6510/6510 [==============================] - 26s 4ms/step - loss: 5.6293 - acc: 0.0788\n",
            "Epoch 11/100\n",
            "6510/6510 [==============================] - 26s 4ms/step - loss: 5.5343 - acc: 0.0833\n",
            "Epoch 12/100\n",
            "6510/6510 [==============================] - 26s 4ms/step - loss: 5.4316 - acc: 0.0912\n",
            "Epoch 13/100\n",
            "6510/6510 [==============================] - 26s 4ms/step - loss: 5.3348 - acc: 0.0974\n",
            "Epoch 14/100\n",
            "6510/6510 [==============================] - 26s 4ms/step - loss: 5.2150 - acc: 0.1057\n",
            "Epoch 15/100\n",
            "6510/6510 [==============================] - 26s 4ms/step - loss: 5.0847 - acc: 0.1143\n",
            "Epoch 16/100\n",
            "6510/6510 [==============================] - 26s 4ms/step - loss: 4.9405 - acc: 0.1296\n",
            "Epoch 17/100\n",
            "6510/6510 [==============================] - 26s 4ms/step - loss: 4.8156 - acc: 0.1456\n",
            "Epoch 18/100\n",
            "6510/6510 [==============================] - 26s 4ms/step - loss: 4.6596 - acc: 0.1717\n",
            "Epoch 19/100\n",
            "6510/6510 [==============================] - 26s 4ms/step - loss: 4.5237 - acc: 0.1923\n",
            "Epoch 20/100\n",
            "6510/6510 [==============================] - 26s 4ms/step - loss: 4.3727 - acc: 0.2174\n",
            "Epoch 21/100\n",
            "6510/6510 [==============================] - 26s 4ms/step - loss: 4.2596 - acc: 0.2273\n",
            "Epoch 22/100\n",
            "6510/6510 [==============================] - 26s 4ms/step - loss: 4.1394 - acc: 0.2387\n",
            "Epoch 23/100\n",
            "6510/6510 [==============================] - 26s 4ms/step - loss: 4.0269 - acc: 0.2576\n",
            "Epoch 24/100\n",
            "6510/6510 [==============================] - 26s 4ms/step - loss: 3.9160 - acc: 0.2751\n",
            "Epoch 25/100\n",
            "6510/6510 [==============================] - 26s 4ms/step - loss: 3.8059 - acc: 0.2853\n",
            "Epoch 26/100\n",
            "6510/6510 [==============================] - 26s 4ms/step - loss: 3.7285 - acc: 0.3006\n",
            "Epoch 27/100\n",
            "6510/6510 [==============================] - 26s 4ms/step - loss: 3.6278 - acc: 0.3175\n",
            "Epoch 28/100\n",
            "6510/6510 [==============================] - 26s 4ms/step - loss: 3.5274 - acc: 0.3233\n",
            "Epoch 29/100\n",
            "6510/6510 [==============================] - 26s 4ms/step - loss: 3.4400 - acc: 0.3404\n",
            "Epoch 30/100\n",
            "6510/6510 [==============================] - 26s 4ms/step - loss: 3.3402 - acc: 0.3475\n",
            "Epoch 31/100\n",
            "6510/6510 [==============================] - 26s 4ms/step - loss: 3.2780 - acc: 0.3558\n",
            "Epoch 32/100\n",
            "6510/6510 [==============================] - 26s 4ms/step - loss: 3.2021 - acc: 0.3680\n",
            "Epoch 33/100\n",
            "6510/6510 [==============================] - 26s 4ms/step - loss: 3.1122 - acc: 0.3774\n",
            "Epoch 34/100\n",
            "6510/6510 [==============================] - 26s 4ms/step - loss: 3.0402 - acc: 0.3859\n",
            "Epoch 35/100\n",
            "6510/6510 [==============================] - 26s 4ms/step - loss: 2.9883 - acc: 0.3939\n",
            "Epoch 36/100\n",
            "6510/6510 [==============================] - 26s 4ms/step - loss: 2.9223 - acc: 0.3962\n",
            "Epoch 37/100\n",
            "6510/6510 [==============================] - 26s 4ms/step - loss: 2.8436 - acc: 0.4084\n",
            "Epoch 38/100\n",
            "6510/6510 [==============================] - 26s 4ms/step - loss: 2.7686 - acc: 0.4143\n",
            "Epoch 39/100\n",
            "6510/6510 [==============================] - 26s 4ms/step - loss: 2.7043 - acc: 0.4167\n",
            "Epoch 40/100\n",
            "6510/6510 [==============================] - 26s 4ms/step - loss: 2.6291 - acc: 0.4303\n",
            "Epoch 41/100\n",
            "6510/6510 [==============================] - 26s 4ms/step - loss: 2.6033 - acc: 0.4323\n",
            "Epoch 42/100\n",
            "6510/6510 [==============================] - 26s 4ms/step - loss: 2.5258 - acc: 0.4467\n",
            "Epoch 43/100\n",
            "6510/6510 [==============================] - 26s 4ms/step - loss: 2.4660 - acc: 0.4521\n",
            "Epoch 44/100\n",
            "6510/6510 [==============================] - 26s 4ms/step - loss: 2.4187 - acc: 0.4618\n",
            "Epoch 45/100\n",
            "6510/6510 [==============================] - 26s 4ms/step - loss: 2.3672 - acc: 0.4641\n",
            "Epoch 46/100\n",
            "6510/6510 [==============================] - 26s 4ms/step - loss: 2.3248 - acc: 0.4704\n",
            "Epoch 47/100\n",
            "6510/6510 [==============================] - 26s 4ms/step - loss: 2.2547 - acc: 0.4790\n",
            "Epoch 48/100\n",
            "6510/6510 [==============================] - 26s 4ms/step - loss: 2.2155 - acc: 0.4862\n",
            "Epoch 49/100\n",
            "6510/6510 [==============================] - 26s 4ms/step - loss: 2.1782 - acc: 0.4902\n",
            "Epoch 50/100\n",
            "6510/6510 [==============================] - 26s 4ms/step - loss: 2.1081 - acc: 0.5026\n",
            "Epoch 51/100\n",
            "6510/6510 [==============================] - 26s 4ms/step - loss: 2.0848 - acc: 0.5077\n",
            "Epoch 52/100\n",
            "6510/6510 [==============================] - 26s 4ms/step - loss: 2.0493 - acc: 0.5108\n",
            "Epoch 53/100\n",
            "6510/6510 [==============================] - 26s 4ms/step - loss: 2.0006 - acc: 0.5180\n",
            "Epoch 54/100\n",
            "6510/6510 [==============================] - 26s 4ms/step - loss: 1.9462 - acc: 0.5272\n",
            "Epoch 55/100\n",
            "6510/6510 [==============================] - 26s 4ms/step - loss: 1.9086 - acc: 0.5404\n",
            "Epoch 56/100\n",
            "6510/6510 [==============================] - 26s 4ms/step - loss: 1.8799 - acc: 0.5339\n",
            "Epoch 57/100\n",
            "6510/6510 [==============================] - 26s 4ms/step - loss: 1.8507 - acc: 0.5421\n",
            "Epoch 58/100\n",
            "6510/6510 [==============================] - 26s 4ms/step - loss: 1.8108 - acc: 0.5478\n",
            "Epoch 59/100\n",
            "6510/6510 [==============================] - 26s 4ms/step - loss: 1.8023 - acc: 0.5535\n",
            "Epoch 60/100\n",
            "6510/6510 [==============================] - 27s 4ms/step - loss: 1.7651 - acc: 0.5570\n",
            "Epoch 61/100\n",
            "6510/6510 [==============================] - 26s 4ms/step - loss: 1.7105 - acc: 0.5676\n",
            "Epoch 62/100\n",
            "6510/6510 [==============================] - 26s 4ms/step - loss: 1.6856 - acc: 0.5733\n",
            "Epoch 63/100\n",
            "6510/6510 [==============================] - 26s 4ms/step - loss: 1.6707 - acc: 0.5733\n",
            "Epoch 64/100\n",
            "6510/6510 [==============================] - 26s 4ms/step - loss: 1.6275 - acc: 0.5836\n",
            "Epoch 65/100\n",
            "6510/6510 [==============================] - 26s 4ms/step - loss: 1.6005 - acc: 0.5925\n",
            "Epoch 66/100\n",
            "6510/6510 [==============================] - 26s 4ms/step - loss: 1.5676 - acc: 0.6058\n",
            "Epoch 67/100\n",
            "6510/6510 [==============================] - 26s 4ms/step - loss: 1.5411 - acc: 0.6011\n",
            "Epoch 68/100\n",
            "6510/6510 [==============================] - 26s 4ms/step - loss: 1.5346 - acc: 0.5949\n",
            "Epoch 69/100\n",
            "6510/6510 [==============================] - 26s 4ms/step - loss: 1.5242 - acc: 0.6002\n",
            "Epoch 70/100\n",
            "6510/6510 [==============================] - 26s 4ms/step - loss: 1.5214 - acc: 0.6025\n",
            "Epoch 71/100\n",
            "6510/6510 [==============================] - 26s 4ms/step - loss: 1.4670 - acc: 0.6167\n",
            "Epoch 72/100\n",
            "6510/6510 [==============================] - 26s 4ms/step - loss: 1.4457 - acc: 0.6180\n",
            "Epoch 73/100\n",
            "6510/6510 [==============================] - 25s 4ms/step - loss: 1.4460 - acc: 0.6137\n",
            "Epoch 74/100\n",
            "6510/6510 [==============================] - 26s 4ms/step - loss: 1.4172 - acc: 0.6226\n",
            "Epoch 75/100\n",
            "6510/6510 [==============================] - 26s 4ms/step - loss: 1.3702 - acc: 0.6356\n",
            "Epoch 76/100\n",
            "6510/6510 [==============================] - 26s 4ms/step - loss: 1.3720 - acc: 0.6327\n",
            "Epoch 77/100\n",
            "6510/6510 [==============================] - 26s 4ms/step - loss: 1.3401 - acc: 0.6363\n",
            "Epoch 78/100\n",
            "6510/6510 [==============================] - 26s 4ms/step - loss: 1.3287 - acc: 0.6507\n",
            "Epoch 79/100\n",
            "6510/6510 [==============================] - 26s 4ms/step - loss: 1.3236 - acc: 0.6341\n",
            "Epoch 80/100\n",
            "6510/6510 [==============================] - 26s 4ms/step - loss: 1.2993 - acc: 0.6510\n",
            "Epoch 81/100\n",
            "6510/6510 [==============================] - 26s 4ms/step - loss: 1.2769 - acc: 0.6573\n",
            "Epoch 82/100\n",
            "6510/6510 [==============================] - 26s 4ms/step - loss: 1.2540 - acc: 0.6578\n",
            "Epoch 83/100\n",
            "6510/6510 [==============================] - 26s 4ms/step - loss: 1.2503 - acc: 0.6634\n",
            "Epoch 84/100\n",
            "6510/6510 [==============================] - 26s 4ms/step - loss: 1.2520 - acc: 0.6516\n",
            "Epoch 85/100\n",
            "6510/6510 [==============================] - 26s 4ms/step - loss: 1.2082 - acc: 0.6725\n",
            "Epoch 86/100\n",
            "6510/6510 [==============================] - 26s 4ms/step - loss: 1.1782 - acc: 0.6748\n",
            "Epoch 87/100\n",
            "6510/6510 [==============================] - 26s 4ms/step - loss: 1.2013 - acc: 0.6673\n",
            "Epoch 88/100\n",
            "6510/6510 [==============================] - 26s 4ms/step - loss: 1.1700 - acc: 0.6808\n",
            "Epoch 89/100\n",
            "6510/6510 [==============================] - 26s 4ms/step - loss: 1.1506 - acc: 0.6837\n",
            "Epoch 90/100\n",
            "6510/6510 [==============================] - 25s 4ms/step - loss: 1.1397 - acc: 0.6863\n",
            "Epoch 91/100\n",
            "6510/6510 [==============================] - 26s 4ms/step - loss: 1.1705 - acc: 0.6836\n",
            "Epoch 92/100\n",
            "6510/6510 [==============================] - 26s 4ms/step - loss: 1.1506 - acc: 0.6836\n",
            "Epoch 93/100\n",
            "6510/6510 [==============================] - 26s 4ms/step - loss: 1.1270 - acc: 0.6880\n",
            "Epoch 94/100\n",
            "6510/6510 [==============================] - 26s 4ms/step - loss: 1.1138 - acc: 0.6911\n",
            "Epoch 95/100\n",
            "6510/6510 [==============================] - 26s 4ms/step - loss: 1.0891 - acc: 0.6965\n",
            "Epoch 96/100\n",
            "6510/6510 [==============================] - 27s 4ms/step - loss: 1.0860 - acc: 0.7002\n",
            "Epoch 97/100\n",
            "6510/6510 [==============================] - 27s 4ms/step - loss: 1.0925 - acc: 0.6906\n",
            "Epoch 98/100\n",
            "6510/6510 [==============================] - 27s 4ms/step - loss: 1.0561 - acc: 0.7029\n",
            "Epoch 99/100\n",
            "6510/6510 [==============================] - 27s 4ms/step - loss: 1.0736 - acc: 0.7000\n",
            "Epoch 100/100\n",
            "6510/6510 [==============================] - 28s 4ms/step - loss: 1.0433 - acc: 0.7026\n"
          ],
          "name": "stdout"
        }
      ]
    },
    {
      "cell_type": "markdown",
      "metadata": {
        "colab_type": "text",
        "id": "82716QWAJrXG"
      },
      "source": [
        "### Save Model"
      ]
    },
    {
      "cell_type": "code",
      "metadata": {
        "colab_type": "code",
        "id": "_8MFkQgYJm-D",
        "colab": {}
      },
      "source": [
        "# save the model to file\n",
        "model.save(projectPath+'data/model_100epochs.h5')"
      ],
      "execution_count": 0,
      "outputs": []
    },
    {
      "cell_type": "markdown",
      "metadata": {
        "colab_type": "text",
        "id": "4AYVKydVJv5C"
      },
      "source": [
        "## If you have already trained the model and saved it, you can load a pretrained model"
      ]
    },
    {
      "cell_type": "code",
      "metadata": {
        "colab_type": "code",
        "id": "IqsQUz04J0GP",
        "colab": {}
      },
      "source": [
        "# load the model\n",
        "model = load_model(projectPath+'data/model_100epochs.h5')"
      ],
      "execution_count": 0,
      "outputs": []
    },
    {
      "cell_type": "markdown",
      "metadata": {
        "colab_type": "text",
        "id": "ZFe2Y0SJJ3Hb"
      },
      "source": [
        "### Note: After loading the model run  model.fit()  to continue training form there, if required."
      ]
    },
    {
      "cell_type": "code",
      "metadata": {
        "colab_type": "code",
        "id": "e9yLm_xnJ5JV",
        "colab": {
          "base_uri": "https://localhost:8080/",
          "height": 1000
        },
        "outputId": "52c77df1-f8aa-49f3-d384-b111c795f1eb"
      },
      "source": [
        "model.fit(X_train, y_train, batch_size=50, epochs=100)"
      ],
      "execution_count": 33,
      "outputs": [
        {
          "output_type": "stream",
          "text": [
            "Epoch 1/100\n",
            "6510/6510 [==============================] - 25s 4ms/step - loss: 1.0343 - acc: 0.7045\n",
            "Epoch 2/100\n",
            "6510/6510 [==============================] - 23s 4ms/step - loss: 1.0411 - acc: 0.7057\n",
            "Epoch 3/100\n",
            "6510/6510 [==============================] - 24s 4ms/step - loss: 1.0288 - acc: 0.7109\n",
            "Epoch 4/100\n",
            "6510/6510 [==============================] - 24s 4ms/step - loss: 1.0008 - acc: 0.7209\n",
            "Epoch 5/100\n",
            "6510/6510 [==============================] - 23s 4ms/step - loss: 0.9821 - acc: 0.7217\n",
            "Epoch 6/100\n",
            "6510/6510 [==============================] - 24s 4ms/step - loss: 0.9709 - acc: 0.7253\n",
            "Epoch 7/100\n",
            "6510/6510 [==============================] - 24s 4ms/step - loss: 1.0048 - acc: 0.7143\n",
            "Epoch 8/100\n",
            "6510/6510 [==============================] - 24s 4ms/step - loss: 0.9681 - acc: 0.7266\n",
            "Epoch 9/100\n",
            "6510/6510 [==============================] - 23s 4ms/step - loss: 0.9810 - acc: 0.7181\n",
            "Epoch 10/100\n",
            "6510/6510 [==============================] - 23s 4ms/step - loss: 0.9473 - acc: 0.7304\n",
            "Epoch 11/100\n",
            "6510/6510 [==============================] - 23s 4ms/step - loss: 0.9582 - acc: 0.7273\n",
            "Epoch 12/100\n",
            "6510/6510 [==============================] - 23s 4ms/step - loss: 0.9291 - acc: 0.7290\n",
            "Epoch 13/100\n",
            "6510/6510 [==============================] - 23s 4ms/step - loss: 0.9281 - acc: 0.7373\n",
            "Epoch 14/100\n",
            "6510/6510 [==============================] - 24s 4ms/step - loss: 0.9318 - acc: 0.7352\n",
            "Epoch 15/100\n",
            "6510/6510 [==============================] - 23s 4ms/step - loss: 0.9027 - acc: 0.7398\n",
            "Epoch 16/100\n",
            "6510/6510 [==============================] - 23s 4ms/step - loss: 0.9304 - acc: 0.7303\n",
            "Epoch 17/100\n",
            "6510/6510 [==============================] - 24s 4ms/step - loss: 0.9043 - acc: 0.7335\n",
            "Epoch 18/100\n",
            "6510/6510 [==============================] - 24s 4ms/step - loss: 0.9062 - acc: 0.7393\n",
            "Epoch 19/100\n",
            "6510/6510 [==============================] - 24s 4ms/step - loss: 0.9002 - acc: 0.7367\n",
            "Epoch 20/100\n",
            "6510/6510 [==============================] - 23s 4ms/step - loss: 0.8967 - acc: 0.7424\n",
            "Epoch 21/100\n",
            "6510/6510 [==============================] - 25s 4ms/step - loss: 0.8786 - acc: 0.7445\n",
            "Epoch 22/100\n",
            "6510/6510 [==============================] - 24s 4ms/step - loss: 0.8632 - acc: 0.7498\n",
            "Epoch 23/100\n",
            "6510/6510 [==============================] - 23s 4ms/step - loss: 0.8533 - acc: 0.7499\n",
            "Epoch 24/100\n",
            "6510/6510 [==============================] - 24s 4ms/step - loss: 0.8619 - acc: 0.7442\n",
            "Epoch 25/100\n",
            "6510/6510 [==============================] - 25s 4ms/step - loss: 0.8754 - acc: 0.7404\n",
            "Epoch 26/100\n",
            "6510/6510 [==============================] - 24s 4ms/step - loss: 0.8596 - acc: 0.7493\n",
            "Epoch 27/100\n",
            "6510/6510 [==============================] - 23s 4ms/step - loss: 0.8501 - acc: 0.7469\n",
            "Epoch 28/100\n",
            "6510/6510 [==============================] - 24s 4ms/step - loss: 0.8338 - acc: 0.7564\n",
            "Epoch 29/100\n",
            "6510/6510 [==============================] - 24s 4ms/step - loss: 0.8414 - acc: 0.7504\n",
            "Epoch 30/100\n",
            "6510/6510 [==============================] - 24s 4ms/step - loss: 0.8205 - acc: 0.7536\n",
            "Epoch 31/100\n",
            "6510/6510 [==============================] - 23s 4ms/step - loss: 0.8118 - acc: 0.7613\n",
            "Epoch 32/100\n",
            "6510/6510 [==============================] - 23s 4ms/step - loss: 0.8253 - acc: 0.7605\n",
            "Epoch 33/100\n",
            "6510/6510 [==============================] - 23s 4ms/step - loss: 0.8244 - acc: 0.7662\n",
            "Epoch 34/100\n",
            "6510/6510 [==============================] - 24s 4ms/step - loss: 0.7994 - acc: 0.7642\n",
            "Epoch 35/100\n",
            "6510/6510 [==============================] - 23s 4ms/step - loss: 0.8035 - acc: 0.7633\n",
            "Epoch 36/100\n",
            "6510/6510 [==============================] - 23s 4ms/step - loss: 0.7940 - acc: 0.7642\n",
            "Epoch 37/100\n",
            "6510/6510 [==============================] - 23s 4ms/step - loss: 0.8125 - acc: 0.7604\n",
            "Epoch 38/100\n",
            "6510/6510 [==============================] - 23s 4ms/step - loss: 0.7720 - acc: 0.7717\n",
            "Epoch 39/100\n",
            "6510/6510 [==============================] - 23s 4ms/step - loss: 0.7925 - acc: 0.7644\n",
            "Epoch 40/100\n",
            "6510/6510 [==============================] - 23s 4ms/step - loss: 0.7764 - acc: 0.7704\n",
            "Epoch 41/100\n",
            "6510/6510 [==============================] - 23s 4ms/step - loss: 0.7603 - acc: 0.7751\n",
            "Epoch 42/100\n",
            "6510/6510 [==============================] - 23s 3ms/step - loss: 0.7487 - acc: 0.7740\n",
            "Epoch 43/100\n",
            "6510/6510 [==============================] - 23s 4ms/step - loss: 0.7580 - acc: 0.7719\n",
            "Epoch 44/100\n",
            "6510/6510 [==============================] - 23s 4ms/step - loss: 0.7602 - acc: 0.7725\n",
            "Epoch 45/100\n",
            "6510/6510 [==============================] - 23s 4ms/step - loss: 0.7512 - acc: 0.7756\n",
            "Epoch 46/100\n",
            "6510/6510 [==============================] - 23s 4ms/step - loss: 0.7535 - acc: 0.7740\n",
            "Epoch 47/100\n",
            "6510/6510 [==============================] - 24s 4ms/step - loss: 0.7505 - acc: 0.7763\n",
            "Epoch 48/100\n",
            "6510/6510 [==============================] - 24s 4ms/step - loss: 0.7232 - acc: 0.7817\n",
            "Epoch 49/100\n",
            "6510/6510 [==============================] - 23s 4ms/step - loss: 0.7326 - acc: 0.7797\n",
            "Epoch 50/100\n",
            "6510/6510 [==============================] - 23s 4ms/step - loss: 0.7268 - acc: 0.7836\n",
            "Epoch 51/100\n",
            "6510/6510 [==============================] - 23s 4ms/step - loss: 0.7391 - acc: 0.7773\n",
            "Epoch 52/100\n",
            "6510/6510 [==============================] - 23s 4ms/step - loss: 0.7388 - acc: 0.7774\n",
            "Epoch 53/100\n",
            "6510/6510 [==============================] - 23s 4ms/step - loss: 0.7242 - acc: 0.7790\n",
            "Epoch 54/100\n",
            "6510/6510 [==============================] - 23s 4ms/step - loss: 0.7116 - acc: 0.7859\n",
            "Epoch 55/100\n",
            "6510/6510 [==============================] - 23s 4ms/step - loss: 0.7189 - acc: 0.7854\n",
            "Epoch 56/100\n",
            "6510/6510 [==============================] - 23s 4ms/step - loss: 0.7190 - acc: 0.7859\n",
            "Epoch 57/100\n",
            "6510/6510 [==============================] - 23s 4ms/step - loss: 0.7017 - acc: 0.7891\n",
            "Epoch 58/100\n",
            "6510/6510 [==============================] - 23s 4ms/step - loss: 0.6917 - acc: 0.7896\n",
            "Epoch 59/100\n",
            "6510/6510 [==============================] - 23s 4ms/step - loss: 0.6898 - acc: 0.7905\n",
            "Epoch 60/100\n",
            "6510/6510 [==============================] - 24s 4ms/step - loss: 0.6940 - acc: 0.7851\n",
            "Epoch 61/100\n",
            "6510/6510 [==============================] - 24s 4ms/step - loss: 0.6700 - acc: 0.7928\n",
            "Epoch 62/100\n",
            "6510/6510 [==============================] - 23s 4ms/step - loss: 0.6820 - acc: 0.7906\n",
            "Epoch 63/100\n",
            "6510/6510 [==============================] - 23s 4ms/step - loss: 0.6735 - acc: 0.7977\n",
            "Epoch 64/100\n",
            "6510/6510 [==============================] - 23s 4ms/step - loss: 0.6583 - acc: 0.7997\n",
            "Epoch 65/100\n",
            "6510/6510 [==============================] - 23s 4ms/step - loss: 0.6674 - acc: 0.8002\n",
            "Epoch 66/100\n",
            "6510/6510 [==============================] - 23s 4ms/step - loss: 0.6665 - acc: 0.7932\n",
            "Epoch 67/100\n",
            "6510/6510 [==============================] - 23s 4ms/step - loss: 0.6765 - acc: 0.7959\n",
            "Epoch 68/100\n",
            "6510/6510 [==============================] - 23s 4ms/step - loss: 0.6491 - acc: 0.8046\n",
            "Epoch 69/100\n",
            "6510/6510 [==============================] - 23s 4ms/step - loss: 0.6675 - acc: 0.7966\n",
            "Epoch 70/100\n",
            "6510/6510 [==============================] - 23s 4ms/step - loss: 0.6752 - acc: 0.7917\n",
            "Epoch 71/100\n",
            "6510/6510 [==============================] - 23s 4ms/step - loss: 0.6569 - acc: 0.8002\n",
            "Epoch 72/100\n",
            "6510/6510 [==============================] - 23s 4ms/step - loss: 0.6209 - acc: 0.8109\n",
            "Epoch 73/100\n",
            "6510/6510 [==============================] - 23s 4ms/step - loss: 0.6566 - acc: 0.7989\n",
            "Epoch 74/100\n",
            "6510/6510 [==============================] - 23s 4ms/step - loss: 0.6589 - acc: 0.7994\n",
            "Epoch 75/100\n",
            "6510/6510 [==============================] - 23s 4ms/step - loss: 0.6648 - acc: 0.8012\n",
            "Epoch 76/100\n",
            "6510/6510 [==============================] - 23s 4ms/step - loss: 0.6225 - acc: 0.8092\n",
            "Epoch 77/100\n",
            "6510/6510 [==============================] - 23s 4ms/step - loss: 0.6492 - acc: 0.8052\n",
            "Epoch 78/100\n",
            "6510/6510 [==============================] - 23s 4ms/step - loss: 0.6416 - acc: 0.8032\n",
            "Epoch 79/100\n",
            "6510/6510 [==============================] - 23s 4ms/step - loss: 0.6410 - acc: 0.8066\n",
            "Epoch 80/100\n",
            "6510/6510 [==============================] - 23s 4ms/step - loss: 0.6384 - acc: 0.8046\n",
            "Epoch 81/100\n",
            "6510/6510 [==============================] - 23s 4ms/step - loss: 0.5842 - acc: 0.8183\n",
            "Epoch 82/100\n",
            "6510/6510 [==============================] - 23s 4ms/step - loss: 0.6199 - acc: 0.8088\n",
            "Epoch 83/100\n",
            "6510/6510 [==============================] - 23s 4ms/step - loss: 0.6179 - acc: 0.8063\n",
            "Epoch 84/100\n",
            "6510/6510 [==============================] - 23s 4ms/step - loss: 0.6241 - acc: 0.8074\n",
            "Epoch 85/100\n",
            "6510/6510 [==============================] - 23s 4ms/step - loss: 0.6171 - acc: 0.8124\n",
            "Epoch 86/100\n",
            "6510/6510 [==============================] - 23s 4ms/step - loss: 0.6182 - acc: 0.8106\n",
            "Epoch 87/100\n",
            "6510/6510 [==============================] - 23s 4ms/step - loss: 0.6108 - acc: 0.8077\n",
            "Epoch 88/100\n",
            "6510/6510 [==============================] - 23s 4ms/step - loss: 0.6010 - acc: 0.8186\n",
            "Epoch 89/100\n",
            "6510/6510 [==============================] - 23s 4ms/step - loss: 0.6129 - acc: 0.8146\n",
            "Epoch 90/100\n",
            "6510/6510 [==============================] - 24s 4ms/step - loss: 0.5889 - acc: 0.8249\n",
            "Epoch 91/100\n",
            "6510/6510 [==============================] - 23s 4ms/step - loss: 0.6025 - acc: 0.8186\n",
            "Epoch 92/100\n",
            "6510/6510 [==============================] - 23s 4ms/step - loss: 0.5875 - acc: 0.8221\n",
            "Epoch 93/100\n",
            "6510/6510 [==============================] - 23s 4ms/step - loss: 0.5844 - acc: 0.8235\n",
            "Epoch 94/100\n",
            "6510/6510 [==============================] - 23s 4ms/step - loss: 0.5990 - acc: 0.8195\n",
            "Epoch 95/100\n",
            "6510/6510 [==============================] - 23s 4ms/step - loss: 0.5936 - acc: 0.8166\n",
            "Epoch 96/100\n",
            "6510/6510 [==============================] - 23s 4ms/step - loss: 0.6088 - acc: 0.8178\n",
            "Epoch 97/100\n",
            "6510/6510 [==============================] - 23s 4ms/step - loss: 0.5874 - acc: 0.8175\n",
            "Epoch 98/100\n",
            "6510/6510 [==============================] - 23s 4ms/step - loss: 0.5931 - acc: 0.8177\n",
            "Epoch 99/100\n",
            "6510/6510 [==============================] - 24s 4ms/step - loss: 0.5599 - acc: 0.8315\n",
            "Epoch 100/100\n",
            "6510/6510 [==============================] - 24s 4ms/step - loss: 0.5821 - acc: 0.8253\n"
          ],
          "name": "stdout"
        },
        {
          "output_type": "execute_result",
          "data": {
            "text/plain": [
              "<keras.callbacks.History at 0x7fd5eccb0978>"
            ]
          },
          "metadata": {
            "tags": []
          },
          "execution_count": 33
        }
      ]
    },
    {
      "cell_type": "markdown",
      "metadata": {
        "colab_type": "text",
        "id": "EmkaxXdjHdyd"
      },
      "source": [
        "## Evaluation"
      ]
    },
    {
      "cell_type": "code",
      "metadata": {
        "colab_type": "code",
        "id": "7RraFX9YHdye",
        "colab": {
          "base_uri": "https://localhost:8080/",
          "height": 118
        },
        "outputId": "eec28acd-9333-4825-87f0-a13a41d61810"
      },
      "source": [
        "print(model.evaluate(X_train, y_train, batch_size = 20))\n",
        "print('\\nModel Performance: Log Loss and Accuracy on validation data')\n",
        "print(model.evaluate(X_valid, y_valid, batch_size = 20))"
      ],
      "execution_count": 34,
      "outputs": [
        {
          "output_type": "stream",
          "text": [
            "6510/6510 [==============================] - 7s 1ms/step\n",
            "[0.06672442168249146, 0.9829493050567931]\n",
            "\n",
            "Model Performance: Log Loss and Accuracy on validation data\n",
            "2790/2790 [==============================] - 3s 1ms/step\n",
            "[8.362158360019807, 0.3663082468360128]\n"
          ],
          "name": "stdout"
        }
      ]
    },
    {
      "cell_type": "markdown",
      "metadata": {
        "colab_type": "text",
        "id": "u5CKxykLHdyj"
      },
      "source": [
        "## Generate text"
      ]
    },
    {
      "cell_type": "code",
      "metadata": {
        "colab_type": "code",
        "id": "4JSW5EwKHdyk",
        "colab": {
          "base_uri": "https://localhost:8080/",
          "height": 154
        },
        "outputId": "360138a4-cfe1-46f7-974c-b68f64f53beb"
      },
      "source": [
        "seed_length=50\n",
        "new_words=50\n",
        "diversity=1\n",
        "n_gen=1\n",
        "\n",
        "import random\n",
        "\n",
        "# Choose a random sequence\n",
        "seq = random.choice(sequences)\n",
        "\n",
        "# print seq\n",
        "\n",
        "# Choose a random starting point\n",
        "seed_idx = random.randint(0, len(seq) - seed_length - 10)\n",
        "# Ending index for seed\n",
        "end_idx = seed_idx + seed_length\n",
        "\n",
        "gen_list = []\n",
        "\n",
        "for n in range(n_gen):\n",
        "    # Extract the seed sequence\n",
        "    seed = seq[seed_idx:end_idx]\n",
        "    original_sequence = [idxword[i] for i in seed]\n",
        "    generated = seed[:] + ['#']\n",
        "\n",
        "    # Find the actual entire sequence\n",
        "    actual = generated[:] + seq[end_idx:end_idx + new_words]\n",
        "        \n",
        "    # Keep adding new words\n",
        "    for i in range(new_words):\n",
        "\n",
        "        # Make a prediction from the seed\n",
        "        preds = model.predict(np.array(seed).reshape(1, -1))[0].astype(np.float64)\n",
        "\n",
        "        # Diversify\n",
        "        preds = np.log(preds) / diversity\n",
        "        exp_preds = np.exp(preds)\n",
        "\n",
        "        # Softmax\n",
        "        preds = exp_preds / sum(exp_preds)\n",
        "\n",
        "        # Choose the next word\n",
        "        probas = np.random.multinomial(1, preds, 1)[0]\n",
        "\n",
        "        next_idx = np.argmax(probas)\n",
        "\n",
        "        # New seed adds on old word\n",
        "        #             seed = seed[1:] + [next_idx]\n",
        "        seed += [next_idx]\n",
        "        generated.append(next_idx)\n",
        "    # Showing generated and actual abstract\n",
        "    n = []\n",
        "\n",
        "    for i in generated:\n",
        "        n.append(idxword.get(i, '< --- >'))\n",
        "\n",
        "    gen_list.append(n)\n",
        "\n",
        "a = []\n",
        "\n",
        "for i in actual:\n",
        "    a.append(idxword.get(i, '< --- >'))\n",
        "\n",
        "a = a[seed_length:]\n",
        "\n",
        "gen_list = [gen[seed_length:seed_length + len(a)] for gen in gen_list]\n",
        "\n",
        "print('Original Sequence: \\n'+' '.join(original_sequence))\n",
        "print(\"\\n\")\n",
        "# print(gen_list)\n",
        "print('Generated Sequence: \\n'+' '.join(gen_list[0][1:]))\n",
        "# print(a)"
      ],
      "execution_count": 37,
      "outputs": [
        {
          "output_type": "stream",
          "text": [
            "/usr/local/lib/python3.6/dist-packages/ipykernel_launcher.py:36: RuntimeWarning: divide by zero encountered in log\n"
          ],
          "name": "stderr"
        },
        {
          "output_type": "stream",
          "text": [
            "Original Sequence: \n",
            "secret chamber in the left wing he leaned up against a moonbeam to recover his breath and began to try and realize his position never in a brilliant and uninterrupted career of three hundred years had he been so grossly insulted he thought of the dowager duchess whom he had\n",
            "\n",
            "\n",
            "Generated Sequence: \n",
            "be course a page a preface is a burmese gentleman nephew of the king of a woman of an ideal fan a play about a fascinating house act called us there is none whose love is art is shown a great poet like the court of his style and the\n"
          ],
          "name": "stdout"
        }
      ]
    },
    {
      "cell_type": "code",
      "metadata": {
        "id": "EM7pscJeEZs1",
        "colab_type": "code",
        "colab": {}
      },
      "source": [
        ""
      ],
      "execution_count": 0,
      "outputs": []
    },
    {
      "cell_type": "code",
      "metadata": {
        "id": "5lk4YG0HEKRa",
        "colab_type": "code",
        "colab": {}
      },
      "source": [
        ""
      ],
      "execution_count": 0,
      "outputs": []
    },
    {
      "cell_type": "code",
      "metadata": {
        "colab_type": "code",
        "id": "9aXeiz7ZHdyp",
        "colab": {}
      },
      "source": [
        ""
      ],
      "execution_count": 0,
      "outputs": []
    }
  ]
}
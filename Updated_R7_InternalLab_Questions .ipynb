{
 "cells": [
  {
   "cell_type": "markdown",
   "metadata": {
    "colab_type": "text",
    "id": "4WH1Pr4KQlCh"
   },
   "source": [
    "### Build a DNN using Keras with `RELU` and `ADAM`"
   ]
  },
  {
   "cell_type": "markdown",
   "metadata": {
    "colab_type": "text",
    "id": "TbvI8LqlQlCl",
    "slideshow": {
     "slide_type": "slide"
    }
   },
   "source": [
    "#### Load tensorflow"
   ]
  },
  {
   "cell_type": "code",
   "execution_count": 1,
   "metadata": {
    "colab": {},
    "colab_type": "code",
    "id": "SPW-a-qYQlCp"
   },
   "outputs": [],
   "source": [
    "import tensorflow as tf\n",
    "tf.set_random_seed(42)"
   ]
  },
  {
   "cell_type": "markdown",
   "metadata": {
    "colab_type": "text",
    "id": "74cQBsi5QlCw",
    "slideshow": {
     "slide_type": "slide"
    }
   },
   "source": [
    "#### Collect Fashion mnist data from tf.keras.datasets "
   ]
  },
  {
   "cell_type": "code",
   "execution_count": 2,
   "metadata": {
    "colab": {},
    "colab_type": "code",
    "id": "wVWy0oDTr2Kj"
   },
   "outputs": [],
   "source": [
    "import keras \n",
    "from keras.datasets import fashion_mnist"
   ]
  },
  {
   "cell_type": "markdown",
   "metadata": {
    "colab_type": "text",
    "id": "no7aWYZyQlC1",
    "slideshow": {
     "slide_type": "slide"
    }
   },
   "source": [
    "#### Change train and test labels into one-hot vectors"
   ]
  },
  {
   "cell_type": "code",
   "execution_count": 3,
   "metadata": {
    "colab": {},
    "colab_type": "code",
    "id": "UX6otc4wQlC2"
   },
   "outputs": [
    {
     "name": "stdout",
     "output_type": "stream",
     "text": [
      "(60000, 28, 28)\n",
      "(10000, 28, 28)\n"
     ]
    }
   ],
   "source": [
    "(trainx, trainy),(testx,testy) = fashion_mnist.load_data()\n",
    "trainy = tf.keras.utils.to_categorical(trainy, num_classes=10)\n",
    "testy = tf.keras.utils.to_categorical(testy, num_classes=10)\n",
    "\n",
    "print(trainx.shape)\n",
    "print(testx.shape)"
   ]
  },
  {
   "cell_type": "markdown",
   "metadata": {
    "colab_type": "text",
    "id": "QjNrRTdoQlC5",
    "slideshow": {
     "slide_type": "slide"
    }
   },
   "source": [
    "#### Build the Graph"
   ]
  },
  {
   "cell_type": "markdown",
   "metadata": {
    "colab_type": "text",
    "id": "CDJ9DHVNQlC7"
   },
   "source": [
    "#### Initialize model, reshape & normalize data"
   ]
  },
  {
   "cell_type": "code",
   "execution_count": 5,
   "metadata": {
    "colab": {
     "base_uri": "https://localhost:8080/",
     "height": 88
    },
    "colab_type": "code",
    "id": "pCDQs_g1QlC8",
    "outputId": "e854b4d2-903a-4515-c21b-bd6a6e4fe2f8"
   },
   "outputs": [],
   "source": [
    "#Initialize Sequential model\n",
    "model = tf.keras.models.Sequential()\n",
    "\n",
    "#Reshape data from 2D to 1D -> 28x28 to 784\n",
    "model.add(tf.keras.layers.Reshape((784,),input_shape=(28,28,)))\n",
    "\n",
    "#Normalize the data\n",
    "model.add(tf.keras.layers.BatchNormalization())\n"
   ]
  },
  {
   "cell_type": "markdown",
   "metadata": {
    "colab_type": "text",
    "id": "kBGwTTilQlDD",
    "slideshow": {
     "slide_type": "slide"
    }
   },
   "source": [
    "#### Add two fully connected layers with 200 and 100 neurons respectively with `relu` activations. Add a dropout layer with `p=0.25`"
   ]
  },
  {
   "cell_type": "code",
   "execution_count": 6,
   "metadata": {},
   "outputs": [
    {
     "name": "stdout",
     "output_type": "stream",
     "text": [
      "WARNING:tensorflow:From C:\\Users\\kumar\\Anaconda3\\lib\\site-packages\\tensorflow\\python\\keras\\layers\\core.py:143: calling dropout (from tensorflow.python.ops.nn_ops) with keep_prob is deprecated and will be removed in a future version.\n",
      "Instructions for updating:\n",
      "Please use `rate` instead of `keep_prob`. Rate should be set to `rate = 1 - keep_prob`.\n"
     ]
    }
   ],
   "source": [
    "#Hidden layers\n",
    "model.add(tf.keras.layers.Dense(200, activation='relu', name='Layer_1'))\n",
    "model.add(tf.keras.layers.Dense(100, activation='relu', name='Layer_2'))\n",
    "\n",
    "#Dropout layer\n",
    "model.add(tf.keras.layers.Dropout(0.25))"
   ]
  },
  {
   "cell_type": "markdown",
   "metadata": {
    "colab_type": "text",
    "id": "5I8f5otcQlDJ"
   },
   "source": [
    "### Add the output layer with a fully connected layer with 10 neurons with `softmax` activation. Use `categorical_crossentropy` loss and `adam` optimizer and train the network. And, report the final validation."
   ]
  },
  {
   "cell_type": "code",
   "execution_count": 7,
   "metadata": {},
   "outputs": [],
   "source": [
    "#Output layer\n",
    "model.add(tf.keras.layers.Dense(10, activation='softmax', name='Output'))"
   ]
  },
  {
   "cell_type": "code",
   "execution_count": 8,
   "metadata": {},
   "outputs": [],
   "source": [
    "model.compile(optimizer='adam', loss='categorical_crossentropy', metrics=['accuracy'])"
   ]
  },
  {
   "cell_type": "code",
   "execution_count": 9,
   "metadata": {},
   "outputs": [
    {
     "name": "stdout",
     "output_type": "stream",
     "text": [
      "Train on 60000 samples, validate on 10000 samples\n",
      "WARNING:tensorflow:From C:\\Users\\kumar\\Anaconda3\\lib\\site-packages\\tensorflow\\python\\ops\\math_ops.py:3066: to_int32 (from tensorflow.python.ops.math_ops) is deprecated and will be removed in a future version.\n",
      "Instructions for updating:\n",
      "Use tf.cast instead.\n",
      "Epoch 1/30\n",
      "60000/60000 [==============================] - 7s 124us/sample - loss: 0.5119 - acc: 0.8163 - val_loss: 0.4114 - val_acc: 0.8475\n",
      "Epoch 2/30\n",
      "60000/60000 [==============================] - 7s 111us/sample - loss: 0.3971 - acc: 0.8565 - val_loss: 0.3798 - val_acc: 0.8640\n",
      "Epoch 3/30\n",
      "60000/60000 [==============================] - 7s 111us/sample - loss: 0.3619 - acc: 0.8674 - val_loss: 0.3677 - val_acc: 0.8678\n",
      "Epoch 4/30\n",
      "60000/60000 [==============================] - 7s 108us/sample - loss: 0.3336 - acc: 0.8748 - val_loss: 0.3599 - val_acc: 0.8788\n",
      "Epoch 5/30\n",
      "60000/60000 [==============================] - 7s 116us/sample - loss: 0.3127 - acc: 0.8836 - val_loss: 0.3447 - val_acc: 0.8796\n",
      "Epoch 6/30\n",
      "60000/60000 [==============================] - 7s 115us/sample - loss: 0.3000 - acc: 0.8888 - val_loss: 0.3467 - val_acc: 0.8795\n",
      "Epoch 7/30\n",
      "60000/60000 [==============================] - 7s 117us/sample - loss: 0.2887 - acc: 0.8930 - val_loss: 0.3517 - val_acc: 0.8797\n",
      "Epoch 8/30\n",
      "60000/60000 [==============================] - 7s 124us/sample - loss: 0.2740 - acc: 0.8981 - val_loss: 0.3467 - val_acc: 0.8823\n",
      "Epoch 9/30\n",
      "60000/60000 [==============================] - 8s 135us/sample - loss: 0.2669 - acc: 0.8992 - val_loss: 0.3627 - val_acc: 0.8770\n",
      "Epoch 10/30\n",
      "60000/60000 [==============================] - 7s 120us/sample - loss: 0.2520 - acc: 0.9063 - val_loss: 0.3607 - val_acc: 0.8843\n",
      "Epoch 11/30\n",
      "60000/60000 [==============================] - 7s 114us/sample - loss: 0.2483 - acc: 0.9061 - val_loss: 0.3497 - val_acc: 0.8874\n",
      "Epoch 12/30\n",
      "60000/60000 [==============================] - 7s 120us/sample - loss: 0.2384 - acc: 0.9103 - val_loss: 0.3499 - val_acc: 0.8885\n",
      "Epoch 13/30\n",
      "60000/60000 [==============================] - 7s 115us/sample - loss: 0.2322 - acc: 0.9126 - val_loss: 0.3507 - val_acc: 0.8877\n",
      "Epoch 14/30\n",
      "60000/60000 [==============================] - 8s 128us/sample - loss: 0.2242 - acc: 0.9153 - val_loss: 0.3512 - val_acc: 0.8883\n",
      "Epoch 15/30\n",
      "60000/60000 [==============================] - 7s 120us/sample - loss: 0.2142 - acc: 0.9179 - val_loss: 0.3661 - val_acc: 0.8912\n",
      "Epoch 16/30\n",
      "60000/60000 [==============================] - 8s 129us/sample - loss: 0.2139 - acc: 0.9178 - val_loss: 0.3453 - val_acc: 0.8938\n",
      "Epoch 17/30\n",
      "60000/60000 [==============================] - 7s 115us/sample - loss: 0.2061 - acc: 0.9216 - val_loss: 0.3679 - val_acc: 0.8881\n",
      "Epoch 18/30\n",
      "60000/60000 [==============================] - 7s 117us/sample - loss: 0.2023 - acc: 0.9223 - val_loss: 0.3594 - val_acc: 0.8890\n",
      "Epoch 19/30\n",
      "60000/60000 [==============================] - 7s 115us/sample - loss: 0.1953 - acc: 0.9246 - val_loss: 0.3794 - val_acc: 0.8879\n",
      "Epoch 20/30\n",
      "60000/60000 [==============================] - 7s 114us/sample - loss: 0.1958 - acc: 0.9254 - val_loss: 0.3595 - val_acc: 0.8938\n",
      "Epoch 21/30\n",
      "60000/60000 [==============================] - 7s 115us/sample - loss: 0.1873 - acc: 0.9284 - val_loss: 0.3965 - val_acc: 0.8874\n",
      "Epoch 22/30\n",
      "60000/60000 [==============================] - 8s 126us/sample - loss: 0.1864 - acc: 0.9287 - val_loss: 0.3865 - val_acc: 0.8938\n",
      "Epoch 23/30\n",
      "60000/60000 [==============================] - 7s 119us/sample - loss: 0.1839 - acc: 0.9301 - val_loss: 0.3777 - val_acc: 0.8947\n",
      "Epoch 24/30\n",
      "60000/60000 [==============================] - 7s 114us/sample - loss: 0.1771 - acc: 0.9321 - val_loss: 0.4085 - val_acc: 0.8906\n",
      "Epoch 25/30\n",
      "60000/60000 [==============================] - 7s 117us/sample - loss: 0.1729 - acc: 0.9338 - val_loss: 0.4096 - val_acc: 0.8873\n",
      "Epoch 26/30\n",
      "60000/60000 [==============================] - 7s 115us/sample - loss: 0.1699 - acc: 0.9341 - val_loss: 0.4116 - val_acc: 0.8863\n",
      "Epoch 27/30\n",
      "60000/60000 [==============================] - 8s 126us/sample - loss: 0.1652 - acc: 0.9358 - val_loss: 0.4150 - val_acc: 0.8921\n",
      "Epoch 28/30\n",
      "60000/60000 [==============================] - 7s 121us/sample - loss: 0.1640 - acc: 0.9370 - val_loss: 0.4029 - val_acc: 0.8955\n",
      "Epoch 29/30\n",
      "60000/60000 [==============================] - 7s 119us/sample - loss: 0.1629 - acc: 0.9380 - val_loss: 0.3962 - val_acc: 0.8943\n",
      "Epoch 30/30\n",
      "60000/60000 [==============================] - 7s 122us/sample - loss: 0.1578 - acc: 0.9399 - val_loss: 0.4244 - val_acc: 0.8880\n"
     ]
    },
    {
     "data": {
      "text/plain": [
       "<tensorflow.python.keras.callbacks.History at 0x2179c32feb8>"
      ]
     },
     "execution_count": 9,
     "metadata": {},
     "output_type": "execute_result"
    }
   ],
   "source": [
    "#Train the model\n",
    "model.fit(trainx,trainy,          \n",
    "          validation_data=(testx,testy),\n",
    "          epochs=30,\n",
    "          batch_size=32)"
   ]
  },
  {
   "cell_type": "markdown",
   "metadata": {},
   "source": [
    "#### **Insights** : Final Validation\n",
    "####  1. Now, model provides 0.1578 loss value and accuracy score as 93.99%\n",
    "####  2. For validation loss 0.4244 comparatively high with normal loss ; and validation accuracy as 88.8%\n",
    "#### So, let's check model summary here"
   ]
  },
  {
   "cell_type": "code",
   "execution_count": 11,
   "metadata": {},
   "outputs": [
    {
     "name": "stdout",
     "output_type": "stream",
     "text": [
      "_________________________________________________________________\n",
      "Layer (type)                 Output Shape              Param #   \n",
      "=================================================================\n",
      "reshape_1 (Reshape)          (None, 784)               0         \n",
      "_________________________________________________________________\n",
      "batch_normalization_v1_1 (Ba (None, 784)               3136      \n",
      "_________________________________________________________________\n",
      "Layer_1 (Dense)              (None, 200)               157000    \n",
      "_________________________________________________________________\n",
      "Layer_2 (Dense)              (None, 100)               20100     \n",
      "_________________________________________________________________\n",
      "dropout (Dropout)            (None, 100)               0         \n",
      "_________________________________________________________________\n",
      "Output (Dense)               (None, 10)                1010      \n",
      "=================================================================\n",
      "Total params: 181,246\n",
      "Trainable params: 179,678\n",
      "Non-trainable params: 1,568\n",
      "_________________________________________________________________\n"
     ]
    }
   ],
   "source": [
    "model.summary()"
   ]
  }
 ],
 "metadata": {
  "colab": {
   "collapsed_sections": [],
   "name": "updated_R7_ExternalLab_Questions.ipynb",
   "provenance": [],
   "version": "0.3.2"
  },
  "kernelspec": {
   "display_name": "Python 3",
   "language": "python",
   "name": "python3"
  },
  "language_info": {
   "codemirror_mode": {
    "name": "ipython",
    "version": 3
   },
   "file_extension": ".py",
   "mimetype": "text/x-python",
   "name": "python",
   "nbconvert_exporter": "python",
   "pygments_lexer": "ipython3",
   "version": "3.7.3"
  }
 },
 "nbformat": 4,
 "nbformat_minor": 1
}

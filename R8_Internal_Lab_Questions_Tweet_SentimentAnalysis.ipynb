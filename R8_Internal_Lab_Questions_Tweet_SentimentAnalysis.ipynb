{
 "cells": [
  {
   "cell_type": "markdown",
   "metadata": {
    "colab_type": "text",
    "id": "FU-HwvIdH0M-"
   },
   "source": [
    "## Sentiment analysis <br> \n",
    "\n",
    "The objective of the second problem is to perform Sentiment analysis from the tweets data collected from the users targeted at various mobile devices.\n",
    "Based on the tweet posted by a user (text), we will classify if the sentiment of the user targeted at a particular mobile device is positive or not."
   ]
  },
  {
   "cell_type": "code",
   "execution_count": 1,
   "metadata": {},
   "outputs": [],
   "source": [
    "# importing libraries\n",
    "import pandas as pd\n",
    "from sklearn.feature_extraction.text import CountVectorizer\n",
    "from IPython.core.interactiveshell import InteractiveShell\n",
    "InteractiveShell.ast_node_interactivity = \"all\"\n",
    "import warnings\n",
    "warnings.filterwarnings('ignore')"
   ]
  },
  {
   "cell_type": "markdown",
   "metadata": {
    "colab_type": "text",
    "id": "nAQDiZHRH0M_"
   },
   "source": [
    "### 1. Read the dataset (tweets.csv) and drop the NA's while reading the dataset"
   ]
  },
  {
   "cell_type": "code",
   "execution_count": 2,
   "metadata": {
    "colab": {},
    "colab_type": "code",
    "id": "3eXGIe-SH0NA"
   },
   "outputs": [],
   "source": [
    "data = pd.read_csv(\"tweets.csv\",encoding = 'unicode_escape')"
   ]
  },
  {
   "cell_type": "code",
   "execution_count": 3,
   "metadata": {},
   "outputs": [],
   "source": [
    "data = data.dropna()"
   ]
  },
  {
   "cell_type": "code",
   "execution_count": 4,
   "metadata": {},
   "outputs": [
    {
     "data": {
      "text/plain": [
       "'.@wesley83 I have a 3G iPhone. After 3 hrs tweeting at #RISE_Austin, it was dead!  I need to upgrade. Plugin stations at #SXSW.'"
      ]
     },
     "execution_count": 4,
     "metadata": {},
     "output_type": "execute_result"
    }
   ],
   "source": [
    "data[\"tweet_text\"][0]"
   ]
  },
  {
   "cell_type": "code",
   "execution_count": 5,
   "metadata": {},
   "outputs": [
    {
     "data": {
      "text/plain": [
       "(3291, 3)"
      ]
     },
     "execution_count": 5,
     "metadata": {},
     "output_type": "execute_result"
    }
   ],
   "source": [
    "data.shape"
   ]
  },
  {
   "cell_type": "code",
   "execution_count": 6,
   "metadata": {},
   "outputs": [
    {
     "data": {
      "text/html": [
       "<div>\n",
       "<style scoped>\n",
       "    .dataframe tbody tr th:only-of-type {\n",
       "        vertical-align: middle;\n",
       "    }\n",
       "\n",
       "    .dataframe tbody tr th {\n",
       "        vertical-align: top;\n",
       "    }\n",
       "\n",
       "    .dataframe thead th {\n",
       "        text-align: right;\n",
       "    }\n",
       "</style>\n",
       "<table border=\"1\" class=\"dataframe\">\n",
       "  <thead>\n",
       "    <tr style=\"text-align: right;\">\n",
       "      <th></th>\n",
       "      <th>tweet_text</th>\n",
       "      <th>emotion_in_tweet_is_directed_at</th>\n",
       "      <th>is_there_an_emotion_directed_at_a_brand_or_product</th>\n",
       "    </tr>\n",
       "  </thead>\n",
       "  <tbody>\n",
       "    <tr>\n",
       "      <th>1355</th>\n",
       "      <td>@mention - #Apple is the classiest fascist com...</td>\n",
       "      <td>Apple</td>\n",
       "      <td>Negative emotion</td>\n",
       "    </tr>\n",
       "    <tr>\n",
       "      <th>6218</th>\n",
       "      <td>RT @mention Just saw someone take a picture wi...</td>\n",
       "      <td>iPad</td>\n",
       "      <td>Negative emotion</td>\n",
       "    </tr>\n",
       "    <tr>\n",
       "      <th>2967</th>\n",
       "      <td>Pop up @mention store in Austin.   Brilliant. ...</td>\n",
       "      <td>Apple</td>\n",
       "      <td>Positive emotion</td>\n",
       "    </tr>\n",
       "    <tr>\n",
       "      <th>4003</th>\n",
       "      <td>Can't. Take. Hands. Off. iPhone.  Even when it...</td>\n",
       "      <td>iPhone</td>\n",
       "      <td>Positive emotion</td>\n",
       "    </tr>\n",
       "    <tr>\n",
       "      <th>4042</th>\n",
       "      <td>New Social Network may launch 2day! &amp;quot;Goog...</td>\n",
       "      <td>Other Google product or service</td>\n",
       "      <td>Positive emotion</td>\n",
       "    </tr>\n",
       "  </tbody>\n",
       "</table>\n",
       "</div>"
      ],
      "text/plain": [
       "                                             tweet_text  \\\n",
       "1355  @mention - #Apple is the classiest fascist com...   \n",
       "6218  RT @mention Just saw someone take a picture wi...   \n",
       "2967  Pop up @mention store in Austin.   Brilliant. ...   \n",
       "4003  Can't. Take. Hands. Off. iPhone.  Even when it...   \n",
       "4042  New Social Network may launch 2day! &quot;Goog...   \n",
       "\n",
       "      emotion_in_tweet_is_directed_at  \\\n",
       "1355                            Apple   \n",
       "6218                             iPad   \n",
       "2967                            Apple   \n",
       "4003                           iPhone   \n",
       "4042  Other Google product or service   \n",
       "\n",
       "     is_there_an_emotion_directed_at_a_brand_or_product  \n",
       "1355                                   Negative emotion  \n",
       "6218                                   Negative emotion  \n",
       "2967                                   Positive emotion  \n",
       "4003                                   Positive emotion  \n",
       "4042                                   Positive emotion  "
      ]
     },
     "execution_count": 6,
     "metadata": {},
     "output_type": "execute_result"
    }
   ],
   "source": [
    "data.sample(5)"
   ]
  },
  {
   "cell_type": "markdown",
   "metadata": {
    "colab_type": "text",
    "id": "jPJvTjefH0NI"
   },
   "source": [
    "### 2. Preprocess the text and add the preprocessed text in a column with name `text` in the dataframe."
   ]
  },
  {
   "cell_type": "code",
   "execution_count": 7,
   "metadata": {
    "colab": {},
    "colab_type": "code",
    "id": "5iec5s9gH0NI"
   },
   "outputs": [],
   "source": [
    "import re\n",
    "def preprocess(text):\n",
    "    try:\n",
    "        return re.sub(\"[^a-zA-Z0-9]\", \" \", text)\n",
    "    except Exception as e:\n",
    "        return \"\""
   ]
  },
  {
   "cell_type": "code",
   "execution_count": 8,
   "metadata": {
    "colab": {},
    "colab_type": "code",
    "id": "EQSmqA-vH0NT"
   },
   "outputs": [],
   "source": [
    "data['text'] = [preprocess(text) for text in data.tweet_text]"
   ]
  },
  {
   "cell_type": "code",
   "execution_count": 9,
   "metadata": {
    "colab": {},
    "colab_type": "code",
    "id": "7kX-WoJDH0NV"
   },
   "outputs": [
    {
     "data": {
      "text/plain": [
       "(3291, 4)"
      ]
     },
     "execution_count": 9,
     "metadata": {},
     "output_type": "execute_result"
    }
   ],
   "source": [
    "data.shape"
   ]
  },
  {
   "cell_type": "code",
   "execution_count": 10,
   "metadata": {},
   "outputs": [
    {
     "data": {
      "text/html": [
       "<div>\n",
       "<style scoped>\n",
       "    .dataframe tbody tr th:only-of-type {\n",
       "        vertical-align: middle;\n",
       "    }\n",
       "\n",
       "    .dataframe tbody tr th {\n",
       "        vertical-align: top;\n",
       "    }\n",
       "\n",
       "    .dataframe thead th {\n",
       "        text-align: right;\n",
       "    }\n",
       "</style>\n",
       "<table border=\"1\" class=\"dataframe\">\n",
       "  <thead>\n",
       "    <tr style=\"text-align: right;\">\n",
       "      <th></th>\n",
       "      <th>tweet_text</th>\n",
       "      <th>emotion_in_tweet_is_directed_at</th>\n",
       "      <th>is_there_an_emotion_directed_at_a_brand_or_product</th>\n",
       "      <th>text</th>\n",
       "    </tr>\n",
       "  </thead>\n",
       "  <tbody>\n",
       "    <tr>\n",
       "      <th>0</th>\n",
       "      <td>.@wesley83 I have a 3G iPhone. After 3 hrs twe...</td>\n",
       "      <td>iPhone</td>\n",
       "      <td>Negative emotion</td>\n",
       "      <td>wesley83 I have a 3G iPhone  After 3 hrs twe...</td>\n",
       "    </tr>\n",
       "    <tr>\n",
       "      <th>1</th>\n",
       "      <td>@jessedee Know about @fludapp ? Awesome iPad/i...</td>\n",
       "      <td>iPad or iPhone App</td>\n",
       "      <td>Positive emotion</td>\n",
       "      <td>jessedee Know about  fludapp   Awesome iPad i...</td>\n",
       "    </tr>\n",
       "    <tr>\n",
       "      <th>2</th>\n",
       "      <td>@swonderlin Can not wait for #iPad 2 also. The...</td>\n",
       "      <td>iPad</td>\n",
       "      <td>Positive emotion</td>\n",
       "      <td>swonderlin Can not wait for  iPad 2 also  The...</td>\n",
       "    </tr>\n",
       "    <tr>\n",
       "      <th>3</th>\n",
       "      <td>@sxsw I hope this year's festival isn't as cra...</td>\n",
       "      <td>iPad or iPhone App</td>\n",
       "      <td>Negative emotion</td>\n",
       "      <td>sxsw I hope this year s festival isn t as cra...</td>\n",
       "    </tr>\n",
       "    <tr>\n",
       "      <th>4</th>\n",
       "      <td>@sxtxstate great stuff on Fri #SXSW: Marissa M...</td>\n",
       "      <td>Google</td>\n",
       "      <td>Positive emotion</td>\n",
       "      <td>sxtxstate great stuff on Fri  SXSW  Marissa M...</td>\n",
       "    </tr>\n",
       "  </tbody>\n",
       "</table>\n",
       "</div>"
      ],
      "text/plain": [
       "                                          tweet_text  \\\n",
       "0  .@wesley83 I have a 3G iPhone. After 3 hrs twe...   \n",
       "1  @jessedee Know about @fludapp ? Awesome iPad/i...   \n",
       "2  @swonderlin Can not wait for #iPad 2 also. The...   \n",
       "3  @sxsw I hope this year's festival isn't as cra...   \n",
       "4  @sxtxstate great stuff on Fri #SXSW: Marissa M...   \n",
       "\n",
       "  emotion_in_tweet_is_directed_at  \\\n",
       "0                          iPhone   \n",
       "1              iPad or iPhone App   \n",
       "2                            iPad   \n",
       "3              iPad or iPhone App   \n",
       "4                          Google   \n",
       "\n",
       "  is_there_an_emotion_directed_at_a_brand_or_product  \\\n",
       "0                                   Negative emotion   \n",
       "1                                   Positive emotion   \n",
       "2                                   Positive emotion   \n",
       "3                                   Negative emotion   \n",
       "4                                   Positive emotion   \n",
       "\n",
       "                                                text  \n",
       "0    wesley83 I have a 3G iPhone  After 3 hrs twe...  \n",
       "1   jessedee Know about  fludapp   Awesome iPad i...  \n",
       "2   swonderlin Can not wait for  iPad 2 also  The...  \n",
       "3   sxsw I hope this year s festival isn t as cra...  \n",
       "4   sxtxstate great stuff on Fri  SXSW  Marissa M...  "
      ]
     },
     "execution_count": 10,
     "metadata": {},
     "output_type": "execute_result"
    }
   ],
   "source": [
    "data.head(5)"
   ]
  },
  {
   "cell_type": "code",
   "execution_count": 11,
   "metadata": {},
   "outputs": [
    {
     "data": {
      "text/plain": [
       "0         wesley83 I have a 3G iPhone  After 3 hrs twe...\n",
       "1        jessedee Know about  fludapp   Awesome iPad i...\n",
       "2        swonderlin Can not wait for  iPad 2 also  The...\n",
       "3        sxsw I hope this year s festival isn t as cra...\n",
       "4        sxtxstate great stuff on Fri  SXSW  Marissa M...\n",
       "7        SXSW is just starting   CTIA is around the co...\n",
       "8       Beautifully smart and simple idea RT  madebyma...\n",
       "9       Counting down the days to  sxsw plus strong Ca...\n",
       "10      Excited to meet the  samsungmobileus at  sxsw ...\n",
       "11      Find  amp  Start Impromptu Parties at  SXSW Wi...\n",
       "12      Foursquare ups the game  just in time for  SXS...\n",
       "13      Gotta love this  SXSW Google Calendar featurin...\n",
       "14      Great  sxsw ipad app from  madebymany  http   ...\n",
       "15      haha  awesomely rad iPad app by  madebymany ht...\n",
       "17      I just noticed DST is coming this weekend  How...\n",
       "18      Just added my  SXSW flights to  planely  Match...\n",
       "19      Must have  SXSW app  RT  malbonster  Lovely re...\n",
       "20      Need to buy an iPad2 while I m in Austin at  s...\n",
       "21      Oh  My  God  The  SXSW app for iPad is pure  u...\n",
       "22      Okay  this is really it  yay new  Foursquare f...\n",
       "23      Photo  Just installed the  SXSW iPhone app  wh...\n",
       "24      Really enjoying the changes in Gowalla 3 0 for...\n",
       "25      RT  LaurieShook  I m looking forward to the  S...\n",
       "26      RT haha  awesomely rad iPad app by  madebymany...\n",
       "27      someone started an  austin  PartnerHub group i...\n",
       "28      The new  4sq3 looks like it is going to rock  ...\n",
       "29      They were right  the  gowalla 3 app on  androi...\n",
       "30      Very smart from  madebymany  hollergram iPad a...\n",
       "31      You must have this app for your iPad if you ar...\n",
       "36      The best   RT  mention Ha  First in line for  ...\n",
       "                              ...                        \n",
       "9008    I m pretty sure the panelist that thinks  quot...\n",
       "9009    Very happy that Discovr has been named as one ...\n",
       "9012    Apparently there is an iPad and iPhone app to ...\n",
       "9013    On the way to  sxsw  see you all tonight  hope...\n",
       "9017    Stopped by Tron Legacy Lounge at   SXSW  Audio...\n",
       "9018    Second day using my Apple iPad2 at  SXSW and I...\n",
       "9022    By the way  I love that y all are so down to d...\n",
       "9025    Absolutely   RT  mention Timely good schtuff f...\n",
       "9027    Good job y all   RT  mention Yes  Gowalla wins...\n",
       "9029     TOP STORY  At  SXSW  Apple schools the market...\n",
       "9033     mention yep  I can t believe they set up a po...\n",
       "9035     mention Yes  I picked up the ipad 2 at  SXSW ...\n",
       "9036     mention Yes  that s why I favorited it  I wan...\n",
       "9044    Look everyone  Zomg  mention got an iPad 2 on ...\n",
       "9045     mention you are my favorite   thanks for comi...\n",
       "9048     mention You bet man  Kindle and Apple for sur...\n",
       "9051     mention You can get an iPad 1 for under  350 ...\n",
       "9060     mention you might also appreciate new iPhone ...\n",
       "9061     mention You realize I m still padless  I just...\n",
       "9063     mention You should get the iPad 2  to save yo...\n",
       "9064     mention you should see the line here at  SXSW...\n",
       "9066    How much you want to bet Apple is disproportio...\n",
       "9070    You know you ve made it to  sxsw when you see ...\n",
       "9071    what are your essentials for  SxSW   Mine  poc...\n",
       "9072     mention your iPhone 4 cases are Rad and Ready...\n",
       "9077     mention your PR guy just convinced me to swit...\n",
       "9079     quot papyrus   sort of like the ipad quot    ...\n",
       "9080    Diller says Google TV  quot might be run over ...\n",
       "9085    I ve always used Camera  for my iPhone b c it ...\n",
       "9088                        Ipad everywhere   SXSW  link \n",
       "Name: text, Length: 3291, dtype: object"
      ]
     },
     "execution_count": 11,
     "metadata": {},
     "output_type": "execute_result"
    }
   ],
   "source": [
    "data.text"
   ]
  },
  {
   "cell_type": "code",
   "execution_count": null,
   "metadata": {},
   "outputs": [],
   "source": []
  },
  {
   "cell_type": "markdown",
   "metadata": {
    "colab_type": "text",
    "id": "OGWB3P2WH0NY"
   },
   "source": [
    "### 3. Consider only rows having Positive emotion and Negative emotion and remove other rows from the dataframe."
   ]
  },
  {
   "cell_type": "code",
   "execution_count": 12,
   "metadata": {
    "colab": {},
    "colab_type": "code",
    "id": "bdgA_8N2H0NY"
   },
   "outputs": [],
   "source": [
    "data = data[data[\"is_there_an_emotion_directed_at_a_brand_or_product\"].isin([\"Positive emotion\",\"Negative emotion\"])]"
   ]
  },
  {
   "cell_type": "code",
   "execution_count": 13,
   "metadata": {},
   "outputs": [
    {
     "data": {
      "text/plain": [
       "(3191, 4)"
      ]
     },
     "execution_count": 13,
     "metadata": {},
     "output_type": "execute_result"
    }
   ],
   "source": [
    "data.shape"
   ]
  },
  {
   "cell_type": "code",
   "execution_count": 14,
   "metadata": {},
   "outputs": [
    {
     "data": {
      "text/html": [
       "<div>\n",
       "<style scoped>\n",
       "    .dataframe tbody tr th:only-of-type {\n",
       "        vertical-align: middle;\n",
       "    }\n",
       "\n",
       "    .dataframe tbody tr th {\n",
       "        vertical-align: top;\n",
       "    }\n",
       "\n",
       "    .dataframe thead th {\n",
       "        text-align: right;\n",
       "    }\n",
       "</style>\n",
       "<table border=\"1\" class=\"dataframe\">\n",
       "  <thead>\n",
       "    <tr style=\"text-align: right;\">\n",
       "      <th></th>\n",
       "      <th>tweet_text</th>\n",
       "      <th>emotion_in_tweet_is_directed_at</th>\n",
       "      <th>is_there_an_emotion_directed_at_a_brand_or_product</th>\n",
       "      <th>text</th>\n",
       "    </tr>\n",
       "  </thead>\n",
       "  <tbody>\n",
       "    <tr>\n",
       "      <th>6912</th>\n",
       "      <td>RT @mention We've got some exciting things tha...</td>\n",
       "      <td>iPhone</td>\n",
       "      <td>Positive emotion</td>\n",
       "      <td>RT  mention We ve got some exciting things tha...</td>\n",
       "    </tr>\n",
       "    <tr>\n",
       "      <th>4433</th>\n",
       "      <td>My Verizon iPhone is kicking hairy butts at SX...</td>\n",
       "      <td>iPhone</td>\n",
       "      <td>Positive emotion</td>\n",
       "      <td>My Verizon iPhone is kicking hairy butts at SX...</td>\n",
       "    </tr>\n",
       "    <tr>\n",
       "      <th>4284</th>\n",
       "      <td>@mention massive lines at #sxsw apple store......</td>\n",
       "      <td>Apple</td>\n",
       "      <td>Positive emotion</td>\n",
       "      <td>mention massive lines at  sxsw apple store   ...</td>\n",
       "    </tr>\n",
       "    <tr>\n",
       "      <th>7622</th>\n",
       "      <td>Temperature going up :) RT @mention @mention  ...</td>\n",
       "      <td>Google</td>\n",
       "      <td>Positive emotion</td>\n",
       "      <td>Temperature going up    RT  mention  mention  ...</td>\n",
       "    </tr>\n",
       "    <tr>\n",
       "      <th>7947</th>\n",
       "      <td>Robot wars. Steampunk time machines. Mystery b...</td>\n",
       "      <td>Google</td>\n",
       "      <td>Positive emotion</td>\n",
       "      <td>Robot wars  Steampunk time machines  Mystery b...</td>\n",
       "    </tr>\n",
       "  </tbody>\n",
       "</table>\n",
       "</div>"
      ],
      "text/plain": [
       "                                             tweet_text  \\\n",
       "6912  RT @mention We've got some exciting things tha...   \n",
       "4433  My Verizon iPhone is kicking hairy butts at SX...   \n",
       "4284  @mention massive lines at #sxsw apple store......   \n",
       "7622  Temperature going up :) RT @mention @mention  ...   \n",
       "7947  Robot wars. Steampunk time machines. Mystery b...   \n",
       "\n",
       "     emotion_in_tweet_is_directed_at  \\\n",
       "6912                          iPhone   \n",
       "4433                          iPhone   \n",
       "4284                           Apple   \n",
       "7622                          Google   \n",
       "7947                          Google   \n",
       "\n",
       "     is_there_an_emotion_directed_at_a_brand_or_product  \\\n",
       "6912                                   Positive emotion   \n",
       "4433                                   Positive emotion   \n",
       "4284                                   Positive emotion   \n",
       "7622                                   Positive emotion   \n",
       "7947                                   Positive emotion   \n",
       "\n",
       "                                                   text  \n",
       "6912  RT  mention We ve got some exciting things tha...  \n",
       "4433  My Verizon iPhone is kicking hairy butts at SX...  \n",
       "4284   mention massive lines at  sxsw apple store   ...  \n",
       "7622  Temperature going up    RT  mention  mention  ...  \n",
       "7947  Robot wars  Steampunk time machines  Mystery b...  "
      ]
     },
     "execution_count": 14,
     "metadata": {},
     "output_type": "execute_result"
    }
   ],
   "source": [
    "data.sample(5)"
   ]
  },
  {
   "cell_type": "markdown",
   "metadata": {
    "colab_type": "text",
    "id": "SotCRvkDH0Nf"
   },
   "source": [
    "### 4. Represent text as numerical data using `CountVectorizer` and get the document term frequency matrix\n",
    "\n",
    "#### Use `vect` as the variable name for initialising CountVectorizer."
   ]
  },
  {
   "cell_type": "code",
   "execution_count": 15,
   "metadata": {
    "colab": {},
    "colab_type": "code",
    "id": "YcbkY4sgH0Ng"
   },
   "outputs": [
    {
     "name": "stdout",
     "output_type": "stream",
     "text": [
      "{'wesley83': 5403, 'have': 2277, '3g': 79, 'iphone': 2631, 'after': 221, 'hrs': 2417, 'tweeting': 5131, 'at': 410, 'rise': 4134, 'austin': 436, 'it': 2653, 'was': 5360, 'dead': 1282, 'need': 3294, 'to': 5001, 'upgrade': 5217, 'plugin': 3696, 'stations': 4609, 'sxsw': 4762, 'jessedee': 2682, 'know': 2772, 'about': 146, 'fludapp': 1899, 'awesome': 467, 'ipad': 2622, 'app': 341, 'that': 4906, 'you': 5567, 'll': 2917, 'likely': 2887, 'appreciate': 360, 'for': 1928, 'its': 2655, 'design': 1343, 'also': 275, 'they': 4929, 're': 3950, 'giving': 2094, 'free': 1960, 'ts': 5100, 'swonderlin': 4753, 'can': 797, 'not': 3355, 'wait': 5332, 'should': 4368, 'sale': 4187, 'them': 4915, 'down': 1493, 'hope': 2390, 'this': 4943, 'year': 5549, 'festival': 1831, 'isn': 2648, 'as': 400, 'crashy': 1175, 'sxtxstate': 4787, 'great': 2170, 'stuff': 4674, 'on': 3428, 'fri': 1965, 'marissa': 3053, 'mayer': 3084, 'google': 2133, 'tim': 4976, 'reilly': 4022, 'tech': 4850, 'books': 652, 'conferences': 1058, 'amp': 293, 'matt': 3077, 'mullenweg': 3253, 'wordpress': 5490, 'is': 2645, 'just': 2716, 'starting': 4601, 'ctia': 1217, 'around': 385, 'the': 4907, 'corner': 1129, 'and': 299, 'googleio': 2141, 'only': 3433, 'hop': 2389, 'skip': 4429, 'jump': 2714, 'from': 1974, 'there': 4924, 'good': 2126, 'time': 4978, 'be': 544, 'an': 296, 'android': 303, 'fan': 1773, 'beautifully': 552, 'smart': 4457, 'simple': 4401, 'idea': 2451, 'rt': 4166, 'madebymany': 3007, 'thenextweb': 4920, 'wrote': 5523, 'our': 3478, 'hollergram': 2369, 'http': 2423, 'bit': 611, 'ly': 2990, 'ieavob': 2462, 'counting': 1144, 'days': 1280, 'plus': 3698, 'strong': 4664, 'canadian': 799, 'dollar': 1464, 'means': 3095, 'stock': 4629, 'up': 5210, 'apple': 351, 'gear': 2040, 'excited': 1705, 'meet': 3103, 'samsungmobileus': 4195, 'so': 4488, 'show': 4374, 'my': 3270, 'sprint': 4577, 'galaxy': 2019, 'still': 4627, 'running': 4177, 'fail': 1763, 'find': 1858, 'start': 4599, 'impromptu': 2501, 'parties': 3557, 'with': 5459, 'hurricaneparty': 2434, 'gvlrin': 2217, 'til': 4974, 'comes': 1016, 'out': 3480, 'foursquare': 1949, 'ups': 5221, 'game': 2021, 'in': 2510, 'mp': 3245, 'grn7pk': 2181, 'prefer': 3763, 'gowalla': 2152, 'by': 770, 'far': 1782, 'best': 584, 'looking': 2946, 'date': 1271, 'gotta': 2147, 'love': 2965, 'calendar': 780, 'featuring': 1811, 'top': 5022, 'cases': 826, 'check': 898, 'hamsandwich': 2239, 'via': 5282, 'ischafer': 2647, 'gt': 2199, 'axzwxb': 474, 'tinyurl': 4986, 'com': 1009, '4nqv92l': 95, 'haha': 2231, 'awesomely': 468, 'rad': 3920, 'htdfim': 2419, 'noticed': 3363, 'dst': 1526, 'coming': 1019, 'weekend': 5391, 'how': 2411, 'many': 3040, 'users': 5239, 'will': 5435, 'hour': 2407, 'late': 2809, 'come': 1013, 'sunday': 4708, 'morning': 3227, 'added': 188, 'flights': 1889, 'planely': 3669, 'matching': 3074, 'people': 3602, 'planes': 3670, 'airports': 250, 'downloaded': 1495, 'klm': 2766, 'nicely': 3331, 'done': 1474, 'must': 3266, 'malbonster': 3028, 'lovely': 2969, 'review': 4103, 'forbes': 1929, 'holler': 2368, 'gram': 2159, 'co': 987, 'g4gzypv': 2011, 'buy': 764, 'ipad2': 2624, 'while': 5413, 'sure': 4720, 'if': 2463, 'store': 4639, 'oh': 3415, 'god': 2109, 'pure': 3869, 'unadulterated': 5164, 'easier': 1559, 'browse': 727, 'events': 1679, 'than': 4901, 'website': 5386, 'okay': 3418, 'really': 3966, 'yay': 5545, 'new': 3315, '11': 15, 'kthxbai': 2779, 'photo': 3626, 'installed': 2568, 'which': 5412, 'nice': 3330, 'tumblr': 5107, 'x6t1pi6av7': 5531, 'enjoying': 1630, 'changes': 876, 'forward': 1945, 'seeing': 4270, 'what': 5407, 'else': 1594, 'their': 4913, 'sleeves': 4439, 'laurieshook': 2824, 'smcdallas': 4465, 'pre': 3760, 'party': 3562, 'wed': 5389, 'hoping': 2393, 'win': 5441, 'resulting': 4089, 'shameless': 4329, 'promotion': 3831, 'chevysmc': 909, 'michaelpiliero': 3138, 'someone': 4515, 'started': 4600, 'partnerhub': 3559, 'group': 2184, 'groups': 2189, '4sq3': 97, 'looks': 2948, 'like': 2884, 'going': 2119, 'rock': 4144, 'update': 5213, 'push': 3872, 'tonight': 5011, 'etsbzk': 1668, 'keepaustinweird': 2728, 'were': 5401, 'right': 4124, 'sweeeeet': 4742, 'job': 2687, 'team': 4844, 'very': 5278, 'a3xvwc6': 139, 'may': 3082, 'leave': 2848, 'vuvuzela': 5328, 'home': 2375, 'now': 3370, 'your': 5569, 'are': 373, 'itunes': 2658, 'us': 5227, 'id420666439': 2450, 'mt': 3251, 'mention': 3118, 'ha': 2222, 'first': 1867, 'line': 2895, 'quot': 3914, 'pop': 3717, 'event': 1676, 'planner': 3672, 'eventprofs': 1678, 'pcma': 3587, 'engage365': 1620, 'false': 1769, 'alarm': 258, 'circles': 939, 'probably': 3809, 'ever': 1682, 'link': 2899, 'social': 4490, 'weather': 5378, 'greet': 2174, 'sweater': 4741, 'night': 3336, 'putting': 3879, 'flash': 1880, 'downtown': 1500, 'sell': 4284, 'smartcover': 4458, 'opens': 3444, 'instant': 2571, 'access': 155, 'waited': 5333, 'get': 2070, 'one': 3430, 'hooray': 2385, 'opening': 3443, 'wooooo': 5485, 'open': 3438, 'midnight': 3145, 'talking': 4823, 'effort': 1580, 'allow': 267, 'systems': 4800, 'bettercloud': 591, '1st': 44, 'stop': 4635, 'chaos': 880, 'hunt': 2432, 'java': 2670, 'spy': 4578, 'chance': 871, 'omfg': 3424, 'heard': 2299, 'pics': 3638, 'already': 274, 'attending': 421, 'headaches': 2290, 'power': 3748, 'sxswi': 4774, 'do': 1448, 'bands': 500, 'food': 1920, 'art': 389, 'ice': 2446, 'cream': 1182, 'nifty': 3335, 'interactive': 2584, 'maps': 3046, 'holla': 2367, 'butt': 760, 'over': 3488, 'here': 2320, 'case': 825, 'but': 759, 'phone': 3624, 'of': 3400, 'post': 3740, 'makes': 3024, 'easy': 1560, 'connect': 1069, 'all': 266, 'networks': 3312, 'behaving': 568, 'today': 5003, 'crashes': 1173, 'yesterday': 5559, 'ridiculous': 4120, 'hey': 2323, 'fans': 1779, 'peek': 3595, 'space': 4539, 'slated': 4435, 'tomorrow': 5007, 'thing': 4933, 'doing': 1462, 'earth': 1554, 'face': 1753, 'company': 1033, 'her': 2319, 'sxwsi': 4788, 'thanks': 4903, 'speech': 4552, 'apps': 367, 'being': 571, 'showcased': 4376, 'conf': 1056, 'sxswh': 4773, 'sxsh': 4760, 'does': 1457, 'provide': 3842, 'chargers': 885, 've': 5264, 'changed': 874, 'mind': 3158, 'next': 3324, 'xmas': 5536, 'shiny': 4349, 'garyvee': 2030, 'book': 650, 'stores': 4640, 'christmas': 930, 'nerds': 3303, 'yai': 5542, 'ubersocial': 5148, 'includes': 2518, 'uberguide': 5147, 'sponsored': 4568, 'cont': 1088, 'fast': 1790, 'fun': 1996, 'future': 2002, 'presenting': 3783, 'search': 4255, 'local': 2924, 'mobile': 3192, 'headline': 2293, 'gadget': 2013, 'hmm': 2359, 'could': 1141, 'seen': 4275, 'launched': 2820, 'checkins': 901, 'month': 3218, 'ago': 232, 'ins': 2553, 'ok': 3417, 'outs': 3486, 'bizzy': 614, 'before': 561, 'tweet': 5124, 'think': 4936, 'speak': 4545, 'mark': 3057, 'belinsky': 573, '911tweets': 131, 'panel': 3531, 'kawasaki': 2726, 'lewis': 2869, 'level': 2867, 'reasoning': 3971, 'continued': 1095, 'existence': 1716, 'evidence': 1692, 'bawling': 539, 'pagemaker': 3520, 'saved': 4207, 'those': 4948, 'jwtatl': 2721, 'enchantment': 1611, 'thoughts': 4952, 'japan': 2667, 'apac': 337, 'regions': 4012, 'dealing': 1286, 'earthquake': 1556, 'tsunami': 5102, 'trauma': 5068, 'schools': 4238, 'marketing': 3060, 'experts': 1730, 'temporary': 4877, 'def': 1303, 'tent': 4884, 'powerhouse': 3750, 'gym': 2218, '6th': 115, 'congress': 1068, 'along': 271, '10': 4, '000': 0, 'happy': 2260, 'hipsters': 2346, 'wins': 5449, 'support': 4716, 'launch': 2819, 'trending': 5076, 'nerdy': 3305, 'christian': 929, 'devs': 1371, 'want': 5350, 'talk': 4821, 'or': 3454, 'maybe': 3083, 'we': 5375, 'wk': 5465, 'together': 5004, 'cool': 1114, 'me': 3090, 'has': 2266, 'taken': 4813, 'storm': 4642, 'part': 3553, 'haz': 2285, 'ifrom': 2464, 'gr8': 2155, 'stacks': 4586, 'waiting': 5334, 'bought': 671, 'got': 2146, 'mine': 3163, 'no': 3343, 'hassle': 2272, 'handled': 2244, 'perfectly': 3608, 'take': 4811, 'major': 3020, 'south': 4535, 'korean': 2777, 'director': 1406, 'gets': 2072, '130': 22, 'make': 3022, 'movie': 3241, 'entirely': 1640, 'his': 2350, 'beautiful': 551, 'pic': 3633, 'sneaky': 4487, 'usual': 5244, 'beta': 588, 'testing': 4892, 'moonbot': 3222, 'studios': 4671, 'louisiana': 2962, 'won': 5478, 'day': 1278, 'ton': 5008, 'sold': 4503, 'everything': 1689, 'except': 1702, '64gig': 111, 'wifi': 5430, 'white': 5415, 'did': 1380, 'manage': 3032, 'yours': 5570, 'known': 2775, 'jeans': 2676, 'configuration': 1060, 'offered': 3403, 'promo': 3829, 'ninjafinder': 3342, 'who': 5417, 'sucks': 4694, 'poursite': 3747, 'learning': 2843, 'life': 2875, 'changing': 877, 'impact': 2487, 'real': 3959, 'actual': 180, 'lives': 2912, 'bravo': 692, 'short': 4362, 'lines': 2896, 'left': 2851, 'tradeshow': 5055, 'demo': 1328, 'theatre': 4908, 'see': 4269, 'why': 5424, 'presenters': 3782, 'using': 5242, 'anyone': 329, 'quick': 3907, 'hundred': 2428, 'dollars': 1465, 'ad': 182, 'hoc': 2363, 'cost': 1136, 'monday': 3210, 'barry': 515, 'diller': 1399, 'york': 5566, 'times': 4982, 'lunch': 2985, 'hotel': 2402, 'six': 4417, 'dirty': 1408, 'martinis': 3064, 'mondays': 3211, 'seriously': 4298, 'any': 325, 'constant': 1081, 'causing': 840, 'lost': 2957, 'schedules': 4234, 'sync': 4793, 'wp7': 5515, 'ready': 3958, 'some': 4511, 'ur': 5224, 'blogging': 633, 'conflagration': 1063, 'doofusness': 1482, 'attention': 422, 'ers': 1657, 'rumored': 4172, 'needs': 3296, 'went': 5400, 'lousy': 2964, 'winning': 5448, 'picture': 3639, 'spent': 4558, 'used': 5234, 'couple': 1146, 'city': 943, 'blocks': 629, 'behind': 570, '100s': 6, 'emails': 1596, 'give': 2089, 'composed': 1047, 'replies': 4058, 'protip': 3839, '10pm': 13, 'block': 626, 'popup': 3724, 'selling': 4285, 'ipad2s': 2625, '2s': 64, 'wild': 5433, 'both': 667, 'say': 4214, 'terrible': 4889, 'takes': 4815, 'video': 5288, 'snapping': 4484, 'away': 465, 'keynote': 2737, 'slides': 4443, 'southwest': 4538, 'sweet': 4745, 'ballroom': 496, 'more': 3225, '35': 75, 'million': 3155, 'miles': 3151, 'per': 3604, 'driving': 1516, 'navigation': 3287, 'growing': 2191, 'band': 499, 'share': 4331, 'track': 5048, 'audience': 429, 'stage': 4588, 'use': 5233, 'frostwire': 1978, 'wi': 5425, 'fi': 1838, 'available': 452, 'don': 1470, 'car': 810, 'zimride': 5590, 'etc': 1666, 'rides': 4117, 'shareable': 4332, 'picked': 3635, 'mophie': 3224, 'battery': 533, 'prep': 3772, 'lugging': 2984, 'laptop': 2799, 'huge': 2426, 'last': 2806, 'rumor': 4171, 'monger': 3214, 'read': 3954, 'preview': 3790, 'socbiz': 4489, 'fb': 1806, 'hobo': 2362, 'shotgun': 4367, 'yes': 5558, 'please': 3689, 'build': 743, 'less': 2859, '24': 54, 'hours': 2408, 'biggest': 601, 'launches': 2821, 'history': 2352, 'groupme': 2187, 'sounds': 4533, 'incredible': 2522, 'phones': 3625, 'yet': 5560, 'alarms': 259, 'botch': 666, 'timechange': 4979, 'freak': 1958, 'missed': 3173, 'panels': 3534, 'bloody': 635, 'marys': 3066, 'shouts': 4373, 'ladies': 2788, 'holding': 2365, 'shows': 4380, 'photos': 3629, 'sipping': 4409, 'beer': 560, 'cc': 843, 'meant': 3096, 'wish': 5457, 'dyac': 1540, 'stupid': 4679, 'rumors': 4173, 'signs': 4396, 'point': 3704, '15': 27, 'minute': 3168, 'brilliant': 712, 'enlightening': 1632, 'mechanics': 3101, 'presentation': 3780, 'sales': 4188, 'genius': 2062, 'dictaphone': 1378, 'vid': 5287, 'camera': 792, 'wow': 5512, 'cerebellum': 858, 'charged': 883, 'personal': 3616, 'found': 1947, 'kyping': 2782, 'geolocation': 2067, 'releasing': 4033, 'when': 5409, 'background': 479, 'patch': 3573, 'batterykiller': 534, 'live': 2910, 'rsvp': 4165, 'sundayswagger': 4709, 'eventbrite': 1677, '20': 45, 'scoremore': 4246, 'course': 1148, 'built': 746, 'temp': 4874, 'texas': 4896, 'understand': 5174, 'concept': 1052, 'corralling': 1132, 'cattle': 837, 'pickmeupanipad2': 3637, 'didn': 1381, 'let': 2861, 'something': 4517, 'having': 2280, 'retail': 4092, 'near': 3291, 'keep': 2727, 'surprise': 4725, 'opened': 3441, 'town': 5046, 'cnet': 980, 'ipads': 2630, 'example': 1699, 'layed': 2830, 'registers': 4014, 'checkout': 902, 'gswsxsw': 2198, 'traffic': 5056, 'noon': 3351, 'fresh': 1964, 'shipment': 4350, 'pretty': 3788, 'fingers': 1864, 'crossed': 1201, 'technews': 4858, 'saves': 4208, 'set': 4311, 'news': 3319, 'lt': 2979, 'true': 5090, 'loathe': 2921, 'blogs': 634, 'atx': 427, 'mall': 3029, '10x': 14, 'crowded': 1205, 'fake': 1768, 'fucking': 1989, 'dongle': 1475, 'makeshift': 3025, 'kidding': 2748, 'amazing': 284, 'fanboy': 1774, 'shit': 4354, 'temptation': 4879, 'control': 1099, '5pm': 106, 'view': 5293, 'io': 2618, 'office': 3406, 'during': 1537, '150': 28, 'few': 1835, 'too': 5013, 'software': 4502, 'development': 1367, 'once': 3429, 'release': 4030, 'working': 5496, 'overheard': 3493, 'relaxing': 4029, 'computer': 1048, 'agreed': 234, 'arg': 377, 'hate': 2273, 'blackberry': 617, 'back': 478, 'shocked': 4357, 'technology': 4861, 'because': 554, 'go': 2107, 'everbody': 1683, 'media': 3102, 'driven': 1513, 'revolutions': 4108, 'better': 590, 'long': 2940, 'work': 5492, 'rather': 3945, 'agileagency': 230, 'knackered': 2767, 'playing': 3686, 'updating': 5216, 'timeline': 4980, 'smashed': 4464, 'partytweets': 3564, 'bed': 557, 'mdw': 3089, 'second': 4265, 'halfway': 2235, 'through': 4958, 'haven': 2278, 'even': 1674, 'boarded': 646, 'plane': 3668, 'amateurhour': 283, 'jobs': 2688, 'crowd': 1203, 'tripping': 5084, 'each': 1544, 'other': 3474, 'aclu': 168, '80': 119, 'laughed': 2818, 'until': 5204, 'week': 5390, 'hauling': 2276, 'macbook': 2996, 'everywhere': 1691, 'shoulder': 4370, 'rub': 4167, 'attendees': 420, 'qr': 3885, 'code': 992, 'reader': 3955, 'image': 2477, 'badge': 485, 'optiscan': 3453, 'four': 1948, 'took': 5016, 'lego': 2853, 'pit': 3652, 'replaced': 4053, 'recharging': 3979, 'station': 4608, 'might': 3149, 'prices': 3794, 'crap': 1165, 'samsung': 4194, 'bad': 484, 'qs': 3889, 'process': 3811, 'poo': 3712, 'poos': 3716, 'ideas': 2453, 'leaves': 2849, 'early': 1549, 'creative': 1187, 'busy': 758, 'gamestorming': 2026, 'trying': 5099, 'balance': 492, 'vs': 5325, 'airplane': 248, 'mode': 3199, '100': 5, 'tweets': 5132, 'precommerce': 3762, 'watch': 5365, 'ipadmadness': 2629, 'shop': 4360, 'core': 1128, 'action': 173, 'celebrate': 845, 'beauty': 553, 'web': 5379, 'msft': 3250, 'ie9': 2461, 'play': 3679, 'html5': 2421, 'gave': 2035, 'money': 3213, 'relief': 4036, 'had': 2229, 'improve': 2502, 'beyond': 596, 'sharing': 4335, 'positive': 3734, 'actions': 174, 'world': 5499, 'download': 1494, 'earthhour': 1555, '60': 108, 'bing': 605, 'bettersearch': 592, 'shot': 4366, 'success': 4686, 'structured': 4665, 'potentially': 3745, 'higher': 2331, 'margin': 3051, 'cpa': 1160, 'model': 3200, 'results': 4090, 'seo': 4293, 'qagb': 3883, 'impulsive': 2507, 'friends': 1972, 'gen': 2056, '32gb': 74, 'buying': 766, 'geekdate': 2044, 'herself': 2322, 'present': 3779, 'rsq': 4164, 'exciting': 1707, 'certain': 860, 'meetings': 3105, 'hello': 2313, 'dont': 1477, 'miss': 3172, 'charles': 890, 'chen': 907, 'chromeos': 932, 'booth': 656, 'exhibit': 1713, 'hall': 2236, '1pm': 43, 'guess': 2203, 'desperate': 1352, 'locations': 2929, 'considering': 1078, 'leaving': 2850, 'pro': 3807, 'flying': 1903, 'solo': 4506, 'battlela': 537, 'secret': 4267, 'batphone': 530, 'tv': 5119, 'league': 2837, 'extraordinary': 1745, 'hackers': 2227, 'lxh': 2989, 'big': 599, 'chunky': 935, 'elements': 1590, 'generous': 2061, 'clarity': 947, 'trumps': 5093, 'density': 1339, 'tap': 4826, 'quality': 3894, 'quantity': 3895, 'tapworthy': 4827, 'designing': 1347, 'interfaces': 2588, 'schemas': 4236, 'thinks': 4938, 'content': 1090, 'nuts': 3381, 'another': 314, 'network': 3310, 'docomo': 1451, 'introduced': 2603, 'years': 5550, 'came': 791, 'jpmobilesummit': 2704, 'jeez': 2678, 'guys': 2216, 'dunno': 1535, 'gold': 2120, 'realize': 3962, 'un': 5161, 'aesthetic': 215, 'begins': 565, 'tc': 4839, 'techcrunch': 4852, 'gonna': 2123, 'sum': 4704, 'pm': 3699, 'badgeless': 486, 'drinks': 1511, 'heading': 2292, 'semantic': 4288, 'fogo': 1909, 'de': 1281, 'ch': 863, 'swag': 4738, 'charging': 888, 'timing': 4983, 'brand': 689, 'winner': 5446, 'pnid': 3700, 'exhibitors': 1714, 'capture': 808, 'experience': 1725, 'retrollect': 4094, 'disc': 1415, 'most': 3230, 'popular': 3722, 'fantastic': 1780, 'schedule': 4231, 'bummer': 749, 'am': 282, 'crackberry': 1163, 'accessory': 159, 'followed': 1913, 'closely': 968, 'margarita': 3050, 'fav': 1799, 'fell': 1822, 'throwing': 4962, 'nerd': 3298, 'speakeasy': 4546, 'way': 5372, 'figure': 1843, 'replacement': 4054, 'making': 3026, 'stream': 4652, 'follow': 1912, 'inane': 2511, 'surely': 4721, 'southby': 4536, 'focusing': 1908, 'bridging': 707, 'digital': 1396, 'physical': 3631, 'divide': 1441, 'eg': 1582, 'streetview': 4656, 'hotpot': 2404, 'autonomous': 450, 'folks': 1911, 'posted': 3741, 'blast': 621, 'customers': 1236, 'alcoholics': 261, 'call': 783, 'enabling': 1608, 'rest': 4080, 'bound': 673, 'fanboys': 1776, 'list': 2903, 'ntn': 3375, 'helps': 2318, 'field': 1839, 'kids': 2749, 'hitlantis': 2355, 'song': 4519, 'explorer': 1735, 'musicviz': 3262, 'willing': 5437, 'pick': 3634, 'pay': 3580, 'premium': 3771, 'dm': 1447, 'atl': 412, 'akqas': 254, 'interface': 2587, 'callback': 785, 'principles': 3797, 'examples': 1700, 'person': 3615, 'front': 1975, 'outside': 3487, 'word': 5488, 'forget': 1935, 'snap': 4483, 'air': 245, 'getting': 2073, 'full': 1993, 'underway': 5176, 'tell': 4872, 'intermittent': 2589, 'brick': 705, 'labs': 2786, 'laptops': 2800, 'source': 4534, 'coders': 994, 'cupcake': 1222, 'windows': 5443, 'addition': 194, 'afraid': 219, 'omg': 3425, 'iphone4': 2632, 'ipod': 2635, 'tab': 4802, 'techgeek': 4854, 'authenticator': 444, 'devices': 1370, 'step': 4621, 'ahead': 236, 'alternative': 278, 'facebook': 1754, 'lets': 2862, 'sites': 4415, 'stand': 4589, 'blocking': 628, 'called': 786, 'possibly': 3739, 'never': 3314, 'beat': 549, 'myspace': 3275, 'bigger': 600, 'gaga': 2017, 'super': 4713, 'interesting': 2586, 'worlds': 5500, 'contextual': 1094, 'discovery': 1419, 'location': 2928, 'context': 1093, 'deeper': 1302, 'searches': 4257, 'without': 5462, 'googletv': 2144, 'connected': 1070, 'connectedtv': 1073, 'fascinating': 1787, 'hand': 2240, 'dude': 1530, 'cutsies': 1240, 'smtravel': 4473, 'hasn': 2271, 'plans': 3674, 'socnet': 4499, 'learned': 2842, 'lot': 2958, 'lots': 2959, 'been': 559, 'place': 3662, 'hawk': 2282, 'lordy': 2952, 'pulling': 3859, 'trigger': 5082, 'loved': 2966, 'honesty': 2378, 'products': 3816, 'customer': 1235, 'service': 4306, 'bout': 675, 'donating': 1473, 'spending': 4557, 'cell': 848, 'glad': 2095, 'lifelinetotheworld': 2877, 'feeling': 1818, 'worst': 5506, 'try': 5098, 'everyone': 1688, 'techiesunite': 4857, 'runs': 4178, 'juice': 2709, 'holy': 2373, 'cow': 1157, 'hooked': 2383, 'paolo': 3540, 'alex': 264, 'backup': 482, 'charger': 884, 'powermat': 3752, 'powermatteam': 3753, 'powermattteam': 3754, 'knew': 2768, 'plied': 3692, 'stogies': 4630, 'weasel': 5377, 'into': 2598, 'thought': 4950, 'would': 5510, 'touched': 5037, 'hmmzies': 2361, 'frustrated': 1982, 'moment': 3205, 'runaround': 4176, 'att': 415, 'enjoy': 1628, 'startupbus': 4604, 'addictive': 191, 'hot': 2401, 'spot': 4571, 'data': 1269, 'speed': 4553, 'ios': 2619, 'wondering': 5481, 'ppl': 3756, 'friday': 1969, 'queue': 3904, 'convention': 1104, 'centre': 853, 'xd': 5533, 'figuring': 1844, 'wot': 5509, 'room': 4154, 'run': 4175, 'vids': 5292, 'others': 3475, 'spots': 4572, 'cnt': 985, 'ignite': 2465, 'mac': 2994, 'goodness': 2130, 'zite': 5593, 'intelligent': 2579, 'magazine': 3011, 'deliciousness': 1319, 'youneedthis': 5568, 'interested': 2585, 'based': 520, 'indoor': 2528, 'venues': 5272, 'businesses': 757, 'centers': 851, 'soo': 4523, 'invisible': 2613, 'instruments': 2574, 'jaw': 2672, 'dropping': 1521, 'wii': 5431, 'controller': 1100, 'lovemusicapi': 2970, 'rockin': 4147, 'jailbreak': 2662, 'grateful': 2168, 'fab5': 1751, '70': 116, 'buyers': 765, 'report': 4059, 'socialmedia': 4493, 'remaining': 4042, 'accessories': 158, 'bag': 488, 'exist': 1715, 'feel': 1816, 'antique': 320, 'everytime': 1690, 'turn': 5115, 'messaging': 3126, 'platform': 3678, 'cheeky': 903, 'shoot': 4358, 'display': 1430, 'questions': 3903, 'later': 2811, 'osmpw': 3472, 'performance': 3609, 'accordion': 163, 'toodamnlucky': 5015, 'fear': 1807, '3gs': 80, 'slowpoke': 4451, 'sxswmusic': 4779, 'mocking': 3198, 'flypost': 1904, 'community': 1029, 'bulletin': 747, 'board': 645, 'learn': 2841, 'pedicab': 3594, 'epic': 1649, 'developer': 1364, 'transient': 5062, 'device': 1369, 'bursts': 753, '8pm': 127, 'couch': 1138, 'disliking': 1427, 'twitter': 5137, 'auto': 447, 'shortening': 4364, 'links': 2901, 'clearly': 956, 'positively': 3735, 'happily': 2259, 'flipboard': 1891, 'developing': 1366, 'version': 5276, 'says': 4216, 'overheating': 3494, 'british': 717, 'sounding': 4532, 'crashing': 1174, 'instead': 2573, 'then': 4919, 'works': 5497, 'sister': 4411, 'tonigh': 5010, 'wilting': 5440, 'under': 5171, 'stress': 4658, 'believe': 572, 'almost': 269, 'always': 280, '40': 84, 'own': 3506, 'geeksrule': 2054, 'taariq': 4801, 'howdy': 2412, 'usguys': 5241, 'smaller': 4456, 'pc': 3585, 'meeting': 3104, 'jealous': 2674, 'seems': 4274, 'obsolete': 3395, 'these': 4927, 'things': 4934, 'screen': 4250, 'old': 3420, 'explanation': 1733, 'she': 4339, 'instantly': 2572, 'pixieengine': 3661, 'cnn': 981, 'keeps': 2730, 'awake': 460, 'thank': 4902, 'tough': 5040, 'dwindling': 1539, 'help': 2314, 'jeebus': 2677, 'correcting': 1134, 'curse': 1230, 'words': 5491, 'updated': 5214, 'soon': 4524, 'care': 815, 'brazil': 694, 'orkut': 3468, 'threat': 4954, 'pakistan': 3527, 'cwc2011': 1242, 'linking': 2900, 'peeps': 3596, 'product': 3815, 'exists': 1718, 'imac': 2475, 'staring': 4596, 'enough': 1633, 'remember': 4045, 'wth': 5527, 'saw': 4213, 'giant': 2075, 'premiere': 3770, 'screams': 4249, 'since': 4405, 'listening': 2906, 'engaging': 1622, 'heck': 2310, 'happened': 2256, 'buzz': 768, 'ranking': 3939, 'efforts': 1581, 'helping': 2317, 'global': 2100, 'issues': 2650, 'wtf': 5526, 'unabashed': 5163, 'geeky': 2055, 'detailed': 1357, 'colour': 1008, 'coded': 993, 'proving': 3845, 'organized': 3465, 'inside': 2558, 'marty': 3065, 'unboxing': 5167, 'veterans': 5281, 'reasons': 3972, 'shouldn': 4371, 'made': 3006, 'soundcloud': 4531, 'ambassador': 287, 'upload': 5219, 'music': 3259, 'reward': 4109, 'alert': 262, 'tablet': 4805, 'finding': 1860, 'needle': 3295, 'haystack': 2284, 'cr': 1161, '48': 91, 'purchased': 3865, 'mexican': 3133, 'mavis': 3081, 'boy': 680, 'bear': 547, 'listen': 2904, 'same': 4192, 'twice': 5134, 'agnerd': 231, 'dairy': 1248, 'relies': 4037, 'evernote': 1684, 'agchat': 225, 'bummed': 748, 'quarantined': 3897, 'kiddie': 2747, 'cold': 1000, 'garageband': 2029, 'comfort': 1017, 'loving': 2975, 'morphie': 3228, 'juicepack': 2711, 'recharge': 3978, 'worth': 5507, 'move': 3239, 'murphy': 3256, 'usa': 5228, 'serve': 4301, 'announcing': 310, 'features': 1810, 'v5': 5254, 'intimate': 2596, 'designflaws': 1346, 'compiling': 1041, 'doc': 1449, 'taking': 4817, 'longer': 2941, 'musicians': 3261, 'kicked': 2744, 'bucket': 737, 'where': 5410, 'within': 5460, 'walking': 5340, 'distance': 1436, 'unequipped': 5179, 'compared': 1034, 'dang': 1260, 'mashable': 3068, 'random': 3934, 'tips': 4988, 'dev': 1361, 'politics': 3709, 'trophy': 5086, 'lookingforwardtothemusicfest': 2947, 'hard': 2262, 'feelings': 1819, 'towards': 5044, 'partner': 3558, '1of': 42, 'dfcbto': 1373, 'farooqui': 1786, 'catching': 835, 'grow': 2190, 'purchasing': 3868, 'gamesfortv': 2025, 'extended': 1742, '13': 21, 'appleatxdt': 353, 'nothing': 3361, 'teeming': 4865, 'sea': 4254, 'addicts': 192, 'twittering': 5138, 'engage': 1619, 'anoth': 313, 'trend': 5075, 'opinions': 3446, 'annoying': 312, 'hundreds': 2429, 'attend': 418, 'continuum': 1098, 'attitudes': 423, 'crowdsourcing': 1207, 'gap': 2028, 'hear': 2298, 'third': 4941, 'era': 1654, 'logos': 2936, 'googledoodle': 2138, 'gsdm': 2197, 'highlight': 2332, 'undoubtedly': 5178, '30': 66, 'seconds': 4266, 'softball': 4500, 'fancrazed': 1777, 'preso': 3784, '3d': 78, 'vector': 5265, 'panning': 3538, 'gasps': 2032, 'appreciation': 361, 'tomlinson': 5006, 'tx': 5141, 'observer': 3393, 'subscription': 4683, 'impediment': 2489, 'newsapps': 3320, 'official': 3408, 'jk': 2686, 'kiss': 2763, 'slap': 4434, 'xoom': 5538, 'shortcuts': 4363, 'newspaper': 3321, 'caramel': 811, 'macchiato': 2999, 'ouch': 3477, 'hiss': 2351, 'apparently': 343, 'two': 5140, 'pumps': 3861, 'lava': 2825, 'tmsxsw': 4998, 'showed': 4378, 'off': 3401, 'charge': 882, 'anywhere': 334, 'bar': 510, 'whole': 5419, 'table': 4803, 'wanted': 5351, 'across': 171, 'street': 4655, 'weeks': 5392, 'umm': 5158, 'obvious': 3397, 'cough': 1140, 'wouldn': 5511, 'spend': 4556, 'tempted': 4880, 'dexteria': 1372, 'plenty': 3691, 'scarfing': 4224, '65': 113, 'packing': 3515, 'showing': 4379, 'fragmentation': 1952, 'voicefeed': 5317, 'planning': 3673, 'previews': 3791, 'pocket': 3701, 'guide': 2207, 'cope': 1119, 'usability': 5229, 'joke': 2694, 'attractive': 426, 'impressive': 2500, 'permanent': 3612, 'finally': 1856, 'dwindled': 1538, 'hook': 2382, 'singing': 4406, 'dancing': 1257, 'high': 2330, 'fives': 1874, 'purchase': 3864, 'pr': 3757, 'stunt': 4678, 'business': 756, 'response': 4077, 'sets': 4313, 'draws': 1507, 'crowds': 1206, 'revenue': 4102, 'excellent': 1701, 'untapped': 5203, 'market': 3058, 'site': 4414, 'pour': 3746, 'accessibility': 156, 'sick': 4385, 'problem': 3810, 'living': 2915, 'stories': 4641, 'creating': 1186, 'change': 873, 'hacknews': 2228, 'reproducing': 4063, 'digitally': 1397, 'organically': 3462, 'consume': 1084, 'information': 2537, 'goggles': 2116, 'marissameyer': 3056, 'retiring': 4093, 'wine': 5444, 'library': 2872, 'moving': 3243, 'onto': 3434, 'daily': 1247, 'grape': 2164, 'yr': 5574, 'thankyouecon': 4905, 'reveals': 4099, 'average': 455, 'nyt': 3387, 'oscars': 3471, '16mins': 36, 'blew': 623, 'congrats': 1065, 'eats': 1564, 'bbq': 541, 'sxswbuffalo': 4769, 'lounge': 2963, 'complete': 1043, 'quibidswin': 3906, 'andoid': 300, 'choice': 923, 'awards': 462, 'law': 2827, 'averages': 456, 'naomi': 3282, 'campbell': 795, 'rage': 3925, 'rule': 4169, 'ooing': 3435, 'ahing': 240, 'deal': 1285, 'everybody': 1686, 'saving': 4210, 'gps': 2153, 'alternate': 277, 'routes': 4159, 'grabbed': 2157, 'seat': 4260, 'setting': 4314, 'bajillions': 491, 'exclusive': 1709, 'fools': 1923, 'impressed': 2497, 'slim': 4445, 'form': 1939, 'ness': 3306, 'tried': 5080, 'myself': 3274, 'delicious': 1317, 'often': 3412, 'including': 2519, 'drag': 1503, 'drop': 1519, 'management': 3033, 'talked': 4822, 'developers': 1365, 'meetup': 3107, 'androidsxsw': 304, 'transfer': 5061, 'fetishism': 1834, 'slowly': 4450, 'spotted': 4573, 'man': 3031, 'least': 2846, 'look': 2943, 'fonts': 1919, 'lord': 2951, 'vortex': 5321, 'smugness': 4475, 'unbearable': 5165, 'feed': 1814, 'geek': 2043, 'dokobots': 1463, 'geogames': 2066, 'dangerous': 1261, 'hopefully': 2391, 'fact': 1759, 'flew': 1887, 'emc': 1598, 'enter': 1635, 'sampler': 4193, 'following': 1915, 'qa': 3882, 'session': 4309, 'insights': 2563, 'webmasters': 5385, 'ipoo': 2637, '4chan': 93, 'internet': 2591, 'bathroom': 529, 'wall': 5342, 'sxswmoot': 4778, 'pdanet': 3588, 'likes': 2888, 'whrrl': 5423, 'marketplace': 3061, 'ol': 3419, 'brits': 718, 'gooddeed': 2128, 'original': 3467, '2nd': 62, 'unveiling': 5207, 'scarborough': 4221, 'building': 744, 'star': 4593, 'ftp': 1986, 'cloudapp': 972, 'typing': 5144, 'skype': 4433, 'exploring': 1737, 'xml': 5537, 'combines': 1011, 'individuals': 2527, 'single': 4407, 'public': 3855, 'common': 1023, 'tablets': 4806, 'finger': 1862, 'carry': 819, 'lame': 2792, 'expectation': 1721, 'engagement': 1621, 'visual': 5312, 'delving': 1326, 'sxfl': 4757, 'insanely': 2555, 'thin': 4932, 'light': 2879, 'hold': 2364, 'mosaicxm': 3229, 'among': 291, 'missing': 3174, 'dance': 1256, 'outbrain': 3481, 'decided': 1297, 'suggestion': 4699, 'welcome': 5397, 'inferior': 2531, 'released': 4031, 'well': 5399, 'wrong': 5522, 'smell': 4467, 'hereforwork': 2321, 'nottheipad2': 3367, 'glimpse': 2099, 'gadgets': 2015, 'resist': 4070, 'much': 3252, 'brainwashed': 688, 'thousands': 4953, 'floating': 1892, 'zero': 5589, 'tip': 4987, 'march': 3049, 'lp': 2978, 'letting': 2865, 'test': 4890, 'drive': 1512, 'fix': 1876, 'bloggable': 631, 'forgot': 1937, 'cleveland': 957, 'hopkins': 2394, 'airport': 249, 'saying': 4215, 'yelp': 5554, 'services': 4307, 'die': 1382, 'discuss': 1421, 'geeks': 2052, 'expecting': 1723, 'flood': 1894, 'debuting': 1292, 'twit': 5135, 'boxee': 678, 'keg': 2731, 'robots': 4143, 'ferris': 1826, 'checked': 899, 'ebay': 1565, 'hackathon': 2225, 'fond': 1917, 'futuremf': 2004, 'trajan': 5059, 'destroyed': 1355, 'title': 4990, 'tag': 4809, 'websites': 5387, 'graph': 2165, 'protocol': 3840, 'clean': 954, 'formula': 1944, 'presence': 3778, 'weve': 5404, 'heyo': 2324, 'unloading': 5192, 'dis': 1409, 'ridic': 4118, 'sorta': 4528, 'sux': 4735, 'uxdes': 5249, 'little': 2909, 'parents': 3549, 'anymore': 328, 'comment': 1021, 'child': 914, 'connectedbrands': 1071, 'cover': 1152, 'filming': 1849, 'playback': 3680, 'dense': 1338, 'una': 5162, 'vuelta': 5326, 'por': 3727, 'socialfuel': 4491, 'para': 3546, 'ver': 5273, 'la': 2784, 'gran': 2160, 'diferencia': 1388, 'revolution': 4106, 'clumsily': 974, 'translated': 5064, 'wishing': 5458, 'interrupt': 2593, 'regularly': 4019, 'scheduled': 4232, 'programming': 3821, 'creator': 1190, 'create': 1183, 'either': 1585, 'sadly': 4184, 'anybodywanttobuymeanipad2': 327, 'weren': 5402, 'cocky': 990, 'perhaps': 3610, 'separate': 4294, 'extra': 1744, 'articulate': 392, 'relevant': 4034, 'center': 850, 'resourceful': 4073, 'hashable': 2268, 'droid': 1517, 'disgusted': 1425, 'respect': 4074, 'guy': 2214, 'invited': 2615, 'fill': 1845, 'chair': 865, 'couldn': 1142, 'overblown': 3490, 'mom': 3203, 'boomers': 654, 'classiest': 951, 'fascist': 1788, 'america': 288, 'elegant': 1589, 'rji': 4137, 'mint': 3167, 'confines': 1061, 'coding': 995, 'luxury': 2988, 'worry': 5504, 'diff': 1389, 'versions': 5277, 'sxswmobileapps': 4777, '22': 52, 'tracks': 5051, 'industry': 2529, 'favorites': 1803, 'breakout': 700, 'artists': 396, 'copy': 1123, 'kindle': 2758, 'thx': 4969, 'keeping': 2729, 'enchanted': 1609, 'again': 223, 'markets': 3062, 'comers': 1015, 'ordinance': 3459, 'admission': 199, 'recovery': 3995, 'corrupted': 1135, 'crazy': 1179, 'hotels': 2403, 'aus': 435, 'bergstrom': 580, 'midday': 3142, 'mid': 3141, 'outlet': 3484, 'blocked': 627, 'immobile': 2484, 'serves': 4305, 'purpose': 3871, 'taunt': 4834, 'sorry': 4526, 'forever': 1934, 'ning': 3341, 'roadie': 4140, 'thrilled': 4957, 'offer': 3402, 'unofficial': 5196, 'insider': 2559, 'packed': 3514, 'strangeproblems': 4646, '2011': 48, 'novelty': 3368, 'fades': 1762, 'delegates': 1314, 'xipad': 5534, 'killer': 2753, 'photoes': 3628, 'sxswchi': 4770, 'latest': 2812, 'playsxsw': 3688, 'info': 2535, 'rankings': 3940, 'advice': 213, 'caring': 817, 'psych': 3850, 'dt': 1527, 'yeah': 5548, 'cute': 1238, 'girls': 2086, 'ends': 1617, 'shite': 4355, 'sponso': 4567, 'tons': 5012, 'w00t': 5329, 'yeaayyy': 5547, 'story': 4643, 'launching': 2822, 'stay': 4612, 'tuned': 5110, 'wise': 5456, 'fyi': 2008, 'breaking': 699, 'www': 5530, 'divasanddorks': 1440, 'invades': 2606, 'goodguide': 2129, 'scans': 4220, 'barcode': 511, 'rank': 3937, 'environmental': 1646, 'responsibility': 4079, 'pressure': 3787, 'smmnextgen': 4470, 'order': 3456, 'tempt': 4878, 'austintx': 439, 'lying': 2991, 'signal': 4392, 'strength': 4657, 'dedication': 1301, 'sleepy': 4438, 'nexus': 3326, 'useful': 5235, 'scale': 4218, 'tiny': 4985, 'colors': 1007, 'blue': 638, 'meaningful': 3094, 'optimum': 3451, 'shade': 4322, 'yourself': 5571, 'scavenger': 4226, 'hunts': 2433, 'hootsuite': 2388, 'tweetdeck': 5126, 'travel': 5069, 'ceo': 855, 'tells': 4873, 'journey': 2702, 'blinksale': 625, 'iconbuffet': 2448, 'packrat': 3516, 'born': 662, 'lightbulb': 2881, 'turned': 5116, 'cnnmoney': 983, 'computing': 1050, 'pass': 3565, 'wssxsw': 5525, 'zomg': 5596, 'ps': 3846, 'tvontheradio': 5121, 'tix': 4992, 'yall': 5543, 'studies': 4670, 'players': 3684, 'petting': 3621, 'paper': 3543, 'useless': 5237, 'beforetwitter': 562, 'such': 4689, 'envy': 1648, 'agree': 233, 'mealtime': 3091, 'details': 1358, 'giveaway': 2090, 'woot': 5487, 'score': 4244, 'handing': 2242, 'pi': 3632, 'whoa': 5418, 'important': 2495, 'rite': 4135, 'passage': 3566, 'woo': 5483, 'hoo': 2381, 'il': 2469, 'nc': 3289, 'buzzing': 769, 'geekdom': 2046, 'elevate': 1591, 'yeay': 5552, 'masha': 3067, 'efficient': 1578, 'beats': 550, 'leather': 2847, 'woohoo': 5484, 'standing': 4592, 'popupstore': 3726, 'spilled': 4560, 'beans': 546, 'sxflip': 4758, 'twitpic': 5136, 'zazzlesxsw': 5584, 'justmet': 2718, 'worked': 5493, '25': 55, 'et': 1665, 'funny': 2000, 'confirmed': 1062, 'applauds': 349, 'freeze': 1962, 'conversion': 1109, 'possibility': 3737, 'ideally': 2452, 'bring': 713, 'socially': 4492, 'lead': 2835, 'doodle': 1480, 'evil': 1693, 'ponies': 3711, 'arm': 381, 'meat': 3099, 'pointer': 3705, 'hilarious': 2336, 'smartphone': 4461, 'land': 2793, 'bus': 754, 'airline': 246, 'mentioned': 3119, 'delightful': 1321, 'drumroll': 1524, 'bt': 734, 'discovr': 1420, 'killing': 2755, 'pubcamp': 3854, 'kirkus': 2762, 'qrank': 3887, 'prizes': 3806, 'saysshewithoutanipad': 4217, 'smileyparty': 4468, 'sn': 4480, 'tunage': 5108, 'leading': 2836, 'getjarsxsw': 2071, 'unique': 5183, 'klick': 2765, 'models': 3201, 'straps': 4649, 'schwag': 4240, 'waste': 5362, 'blogger': 632, 'orange': 3455, 'wodpress': 5470, 'owns': 3509, 'blog': 630, 'grand': 2161, 'tis': 4989, 'covered': 1154, 'sauce': 4204, 'plan': 3666, 'lust': 2986, 'rubbing': 4168, 'escape': 1658, 'rocks': 4149, 'alot': 272, 'sxswnui': 4781, 'denotes': 1337, 'theme': 4916, '1986': 39, 'maggie': 3013, 'mae': 3009, 'radio': 3922, 'plug': 3694, 'sound': 4530, 'system': 4799, 'hanging': 2251, 'survival': 4730, 'kit': 2764, '64gb': 110, 'paypal': 3584, 'bored': 661, 'consulting': 1083, 'avoiding': 458, 'pitfalls': 3655, 'challenges': 869, 'notes': 3358, 'taccsxsw': 4807, 'disaster': 1414, 'died': 1383, 'middle': 3143, 'function': 1997, 'quadroid': 3890, 'qualcomm': 3892, 'decade': 1294, 'wintel': 5450, 'cloud': 971, '900': 130, '32': 73, 'gb': 2039, 'willpay': 5438, 'zaarly': 5578, 'map': 3041, 'usage': 5230, '59pm': 105, 'pst': 3849, 'trends': 5077, 'angry': 305, 'birds': 608, 'smackdown': 4453, 'banality': 498, '10am': 10, 'batt': 531, '54': 100, 'notevenstartedyet': 3360, 'goes': 2114, 'worthwhile': 5508, 'improvements': 2504, 'advertising': 212, 'inde': 2524, 'channels': 879, 'uncategorized': 5168, 'rewardswagon': 4111, 'bookbook': 651, 'wjchat': 5464, 'q7a': 3881, 'zagg': 5580, 'keyboard': 2736, 'hopes': 2392, 'neat': 3293, 'database': 1270, 'shall': 4325, 'mystery': 3276, 'prize': 3805, 'gift': 2078, 'discotalk': 1416, '15k': 33, 'pdf': 3589, 'investment': 2610, 'small': 4454, 'mags': 3019, 'chris': 928, 'formerly': 1943, 'obs': 3390, 'ap': 336, 'setup': 4317, 'restaurant': 4081, 'page': 3519, 'sign': 4391, 'hi': 2327, 'door': 1483, 'invite': 2614, 'goona': 2145, 'ass': 406, 'randomly': 3935, 'sandwich': 4197, 'gsd': 2196, 'edible': 1571, 'wrapper': 5518, 'welivehere': 5398, 'featured': 1809, 'watching': 5367, 'simultaneously': 4403, 'force': 1931, 'mmm': 3187, 'beluga': 575, 'coordinate': 1118, 'sxsw4japan': 4765, 'selfish': 4283, 'microsoft': 3140, 'served': 4302, 'engine': 1623, 'techies': 4856, 'save': 4205, 'harnessing': 2264, 'collective': 1004, 'stolen': 4633, 'user': 5238, 'months': 3219, 'highly': 2334, 'recommend': 3987, 'goodcustomerservice': 2127, 'discover': 1417, 'bro': 720, 'posed': 3731, 'homeless': 2376, 'asking': 404, 'absolute': 148, 'portable': 3729, 'pushed': 3873, 'paperless': 3544, 'biz': 613, 'card': 813, 'solution': 4507, 'tempting': 4881, 'related': 4025, 'half': 2234, 'rm': 4138, 'lovefresh': 2967, 'nat': 3283, 'geo': 2065, 'article': 390, 'cooler': 1115, 'current': 1229, 'arctic': 371, 'explorers': 1736, 'cwebb': 1243, 'grant': 2162, 'hill': 2337, 'yikes': 5562, 'reached': 3952, 'fanboyism': 1775, 'literally': 2907, 'asleep': 405, 'touch': 5036, 'trackpads': 5050, 'positives': 3736, 'natural': 3285, 'sit': 4412, 'relaxed': 4028, 'wohooo': 5472, 'tnx': 5000, 'red': 3999, 'cross': 1200, 'hands': 2245, 'exquisite': 1741, 'clipcon': 964, 'intro': 2602, 'reel': 4004, 'suasxsw': 4682, 'sxswaccel': 4766, 'entrepreneur': 1641, 'smallbiz': 4455, 'ceokidschat': 856, 'writer': 5520, 'flight': 1888, 'dawn': 1277, 'circle': 938, 'result': 4088, 'geekdilemma': 2045, 'ipad1': 2623, 'wipes': 5452, 'donates': 1472, 'mrs': 3249, 'adfonic': 197, 'lol': 2937, 'gadgetzilla': 2016, 'scared': 4223, 'netbook': 3307, 'dell': 1325, 'richard': 4114, 'mercy': 3123, 'bb': 540, 'torch': 5028, 'webmail': 5384, 'suppose': 4717, 'cheers': 905, 'eagerly': 1545, 'updates': 5215, 'film': 1847, 'filmaster': 1848, 'screenings': 4252, 'private': 3804, 'recommendations': 3989, 'doesn': 1459, 'sense': 4291, 'limit': 2891, 'specific': 4551, 'interview': 2594, 'takeaway': 4812, 'continuous': 1097, 'teach': 4842, 'tax': 4835, 'write': 5519, 'kinda': 2757, 'essential': 1661, 'underwire': 5177, 'wired': 5453, 'informal': 2536, 'unscientific': 5200, 'observation': 3391, 'contest': 1092, 'alive': 265, 'talks': 4824, 'jonathan': 2695, 'dahl': 1246, 'minimalistprogramming': 3165, 'marissagoogle': 3054, 'realized': 3963, 'havnt': 2281, 'thursday': 4967, 'sprinkle': 4576, 'approval': 364, 'woes': 5471, 'whowillrise': 5422, 'quite': 3913, 'grumbling': 2195, 'v2': 5252, 'meetups': 3108, 'virtualwallet': 5306, 'nfc': 3327, 'iphone5': 2633, 'bc': 542, 'standardization': 4591, 'confusion': 1064, 'dl': 1446, 'calyp': 789, 'avail': 451, 'analytics': 298, 'offsite': 3411, 'virtual': 5303, 'views': 5297, 'javascript': 2671, 'moreknowledge': 3226, 'mitharvard': 3180, 'view512': 5294, 'sters': 4624, 'umshini': 5160, 'wam': 5345, 'fishing': 1869, 'weird': 5396, 'said': 4186, 'liked': 2886, 'esp': 1659, 'footage': 1926, 'revolt': 4105, 'vegan': 5267, 'lazy': 2832, 'smurf': 4476, 'rear': 3968, 'facing': 1757, 'gives': 2093, 'otherwise': 3476, 'actually': 181, 'task': 4829, 'fxsw': 2007, 'courtesy': 1149, 'stranger': 4647, 'investor': 2611, 'utter': 5247, 'cheaper': 897, 'scheduling': 4235, 'flummoxed': 1901, 'shooting': 4359, 'videos': 5291, 'offers': 3405, 'gamelayer': 2023, 'hhrs': 2326, 'guest': 2205, 'he': 2288, 'lonelyplanet': 2939, 'godsend': 2111, 'aware': 463, 'lonely': 2938, 'planet': 3671, 'releases': 4032, 'aren': 376, 'cluttering': 976, 'handset': 2246, 'bank': 505, '250k': 56, 'bankinnovation': 508, 'failure': 1766, 'thingsthatdontgotogether': 4935, 'lisa': 2902, 'rinna': 4129, 'lose': 2954, 'rosso': 4155, 'paste': 3572, 'recipe': 3980, 'mothers': 3233, 'generated': 2059, 'leanstartup': 2840, 'supply': 4715, 'chain': 864, 'walmart': 5344, 'behance': 566, 'deleting': 1316, 'loading': 2920, 'draining': 1504, 'cancel': 800, 'recap': 3976, 'seemingly': 4273, 'relive': 4040, 'wonder': 5479, 'graphics': 2167, 'faster': 1793, 'motorola': 3235, 'evaporation': 1673, 'tools': 5020, 'approves': 366, 'irelay': 2640, 'project': 3824, 'manager': 3034, 'nowhammies': 3371, 'turning': 5117, 'listened': 2905, 'betterthingstodo': 593, 'freaking': 1959, 'question': 3901, 'trucks': 5089, 'jobsco': 2689, 'clever': 958, 'recognition': 3984, 'seriousness': 4299, 'cant': 802, 'spell': 4555, 'checking': 900, 'correct': 1133, 'grrr': 2193, 'square': 4580, 'credit': 1192, 'amazingly': 285, 'load': 2918, 'feelin': 1817, 'every': 1685, '6hours': 114, 'lowest': 2976, 'possible': 3738, 'brightness': 710, 'basics': 524, 'hallway': 2238, 'ux': 5248, 'ia': 2442, 'professionals': 3817, 'unite': 5184, 'rachael': 3919, 'harris': 2265, 'bars': 517, 'doesdroid': 1458, 'puts': 3878, 'famous': 1772, 'artworks': 398, 'billion': 603, 'pixels': 3660, 'allowing': 268, 'zoom': 5598, 'different': 1391, 'trip': 5083, 'museums': 3258, 'edtech': 1573, 'innovators': 2551, 'bringing': 714, 'griddler': 2176, 'lustre': 2987, 'pearl': 3592, '36': 76, 'study': 4672, 'mktg': 3186, 'flask': 1882, 'sitting': 4416, '9th': 138, 'st': 4584, 'aicn': 241, 'screening': 4251, 'prepared': 3775, 'iloveasurprise': 2473, 'asked': 403, 'remove': 4049, 'deadly': 1284, 'death': 1289, 'valley': 5257, 'cnngrill': 982, 'wsj': 5524, 'ask': 402, 'branded': 690, 'native': 3284, 'send': 4289, 'videogame': 5289, 'shat': 4337, 'tear': 4848, 'newapplestoreaustin': 3316, '80s': 121, '50': 99, 'target': 4828, 'awesometiming': 470, 'excuse': 1710, 'percentage': 3606, 'participants': 3555, 'walked': 5338, 'appolicious': 359, 'messages': 3125, 'phenomenal': 3622, 'venturebeat': 5270, 'appears': 348, 'vb': 5262, 'vicariously': 5285, 'damn': 1253, 'rocking': 4148, 'spasmatics': 4542, 'hp': 2414, 'popping': 3719, 'congratulation': 1066, 'spin': 4561, 'whatcha': 5408, 'television': 4870, 'expierence': 1731, 'spoken': 4566, 'danny': 1263, 'sullivan': 4703, 'larger': 2802, 'kill': 2751, 'wings': 5445, 'drivers': 1514, 'fuel': 1992, 'sem': 4287, 'googlemaps': 2142, 'topnews': 5025, 'matthew': 3079, 'davis': 1274, 'strip': 4661, 'quibids': 3905, 'custom': 1233, 'catch': 834, 'wearing': 5376, 'openbeta': 3439, 'vip': 5300, 'traded': 5054, 'piece': 3642, 'awesomeness': 469, 'arduino': 372, 'flaming': 1878, 'skulls': 4430, 'smartthings': 4463, 'luck': 2980, 'sharers': 4334, 'join': 2692, 'aos': 335, 'ginger': 2083, 'cards': 814, 'exchange': 1704, 'serious': 4297, 'style': 4680, 'conv': 1101, 'cntr': 986, 'fashion': 1789, 'nearly': 3292, 'anyones': 330, 'smarter': 4459, 'knowing': 2773, 'sched': 4230, 'suggest': 4698, 'cursor': 1232, 'btw': 735, 'speaking': 4547, 'surpassed': 4723, 'online': 3432, 'past': 3571, 'discusses': 1422, 'answer': 315, 'ratings': 3947, 'kek': 2732, 'vp': 5324, 'consumer': 1085, 'focus': 1906, 'demoed': 1330, 'augmented': 432, 'reality': 3961, 'webvisions': 5388, 'wil': 5432, 'quicker': 3908, 'responses': 4078, 'fh': 1837, 'enable': 1606, 'places': 3663, 'douche': 1489, 'cake': 779, 'crowley': 1208, 'dodgeball': 1455, 'chrome': 931, 'calls': 788, 'tub': 5104, 'steamy': 4619, 'mindshare': 3162, 'rim': 4126, 'foodspotting': 1922, 'mnbuzz': 3189, 'sxswgood': 4772, 'globalbestaward': 2101, 'hmmm': 2360, 'quotable': 3915, 'flip': 1890, 'somebody': 4512, 'consistently': 1080, 'type': 5143, 'goddamn': 2110, '8am': 125, '30pm': 72, 'usefulness': 5236, 'redbull': 4001, 'bpm': 683, 'dj': 1443, 'powering': 3751, 'dtas': 1528, 'republic': 4064, 'charity': 889, 'water': 5368, 'throwin': 4961, 'studentsforcleanwater': 4669, 'org': 3460, 'fusion': 2001, 'tables': 4804, 'election': 1587, 'visualization': 5313, 'greeted': 2175, 'lindsay': 2894, 'stillman': 4628, 'birth': 609, 'fuck': 1988, 'him': 2339, 'wwsxsw': 5529, 'walk': 5337, 'lady': 2789, 'bird': 607, 'lake': 2790, 'trusted': 5095, 'ironic': 2643, 'tee': 4864, 'usurped': 5245, 'hipster': 2344, 'chic': 912, 'item': 2654, 'macallan': 2995, 'successful': 4687, 'sessions': 4310, 'glass': 2096, 'malt': 3030, 'uses': 5240, 'voluntarily': 5319, 'greatest': 2173, 'collection': 1003, 'egomaniacs': 1583, 'dream': 1508, 'steve': 4625, '188': 38, 'parts': 3561, 'suicidal': 4701, 'chinese': 919, 'tastes': 4830, 'skills': 4427, 'eventseekr': 1680, 'smyle': 4479, 'chat': 893, 'shared': 4333, 'whiteboarding': 5416, 'mistakes': 3178, 'netflix': 3308, 'vintage': 5299, 'format': 1940, 'mostly': 3231, 'ipods': 2636, 'snarky': 4485, 'employees': 1602, 'ah': 235, 'saveustechies': 4209, 'surui': 4728, 'carbon': 812, 'pen': 3598, 'hls': 2357, 'dynamic': 1541, 'insertion': 2557, 'kid': 2746, 'atari': 411, '800': 120, 'able': 145, 'crowdbeacon': 1204, 'put': 3877, 'becoming': 556, 'congratulations': 1067, 'award': 461, 'sent': 4292, 'seesmic': 4278, 'convince': 1111, 'comedy': 1014, 'ustream': 5243, 'skyfire': 4431, 'browser': 728, 'safari': 4185, 'eating': 1563, 'coolhaus': 1117, 'airs': 251, 'crew': 1195, 'ripped': 4132, 'crunch': 1209, 'crippling': 1197, 'voice': 5316, 'regular': 4018, 'texting': 4899, 'pants': 3539, 'dock': 1450, 'expect': 1720, 'insidious': 2560, 'approaches': 363, 'subscriptions': 4684, 'disgraceful': 1424, 'libraries': 2871, 'bjdproductions': 615, 'security': 4268, 'guard': 2200, 'unimitated': 5182, 'fingerprint': 1863, 'scan': 4219, '1990style': 40, 'ordered': 3457, 'wasting': 5364, 'valuable': 5258, 'fellowship': 1824, 'discovered': 1418, 'conversation': 1107, 'icebreaker': 2447, 'acerbic': 165, 'cynical': 1244, 'crashed': 1171, 'dumped': 1534, 'twitterpower': 5139, 'imthatgood': 2509, 'lasts': 2807, 'awkward': 472, 'lovers': 2971, 'tiff': 4972, 'disappointingly': 1413, 'friendly': 1971, 'ridiculously': 4121, 'al': 255, 'franken': 1957, 'justin': 2717, 'timberlake': 4977, 'flaw': 1884, 'switch': 4751, 'ipaddesignheadaches': 2627, 'headed': 2291, 'integrated': 2575, 'dynamics': 1542, 'synergy': 4798, 'draw': 1505, 'artist': 394, 'trust': 5094, 'zappos': 5582, 'likability': 2883, 'virgin': 5301, 'focuses': 1907, 'object': 3388, 'survive': 4731, 'succeed': 4685, 'nike': 3338, 'sneakers': 4486, 'unexpected': 5180, 'geekout': 2051, 'traveller': 5072, 'rpg': 4163, 'stood': 4634, 'minutes': 3169, 'fuckyeah': 1991, 'sam': 4191, 'licked': 2873, 'mapquest': 3045, 'reacquainted': 3953, 'mq': 3247, 'embarrassed': 1597, 'localmind': 2925, 'incredibly': 2523, 'annoyed': 311, 'ui': 5155, 'ain': 244, 'fat': 1796, 'projects': 3827, 'obv': 3396, 'friend': 1970, 'jeff': 2679, 'helped': 2315, 'especially': 1660, '15am': 32, 'ya': 5541, 'psyched': 3851, 'cobra': 988, 'iradar': 2639, 'detection': 1360, 'ferriss': 1827, 'pie': 3641, 'mylunch': 3272, 'forbidden': 1930, 'spoiled': 4564, 'decision': 1299, 'id': 2449, 'perfect': 3607, 'cuz': 1241, 'hilton': 2338, 'salon': 4190, 'filling': 1846, 'quickly': 3909, 'surprises': 4726, 'skill': 4425, 'havent': 2279, 'mccannsxsw': 3088, 'disappointed': 1412, 'overlapping': 3496, 'jinx': 2685, 'ran': 3932, 'fest': 1829, 'fellow': 1823, 'festgoers': 1830, 'drink': 1510, 'alan': 257, 'turing': 5113, 'robot': 4142, 'consumerization': 1087, 'empowered': 1603, 'heavier': 2309, 'giddy': 2077, 'theindustryparty': 4912, 'non': 3348, 'swsurrogates': 4755, 'notpouting': 3365, 'body': 647, 'uber': 5146, 'health2dev': 2297, 'anybody': 326, 'stuck': 4668, 'downloading': 1496, 'startup': 4603, 'gonnagetanipad2': 2124, 'brought': 726, 'pillow': 3646, 'numbassonfloor': 3378, 'brain': 686, 'srsly': 4583, 'excludes': 1708, 'insists': 2564, 'disney': 1428, 'spazmatics': 4544, 'franchised': 1953, 'dgtltribe': 1376, 'openbeta6': 3440, 'squeeze': 4582, 'total': 5032, 'scene': 4227, 'spoke': 4565, 'cautiously': 841, 'optimistic': 3449, 'add': 187, 'alerts': 263, 'happen': 2255, 'country': 1145, 'united': 5185, 'states': 4607, 'sxswsa': 4783, 'dfp': 1374, 'insight': 2561, 'managing': 3035, 'campaigns': 794, 'measurement': 3097, 'hisxsw': 2353, 'liking': 2889, 'sixth': 4418, 'avenue': 454, 'whale': 5406, '14': 23, 'madness': 3008, 'autocorrect': 448, 'coworkers': 1159, 'visigoths': 5307, 'five': 1873, 'hipstamatic': 2343, 'convore': 1113, 'mashbash': 3069, 'statement': 4606, 'dammit': 1252, 'isack': 2646, 'sweeeet': 4743, 'special': 4549, 'tries': 5081, 'foot': 1925, 'newest': 3317, 'thoora': 4947, 'xwave': 5540, 'headsets': 2296, 'notice': 3362, 'prodmktg': 3812, 'recomds': 3986, 'recommends': 3991, 'evolvingworkplace': 1696, 'webdoc': 5382, 'chip': 920, 'brings': 715, 'browsing': 730, 'boost': 655, 'hungry': 2431, 'mekong': 3112, 'river': 4136, 'term': 4886, 'web3': 5380, 'saatchiny': 4180, 'someday': 4513, 'swsx': 4756, 'volume': 5318, 'overwhelming': 3503, 'self': 4282, 'police': 3707, 'curatedebate': 1226, 'leaning': 2839, 'conventions': 1105, 'buttons': 762, 'basis': 525, 'ex': 1697, 'stealing': 4616, 'yrs': 5575, 'mkt': 3185, 'suggestions': 4700, 'passing': 3569, 'hipstermuch': 2345, 'starts': 4602, 'germ': 2068, 'towel': 5045, 'projecting': 3826, 'profits': 3819, 'alone': 270, 'palette': 3528, 'truck': 5088, 'parked': 3552, 'profile': 3818, 'entry': 1642, 'digg': 1393, 'hireme': 2348, 'hire': 2347, 'qualified': 3893, 'talented': 4819, 'women': 5477, 'consciously': 1077, 'startups': 4605, 'achieve': 166, 'mentionr': 3121, 'wozniak': 5514, 'h4ckers': 2221, 'popped': 3718, 'dreams': 1509, 'clothes': 970, 'compatible': 1035, 'charm': 891, 'nextflix': 3325, 'hide': 2329, 'final': 1853, 'straw': 4651, 'lbs': 2834, 'commandeered': 1020, 'relinquish': 4039, 'sxsw11': 4763, 'fam': 1770, 'yo': 5563, 'hated': 2274, 'ubertwitter': 5149, 'searching': 4258, 'reviews': 4104, 'cmswire': 978, 'web30': 5381, 'js': 2707, 'winwin': 5451, 'tigerblood': 4973, 'dear': 1288, 'roll': 4152, 'dog': 1460, 'cart': 821, 'dogs': 1461, 'girl': 2084, 'sharp': 4336, 'strums': 4667, 'guitar': 2211, 'installing': 2569, 'paying': 3581, 'dividends': 1442, 'layer': 2831, 'breathtaking': 702, 'shitty': 4356, 'steals': 4617, 'met': 3130, 'ftw': 1987, 'beechwood': 558, 'several': 4318, 'reason': 3969, 'sxsw2011': 4764, 'followers': 1914, 'competitors': 1040, '4sq': 96, 'eurosxsw': 1671, 'tidbit': 4971, 'echofon': 1567, 'mute': 3267, 'functions': 1998, 'somehow': 4514, 'mozilla': 3244, 'crapkit': 1166, 'webkit': 5383, 'gecko': 2041, 'bandwaggoners': 501, 'woah': 5469, 'cited': 941, 'opposite': 3448, 'proprietary': 3835, 'csuitecsourcing': 1216, 'amused': 294, 'bahahahaha': 490, 'heatmap': 2304, 'leveraging': 2868, 'quiet': 3910, 'select': 4279, 'streams': 4654, 'incl': 2515, 'streaming': 4653, 'nailed': 3278, 'communication': 1027, 'boundaries': 674, 'offline': 3410, 'bluetooth': 640, 'convinced': 1112, 'held': 2311, 'trade': 5053, 'failed': 1764, 'willpower': 5439, 'supposed': 4718, 'downstairs': 1499, 'cult': 1218, 'iphones': 2634, 'coffee': 996, 'issue': 2649, 'solving': 4510, 'handsome': 2247, 'grabs': 2158, 'selection': 4281, 'sees': 4277, 'evolving': 1695, 'converge': 1106, 'yield': 5561, 'mindjet': 3159, 'mindmanager': 3160, 'prefers': 3768, 'hyped': 2440, 'meh': 3111, 'bang': 503, 'vegas': 5268, 'ces': 862, 'warmer': 5355, 'articles': 391, 'touchingstories': 5039, 'delay': 1312, 'catphysics': 836, 'drug': 1523, 'pusher': 3874, 'international': 2590, 'note': 3357, 'downside': 1498, 'mocked': 3197, 'announced': 308, 'maes': 3010, 'changer': 875, 'happening': 2257, 'interact': 2583, 'megastore': 3110, 'sabotaged': 4182, 'youtube': 5572, 'account': 164, 'entire': 1639, 'ecosystem': 1570, 'lifetime': 2878, 'abandoned': 142, 'stopped': 4636, 'normal': 3354, 'lap': 2798, 'taxi': 4836, 'magic': 3014, 'cabs': 777, 'suspense': 4733, 'dennis': 1336, 'owners': 3508, 'looked': 2945, 'lighters': 2882, 'concert': 1053, 'essentials': 1663, 'energy': 1618, 'sunglasses': 4710, 'rainjacket': 3928, 'mp3': 3246, 'player': 3683, 'earplugs': 1552, 'somewhere': 4518, 'ausxsw': 442, 'chatting': 895, 'banged': 504, 'explaining': 1732, 'realistic': 3960, 'bots': 669, 'experiment': 1727, 'gee': 2042, 'intrvw': 2605, 'govt': 2151, 'vending': 5269, 'machine': 3000, 'svcs': 4737, 'teaching': 4843, 'wew': 5405, 'playbook': 3681, 'kind': 2756, 'refine': 4007, 'protect': 3837, 'smut': 4477, 'presented': 3781, 'larry': 2804, 'elevation': 1592, 'roof': 4153, 'letter': 2864, 'wrap': 5517, 'hacker': 2226, 'debuts': 1293, 'steampunk': 4618, '37': 77, 'ft': 1985, 'reclaimed': 3983, 'copper': 1121, 'piping': 3648, 'mini': 3164, 'maglight': 3015, 'etch': 1667, 'sketch': 4422, 'engineer': 1624, 'misstatements': 3176, 'payingwithdata': 3582, 'mega': 3109, 'tether': 4894, 'chargin2diffphonesatonce': 887, 'dorkinout': 1484, 'gamechanger': 2022, 'wave': 5371, 'doubt': 1488, 'apparent': 342, 'removable': 4048, 'batteries': 532, 'alwayshavingtoplugin': 281, 'l8er': 2783, 'closer': 969, 'owner': 3507, 'stoked': 4631, 'finals': 1857, 'alas': 260, 'completely': 1044, 'overtaken': 3501, 'ahh': 238, 'wonderful': 5480, 'ordering': 3458, 'urs': 5225, 'experimenting': 1728, 'tinkering': 4984, 'nineties': 3340, 'viewed': 5295, 'suffering': 4697, 'farmers': 1784, 'mobilefarm': 3193, 'double': 1486, 'bloomberg': 636, 'kick': 2742, 'basically': 523, 'foing': 1910, 'potential': 3744, 'text': 4898, 'applications': 358, 'pair': 3524, 'general': 2057, 'bruises': 731, 'panelists': 3533, 'regarded': 4010, 'sustainability': 4734, 'corporate': 1130, 'reporting': 4060, 'transparency': 5065, 'gig': 2079, 'color': 1006, 'preference': 3764, 'sans': 4200, 'techrockstar': 4862, 'priority': 3802, 'smokes': 4471, 'replacing': 4055, 'cam': 790, 'default': 1304, 'pitch': 3653, 'omgz': 3426, 'golds': 2121, 'acknowledge': 167, 'increase': 2521, 'incorrect': 2520, 'shakespeare': 4324, 'pub': 3853, 'delete': 1315, 'button': 761, 'brisk': 716, 'austinites': 438, 'couchfan': 1139, 'lovesit': 2973, 'tramplings': 5060, 'letushopenot': 2866, 'poppop': 3721, 'killers': 2754, 'between': 594, 'letschangetheworld': 2863, 'dominance': 1468, 'compels': 1036, 'frickin': 1966, 'cabbies': 774, 'savvy': 4212, 'seem': 4271, 'range': 3936, '2012': 49, 'knickers': 2769, 'mobil': 3191, 'workers': 5494, 'telework': 4871, 'fluid': 1900, 'pls': 3693, 'exposing': 1739, 'horrendous': 2396, 'aron': 384, 'pilhofer': 3645, 'khoi': 2741, 'vinh': 5298, 'close': 966, 'fwd': 2006, 'coolest': 1116, '75': 117, 'barely': 512, 'anything': 331, 'shrink': 4382, '10k': 11, 'box': 677, 'doodles': 1481, 'qho': 3884, 'route': 4158, 'feature': 1808, 'pollak': 3710, 'trouble': 5087, 'duh': 1532, 'sxswbigbrands': 4768, 'visit': 5308, 'puppy': 3863, 'fawning': 1805, 'forgotten': 1938, 'uzu': 5250, 'kicking': 2745, 'neither': 3297, 'nor': 3353, 'approved': 365, 'stereo': 4623, 'shiner': 4347, 'crasher': 1172, 'cluster': 975, 'prepping': 3777, 'dehumanizing': 1311, 'concertgoers': 1054, 'stretches': 4659, 'ballrooms': 497, 'outlandish': 3483, 'partial': 3554, 'fine': 1861, 'deciding': 1298, 'wants': 5353, 'ze': 5586, 'frank': 1956, 'childhood': 915, 'enables': 1607, 'stunning': 4677, 'revelations': 4100, 'buffalo': 738, 'afternoon': 222, 'cab': 773, 'ride': 4116, 'hell': 2312, 'dinner': 1402, 'homepage': 2377, 'woman': 5476, 'housing': 2410, 'frontend': 1976, 'head': 2289, 'cor': 1124, 'treatment': 5073, 'navigating': 3286, 'worse': 5505, 'walks': 5341, 'adpeopleproblems': 207, 'usb': 5231, 'cord': 1125, 'dfw': 1375, 'admits': 201, 'awareness': 464, 'regretting': 4017, 'woops': 5486, 'locals': 2926, 'lining': 2898, 'addicted': 189, 'intense': 2581, '1406': 24, '08': 3, 'deals': 1287, 'packs': 3517, 'giveaways': 2091, 'infektd': 2530, 'wider': 5426, 'detect': 1359, 'zombies': 5595, 'nieuwe': 3334, 'regel': 4011, 'pun': 3862, 'intended': 2580, 'geniuses': 2063, 'nfl': 3328, 'lockout': 2931, 'shinmy': 4348, '40min': 86, 'augmentedreality': 433, 'fave': 1800, 'quit': 3912, 'fighting': 1842, '59': 103, 'tm': 4994, 'litle': 2908, 'given': 2092, 'faulty': 1798, 'dies': 1386, 'knows': 2776, 'suckas': 4691, 'conference': 1057, 'aristotle': 380, 'taught': 4833, 'nxt': 3385, 'condense': 1055, 'nine': 3339, 'technical': 4859, 'solutions': 4508, 'human': 2427, 'dat': 1268, 'received': 3977, 'anti': 317, 'privacy': 3803, 'petition': 3619, 'value': 5259, 'metaphor': 3131, 'behave': 567, 'malady': 3027, 'elbow': 1586, 'heat': 2302, 'suns': 4712, '21': 51, 'haul': 2275, 'innovative': 2550, 'biomimicry': 606, 'oldschool': 3421, 'novideo': 3369, 'veryslow': 5279, 'bet': 587, 'que': 3900, 'watched': 5366, 'season': 4259, 'guild': 2209, 'abt': 150, 'hijack': 2335, 'engines': 1625, 'tht': 4964, 'recognize': 3985, 'pictures': 3640, 'artificial': 393, 'intelligence': 2578, 'totally': 5034, 'props': 3836, 'agency': 227, 'bluezoom': 641, 'unsix': 5201, 'tweetup': 5133, 'happydance': 2261, 'busdev': 755, 'wr': 5516, 'discussion': 1423, 'iads': 2443, 'crazyco': 1180, 'geekfest': 2049, 'brian': 704, 'lam': 2791, 'demonstrate': 1332, 'dilemma': 1398, 'trenches': 5074, 'painful': 3523, 'sleek': 4436, 'repair': 4052, 'damage': 1250, 'microformats': 3139, 'hirer': 2349, 'expected': 1722, 'midem': 3144, 'climbing': 963, 'charts': 892, 'math': 3076, '45': 88, 'clocks': 965, 'awwww': 473, 'boyfriend': 681, 'aw': 459, 'cbatsxsw': 842, 'impression': 2498, 'lemon': 2857, 'backlight': 480, 'bleed': 622, 'thru': 4963, 'bottom': 670, 'enchanting': 1610, 'likeability': 2885, 'trustworthiness': 5096, 'airlines': 247, 'disabilities': 1410, 'insightful': 2562, 'icanhas': 2445, 'fire': 1866, 'though': 4949, 'thanksforthebrandedshades': 4904, '58': 102, '967': 134, 'visits': 5311, 'ranked': 3938, 'ways': 5373, 'grab': 2156, 'gone': 2122, 'toolongforme': 5019, 'amount': 292, 'beware': 595, 'innacurate': 2544, 'hyatt': 2438, 'sxswfail': 4771, 'paired': 3525, 'oil': 3416, 'companies': 1032, 'monopoly': 3216, 'terms': 4888, 'wary': 5359, 'nick': 3333, 'im': 2474, 'barton': 519, 'creek': 1193, 'mackbook': 3002, 'rows': 4162, 'challenged': 868, 'tdg': 4841, 'kara': 2723, 'swisher': 4750, 'stylish': 4681, 'eric': 1655, 'earned': 1550, 'sleep': 4437, 'anyway': 332, 'race': 3918, 'smartphones': 4462, 'documents': 1454, 'paul': 3576, 'adams': 184, 'chronicling': 933, 'witty': 5463, 'unlocking': 5194, 'mayor': 3086, 'badges': 487, 'owl': 3504, 'threw': 4956, 'attempt': 417, 'earbuds': 1547, 'symbol': 4792, 'proof': 3833, 'toy': 5047, 'guykawasaki': 2215, 'cashmore': 829, 'crushing': 1210, 'endorsement': 1616, 'grooving': 2182, 'rip': 4131, 'june': 2715, '2010': 47, 'survived': 4732, 'severe': 4319, 'evade': 1672, 'drowning': 1522, '95': 132, 'downloads': 1497, 'respecting': 4076, 'personalized': 3617, 'rendering': 4050, 'pack': 3513, 'solely': 4504, 'min': 3157, 'salesperson': 4189, 'darryl': 1266, 'impulse': 2506, '23': 53, 'ave': 453, '64mb': 112, 'finder': 1859, 'english': 1626, 'japanese': 2668, 'stole': 4632, 'fully': 1995, 'shamed': 4328, 'sigh': 4388, '25th': 57, 'ken': 2733, 'calhoun': 781, 'sun': 4707, 'premature': 3769, 'ie': 2460, 'ubuntu': 5152, 'desktop': 1350, 'outdid': 3482, 'broken': 724, 'ketchsx': 2735, 'resume': 4091, 'tethering': 4895, 'blows': 637, 'forgo': 1936, 'liveblog': 2911, 'implementing': 2493, 'brightens': 709, 'guessing': 2204, 'josh': 2698, 'williams': 5436, 'farmville': 1785, 'wakeup': 5335, 'games': 2024, 'totalitarian': 5033, 'worldwide': 5501, 'decide': 1296, 'rediculous': 4003, 'overflow': 3492, 'sxswsmall': 4785, 'cannot': 801, 'silly': 4399, 'ridculous': 4115, 'lie': 2874, 'stars': 4598, 'moody': 3221, 'directors': 1407, 'attracting': 425, 'whimsical': 5414, 'spirit': 4563, 'googledoodles': 2139, 'intentionally': 2582, 'coincide': 998, 'crafty': 1164, 'snagged': 4481, 'supposedly': 4719, 'campus': 796, 'verizon': 5274, 'bandwidth': 502, 'tweeted': 5127, 'dawdled': 1275, 'pull': 3858, 'name': 3280, 'cash': 827, 'suckling': 4693, 'pig': 3643, 'dandy': 1258, 'shirt': 4353, 'compan': 1031, 'pinoy': 3647, 'hack': 2224, 'approach': 362, 'skepticism': 4421, 'amigos': 290, 'broadcastr': 722, 'bestappever': 585, 'farm': 1783, 'emulates': 1605, 'mouse': 3238, 'click': 959, 'input': 2552, 'futureoftouch': 2005, 'techie': 4855, 'moderator': 3202, 'europe': 1670, '3000': 68, 'roaming': 4141, 'charges': 886, 'monitor': 3215, 'illegal': 2471, 'deforestation': 1309, 'tech4good': 4851, 'replicate': 4057, 'press': 3785, 'miller': 3154, 'shout': 4372, 'khan': 2740, 'academy': 152, 'education': 1574, 'fmsignal': 1905, 'amex': 289, 'partnership': 3560, 'till': 4975, 'juts': 2720, 'war': 5354, 'heats': 2305, 'society': 4497, 'bynd': 771, 'arrived': 386, '30am': 70, 'degrees': 1310, 'wandered': 5346, 'mad': 3005, 'crave': 1176, 'waterproof': 5369, 'cigarettes': 936, 'adding': 193, 'handy': 2249, 'starry': 4597, 'thinking': 4937, 'executed': 1711, 'sporting': 4570, 'install': 2567, 'definitely': 1308, 'gadgetenvy': 2014, 'brains': 687, 'contentrules': 1091, 'fastsociety': 1795, 'texasevery': 4897, 'instagram': 2566, 'mister': 3179, 'evo': 1694, 'research': 4068, 'interviewed': 2595, 'cat': 833, 'comms': 1024, 'remedied': 4044, 'settling': 4316, 'battledecks': 536, 'tmr': 4997, 'fastcompanygrill': 1791, 'fees': 1821, 'booyah': 658, 'gitchococktailon': 2088, 'formation': 1941, 'rebeltv': 3974, 'unreal': 5199, 'clicked': 960, 'seats': 4262, 'nerdheaven': 3301, 'areas': 375, 'filter': 1850, 'tractor': 5052, 'trailer': 5057, 'inventory': 2608, 'justsaying': 2719, 'heads': 2295, 'domo': 1469, 'tonchidot': 5009, 'boom': 653, 'hip': 2342, 'preparation': 3773, 'hangover3': 2253, 'socks': 4498, 'git': 2087, 'yer': 5557, 'heart': 2301, 'panned': 3537, 'trumping': 5092, 'rightfully': 4125, 'lug': 2983, 'southpaw': 4537, 'lineup': 2897, 'frozen': 1980, 'tmobile': 4996, 'teathering': 4849, 'g2': 2010, 'inspiring': 2565, 'netflixiphone': 3309, 'goog': 2132, 'occasional': 3399, 'row': 4161, 'writing': 5521, 'favorite': 1801, 'backpack': 481, 'mommy': 3208, 'wireless': 5454, 'api': 339, 'king': 2759, 'accesssxsw': 160, 'publishers': 3856, 'enhancements': 1627, 'th': 4900, 'david': 1273, 'foster': 1946, 'wallace': 5343, 'footnotes': 1927, 'irrelevant': 2644, 'fiendishly': 1840, 'crisis': 1198, 'silver': 4400, 'logo': 2935, 'notionink': 3364, 'adam': 183, 'brands': 691, 'admit': 200, 'aapl': 140, 'horrible': 2397, 'wasted': 5363, 'festivalgenius': 1833, 'notsomuch': 3366, 'revenge': 4101, 'ridicule': 4119, 'unlisted': 5190, 'suddenly': 4695, 'thick': 4930, 'rimmed': 4127, 'glasses': 2097, 'skynet': 4432, 'announce': 307, 'withme': 5461, 'quake': 3891, 'nhk': 3329, 'black': 616, 'precedent': 3761, 'creatures': 1191, 'er': 1653, 'priorities': 3801, 'bnet': 644, 'boxes': 679, 'techenvy': 4853, 'deadline': 1283, 'mistake': 3177, 'jared': 2669, 'implementation': 2492, 'pac': 3511, 'logic': 2932, 'recreated': 3996, 'lax': 2829, 'wife': 5429, 'freespeech': 1961, 'servers': 4304, 'synced': 4794, 'joy': 2703, 'easeljs': 1558, 'canvas': 803, 'brah': 685, 'end': 1612, 'printed': 3799, 'signed': 4394, 'weinschenk': 5395, 'battle': 535, 'picking': 3636, 'hollrback': 2371, 'rocked': 4146, 'podcast': 3702, 'passes': 3568, 'economy': 1569, 'crushit': 1211, 'tye': 5142, 'clark': 948, 'fabulous': 1752, 'objective': 3389, 'critiques': 1199, 'mon': 3209, 'chng': 922, 'hannukah': 2254, 'miracle': 3170, 'uncharged': 5169, '55': 101, 'detail': 1356, 'bomb': 648, 'adopters': 205, 'ado': 203, 'rebranded': 3975, 'inner': 2545, 'appleaddiction': 352, 'tracker': 5049, 'overlay': 3497, 'craziness': 1178, 'mantra': 3039, 'pride': 3795, 'guilty': 2210, '7th': 118, 'sin': 4404, 'superbia': 4714, 'turkey': 5114, 'provided': 3843, 'playhopskoch': 3685, 'publishing': 3857, 'hang': 2250, 'abuzz': 151, 'googlecircles': 2136, 'debut': 1291, 'eatdrinktweet': 1562, '2day': 59, 'bunch': 751, 'dontbehatin': 1478, 'fandango': 1778, 'karaoke': 2724, 'tkts': 4993, 'canada': 798, 'leisure': 2855, 'restful': 4083, 'price': 3793, 'buildings': 745, 'mapped': 3042, '4square': 98, 'groupon': 2188, 'igottagetit': 2467, 'baby': 477, 'striking': 4660, 'iron': 2642, 'lovin': 2974, 'handle': 2243, 'sucked': 4692, 'fly': 1902, 'gr2l2': 2154, 'poole': 3714, 'refrigerator': 4009, 'magnet': 3016, 'flop': 1896, 'acc': 153, 'demonstration': 1334, 'uosxsw': 5209, 'marissamayer': 3055, 'gettinng': 2074, 'venue': 5271, 'sq': 4579, 'boo': 649, 'rallying': 3931, 'massive': 3072, 'house': 2409, 'relation': 4026, 'alamo': 256, 'drafthouse': 1502, 'cinema': 937, 'photobooth': 3627, 'corporation': 1131, 'expensive': 1724, 'consultation': 1082, 'tore': 5029, 'celebrating': 846, 'spark': 4541, 'selected': 4280, 'finalist': 1854, 'googlegays': 2140, 'sxswsex': 4784, 'gay': 2037, 'dating': 1272, 'grindr': 2180, 'magazines': 3012, 'factor': 1760, 'truly': 5091, 'emotional': 1600, 'harlow': 2263, 'pragmatic': 3759, 'straight': 4644, 'pitchforks': 3654, 'widfy': 5427, 'rate': 3943, 'although': 279, 'torturous': 5031, 'endorsed': 1615, 'html': 2420, 'mean': 3092, 'sliced': 4441, 'bread': 695, 'revolutionary': 4107, 'sis': 4410, 'julie': 2713, 'rockaroke': 4145, 'struggle': 4666, 'hole': 2366, 'religion': 4038, 'atrix': 414, 'california': 782, 'followings': 1916, 'chevytweethouse': 911, 'delivery': 1324, 'meaning': 3093, 'hearing': 2300, 'career': 816, 'eat': 1561, 'itself': 2656, 'rhizome': 4113, 'sxswk': 4775, 'dieing': 1385, 'hunger': 2430, 'postpc': 3742, 'competitor': 1039, 'creeper': 1194, 'suck': 4690, '97': 135, 'shame': 4327, 'realllllllly': 3965, 'overload': 3498, 'delivered': 1323, 'curiosity': 1227, 'serendipity': 4296, 'ittttt': 2657, 'asddieu': 401, 'pumped': 3860, 'networking': 3311, 'shelves': 4343, 'feeding': 1815, 'frenzy': 1963, 'nokiaconnects': 3347, 'elonsxsw': 1593, 'ubiquity': 5151, 'apis': 340, 'visualizing': 5314, 'government': 2150, 'login': 2934, 'authorization': 445, 'error': 1656, 'employee': 1601, 'psyches': 3852, 'moments': 3207, 'lucky': 2981, 'latitude': 2816, 'concentrate': 1051, 'teamandroidsxsw': 4846, 'cause': 838, 'mr': 3248, 'heavenly': 2307, 'aka': 253, 'michael': 3137, 'cera': 857, 'bat': 528, 'cameras': 793, 'rigeur': 4123, 'timely': 4981, 'continues': 1096, 'tops': 5026, 'mwrc11': 3269, 'introduces': 2604, 'fair': 1767, 'innovation': 2549, 'dig': 1392, 'sad': 4183, 'chill': 916, 'connects': 1075, 'advanced': 209, 'adopter': 204, 'gas': 2031, 'officially': 3409, 'grill': 2178, 'yup': 5577, 'yawn': 5544, 'mbp': 3087, 'transparently': 5066, 'thisisdare': 4944, 'hoot': 2386, 'saber': 4181, 'barroom': 514, 'brawls': 693, 'fists': 1870, 'fab': 1750, 'workin': 5495, 'scored': 4245, 'familiarize': 1771, 'casually': 832, 'forecast': 1932, 'dow': 1492, 'mood': 3220, 'analysis': 297, 'smvis': 4478, 'imrich': 2508, 'marcelosomers': 3048, 'keys': 2738, 'worn': 5502, 'disagree': 1411, 'peter': 3618, 'minor': 3166, 'improvement': 2503, 'unless': 5189, 'burn': 752, 'severely': 4320, 'autistic': 446, 'mastered': 3073, 'puzzles': 3880, 'rumours': 4174, 'competition': 1038, 'winners': 5447, 'initial': 2541, 'impressions': 2499, 'nvidia': 3384, 'gaming': 2027, 'nope': 3352, 'seattle': 4263, 'restored': 4086, 'unleash': 5188, 'mixed': 3182, 'magnetic': 3017, 'overall': 3489, 'improvemnt': 2505, 'restore': 4085, 'dali': 1249, 'pak': 3526, 'vacation': 5255, 'exploiting': 1734, 'return': 4095, 'policy': 3708, 'imacs': 2476, 'ahhh': 239, 'darn': 1265, 'according': 162, 'assisted': 407, 'toast': 5002, 'australian': 441, 'digibiz': 1395, 'sides': 4387, 'killcommunity': 2752, 'blame': 620, 'fixing': 1877, 'preferrably': 3766, 'hashtags': 2270, 'deficit': 1305, 'banking': 506, 'tron': 5085, 'swish': 4749, 'scenes': 4228, 'syncs': 4797, 'blueray': 639, 'eminent': 1599, 'thoughtful': 4951, 'handwriting': 2248, 'conquered': 1076, 'hairy': 2232, 'butts': 763, 'fessing': 1828, 'admitting': 202, 'cohen': 997, 'comcom': 1012, 'wanting': 5352, 'unconfirmed': 5170, 'crossing': 1202, 'ours': 3479, 'covering': 1155, 'summit': 4706, 'delight': 1320, 'floor': 1895, 'fondling': 1918, 'disturbing': 1438, 'ground': 2183, 'blacked': 619, 'granted': 2163, 'realizing': 3964, 'applause': 350, 'designers': 1345, 'googleplaces': 2143, 'mike': 3150, 'tyson': 5145, 'knockout': 2771, 'ireport': 2641, 'berklee': 581, 'topspin': 5027, 'class': 949, 'apples': 355, 'woke': 5473, 'sandwiched': 4198, 'spring': 4575, 'break': 696, 'depressed': 1341, 'macbooks': 2998, 'grouped': 2186, 'aber': 143, 'leider': 2854, 'nur': 3380, 'livingthedream': 2916, 'ncaa': 3290, 'mmod': 3188, 'flawless': 1885, 'livesteam': 2913, 'bracket': 684, 'plancast': 3667, 'exported': 1738, 'san': 4196, 'diego': 1384, 'pacific': 3512, 'shift': 4345, 'central': 852, 'tme': 4995, 'wack': 5331, 'mix': 3181, 'barrydiller': 516, 'james': 2664, 'franco': 1955, 'feels': 1820, 'expert': 1729, 'demand': 1327, 'insatiable': 2556, 'surrounded': 4727, 'aquent': 368, '1415': 26, 'bereft': 579, 'wanderer': 5347, 'limp': 2893, 'lifeless': 2876, 'poetry': 3703, 'vufinders': 5327, '3x': 83, 'speedup': 4554, 'tagging': 4810, 'clear': 955, 'points': 3706, 'throughout': 4959, 'overview': 3502, 'plunge': 3697, 'panhandling': 3535, 'tshirt': 5101, 'strangers': 4648, 'crash': 1170, '10mins': 12, 'fuckit': 1990, 'illmakeitwork': 2472, 'rockstache': 4150, 'techsmith': 4863, 'istache': 2651, 'address': 196, 'yeasayer': 5551, 'failing': 1765, 'paid': 3522, 'idontbelieve': 2459, 'helpful': 2316, 'three': 4955, 'artistic': 395, 'protecting': 3838, 'someones': 4516, 'thewildernessdowntown': 4928, 'thomas': 4946, 'gayno': 2038, 'choreography': 927, 'blurs': 642, 'avoid': 457, 'collectively': 1005, 'therapy': 4923, 'assistivetech': 408, 'augcomm': 431, 'hcsm': 2286, 'mhealth': 3134, 'covet': 1156, 'pp': 3755, '2yrs': 65, 'locating': 2927, 'earlier': 1548, 'tt': 5103, 'ff': 1836, 'bashing': 521, 'consistent': 1079, 'wowwwwww': 5513, 'periscope': 3611, 'danfung': 1259, 'demoing': 1331, 'immersive': 2483, 'rig': 4122, 'debating': 1290, 'role': 4151, 'enjoyed': 1629, 'existent': 1717, 'owllove': 3505, 'passport': 3570, 'designed': 1344, 'mock': 3196, 'remembered': 4046, 'horror': 2398, 'movies': 3242, 'yellow': 5553, 'pages': 3521, 'practice': 3758, 'abacus': 141, 'unloaded': 5191, 'refresh': 4008, 'rails': 3926, 'deliver': 1322, 'confession': 1059, 'dom': 1466, 'organizing': 3466, 'denies': 1335, 'reily': 4023, 'pissedimnotgoingtosxsw': 3650, 'wknd': 5468, 'phew': 3623, 'beginning': 564, 'panic': 3536, 'innovating': 2548, 'talib': 4820, 'kweli': 2781, 'gogo': 2117, 'evening': 1675, 'karateka': 2725, 'castle': 831, 'wolfenstein': 5474, 'choplifter': 926, 'classics': 950, 'oldsko0l': 3422, 'dan': 1255, 'neumann': 3313, 'organic': 3461, 'broadfeed': 723, 'ones': 3431, 'mypov': 3273, 'chevy': 908, 'cruze': 1212, 'losers': 2955, 'investors': 2612, 'propping': 3834, 'frothy': 1979, 'enterprise': 1637, 'strategy': 4650, 'teleporting': 4869, 'capabilities': 804, 'nokia': 3346, 'pushsnowboarding': 3876, 'shill': 4346, 'underestimate': 5172, 'appeal': 345, 'mayers': 3085, '12': 18, 'desperately': 1353, 'drooling': 1518, 'sillier': 4398, 'record': 3992, 'shoulda': 4369, 'wanna': 5348, 'producers': 3814, 'whether': 5411, 'nab': 3277, 'played': 3682, 'fruit': 1981, 'tnw': 4999, 'plaid': 3664, 'boys': 682, 'attracted': 424, 'define': 1306, 'thereby': 4925, 'defining': 1307, 'values': 5260, 'consumerist': 1086, 'tournament': 5043, 'pitted': 3656, 'against': 224, 'round': 4157, 'swing': 4748, 'actsofsharing': 179, 'anticipate': 318, 'toting': 5035, 'inventing': 2607, 'dislike': 1426, 'innovate': 2547, 'fathom': 1797, 'impossible': 2496, 'succumb': 4688, 'upgrading': 5218, 'highlights': 2333, 'thus': 4968, 'istock': 2652, 'singularity': 4408, 'oy': 3510, 'yobongo': 5564, 'das': 1267, 'verpixelungsrecht': 5275, 'pixelated': 3659, 'theft': 4910, 'hangover': 2252, 'breakfast': 698, 'yummy': 5576, 'tunes': 5112, 'griffin': 2177, 'cordless': 1126, 'grrrr': 2194, 'muting': 3268, 'omitting': 3427, 'effective': 1577, 'h264': 2219, 'browserwars': 729, 'petricone': 3620, 'quantter': 3896, 'participating': 3556, 'launchrock': 2823, 'comp': 1030, 'ing': 2539, 'rating': 3946, 'recommendation': 3988, 'ip': 2620, 'hhaha': 2325, 'intimidated': 2597, 'unveils': 5208, 'greater': 2171, 'waaaaaa': 5330, 'sony': 4522, 'xperia': 5539, 'tuesday': 5106, 'heattracker': 2306, 'temperatures': 4876, '20s': 50, 'wkend': 5467, 'mass': 3070, 'influx': 2534, 'limited': 2892, 'combine': 1010, 'program': 3820, 'bavcid': 538, 'flavor': 1883, 'abroad': 147, '4g': 94, 'connectivity': 1074, 'joe': 2690, 'berry': 583, 'connectedcar': 1072, 'g03mzb': 2009, 'curious': 1228, 'ref': 4005, 'favour': 1804, '150m': 30, 'noes': 3345, 'rejection': 4024, 'pleased': 3690, 'clients': 962, 'anxious': 324, 'wonders': 5482, 'kingston': 2760, 'cheer': 904, 'count': 1143, 'reasonable': 3970, 'auth': 443, 'computers': 1049, 'fantastico': 1781, 'toooo': 5021, 'road': 4139, 'dawg': 1276, 'observations': 3392, 'vast': 5261, 'majority': 3021, 'appletakingoverworld': 356, 'ogilvy': 3413, 'autocorrects': 449, 'idiocy': 2455, 'ogilvynotes': 3414, 'peaked': 3591, 'surface': 4722, 'complex': 1045, 'intricate': 2600, 'underneath': 5173, 'agenda': 228, 'reminding': 4047, 'facts': 1761, 'belong': 574, 'strive': 4662, 'complement': 1042, 'artwork': 397, 'showcases': 4377, 'equity': 1652, 'attached': 416, 'honor': 2379, 'landlords': 2794, 'leasing': 2845, 'agents': 229, 'utilize': 5246, 'shops': 4361, 'cashmere': 828, 'parachute': 3547, 'urthots': 5226, 'guru': 2213, 'express': 1740, 'scepticism': 4229, 'surplus': 4724, 'loyalty': 2977, 'leash': 2844, 'payments': 3583, 'invites': 2616, 'yowza': 5573, 'myegc': 3271, 'intel': 2577, 'thegogame': 4911, 'revealed': 4098, 'teeth': 4867, 'hit': 2354, 'hawt': 2283, 'howmto': 2413, 'usdes': 5232, 'arriving': 388, 'cnnmoneysxsw': 984, 'macbookpro': 2997, 'pandora': 3530, 'stumbledupon': 4675, 'holytrafficjams': 2374, 'spread': 4574, 'signals': 4393, 'cedar': 844, 'courtyard': 1151, 'sxswbarcrawl': 4767, 'gun': 2212, 'nutshell': 3382, 'pseudoretweet': 3847, 'democracy': 1329, 'mobs': 3195, 'hive': 2356, 'affirmative': 217, 'nptech': 3373, 'multiple': 3254, 'monetization': 3212, 'ads': 208, 'cheapen': 896, 'stops': 4637, 'argues': 378, 'exceptionally': 1703, 'frm': 1973, 'comments': 1022, 'h2o': 2220, '106': 9, '8th': 128, 'csr': 1214, 'janecek': 2666, 'drives': 1515, 'bright': 708, 'develop': 1362, 'guardian': 2201, 'sd': 4253, 'storage': 4638, 'iusxsw': 2660, 'cried': 1196, 'frid': 1968, 'mill': 3153, 'slightly': 4444, 'thinner': 4940, 'rare': 3942, 'earths': 1557, 'smudgy': 4474, 'fundraising': 1999, 'kiosk': 2761, 'waze': 5374, 'duking': 1533, 'mapping': 3044, 'standard': 4590, 'maudies': 3080, 'tacos': 4808, 'ajs2011': 252, 'diabetes': 1377, 'plate': 3677, 'absolutely': 149, 'schtuff': 4239, 'iqlab': 2638, 'agencies': 226, 'directions': 1405, 'lab': 2785, 'answered': 316, 'docs': 1452, 'looseorganizations': 2950, '30p': 71, 'saturday': 4203, 'andro': 302, 'quotables': 3916, 'curated': 1225, 'hottest': 2406, 'quotes': 3917, 'donate': 1471, 'victims': 5286, 'preferences': 3765, 'seenocreepy': 4276, '3rd': 82, 'go2': 2108, 'antonio': 321, 'kudos': 2780, 'quarter': 3898, 'tbwasxsw': 4838, 'sat': 4202, 'convenient': 1102, 'speaks': 4548, 'demonstrates': 1333, 'pause': 3578, 'tveverywhere': 5120, 'tweethouse': 5128, 'rana': 3933, 'dotco': 1485, 'backupify': 483, 'announces': 309, 'cloudsight': 973, 'searchable': 4256, 'archive': 370, 'studying': 4673, 'flocking': 1893, 'swarming': 4739, 'behavior': 569, 'collab': 1002, 'due': 1531, 'showcase': 4375, 'rerouted': 4066, 'images': 2478, 'jcpenney': 2673, 'macys': 3004, 'trashy': 5067, 'restraunts': 4087, 'implode': 2494, 'activity': 177, 'lightbox': 2880, 'finalists': 1855, 'mk': 3184, 'claims': 946, 'ratio': 3948, 'raffled': 3923, 'inbox': 2512, 'peer': 3597, 'ecodriving': 1568, 'habits': 2223, 'cunning': 1220, 'lat': 2808, 'deliciously': 1318, 'cartel': 822, 'military': 3152, 'scientific': 4242, 'dictatorship': 1379, 'takeover': 4814, 'rant': 3941, 'deviantart': 1368, 'buys': 767, 'tests': 4893, 'muro': 3255, 'drawing': 1506, 'htt': 2422, 'wasn': 5361, 'hollywood': 2372, 'silicon': 4397, 'meets': 3106, 'nyc': 3386, 'sunny': 4711, 'pool': 3713, 'cowboy': 1158, 'boots': 657, 'vibe': 5284, 'epicurious': 1651, 'moma': 3204, 'guards': 2202, 'reports': 4061, 'unveil': 5205, 'fed': 1813, 'angrybirds': 306, 'julian': 2712, 'screamed': 4248, 'zone': 5597, 'pigfucker': 3644, 'snakeheead': 4482, 'knife': 2770, 'fight': 1841, 'psfk': 3848, 'gabacustweets': 2012, 'brk': 719, 'geeking': 2050, '4android': 92, 'integration': 2576, 'mappers': 3043, 'gallery': 2020, 'daniel': 1262, 'johnston': 2691, 'gatekeeper': 2033, 'ht': 2418, 'pixel': 3658, 'aim': 243, 'promote': 3830, 'communal': 1025, 'restaurants': 4082, 'recos': 3994, 'um': 5156, 'skiers': 4424, 'overlaid': 3495, 'mountain': 3236, 'empty': 1604, 'positioning': 3733, 'savebrands': 4206, 'latina': 2813, 'porn': 3728, 'latism': 2815, 'sxswlatam': 4776, 'latinasintech': 2814, 'tested': 4891, '41': 87, 'shades': 4323, 'difference': 1390, 'nuances': 3376, 'matter': 3078, 'rww': 4179, 'f6bcet': 1749, 'goody': 2131, 'incapable': 2513, 'disruptive': 1433, 'acquired': 170, '89': 124, 'vmware': 5315, 'talent': 4818, 'signing': 4395, 'jaloux': 2663, 'school': 4237, 'fr': 1950, 'recs': 3997, 'sloanxsw': 4447, 'skinny': 4428, 'flannel': 1879, 'beard': 548, 'imanoutcast': 2481, 'hah': 2230, '2moro': 61, 'organize': 3464, 'ducks': 1529, 'client': 961, 'foodies': 1921, 'arw': 399, 'dine': 1401, 'oversized': 3500, 'earphones': 1551, 'pluged': 3695, 'loose': 2949, 'laws': 2828, 'hm': 2358, 'pot': 3743, 'huzzah': 2437, 'umassjour': 5157, 'nerdsunite': 3304, 'fit': 1871, '400': 85, 'shuffling': 4383, 'eyes': 1748, 'effing': 1579, 'hubby': 2425, 'number': 3379, 'referrals': 4006, '12th': 20, 'zaarlyiscoming': 5579, 'stickers': 4626, 'coupons': 1147, 'dodo': 1456, 'memolane': 3115, '12b': 19, 'jr': 2706, 'unstable': 5202, 'nten': 3374, '11ntc': 16, 'imagine': 2479, 'raised': 3929, 'socialviewing': 4496, 'gotto': 2149, 'stats': 4610, 'shallow': 4326, 'austincrowd': 437, 'aiding': 242, 'adoption': 206, 'size': 4419, 'googled': 2137, 'ended': 1614, 'direction': 1404, 'slips': 4446, 'jammy': 2665, 'bugger': 740, 'fastcompanygrille': 1792, 'makery': 3023, 'zaggle': 5581, 'zms': 5594, 'finished': 1865, '101': 8, 'sightings': 4390, 'piss': 3649, 'pissing': 3651, 'kiiiiiilling': 2750, 'survey': 4729, 'starbucks': 4595, 'gratification': 2169, 'insane': 2554, 'tweetignite': 5130, 'dark': 1264, 'cm48': 977, 'millions': 3156, 'incenticize': 2514, 'teams': 4847, 'workspace': 5498, 'virtualoffice': 5305, 'tool': 5017, 'measuring': 3098, 'displaying': 1431, 'cry': 1213, 'slp': 4452, 'videogames': 5290, 'cartoon': 823, 'stumbling': 4676, 'contact': 1089, 'application': 357, 'fricking': 1967, 'damon': 1254, 'science': 4241, 'readership': 3956, 'opportunity': 3447, 'ignore': 2466, 'donline': 1476, 'dk': 1445, 'nerdbird': 3299, 'wal': 5336, 'mart': 3063, 'ooooo': 3437, 'mobileroadie': 3194, '300': 67, 'suxsw': 4736, 'throw': 4960, 'tchin': 4840, 'loud': 2961, 'papa': 3541, 'sangre': 4199, 'audio': 430, 'recommended': 3990, 'papasangre': 3542, 'partying': 3563, 'themed': 4917, 'costume': 1137, 'yep': 5556, 'organization': 3463, 'poor': 3715, 'coincides': 999, 'begin': 563, 'weeping': 5393, 'preparing': 3776, 'qrafter': 3886, 'vcards': 5263, 'qrcode': 3888, 'questioner': 3902, 'caused': 839, 'giggle': 2080, 'laugh': 2817, 'https': 2424, 'borderstylo': 660, 'wars': 5358, 'machines': 3001, 'electronics': 1588, 'smm': 4469, 'exactly': 1698, 'slice': 4440, 'pcbuzz': 3586, 'intrestin': 2599, 'pauly': 3577, 'celebs': 847, 'zazzlsxsw': 5585, 'dr': 1501, 'jerranalley': 2681, 'tbalinas': 4837, 'member': 3114, 'carrying': 820, 'bags': 489, 'wolfram': 5475, 'sheraton': 4344, 'smartest': 4460, 'imho': 2482, 'shut': 4384, 'breakdown': 697, '98': 136, '03': 2, '02': 1, 'symbian': 4791, 'kickass': 2743, 'truth': 5097, 'staff': 4587, 'facepalmed': 1755, 'ugh': 5153, 'longlinesbadux': 2942, 'strange': 4645, 'penetrates': 3599, 'bubble': 736, 'tvs': 5122, 'scarbrough': 4222, 'closed': 967, 'cops': 1122, 'barring': 513, 'ludicon': 2982, 'ossum': 3473, 'cut': 1237, 'cocaine': 989, 'facetime': 1756, 'mel': 3113, 'gibson': 2076, 'cartoonishly': 824, 'large': 2801, 'cstejas': 1215, 'fin': 1852, 'serv': 4300, 'operators': 3445, 'banks': 509, 'bankinnovate': 507, 'judging': 2708, 'designingforkids': 1348, 'relationship': 4027, 'sapient': 4201, 'upside': 5223, 'train': 5058, 'thier': 4931, 'former': 1942, 'chief': 913, 'officer': 3407, 'advisory': 214, 'innotribe': 2546, 'openexhibits': 3442, 'ray': 3949, 'additional': 195, 'npr': 3372, 'songs': 4520, 'named': 3281, 'ten': 4882, 'decent': 1295, 'heating': 2303, 'rewards': 4110, 'titles': 4991, 'pep': 3603, 'upc': 5212, 'edition': 1572, '2nite': 63, 'b4': 475, 'hosting': 2400, 'cmty': 979, 'mngr': 3190, 'etsy': 1669, '8p': 126, 'relic': 4035, 'topicality': 5023, 'reputation': 4065, 'rules': 4170, '96': 133, 'eyeballed': 1747, 'ip4': 2621, 'nobody': 3344, 'raises': 3930, '1413': 25, 'glenda': 2098, 'watson': 5370, 'cerebral': 859, 'palsy': 3529, 'communicate': 1026, 'impactdashboard': 2488, 'become': 555, 'cle': 953, 'motherboard': 3232, 'developed': 1363, 'cheese': 906, 'valid': 5256, 'tho': 4945, '2honor': 60, 'suffered': 4696, 'zazzle': 5583, 'grille': 2179, 'mania': 3037, 'filters': 1851, 'v1': 5251, 'crapped': 1167, 'options': 3452, 'goers': 2113, 'sore': 4525, 'amusing': 295, 'starbu': 4594, 'cks': 945, 'acrosse': 172, 'unpack': 5197, 'theirs': 4914, 'creatively': 1188, 'socialmediabum': 4494, 'honors': 2380, 'conversations': 1108, 'powerful': 3749, 'motivator': 3234, 'earbud': 1546, 'headphones': 2294, 'cables': 776, 'museum': 3257, 'magnifying': 3018, 'vectors': 5266, 'dimensional': 1400, 'transition': 5063, 'glow': 2103, 'cup': 1221, 'leaked': 2838, 'goo': 2125, 'jqtouch': 2705, 'geekery': 2047, 'pix': 3657, 'mirroring': 3171, 'hdmi': 2287, 'cable': 775, 'gents': 2064, 'scouts': 4247, 'planting': 3675, 'themselves': 4918, 'atms': 413, 'ca': 772, 'thinmints': 4939, 'wannabe': 5349, 'bastards': 527, 'obviously': 3398, 'shell': 4342, '1500': 29, 'visiting': 5309, 'accommodate': 161, 'influencers': 2533, 'dropped': 1520, 'estate': 1664, 'invest': 2609, 'bestie': 586, 'recipes': 3981, 'hype': 2439, 'viagra': 5283, 'communications': 1028, 'expansion': 1719, 'outlook': 3485, 'antwoord': 322, 'korine': 2778, 'park': 3551, '11th': 17, 'lynn': 2992, 'teo': 4885, 'alphagraphics': 273, 'laser': 2805, 'prints': 3800, 'optimized': 3450, 'ripping': 4133, 'joomla': 2696, 'gah': 2018, 'torture': 5030, 'addictedtotheinterwebs': 190, 'yea': 5546, 'chilltab': 917, 'bricklin': 706, 'notetaker': 3359, 'chokes': 924, 'tougher': 5041, 'colin': 1001, 'quinn': 3911, 'environment': 1645, 'theplatform': 4921, 'googlebread': 2135, 'lil': 2890, 'staying': 4613, 'crappy': 1168, 'crazyfest': 1181, 'africans': 220, 'capped': 806, 'journalsim': 2701, 'informed': 2538, 'populous': 3723, 'iwantacameraonmyipad': 2661, '17': 37, 'ink': 2543, 'miamibeach': 3135, 'enviro': 1644, 'bin': 604, 'greatergood': 2172, 'routing': 4160, 'entertaining': 1638, 'joined': 2693, 'copia': 1120, 'cocoon': 991, 'messenger': 3128, 'redbox': 4000, 'gilt': 2082, 'graphic': 2166, 'sesh': 4308, '16162': 34, 'benefit': 577, 'ma': 2993, 'zing': 5591, 'sxsurrogates': 4761, 'atzip': 428, 'swift': 4747, 'upbeat': 5211, 'borrowing': 664, 'chk': 921, 'slow': 4448, 'idiot': 2456, 'smcomedyfyeah': 4466, '81': 122, 'worried': 5503, 'midway': 3147, 'toured': 5042, 'shaping': 4330, 'toocoolforsxswanyway': 5014, 'preparations': 3774, 'beach': 545, 'geekspringbreak': 2053, 'antigov': 319, 'lobbying': 2923, 'initiative': 2542, 'invoking': 2617, 'puregenius': 3870, 'path': 3574, 'weight': 5394, 'lockers': 2930, 'registrant': 4015, 'juiced': 2710, 'sonos': 4521, 'side': 4386, 'cactus': 778, 'balcony': 494, 'shatter': 4338, 'gogglers': 2115, 'marketer': 3059, 'told': 5005, 'reading': 3957, 'newspapers': 3322, 'i41h53': 2441, 'despite': 1354, 'permanently': 3613, 'convience': 1110, 'ships': 4352, 'methinks': 3132, 'capitol': 805, 'fulltime': 1994, 'eh': 1584, 'nudgenudge': 3377, 'actors': 178, 'diet': 1387, 'planzai': 3676, 'creates': 1185, 'peddle': 3593, 'daylight': 1279, 'savings': 4211, 'bug': 739, 'whoops': 5421, 'sells': 4286, 'ughhh': 5154, 'domain': 1467, 'rain': 3927, 'purchases': 3867, 'regrets': 4016, 'disrupts': 1434, 'flow': 1898, 'preferred': 3767, 'tune': 5109, 'groupchatapps': 2185, 'orlando': 3469, 'attended': 419, 'simply': 4402, '100tc': 7, 'felt': 1825, 'prob': 3808, 'sxprotect': 4759, 'renders': 4051, 'landscapes': 2796, 'included': 2517, 'basic': 522, 'percent': 3605, 'sighting': 4389, 'understanding': 5175, 'internetonlinewebsite': 2592, 'perserverance': 3614, 'vote': 5322, 'husband': 2436, 'depeche': 1340, 'prettycool': 3789, 'chevysxsw': 910, 'ringing': 4128, 'softlayer': 4501, 'server': 4303, 'challenge': 867, 'hash': 2267, 'nerdiest': 3302, 'generally': 2058, 'doubly': 1487, 'handicapped': 2241, 'assume': 409, 'ditch': 1439, 'previous': 3792, '47': 90, 'nutters': 3383, 'ipading': 2628, 'techno': 4860, 'mecca': 3100, 'seated': 4261, 'bowl': 676, 'armadillo': 382, 'sxxpress': 4789, 'frabjous': 1951, 'callooh': 787, 'callay': 784, 'baaah': 476, 'carroll': 818, 'swarms': 4740, 'radical': 3921, 'arcade': 369, 'wilderness': 5434, 'frustrating': 1983, 'zeldman': 5588, 'zelda': 5587, 'jzsxsw': 2722, 'whoooooo': 5420, 'described': 1342, 'orly': 3470, 'lanyrd': 2797, 'basket': 526, 'v3': 5253, 'stepped': 4622, 'temperature': 4875, 'fiving': 1875, 'sec': 4264, 'enuf': 1643, 'chumps': 934, 'nightjar': 3337, 'ability': 144, 'brushstroke': 732, 'loveher': 2968, 'promises': 3828, 'ther': 4922, 'deck': 1300, 'unlockable': 5193, 'googleblog': 2134, 'imo': 2485, 'balckberries': 493, 'andriod': 301, 'durable': 1536, 'therefore': 4926, 'repressed': 4062, 'memories': 3116, 'spinning': 4562, 'ball': 495, 'progressbar': 3822, 'respectfully': 4075, 'ubiquitous': 5150, 'project314': 3825, 'popupshop': 3725, 'adaptive': 186, 'skillfully': 4426, 'cupertino': 1223, 'plain': 3665, 'proud': 3841, 'scoping': 4243, 'desk': 1349, 'everyday': 1687, 'macs': 3003, 'monster': 3217, 'anxiety': 323, 'fits': 1872, 'summer': 4705, 'merchant': 3122, 'specials': 4550, 'flashspecial': 1881, 'thunder': 4966, 'niceness': 3332, 'september': 4295, 'spontaniety': 4569, 'bday': 543, 'pressie': 3786, 'wkd': 5466, 'providing': 3844, 'indigenous': 2526, 'tribes': 5078, 'statuses': 4611, 'forests': 1933, 'booze': 659, 'frood': 1977, '157': 31, 'gigs': 2081, 'circusmash': 940, '30a': 69, 'manhandling': 3036, 'unoffic': 5195, 'teamandroid': 4845, '90': 129, 'tan': 4825, 'coverage': 1153, 'position': 3732, 'china': 918, 'suicide': 4702, 'rates': 3944, 'adventure': 211, 'hosted': 2399, 'aclus': 169, 'reid': 4021, 'cites': 942, 'realtime': 3967, 'resting': 4084, 'leisurely': 2856, 'desktops': 1351, 'slower': 4449, 'hints': 2341, 'messed': 3127, 'yonkers': 5565, 'moves': 3240, 'stays': 4614, 'hurt': 2435, 'sending': 4290, 'lorry': 2953, 'riots': 4130, 'ensue': 1634, 'lazyweb': 2833, 'mixing': 3183, 'largest': 2803, 'globally': 2102, 'implement': 2491, 'eventually': 1681, 'theem': 4909, 'spazmatic': 4543, 'hoooooooooooooo': 2384, 'register': 4013, 'liberty': 2870, 'sxswpass': 4782, 'experiential': 1726, 'xm': 5535, 'thumbs': 4965, 'popplet': 3720, 'hordes': 2395, 'purchasers': 3866, 'tweeps': 5123, 'ical': 2444, 'goin': 2118, 'seta': 4312, 'educational': 1575, 'tunehopper': 5111, 'gmail': 2106, 'synching': 4795, 'socialmuse': 4495, 'lookalike': 2944, 'appcircus': 344, 'tweetie': 5129, 'leopard': 2858, 'pariah': 3550, 'activate': 175, 'cellular': 849, 'message': 3124, 'warning': 5357, 'influence': 2532, 'loves': 2972, 'obsessed': 3394, 'feckin': 1812, 'scary': 4225, 'boss': 665, 'syked': 4790, 'rotational': 4156, 'viewing': 5296, 'wundertablet': 5528, 'touching': 5038, 'complicated': 1046, 'naive': 3279, 'messina': 3129, 'knowledge': 2774, 'identity': 2454, 'disneyland': 1429, 'happiest': 2258, 'resetting': 4069, 'produced': 3813, 'slick': 4442, 'conveniently': 1103, 'rf': 4112, 'dissapointment': 1435, 'foosspotting': 1924, 'guides': 2208, 'bumped': 750, 'lottery': 2960, 'ticket': 4970, 'cast': 830, 'characters': 881, 'stroke': 4663, 'vestibule': 5280, '64g': 109, 'replenished': 4056, '16gb': 35, 'telegraph': 4868, 'illa': 2470, 'nba': 3288, 'courtside': 1150, 'itwillbemine': 2659, 'certificate': 861, 'nonprofit': 3349, 'nonprofits': 3350, 'ipad2time': 2626, 'frustration': 1984, 'glued': 2105, 'resonance': 4071, 'marisa': 3052, 'mater': 3075, 'hotspot': 2405, 'idk': 2457, 'masses': 3071, 'newtrent': 3323, 'imp1000': 2486, 'unpaid': 5198, 'drupalcon': 1525, 'firstworldproblems': 1868, 'ihop': 2468, 'excitement': 1706, 'gotten': 2148, 'buggy': 741, 'lately': 2810, 'custome': 1234, 'blackbook': 618, 'advent': 210, 'accessible': 157, 'ebooks': 1566, 'generations': 2060, 'landmark': 2795, 'blind': 624, 'unbelievable': 5166, 'recorder': 3993, 'reddit': 4002, 'moonshine': 3223, 'hr': 2416, 'squeal': 4581, 'virginity': 5302, 'turns': 5118, 'douchebag': 1490, 'gawking': 2036, 'futurecast': 2003, 'champ': 870, 'imanidiot': 2480, 'oooh': 3436, 'recycled': 3998, 'skateboards': 4420, 'damm': 1251, 'captain': 807, 'penguin': 3601, 'pengairborne': 3600, 'takin': 4816, 'mic': 3136, 'brother': 725, 'acceptable': 154, 'warmth': 5356, 'topics': 5024, 'upset': 5222, 'installs': 2570, 'visitors': 5310, 'tattooed': 4832, 'sketchy': 4423, 'bite': 612, 'ears': 1553, 'fleets': 1886, 'armed': 383, 'swoon': 4754, 'nerdcore': 3300, 'idol': 2458, 'ingenious': 2540, 'brilliance': 711, '5th': 107, '200': 46, 'bart': 518, 'retweeting': 4097, 'jeanne': 2675, 'retweet': 4096, 'uppward': 5220, 'jerk': 2680, 'awe': 466, 'jetsons': 2684, 'crack': 1162, 'facist': 1758, 'switches': 4752, 'glowing': 2104, 'cups': 1224, 'units': 5186, 'comfortable': 1018, 'tricked': 5079, 'birthday': 610, 'journalists': 2700, 'afford': 218, 'bother': 668, 'scheduler': 4233, 'austinwins': 440, 'lobby': 2922, '2am': 58, 'disrupt': 1432, 'unveiled': 5206, 'jet': 2683, 'betainvites': 589, '1m': 41, 'ea1zgd': 1543, 'breakthrough': 701, 'activations': 176, 'mission': 3175, 'haiti': 2233, 'executing': 1712, 'loaded': 2919, 'jose': 2697, 'bff': 597, 'bernd': 582, 'florian': 1897, 'guguchu': 2206, 'terminal': 4887, 'compete': 1037, 'lack': 2787, 'patience': 3575, 'douchebaggery': 1491, 'kenny': 2734, 'enjoys': 1631, 'spanking': 4540, 'sweepstakes': 4744, 'tattoo': 4831, 'chalked': 866, 'pavement': 3579, 'applefanatic': 354, 'toolkit': 5018, 'bike': 602, 'rei': 4020, 'sxswtoolkit': 4786, 'digging': 1394, 'craps': 1169, 'rematch': 4043, 'omaha': 3423, 'seemed': 4272, 'offering': 3404, 'anyways': 333, 'logical': 2933, 'progression': 3823, 'intriguing': 2601, 'chatter': 894, 'affair': 216, 'print': 3798, 'cuts': 1239, 'bugs': 742, 'sweets': 4746, 'borrow': 663, '82': 123, 'choose': 925, 'awhile': 471, 'rebecca': 3973, 'distribution': 1437, 'recipient': 3982, 'ungrateful': 5181, 'sheeple': 4341, 'gesture': 2069, 'ahem': 237, 'mounts': 3237, 'journal': 2699, 'momento': 3206, '59p': 104, '99': 137, 'mentionn': 3120, 'notch': 3356, 'stellar': 4620, 'smooth': 4472, 'showusyouricrazy': 4381, 'eff': 1576, 'reliving': 4041, 'ben': 576, 'benieuwd': 578, 'indicates': 2525, 'widgets': 5428, 'tube': 5105, 'shipments': 4351, 'hint': 2340, 'email': 1595, 'heavens': 2308, 'travelers': 5070, 'delayed': 1313, 'passenger': 3567, 'bounced': 672, 'admired': 198, 'classy': 952, 'girlcrush': 2085, 'shortly': 4365, 'overshadowing': 3499, 'arrives': 387, 'porting': 3730, 'syncing': 4796, '3k': 81, 'hpsxsw': 2415, 'craving': 1177, 'minds': 3161, 'created': 1184, 'rescuing': 4067, 'envisioning': 1647, 'broadcast': 721, 'area': 374, 'auntie': 434, 'voxpop': 5323, 'channel': 878, 'volunteers': 5320, '45am': 89, 'alt': 276, 'universe': 5187, 'fastest': 1794, 'reach': 3951, 'goer': 2112, 'halls': 2237, 'bicycle': 598, 'cursing': 1231, 'losing': 2956, 'zzzs': 5599, 'sitby': 4413, 'include': 2516, 'hollow': 2370, 'teeny': 4866, 'steady': 4615, 'winamp': 5442, 'direct': 1403, 'quarters': 3899, 'extenders': 1743, 'endeavor': 1613, 'ummmm': 5159, 'djroe': 1444, 'chances': 872, 'apartment': 338, 'wires': 5455, 'livetapp': 2914, 'raffling': 3924, 'entered': 1636, 'thirsty': 4942, 'walkin': 5339, 'yelping': 5555, 'appear': 347, 'festivalexplorer': 1832, 'solves': 4509, 'musica': 3260, 'musiek': 3263, 'musique': 3265, 'musik': 3264, 'captured': 809, 'lessons': 2860, 'sheen': 4340, 'spider': 4559, 'bryce': 733, 'manor': 3038, 'cents': 854, 'pdx': 3590, 'epicenter': 1650, 'settle': 4315, 'argument': 379, 'parentheses': 3548, 'wordnerd': 5489, 'mifi': 3148, 'solid': 4505, 'resource': 4072, 'tenets': 4883, 'newly': 3318, 'traveling': 5071, 'impedimenta': 2490, 'photosharing': 3630, 'ck': 944, 'culture': 1219, 'documented': 1453, 'geekest': 2048, 'hidden': 2328, 'sorted': 4529, 'appealing': 346, 'adapt': 185, 'overcome': 3491, 'creativity': 1189, 'prompt': 3832, 'virtually': 5304, 'panelist': 3532, 'francisco': 1954, 'sfo': 4321, 'legacy': 2852, 'extras': 1746, 'breeds': 703, 'midst': 3146, 'mar': 3047, 'favorited': 1802, 'doo': 1479, 'dah': 1245, 'pushio': 3875, 'amazon': 286, 'tweetcaster': 5125, 'zip': 5592, 'keywords': 2739, 'hashtag': 2269, 'padless': 3518, 'bmm': 643, 'sxswmymistake': 4780, 'gathering': 2034, 'grown': 2192, 'men': 3117, 'hooting': 2387, 'cords': 1127, 'princess': 3796, 'papyrus': 3545, 'sort': 4527, 'lavelle': 2826, 'playstation': 3687, 'xbox': 5532, 'essentially': 1662, 'stabilizer': 4585}\n"
     ]
    }
   ],
   "source": [
    "from sklearn.feature_extraction.text import CountVectorizer\n",
    "# create the transform\n",
    "vect = CountVectorizer()\n",
    "# tokenize and build vocab\n",
    "vector = vect.fit_transform(data.text)\n",
    "# summarize\n",
    "print(vect.vocabulary_)\n",
    "# encode document\n",
    "#vector = vect.transform(data)\n",
    "# summarize encoded vector\n",
    "#print(vector.shape)\n",
    "#print(type(vector))\n",
    "#print(vector.toarray())"
   ]
  },
  {
   "cell_type": "code",
   "execution_count": null,
   "metadata": {
    "colab": {},
    "colab_type": "code",
    "id": "KyXtZGr-H0Nl"
   },
   "outputs": [],
   "source": []
  },
  {
   "cell_type": "code",
   "execution_count": null,
   "metadata": {
    "colab": {},
    "colab_type": "code",
    "id": "Z4LUM-XPH0Nn"
   },
   "outputs": [],
   "source": []
  },
  {
   "cell_type": "code",
   "execution_count": null,
   "metadata": {
    "colab": {},
    "colab_type": "code",
    "id": "aIdZYxJtH0Nq"
   },
   "outputs": [],
   "source": []
  },
  {
   "cell_type": "markdown",
   "metadata": {
    "colab_type": "text",
    "id": "5pxd5fSHH0Nt"
   },
   "source": [
    "### 5. Find number of different words in vocabulary"
   ]
  },
  {
   "cell_type": "code",
   "execution_count": 16,
   "metadata": {
    "colab": {},
    "colab_type": "code",
    "id": "p1DQ2LdNH0Nu"
   },
   "outputs": [
    {
     "name": "stdout",
     "output_type": "stream",
     "text": [
      "['__class__', '__contains__', '__delattr__', '__delitem__', '__dir__', '__doc__', '__eq__', '__format__', '__ge__', '__getattribute__', '__getitem__', '__gt__', '__hash__', '__init__', '__init_subclass__', '__iter__', '__le__', '__len__', '__lt__', '__ne__', '__new__', '__reduce__', '__reduce_ex__', '__repr__', '__setattr__', '__setitem__', '__sizeof__', '__str__', '__subclasshook__', 'clear', 'copy', 'fromkeys', 'get', 'items', 'keys', 'pop', 'popitem', 'setdefault', 'update', 'values']\n"
     ]
    }
   ],
   "source": [
    "print(dir(vect.vocabulary_))"
   ]
  },
  {
   "cell_type": "code",
   "execution_count": 17,
   "metadata": {},
   "outputs": [
    {
     "name": "stdout",
     "output_type": "stream",
     "text": [
      "['000', '02', '03', '08', '10', '100', '100s', '100tc', '101', '106', '10am', '10k', '10mins', '10pm', '10x', '11', '11ntc', '11th', '12', '12b', '12th', '13', '130', '14', '1406', '1413', '1415', '15', '150', '1500', '150m', '157', '15am', '15k', '16162', '16gb', '16mins', '17', '188', '1986', '1990style', '1m', '1of', '1pm', '1st', '20', '200', '2010', '2011', '2012', '20s', '21', '22', '23', '24', '25', '250k', '25th', '2am', '2day', '2honor', '2moro', '2nd', '2nite', '2s', '2yrs', '30', '300', '3000', '30a', '30am', '30p', '30pm', '32', '32gb', '35', '36', '37', '3d', '3g', '3gs', '3k', '3rd', '3x', '40', '400', '40min', '41', '45', '45am', '47', '48', '4android', '4chan', '4g', '4nqv92l', '4sq', '4sq3', '4square', '50', '54', '55', '58', '59', '59p', '59pm', '5pm', '5th', '60', '64g', '64gb', '64gig', '64mb', '65', '6hours', '6th', '70', '75', '7th', '80', '800', '80s', '81', '82', '89', '8am', '8p', '8pm', '8th', '90', '900', '911tweets', '95', '96', '967', '97', '98', '99', '9th', 'a3xvwc6', 'aapl', 'abacus', 'abandoned', 'aber', 'ability', 'able', 'about', 'abroad', 'absolute', 'absolutely', 'abt', 'abuzz', 'academy', 'acc', 'acceptable', 'access', 'accessibility', 'accessible', 'accessories', 'accessory', 'accesssxsw', 'accommodate', 'according', 'accordion', 'account', 'acerbic', 'achieve', 'acknowledge', 'aclu', 'aclus', 'acquired', 'across', 'acrosse', 'action', 'actions', 'activate', 'activations', 'activity', 'actors', 'actsofsharing', 'actual', 'actually', 'ad', 'adam', 'adams', 'adapt', 'adaptive', 'add', 'added', 'addicted', 'addictedtotheinterwebs', 'addictive', 'addicts', 'adding', 'addition', 'additional', 'address', 'adfonic', 'admired', 'admission', 'admit', 'admits', 'admitting', 'ado', 'adopter', 'adopters', 'adoption', 'adpeopleproblems', 'ads', 'advanced', 'advent', 'adventure', 'advertising', 'advice', 'advisory', 'aesthetic', 'affair', 'affirmative', 'afford', 'afraid', 'africans', 'after', 'afternoon', 'again', 'against', 'agchat', 'agencies', 'agency', 'agenda', 'agents', 'agileagency', 'agnerd', 'ago', 'agree', 'agreed', 'ah', 'ahead', 'ahem', 'ahh', 'ahhh', 'ahing', 'aicn', 'aiding', 'aim', 'ain', 'air', 'airline', 'airlines', 'airplane', 'airport', 'airports', 'airs', 'ajs2011', 'aka', 'akqas', 'al', 'alamo', 'alan', 'alarm', 'alarms', 'alas', 'alcoholics', 'alert', 'alerts', 'alex', 'alive', 'all', 'allow', 'allowing', 'almost', 'alone', 'along', 'alot', 'alphagraphics', 'already', 'also', 'alt', 'alternate', 'alternative', 'although', 'always', 'alwayshavingtoplugin', 'am', 'amateurhour', 'amazing', 'amazingly', 'amazon', 'ambassador', 'america', 'amex', 'amigos', 'among', 'amount', 'amp', 'amused', 'amusing', 'an', 'analysis', 'analytics', 'and', 'andoid', 'andriod', 'andro', 'android', 'androidsxsw', 'angry', 'angrybirds', 'announce', 'announced', 'announces', 'announcing', 'annoyed', 'annoying', 'anoth', 'another', 'answer', 'answered', 'anti', 'anticipate', 'antigov', 'antique', 'antonio', 'antwoord', 'anxiety', 'anxious', 'any', 'anybody', 'anybodywanttobuymeanipad2', 'anymore', 'anyone', 'anyones', 'anything', 'anyway', 'anyways', 'anywhere', 'aos', 'ap', 'apac', 'apartment', 'api', 'apis', 'app', 'apparent', 'apparently', 'appcircus', 'appeal', 'appealing', 'appear', 'appears', 'applauds', 'applause', 'apple', 'appleaddiction', 'appleatxdt', 'applefanatic', 'apples', 'appletakingoverworld', 'application', 'applications', 'appolicious', 'appreciate', 'appreciation', 'approach', 'approaches', 'approval', 'approved', 'approves', 'apps', 'aquent', 'arcade', 'archive', 'arctic', 'arduino', 'are', 'area', 'areas', 'aren', 'arg', 'argues', 'argument', 'aristotle', 'arm', 'armadillo', 'armed', 'aron', 'around', 'arrived', 'arrives', 'arriving', 'art', 'article', 'articles', 'articulate', 'artificial', 'artist', 'artistic', 'artists', 'artwork', 'artworks', 'arw', 'as', 'asddieu', 'ask', 'asked', 'asking', 'asleep', 'ass', 'assisted', 'assistivetech', 'assume', 'at', 'atari', 'atl', 'atms', 'atrix', 'att', 'attached', 'attempt', 'attend', 'attended', 'attendees', 'attending', 'attention', 'attitudes', 'attracted', 'attracting', 'attractive', 'atx', 'atzip', 'audience', 'audio', 'augcomm', 'augmented', 'augmentedreality', 'auntie', 'aus', 'austin', 'austincrowd', 'austinites', 'austintx', 'austinwins', 'australian', 'ausxsw', 'auth', 'authenticator', 'authorization', 'autistic', 'auto', 'autocorrect', 'autocorrects', 'autonomous', 'avail', 'available', 'ave', 'avenue', 'average', 'averages', 'avoid', 'avoiding', 'aw', 'awake', 'award', 'awards', 'aware', 'awareness', 'away', 'awe', 'awesome', 'awesomely', 'awesomeness', 'awesometiming', 'awhile', 'awkward', 'awwww', 'axzwxb', 'b4', 'baaah', 'baby', 'back', 'background', 'backlight', 'backpack', 'backup', 'backupify', 'bad', 'badge', 'badgeless', 'badges', 'bag', 'bags', 'bahahahaha', 'bajillions', 'balance', 'balckberries', 'balcony', 'ball', 'ballroom', 'ballrooms', 'banality', 'band', 'bands', 'bandwaggoners', 'bandwidth', 'bang', 'banged', 'bank', 'banking', 'bankinnovate', 'bankinnovation', 'banks', 'bar', 'barcode', 'barely', 'barring', 'barroom', 'barry', 'barrydiller', 'bars', 'bart', 'barton', 'based', 'bashing', 'basic', 'basically', 'basics', 'basis', 'basket', 'bastards', 'bat', 'bathroom', 'batphone', 'batt', 'batteries', 'battery', 'batterykiller', 'battle', 'battledecks', 'battlela', 'bavcid', 'bawling', 'bb', 'bbq', 'bc', 'bday', 'be', 'beach', 'beans', 'bear', 'beard', 'beat', 'beats', 'beautiful', 'beautifully', 'beauty', 'because', 'become', 'becoming', 'bed', 'beechwood', 'been', 'beer', 'before', 'beforetwitter', 'begin', 'beginning', 'begins', 'behance', 'behave', 'behaving', 'behavior', 'behind', 'being', 'believe', 'belinsky', 'belong', 'beluga', 'ben', 'benefit', 'benieuwd', 'bereft', 'bergstrom', 'berklee', 'bernd', 'berry', 'best', 'bestappever', 'bestie', 'bet', 'beta', 'betainvites', 'better', 'bettercloud', 'bettersearch', 'betterthingstodo', 'between', 'beware', 'beyond', 'bff', 'bicycle', 'big', 'bigger', 'biggest', 'bike', 'billion', 'bin', 'bing', 'biomimicry', 'bird', 'birds', 'birth', 'birthday', 'bit', 'bite', 'biz', 'bizzy', 'bjdproductions', 'black', 'blackberry', 'blackbook', 'blacked', 'blame', 'blast', 'bleed', 'blew', 'blind', 'blinksale', 'block', 'blocked', 'blocking', 'blocks', 'blog', 'bloggable', 'blogger', 'blogging', 'blogs', 'bloody', 'bloomberg', 'blows', 'blue', 'blueray', 'bluetooth', 'bluezoom', 'blurs', 'bmm', 'bnet', 'board', 'boarded', 'body', 'bomb', 'boo', 'book', 'bookbook', 'books', 'boom', 'boomers', 'boost', 'booth', 'boots', 'booyah', 'booze', 'borderstylo', 'bored', 'born', 'borrow', 'borrowing', 'boss', 'botch', 'both', 'bother', 'bots', 'bottom', 'bought', 'bounced', 'bound', 'boundaries', 'bout', 'bowl', 'box', 'boxee', 'boxes', 'boy', 'boyfriend', 'boys', 'bpm', 'bracket', 'brah', 'brain', 'brains', 'brainwashed', 'brand', 'branded', 'brands', 'bravo', 'brawls', 'brazil', 'bread', 'break', 'breakdown', 'breakfast', 'breaking', 'breakout', 'breakthrough', 'breathtaking', 'breeds', 'brian', 'brick', 'bricklin', 'bridging', 'bright', 'brightens', 'brightness', 'brilliance', 'brilliant', 'bring', 'bringing', 'brings', 'brisk', 'british', 'brits', 'brk', 'bro', 'broadcast', 'broadcastr', 'broadfeed', 'broken', 'brother', 'brought', 'browse', 'browser', 'browserwars', 'browsing', 'bruises', 'brushstroke', 'bryce', 'bt', 'btw', 'bubble', 'bucket', 'buffalo', 'bug', 'bugger', 'buggy', 'bugs', 'build', 'building', 'buildings', 'built', 'bulletin', 'bummed', 'bummer', 'bumped', 'bunch', 'burn', 'bursts', 'bus', 'busdev', 'business', 'businesses', 'busy', 'but', 'butt', 'button', 'buttons', 'butts', 'buy', 'buyers', 'buying', 'buys', 'buzz', 'buzzing', 'by', 'bynd', 'ca', 'cab', 'cabbies', 'cable', 'cables', 'cabs', 'cactus', 'cake', 'calendar', 'calhoun', 'california', 'call', 'callay', 'callback', 'called', 'callooh', 'calls', 'calyp', 'cam', 'came', 'camera', 'cameras', 'campaigns', 'campbell', 'campus', 'can', 'canada', 'canadian', 'cancel', 'cannot', 'cant', 'canvas', 'capabilities', 'capitol', 'capped', 'captain', 'capture', 'captured', 'car', 'caramel', 'carbon', 'card', 'cards', 'care', 'career', 'caring', 'carroll', 'carry', 'carrying', 'cart', 'cartel', 'cartoon', 'cartoonishly', 'case', 'cases', 'cash', 'cashmere', 'cashmore', 'cast', 'castle', 'casually', 'cat', 'catch', 'catching', 'catphysics', 'cattle', 'cause', 'caused', 'causing', 'cautiously', 'cbatsxsw', 'cc', 'cedar', 'celebrate', 'celebrating', 'celebs', 'cell', 'cellular', 'center', 'centers', 'central', 'centre', 'cents', 'ceo', 'ceokidschat', 'cera', 'cerebellum', 'cerebral', 'certain', 'certificate', 'ces', 'ch', 'chain', 'chair', 'chalked', 'challenge', 'challenged', 'challenges', 'champ', 'chance', 'chances', 'change', 'changed', 'changer', 'changes', 'changing', 'channel', 'channels', 'chaos', 'characters', 'charge', 'charged', 'charger', 'chargers', 'charges', 'chargin2diffphonesatonce', 'charging', 'charity', 'charles', 'charm', 'charts', 'chat', 'chatter', 'chatting', 'cheapen', 'cheaper', 'check', 'checked', 'checking', 'checkins', 'checkout', 'cheeky', 'cheer', 'cheers', 'cheese', 'chen', 'chevy', 'chevysmc', 'chevysxsw', 'chevytweethouse', 'chic', 'chief', 'child', 'childhood', 'chill', 'chilltab', 'china', 'chinese', 'chip', 'chk', 'chng', 'choice', 'chokes', 'choose', 'choplifter', 'choreography', 'chris', 'christian', 'christmas', 'chrome', 'chromeos', 'chronicling', 'chumps', 'chunky', 'cigarettes', 'cinema', 'circle', 'circles', 'circusmash', 'cited', 'cites', 'city', 'ck', 'cks', 'claims', 'clarity', 'clark', 'class', 'classics', 'classiest', 'classy', 'cle', 'clean', 'clear', 'clearly', 'cleveland', 'clever', 'click', 'clicked', 'client', 'clients', 'climbing', 'clipcon', 'clocks', 'close', 'closed', 'closely', 'closer', 'clothes', 'cloud', 'cloudapp', 'cloudsight', 'clumsily', 'cluster', 'cluttering', 'cm48', 'cmswire', 'cmty', 'cnet', 'cnn', 'cnngrill', 'cnnmoney', 'cnnmoneysxsw', 'cnt', 'cntr', 'co', 'cobra', 'cocaine', 'cocky', 'cocoon', 'code', 'coded', 'coders', 'coding', 'coffee', 'cohen', 'coincide', 'coincides', 'cold', 'colin', 'collab', 'collection', 'collective', 'collectively', 'color', 'colors', 'colour', 'com', 'combine', 'combines', 'comcom', 'come', 'comedy', 'comers', 'comes', 'comfort', 'comfortable', 'coming', 'commandeered', 'comment', 'comments', 'common', 'comms', 'communal', 'communicate', 'communication', 'communications', 'community', 'comp', 'compan', 'companies', 'company', 'compared', 'compatible', 'compels', 'compete', 'competition', 'competitor', 'competitors', 'compiling', 'complement', 'complete', 'completely', 'complex', 'complicated', 'composed', 'computer', 'computers', 'computing', 'concentrate', 'concept', 'concert', 'concertgoers', 'condense', 'conf', 'conference', 'conferences', 'confession', 'configuration', 'confines', 'confirmed', 'conflagration', 'confusion', 'congrats', 'congratulation', 'congratulations', 'congress', 'connect', 'connected', 'connectedbrands', 'connectedcar', 'connectedtv', 'connectivity', 'connects', 'conquered', 'consciously', 'considering', 'consistent', 'consistently', 'constant', 'consultation', 'consulting', 'consume', 'consumer', 'consumerist', 'consumerization', 'cont', 'contact', 'content', 'contentrules', 'contest', 'context', 'contextual', 'continued', 'continues', 'continuous', 'continuum', 'control', 'controller', 'conv', 'convenient', 'conveniently', 'convention', 'conventions', 'converge', 'conversation', 'conversations', 'conversion', 'convience', 'convince', 'convinced', 'convore', 'cool', 'cooler', 'coolest', 'coolhaus', 'coordinate', 'cope', 'copia', 'copper', 'cops', 'copy', 'cor', 'cord', 'cordless', 'cords', 'core', 'corner', 'corporate', 'corporation', 'corralling', 'correct', 'correcting', 'corrupted', 'cost', 'costume', 'couch', 'couchfan', 'cough', 'could', 'couldn', 'count', 'counting', 'country', 'couple', 'coupons', 'course', 'courtesy', 'courtside', 'courtyard', 'cover', 'coverage', 'covered', 'covering', 'covet', 'cow', 'cowboy', 'coworkers', 'cpa', 'cr', 'crack', 'crackberry', 'crafty', 'crap', 'crapkit', 'crapped', 'crappy', 'craps', 'crash', 'crashed', 'crasher', 'crashes', 'crashing', 'crashy', 'crave', 'craving', 'craziness', 'crazy', 'crazyco', 'crazyfest', 'cream', 'create', 'created', 'creates', 'creating', 'creative', 'creatively', 'creativity', 'creator', 'creatures', 'credit', 'creek', 'creeper', 'crew', 'cried', 'crippling', 'crisis', 'critiques', 'cross', 'crossed', 'crossing', 'crowd', 'crowdbeacon', 'crowded', 'crowds', 'crowdsourcing', 'crowley', 'crunch', 'crushing', 'crushit', 'cruze', 'cry', 'csr', 'cstejas', 'csuitecsourcing', 'ctia', 'cult', 'culture', 'cunning', 'cup', 'cupcake', 'cupertino', 'cups', 'curated', 'curatedebate', 'curiosity', 'curious', 'current', 'curse', 'cursing', 'cursor', 'custom', 'custome', 'customer', 'customers', 'cut', 'cute', 'cuts', 'cutsies', 'cuz', 'cwc2011', 'cwebb', 'cynical', 'dah', 'dahl', 'daily', 'dairy', 'dali', 'damage', 'damm', 'dammit', 'damn', 'damon', 'dan', 'dance', 'dancing', 'dandy', 'danfung', 'dang', 'dangerous', 'daniel', 'danny', 'dark', 'darn', 'darryl', 'das', 'dat', 'data', 'database', 'date', 'dating', 'david', 'davis', 'dawdled', 'dawg', 'dawn', 'day', 'daylight', 'days', 'de', 'dead', 'deadline', 'deadly', 'deal', 'dealing', 'deals', 'dear', 'death', 'debating', 'debut', 'debuting', 'debuts', 'decade', 'decent', 'decide', 'decided', 'deciding', 'decision', 'deck', 'dedication', 'deeper', 'def', 'default', 'deficit', 'define', 'defining', 'definitely', 'deforestation', 'degrees', 'dehumanizing', 'delay', 'delayed', 'delegates', 'delete', 'deleting', 'delicious', 'deliciously', 'deliciousness', 'delight', 'delightful', 'deliver', 'delivered', 'delivery', 'dell', 'delving', 'demand', 'demo', 'democracy', 'demoed', 'demoing', 'demonstrate', 'demonstrates', 'demonstration', 'denies', 'dennis', 'denotes', 'dense', 'density', 'depeche', 'depressed', 'described', 'design', 'designed', 'designers', 'designflaws', 'designing', 'designingforkids', 'desk', 'desktop', 'desktops', 'desperate', 'desperately', 'despite', 'destroyed', 'detail', 'detailed', 'details', 'detect', 'detection', 'dev', 'develop', 'developed', 'developer', 'developers', 'developing', 'development', 'deviantart', 'device', 'devices', 'devs', 'dexteria', 'dfcbto', 'dfp', 'dfw', 'dgtltribe', 'diabetes', 'dictaphone', 'dictatorship', 'did', 'didn', 'die', 'died', 'diego', 'dieing', 'dies', 'diet', 'diferencia', 'diff', 'difference', 'different', 'dig', 'digg', 'digging', 'digibiz', 'digital', 'digitally', 'dilemma', 'diller', 'dimensional', 'dine', 'dinner', 'direct', 'direction', 'directions', 'director', 'directors', 'dirty', 'dis', 'disabilities', 'disagree', 'disappointed', 'disappointingly', 'disaster', 'disc', 'discotalk', 'discover', 'discovered', 'discovery', 'discovr', 'discuss', 'discusses', 'discussion', 'disgraceful', 'disgusted', 'dislike', 'disliking', 'disney', 'disneyland', 'display', 'displaying', 'disrupt', 'disruptive', 'disrupts', 'dissapointment', 'distance', 'distribution', 'disturbing', 'ditch', 'divasanddorks', 'divide', 'dividends', 'dj', 'djroe', 'dk', 'dl', 'dm', 'do', 'doc', 'dock', 'docomo', 'docs', 'documented', 'documents', 'dodgeball', 'dodo', 'does', 'doesdroid', 'doesn', 'dog', 'dogs', 'doing', 'dokobots', 'dollar', 'dollars', 'dom', 'domain', 'dominance', 'domo', 'don', 'donate', 'donates', 'donating', 'done', 'dongle', 'donline', 'dont', 'dontbehatin', 'doo', 'doodle', 'doodles', 'doofusness', 'door', 'dorkinout', 'dotco', 'double', 'doubly', 'doubt', 'douche', 'douchebag', 'douchebaggery', 'dow', 'down', 'download', 'downloaded', 'downloading', 'downloads', 'downside', 'downstairs', 'downtown', 'dr', 'drafthouse', 'drag', 'draining', 'draw', 'drawing', 'draws', 'dream', 'dreams', 'drink', 'drinks', 'drive', 'driven', 'drivers', 'drives', 'driving', 'droid', 'drooling', 'drop', 'dropped', 'dropping', 'drowning', 'drug', 'drumroll', 'drupalcon', 'dst', 'dt', 'dtas', 'ducks', 'dude', 'due', 'duh', 'duking', 'dumped', 'dunno', 'durable', 'during', 'dwindled', 'dwindling', 'dyac', 'dynamic', 'dynamics', 'ea1zgd', 'each', 'eagerly', 'earbud', 'earbuds', 'earlier', 'early', 'earned', 'earphones', 'earplugs', 'ears', 'earth', 'earthhour', 'earthquake', 'earths', 'easeljs', 'easier', 'easy', 'eat', 'eatdrinktweet', 'eating', 'eats', 'ebay', 'ebooks', 'echofon', 'ecodriving', 'economy', 'ecosystem', 'edible', 'edition', 'edtech', 'education', 'educational', 'eff', 'effective', 'efficient', 'effing', 'effort', 'efforts', 'eg', 'egomaniacs', 'eh', 'either', 'elbow', 'election', 'electronics', 'elegant', 'elements', 'elevate', 'elevation', 'elonsxsw', 'else', 'email', 'emails', 'embarrassed', 'emc', 'eminent', 'emotional', 'employee', 'employees', 'empowered', 'empty', 'emulates', 'enable', 'enables', 'enabling', 'enchanted', 'enchanting', 'enchantment', 'end', 'endeavor', 'ended', 'endorsed', 'endorsement', 'ends', 'energy', 'engage', 'engage365', 'engagement', 'engaging', 'engine', 'engineer', 'engines', 'english', 'enhancements', 'enjoy', 'enjoyed', 'enjoying', 'enjoys', 'enlightening', 'enough', 'ensue', 'enter', 'entered', 'enterprise', 'entertaining', 'entire', 'entirely', 'entrepreneur', 'entry', 'enuf', 'enviro', 'environment', 'environmental', 'envisioning', 'envy', 'epic', 'epicenter', 'epicurious', 'equity', 'er', 'era', 'eric', 'error', 'ers', 'escape', 'esp', 'especially', 'essential', 'essentially', 'essentials', 'estate', 'et', 'etc', 'etch', 'etsbzk', 'etsy', 'europe', 'eurosxsw', 'evade', 'evaporation', 'even', 'evening', 'event', 'eventbrite', 'eventprofs', 'events', 'eventseekr', 'eventually', 'ever', 'everbody', 'evernote', 'every', 'everybody', 'everyday', 'everyone', 'everything', 'everytime', 'everywhere', 'evidence', 'evil', 'evo', 'evolving', 'evolvingworkplace', 'ex', 'exactly', 'example', 'examples', 'excellent', 'except', 'exceptionally', 'exchange', 'excited', 'excitement', 'exciting', 'excludes', 'exclusive', 'excuse', 'executed', 'executing', 'exhibit', 'exhibitors', 'exist', 'existence', 'existent', 'exists', 'expansion', 'expect', 'expectation', 'expected', 'expecting', 'expensive', 'experience', 'experiential', 'experiment', 'experimenting', 'expert', 'experts', 'expierence', 'explaining', 'explanation', 'exploiting', 'explorer', 'explorers', 'exploring', 'exported', 'exposing', 'express', 'exquisite', 'extended', 'extenders', 'extra', 'extraordinary', 'extras', 'eyeballed', 'eyes', 'f6bcet', 'fab', 'fab5', 'fabulous', 'face', 'facebook', 'facepalmed', 'facetime', 'facing', 'facist', 'fact', 'factor', 'facts', 'fades', 'fail', 'failed', 'failing', 'failure', 'fair', 'fake', 'false', 'fam', 'familiarize', 'famous', 'fan', 'fanboy', 'fanboyism', 'fanboys', 'fancrazed', 'fandango', 'fans', 'fantastic', 'fantastico', 'far', 'farm', 'farmers', 'farmville', 'farooqui', 'fascinating', 'fascist', 'fashion', 'fast', 'fastcompanygrill', 'fastcompanygrille', 'faster', 'fastest', 'fastsociety', 'fat', 'fathom', 'faulty', 'fav', 'fave', 'favorite', 'favorited', 'favorites', 'favour', 'fawning', 'fb', 'fear', 'feature', 'featured', 'features', 'featuring', 'feckin', 'fed', 'feed', 'feeding', 'feel', 'feelin', 'feeling', 'feelings', 'feels', 'fees', 'fell', 'fellow', 'fellowship', 'felt', 'ferris', 'ferriss', 'fessing', 'fest', 'festgoers', 'festival', 'festivalexplorer', 'festivalgenius', 'fetishism', 'few', 'ff', 'fh', 'fi', 'field', 'fiendishly', 'fight', 'fighting', 'figure', 'figuring', 'fill', 'filling', 'film', 'filmaster', 'filming', 'filter', 'filters', 'fin', 'final', 'finalist', 'finalists', 'finally', 'finals', 'find', 'finder', 'finding', 'fine', 'finger', 'fingerprint', 'fingers', 'finished', 'fire', 'first', 'firstworldproblems', 'fishing', 'fists', 'fit', 'fits', 'five', 'fives', 'fiving', 'fix', 'fixing', 'flaming', 'flannel', 'flash', 'flashspecial', 'flask', 'flavor', 'flaw', 'flawless', 'fleets', 'flew', 'flight', 'flights', 'flip', 'flipboard', 'floating', 'flocking', 'flood', 'floor', 'flop', 'florian', 'flow', 'fludapp', 'fluid', 'flummoxed', 'fly', 'flying', 'flypost', 'fmsignal', 'focus', 'focuses', 'focusing', 'fogo', 'foing', 'folks', 'follow', 'followed', 'followers', 'following', 'followings', 'fond', 'fondling', 'fonts', 'food', 'foodies', 'foodspotting', 'fools', 'foosspotting', 'foot', 'footage', 'footnotes', 'for', 'forbes', 'forbidden', 'force', 'forecast', 'forests', 'forever', 'forget', 'forgo', 'forgot', 'forgotten', 'form', 'format', 'formation', 'former', 'formerly', 'formula', 'forward', 'foster', 'found', 'four', 'foursquare', 'fr', 'frabjous', 'fragmentation', 'franchised', 'francisco', 'franco', 'frank', 'franken', 'freak', 'freaking', 'free', 'freespeech', 'freeze', 'frenzy', 'fresh', 'fri', 'frickin', 'fricking', 'frid', 'friday', 'friend', 'friendly', 'friends', 'frm', 'from', 'front', 'frontend', 'frood', 'frostwire', 'frothy', 'frozen', 'fruit', 'frustrated', 'frustrating', 'frustration', 'ft', 'ftp', 'ftw', 'fuck', 'fucking', 'fuckit', 'fuckyeah', 'fuel', 'full', 'fulltime', 'fully', 'fun', 'function', 'functions', 'fundraising', 'funny', 'fusion', 'future', 'futurecast', 'futuremf', 'futureoftouch', 'fwd', 'fxsw', 'fyi', 'g03mzb', 'g2', 'g4gzypv', 'gabacustweets', 'gadget', 'gadgetenvy', 'gadgets', 'gadgetzilla', 'gaga', 'gah', 'galaxy', 'gallery', 'game', 'gamechanger', 'gamelayer', 'games', 'gamesfortv', 'gamestorming', 'gaming', 'gap', 'garageband', 'garyvee', 'gas', 'gasps', 'gatekeeper', 'gathering', 'gave', 'gawking', 'gay', 'gayno', 'gb', 'gear', 'gecko', 'gee', 'geek', 'geekdate', 'geekdilemma', 'geekdom', 'geekery', 'geekest', 'geekfest', 'geeking', 'geekout', 'geeks', 'geekspringbreak', 'geeksrule', 'geeky', 'gen', 'general', 'generally', 'generated', 'generations', 'generous', 'genius', 'geniuses', 'gents', 'geo', 'geogames', 'geolocation', 'germ', 'gesture', 'get', 'getjarsxsw', 'gets', 'getting', 'gettinng', 'giant', 'gibson', 'giddy', 'gift', 'gig', 'giggle', 'gigs', 'gilt', 'ginger', 'girl', 'girlcrush', 'girls', 'git', 'gitchococktailon', 'give', 'giveaway', 'giveaways', 'given', 'gives', 'giving', 'glad', 'glass', 'glasses', 'glenda', 'glimpse', 'global', 'globalbestaward', 'globally', 'glow', 'glowing', 'glued', 'gmail', 'go', 'go2', 'god', 'goddamn', 'godsend', 'goer', 'goers', 'goes', 'gogglers', 'goggles', 'gogo', 'goin', 'going', 'gold', 'golds', 'gone', 'gonna', 'gonnagetanipad2', 'goo', 'good', 'goodcustomerservice', 'gooddeed', 'goodguide', 'goodness', 'goody', 'goog', 'google', 'googleblog', 'googlebread', 'googlecircles', 'googled', 'googledoodle', 'googledoodles', 'googlegays', 'googleio', 'googlemaps', 'googleplaces', 'googletv', 'goona', 'got', 'gotta', 'gotten', 'gotto', 'government', 'govt', 'gowalla', 'gps', 'gr2l2', 'gr8', 'grab', 'grabbed', 'grabs', 'gram', 'gran', 'grand', 'grant', 'granted', 'grape', 'graph', 'graphic', 'graphics', 'grateful', 'gratification', 'great', 'greater', 'greatergood', 'greatest', 'greet', 'greeted', 'griddler', 'griffin', 'grill', 'grille', 'grindr', 'grn7pk', 'grooving', 'ground', 'group', 'groupchatapps', 'grouped', 'groupme', 'groupon', 'groups', 'grow', 'growing', 'grown', 'grrr', 'grrrr', 'grumbling', 'gsd', 'gsdm', 'gswsxsw', 'gt', 'guard', 'guardian', 'guards', 'guess', 'guessing', 'guest', 'guguchu', 'guide', 'guides', 'guild', 'guilty', 'guitar', 'gun', 'guru', 'guy', 'guykawasaki', 'guys', 'gvlrin', 'gym', 'h264', 'h2o', 'h4ckers', 'ha', 'habits', 'hack', 'hackathon', 'hacker', 'hackers', 'hacknews', 'had', 'hah', 'haha', 'hairy', 'haiti', 'half', 'halfway', 'hall', 'halls', 'hallway', 'hamsandwich', 'hand', 'handicapped', 'handing', 'handle', 'handled', 'hands', 'handset', 'handsome', 'handwriting', 'handy', 'hang', 'hanging', 'hangover', 'hangover3', 'hannukah', 'happen', 'happened', 'happening', 'happiest', 'happily', 'happy', 'happydance', 'hard', 'harlow', 'harnessing', 'harris', 'has', 'hash', 'hashable', 'hashtag', 'hashtags', 'hasn', 'hassle', 'hate', 'hated', 'haul', 'hauling', 'have', 'haven', 'havent', 'having', 'havnt', 'hawk', 'hawt', 'haystack', 'haz', 'hcsm', 'hdmi', 'he', 'head', 'headaches', 'headed', 'heading', 'headline', 'headphones', 'heads', 'headsets', 'health2dev', 'hear', 'heard', 'hearing', 'heart', 'heat', 'heating', 'heatmap', 'heats', 'heattracker', 'heavenly', 'heavens', 'heavier', 'heck', 'held', 'hell', 'hello', 'help', 'helped', 'helpful', 'helping', 'helps', 'her', 'here', 'hereforwork', 'herself', 'hey', 'heyo', 'hhaha', 'hhrs', 'hi', 'hidden', 'hide', 'high', 'higher', 'highlight', 'highlights', 'highly', 'hijack', 'hilarious', 'hill', 'hilton', 'him', 'hint', 'hints', 'hip', 'hipstamatic', 'hipster', 'hipstermuch', 'hipsters', 'hire', 'hireme', 'hirer', 'his', 'hiss', 'history', 'hisxsw', 'hit', 'hitlantis', 'hive', 'hls', 'hm', 'hmm', 'hmmm', 'hmmzies', 'hobo', 'hoc', 'hold', 'holding', 'hole', 'holla', 'holler', 'hollergram', 'hollow', 'hollrback', 'hollywood', 'holy', 'holytrafficjams', 'home', 'homeless', 'homepage', 'honesty', 'honor', 'honors', 'hoo', 'hook', 'hooked', 'hoooooooooooooo', 'hooray', 'hoot', 'hooting', 'hootsuite', 'hop', 'hope', 'hopefully', 'hopes', 'hoping', 'hopkins', 'hordes', 'horrendous', 'horrible', 'horror', 'hosted', 'hosting', 'hot', 'hotel', 'hotels', 'hotpot', 'hotspot', 'hottest', 'hour', 'hours', 'house', 'housing', 'how', 'howdy', 'howmto', 'hp', 'hpsxsw', 'hr', 'hrs', 'ht', 'htdfim', 'html', 'html5', 'htt', 'http', 'https', 'hubby', 'huge', 'human', 'hundred', 'hundreds', 'hunger', 'hungry', 'hunt', 'hunts', 'hurricaneparty', 'hurt', 'husband', 'huzzah', 'hyatt', 'hype', 'hyped', 'i41h53', 'ia', 'iads', 'ical', 'icanhas', 'ice', 'icebreaker', 'iconbuffet', 'id', 'id420666439', 'idea', 'ideally', 'ideas', 'identity', 'idiocy', 'idiot', 'idk', 'idol', 'idontbelieve', 'ie', 'ie9', 'ieavob', 'if', 'ifrom', 'ignite', 'ignore', 'igottagetit', 'ihop', 'il', 'illa', 'illegal', 'illmakeitwork', 'iloveasurprise', 'im', 'imac', 'imacs', 'image', 'images', 'imagine', 'imanidiot', 'imanoutcast', 'imho', 'immersive', 'immobile', 'imo', 'imp1000', 'impact', 'impactdashboard', 'impediment', 'impedimenta', 'implement', 'implementation', 'implementing', 'implode', 'important', 'impossible', 'impressed', 'impression', 'impressions', 'impressive', 'impromptu', 'improve', 'improvement', 'improvements', 'improvemnt', 'impulse', 'impulsive', 'imrich', 'imthatgood', 'in', 'inane', 'inbox', 'incapable', 'incenticize', 'incl', 'include', 'included', 'includes', 'including', 'incorrect', 'increase', 'incredible', 'incredibly', 'inde', 'indicates', 'indigenous', 'individuals', 'indoor', 'industry', 'infektd', 'inferior', 'influence', 'influencers', 'influx', 'info', 'informal', 'information', 'informed', 'ing', 'ingenious', 'initial', 'initiative', 'ink', 'innacurate', 'inner', 'innotribe', 'innovate', 'innovating', 'innovation', 'innovative', 'innovators', 'input', 'ins', 'insane', 'insanely', 'insatiable', 'insertion', 'inside', 'insider', 'insidious', 'insight', 'insightful', 'insights', 'insists', 'inspiring', 'instagram', 'install', 'installed', 'installing', 'installs', 'instant', 'instantly', 'instead', 'instruments', 'integrated', 'integration', 'intel', 'intelligence', 'intelligent', 'intended', 'intense', 'intentionally', 'interact', 'interactive', 'interested', 'interesting', 'interface', 'interfaces', 'intermittent', 'international', 'internet', 'internetonlinewebsite', 'interrupt', 'interview', 'interviewed', 'intimate', 'intimidated', 'into', 'intrestin', 'intricate', 'intriguing', 'intro', 'introduced', 'introduces', 'intrvw', 'invades', 'inventing', 'inventory', 'invest', 'investment', 'investor', 'investors', 'invisible', 'invite', 'invited', 'invites', 'invoking', 'io', 'ios', 'ip', 'ip4', 'ipad', 'ipad1', 'ipad2', 'ipad2s', 'ipad2time', 'ipaddesignheadaches', 'ipading', 'ipadmadness', 'ipads', 'iphone', 'iphone4', 'iphone5', 'iphones', 'ipod', 'ipods', 'ipoo', 'iqlab', 'iradar', 'irelay', 'ireport', 'iron', 'ironic', 'irrelevant', 'is', 'isack', 'ischafer', 'isn', 'issue', 'issues', 'istache', 'istock', 'it', 'item', 'its', 'itself', 'ittttt', 'itunes', 'itwillbemine', 'iusxsw', 'iwantacameraonmyipad', 'jailbreak', 'jaloux', 'james', 'jammy', 'janecek', 'japan', 'japanese', 'jared', 'java', 'javascript', 'jaw', 'jcpenney', 'jealous', 'jeanne', 'jeans', 'jeebus', 'jeez', 'jeff', 'jerk', 'jerranalley', 'jessedee', 'jet', 'jetsons', 'jinx', 'jk', 'job', 'jobs', 'jobsco', 'joe', 'johnston', 'join', 'joined', 'joke', 'jonathan', 'joomla', 'jose', 'josh', 'journal', 'journalists', 'journalsim', 'journey', 'joy', 'jpmobilesummit', 'jqtouch', 'jr', 'js', 'judging', 'juice', 'juiced', 'juicepack', 'julian', 'julie', 'jump', 'june', 'just', 'justin', 'justmet', 'justsaying', 'juts', 'jwtatl', 'jzsxsw', 'kara', 'karaoke', 'karateka', 'kawasaki', 'keep', 'keepaustinweird', 'keeping', 'keeps', 'keg', 'kek', 'ken', 'kenny', 'ketchsx', 'keyboard', 'keynote', 'keys', 'keywords', 'khan', 'khoi', 'kick', 'kickass', 'kicked', 'kicking', 'kid', 'kiddie', 'kidding', 'kids', 'kiiiiiilling', 'kill', 'killcommunity', 'killer', 'killers', 'killing', 'kind', 'kinda', 'kindle', 'king', 'kingston', 'kiosk', 'kirkus', 'kiss', 'kit', 'klick', 'klm', 'knackered', 'knew', 'knickers', 'knife', 'knockout', 'know', 'knowing', 'knowledge', 'known', 'knows', 'korean', 'korine', 'kthxbai', 'kudos', 'kweli', 'kyping', 'l8er', 'la', 'lab', 'labs', 'lack', 'ladies', 'lady', 'lake', 'lam', 'lame', 'land', 'landlords', 'landmark', 'landscapes', 'lanyrd', 'lap', 'laptop', 'laptops', 'large', 'larger', 'largest', 'larry', 'laser', 'last', 'lasts', 'lat', 'late', 'lately', 'later', 'latest', 'latina', 'latinasintech', 'latism', 'latitude', 'laugh', 'laughed', 'launch', 'launched', 'launches', 'launching', 'launchrock', 'laurieshook', 'lava', 'lavelle', 'law', 'laws', 'lax', 'layed', 'layer', 'lazy', 'lazyweb', 'lbs', 'lead', 'leading', 'league', 'leaked', 'leaning', 'leanstartup', 'learn', 'learned', 'learning', 'leash', 'leasing', 'least', 'leather', 'leave', 'leaves', 'leaving', 'left', 'legacy', 'lego', 'leider', 'leisure', 'leisurely', 'lemon', 'leopard', 'less', 'lessons', 'let', 'lets', 'letschangetheworld', 'letter', 'letting', 'letushopenot', 'level', 'leveraging', 'lewis', 'liberty', 'libraries', 'library', 'licked', 'lie', 'life', 'lifeless', 'lifelinetotheworld', 'lifetime', 'light', 'lightbox', 'lightbulb', 'lighters', 'likability', 'like', 'likeability', 'liked', 'likely', 'likes', 'liking', 'lil', 'limit', 'limited', 'limp', 'lindsay', 'line', 'lines', 'lineup', 'lining', 'link', 'linking', 'links', 'lisa', 'list', 'listen', 'listened', 'listening', 'literally', 'litle', 'little', 'live', 'liveblog', 'lives', 'livesteam', 'livetapp', 'living', 'livingthedream', 'll', 'load', 'loaded', 'loading', 'loathe', 'lobby', 'lobbying', 'local', 'localmind', 'locals', 'locating', 'location', 'locations', 'lockers', 'lockout', 'logic', 'logical', 'login', 'logo', 'logos', 'lol', 'lonely', 'lonelyplanet', 'long', 'longer', 'longlinesbadux', 'look', 'lookalike', 'looked', 'looking', 'lookingforwardtothemusicfest', 'looks', 'loose', 'looseorganizations', 'lord', 'lordy', 'lorry', 'lose', 'losers', 'losing', 'lost', 'lot', 'lots', 'lottery', 'loud', 'louisiana', 'lounge', 'lousy', 'love', 'loved', 'lovefresh', 'loveher', 'lovely', 'lovemusicapi', 'lovers', 'loves', 'lovesit', 'lovin', 'loving', 'lowest', 'loyalty', 'lp', 'lt', 'luck', 'lucky', 'ludicon', 'lug', 'lugging', 'lunch', 'lust', 'lustre', 'luxury', 'lxh', 'ly', 'lying', 'lynn', 'ma', 'mac', 'macallan', 'macbook', 'macbookpro', 'macbooks', 'macchiato', 'machine', 'machines', 'mackbook', 'macs', 'macys', 'mad', 'made', 'madebymany', 'madness', 'mae', 'maes', 'magazine', 'magazines', 'maggie', 'magic', 'maglight', 'magnet', 'magnetic', 'magnifying', 'mags', 'major', 'majority', 'make', 'makery', 'makes', 'makeshift', 'making', 'malady', 'malbonster', 'mall', 'malt', 'man', 'manage', 'management', 'manager', 'managing', 'manhandling', 'mania', 'manor', 'mantra', 'many', 'map', 'mapped', 'mappers', 'mapping', 'mapquest', 'maps', 'mar', 'marcelosomers', 'march', 'margarita', 'margin', 'marisa', 'marissa', 'marissagoogle', 'marissamayer', 'marissameyer', 'mark', 'market', 'marketer', 'marketing', 'marketplace', 'markets', 'mart', 'martinis', 'marty', 'marys', 'masha', 'mashable', 'mashbash', 'mass', 'masses', 'massive', 'mastered', 'matching', 'mater', 'math', 'matt', 'matter', 'matthew', 'maudies', 'mavis', 'may', 'maybe', 'mayer', 'mayers', 'mayor', 'mbp', 'mccannsxsw', 'mdw', 'me', 'mealtime', 'mean', 'meaning', 'meaningful', 'means', 'meant', 'measurement', 'measuring', 'meat', 'mecca', 'mechanics', 'media', 'meet', 'meeting', 'meetings', 'meets', 'meetup', 'meetups', 'mega', 'megastore', 'meh', 'mekong', 'mel', 'member', 'memolane', 'memories', 'men', 'mention', 'mentioned', 'mentionn', 'mentionr', 'merchant', 'mercy', 'message', 'messages', 'messaging', 'messed', 'messenger', 'messina', 'met', 'metaphor', 'methinks', 'mexican', 'mhealth', 'miamibeach', 'mic', 'michael', 'michaelpiliero', 'microformats', 'microsoft', 'mid', 'midday', 'middle', 'midem', 'midnight', 'midst', 'midway', 'mifi', 'might', 'mike', 'miles', 'military', 'mill', 'miller', 'million', 'millions', 'min', 'mind', 'mindjet', 'mindmanager', 'minds', 'mindshare', 'mine', 'mini', 'minimalistprogramming', 'minor', 'mint', 'minute', 'minutes', 'miracle', 'mirroring', 'miss', 'missed', 'missing', 'mission', 'misstatements', 'mistake', 'mistakes', 'mister', 'mitharvard', 'mix', 'mixed', 'mixing', 'mk', 'mkt', 'mktg', 'mmm', 'mmod', 'mnbuzz', 'mngr', 'mobil', 'mobile', 'mobilefarm', 'mobileroadie', 'mobs', 'mock', 'mocked', 'mocking', 'mode', 'model', 'models', 'moderator', 'mom', 'moma', 'moment', 'momento', 'moments', 'mommy', 'mon', 'monday', 'mondays', 'monetization', 'money', 'monger', 'monitor', 'monopoly', 'monster', 'month', 'months', 'mood', 'moody', 'moonbot', 'moonshine', 'mophie', 'more', 'moreknowledge', 'morning', 'morphie', 'mosaicxm', 'most', 'mostly', 'motherboard', 'mothers', 'motivator', 'motorola', 'mountain', 'mounts', 'mouse', 'move', 'moves', 'movie', 'movies', 'moving', 'mozilla', 'mp', 'mp3', 'mq', 'mr', 'mrs', 'msft', 'mt', 'much', 'mullenweg', 'multiple', 'muro', 'murphy', 'museum', 'museums', 'music', 'musica', 'musicians', 'musicviz', 'musiek', 'musik', 'musique', 'must', 'mute', 'muting', 'mwrc11', 'my', 'myegc', 'mylunch', 'mypov', 'myself', 'myspace', 'mystery', 'nab', 'nailed', 'naive', 'name', 'named', 'naomi', 'nat', 'native', 'natural', 'navigating', 'navigation', 'nba', 'nc', 'ncaa', 'near', 'nearly', 'neat', 'need', 'needle', 'needs', 'neither', 'nerd', 'nerdbird', 'nerdcore', 'nerdheaven', 'nerdiest', 'nerds', 'nerdsunite', 'nerdy', 'ness', 'netbook', 'netflix', 'netflixiphone', 'network', 'networking', 'networks', 'neumann', 'never', 'new', 'newapplestoreaustin', 'newest', 'newly', 'news', 'newsapps', 'newspaper', 'newspapers', 'newtrent', 'next', 'nextflix', 'nexus', 'nfc', 'nfl', 'nhk', 'nice', 'nicely', 'niceness', 'nick', 'nieuwe', 'nifty', 'night', 'nightjar', 'nike', 'nine', 'nineties', 'ning', 'ninjafinder', 'no', 'nobody', 'noes', 'nokia', 'nokiaconnects', 'non', 'nonprofit', 'nonprofits', 'noon', 'nope', 'nor', 'normal', 'not', 'notch', 'note', 'notes', 'notetaker', 'notevenstartedyet', 'nothing', 'notice', 'noticed', 'notionink', 'notpouting', 'notsomuch', 'nottheipad2', 'novelty', 'novideo', 'now', 'nowhammies', 'npr', 'nptech', 'nten', 'ntn', 'nuances', 'nudgenudge', 'numbassonfloor', 'number', 'nur', 'nuts', 'nutshell', 'nutters', 'nvidia', 'nxt', 'nyc', 'nyt', 'object', 'objective', 'obs', 'observation', 'observations', 'observer', 'obsessed', 'obsolete', 'obv', 'obvious', 'obviously', 'occasional', 'of', 'off', 'offer', 'offered', 'offering', 'offers', 'office', 'officer', 'official', 'officially', 'offline', 'offsite', 'often', 'ogilvy', 'ogilvynotes', 'oh', 'oil', 'ok', 'okay', 'ol', 'old', 'oldschool', 'oldsko0l', 'omaha', 'omfg', 'omg', 'omgz', 'omitting', 'on', 'once', 'one', 'ones', 'online', 'only', 'onto', 'ooing', 'oooh', 'ooooo', 'open', 'openbeta', 'openbeta6', 'opened', 'openexhibits', 'opening', 'opens', 'operators', 'opinions', 'opportunity', 'opposite', 'optimistic', 'optimized', 'optimum', 'options', 'optiscan', 'or', 'orange', 'order', 'ordered', 'ordering', 'ordinance', 'org', 'organic', 'organically', 'organization', 'organize', 'organized', 'organizing', 'original', 'orkut', 'orlando', 'orly', 'oscars', 'osmpw', 'ossum', 'other', 'others', 'otherwise', 'ouch', 'our', 'ours', 'out', 'outbrain', 'outdid', 'outlandish', 'outlet', 'outlook', 'outs', 'outside', 'over', 'overall', 'overblown', 'overcome', 'overflow', 'overheard', 'overheating', 'overlaid', 'overlapping', 'overlay', 'overload', 'overshadowing', 'oversized', 'overtaken', 'overview', 'overwhelming', 'owl', 'owllove', 'own', 'owner', 'owners', 'owns', 'oy', 'pac', 'pacific', 'pack', 'packed', 'packing', 'packrat', 'packs', 'padless', 'page', 'pagemaker', 'pages', 'paid', 'painful', 'pair', 'paired', 'pak', 'pakistan', 'palette', 'palsy', 'pandora', 'panel', 'panelist', 'panelists', 'panels', 'panhandling', 'panic', 'panned', 'panning', 'pants', 'paolo', 'papa', 'papasangre', 'paper', 'paperless', 'papyrus', 'para', 'parachute', 'parentheses', 'parents', 'pariah', 'park', 'parked', 'part', 'partial', 'participants', 'participating', 'parties', 'partner', 'partnerhub', 'partnership', 'parts', 'party', 'partying', 'partytweets', 'pass', 'passage', 'passenger', 'passes', 'passing', 'passport', 'past', 'paste', 'patch', 'path', 'patience', 'paul', 'pauly', 'pause', 'pavement', 'pay', 'paying', 'payingwithdata', 'payments', 'paypal', 'pc', 'pcbuzz', 'pcma', 'pdanet', 'pdf', 'pdx', 'peaked', 'pearl', 'peddle', 'pedicab', 'peek', 'peeps', 'peer', 'pen', 'penetrates', 'pengairborne', 'penguin', 'people', 'pep', 'per', 'percent', 'percentage', 'perfect', 'perfectly', 'performance', 'perhaps', 'periscope', 'permanent', 'permanently', 'perserverance', 'person', 'personal', 'personalized', 'peter', 'petition', 'petricone', 'petting', 'phenomenal', 'phew', 'phone', 'phones', 'photo', 'photobooth', 'photoes', 'photos', 'photosharing', 'physical', 'pi', 'pic', 'pick', 'picked', 'picking', 'pickmeupanipad2', 'pics', 'picture', 'pictures', 'pie', 'piece', 'pig', 'pigfucker', 'pilhofer', 'pillow', 'pinoy', 'piping', 'piss', 'pissedimnotgoingtosxsw', 'pissing', 'pit', 'pitch', 'pitchforks', 'pitfalls', 'pitted', 'pix', 'pixel', 'pixelated', 'pixels', 'pixieengine', 'place', 'places', 'plaid', 'plain', 'plan', 'plancast', 'plane', 'planely', 'planes', 'planet', 'planner', 'planning', 'plans', 'planting', 'planzai', 'plate', 'platform', 'play', 'playback', 'playbook', 'played', 'player', 'players', 'playhopskoch', 'playing', 'playstation', 'playsxsw', 'please', 'pleased', 'plenty', 'plied', 'pls', 'plug', 'pluged', 'plugin', 'plunge', 'plus', 'pm', 'pnid', 'pocket', 'podcast', 'poetry', 'point', 'pointer', 'points', 'police', 'policy', 'politics', 'pollak', 'ponies', 'poo', 'pool', 'poole', 'poor', 'poos', 'pop', 'popped', 'popping', 'popplet', 'poppop', 'popular', 'populous', 'popup', 'popupshop', 'popupstore', 'por', 'porn', 'portable', 'porting', 'posed', 'position', 'positioning', 'positive', 'positively', 'positives', 'possibility', 'possible', 'possibly', 'post', 'posted', 'postpc', 'pot', 'potential', 'potentially', 'pour', 'poursite', 'power', 'powerful', 'powerhouse', 'powering', 'powermat', 'powermatteam', 'powermattteam', 'pp', 'ppl', 'pr', 'practice', 'pragmatic', 'pre', 'precedent', 'precommerce', 'prefer', 'preference', 'preferences', 'preferrably', 'preferred', 'prefers', 'premature', 'premiere', 'premium', 'prep', 'preparation', 'preparations', 'prepared', 'preparing', 'prepping', 'presence', 'present', 'presentation', 'presented', 'presenters', 'presenting', 'preso', 'press', 'pressie', 'pressure', 'pretty', 'prettycool', 'preview', 'previews', 'previous', 'price', 'prices', 'pride', 'princess', 'principles', 'print', 'printed', 'prints', 'priorities', 'priority', 'privacy', 'private', 'prize', 'prizes', 'pro', 'prob', 'probably', 'problem', 'process', 'prodmktg', 'produced', 'producers', 'product', 'products', 'professionals', 'profile', 'profits', 'program', 'programming', 'progressbar', 'progression', 'project', 'project314', 'projecting', 'projects', 'promises', 'promo', 'promote', 'promotion', 'prompt', 'proof', 'propping', 'proprietary', 'props', 'protect', 'protecting', 'protip', 'protocol', 'proud', 'provide', 'provided', 'providing', 'proving', 'ps', 'pseudoretweet', 'psfk', 'pst', 'psych', 'psyched', 'psyches', 'pub', 'pubcamp', 'public', 'publishers', 'publishing', 'pull', 'pulling', 'pumped', 'pumps', 'pun', 'puppy', 'purchase', 'purchased', 'purchasers', 'purchases', 'purchasing', 'pure', 'puregenius', 'purpose', 'push', 'pushed', 'pusher', 'pushio', 'pushsnowboarding', 'put', 'puts', 'putting', 'puzzles', 'q7a', 'qa', 'qagb', 'qho', 'qr', 'qrafter', 'qrank', 'qrcode', 'qs', 'quadroid', 'quake', 'qualcomm', 'qualified', 'quality', 'quantity', 'quantter', 'quarantined', 'quarter', 'quarters', 'que', 'question', 'questioner', 'questions', 'queue', 'quibids', 'quibidswin', 'quick', 'quicker', 'quickly', 'quiet', 'quinn', 'quit', 'quite', 'quot', 'quotable', 'quotables', 'quotes', 'race', 'rachael', 'rad', 'radical', 'radio', 'raffled', 'raffling', 'rage', 'rails', 'rain', 'rainjacket', 'raised', 'raises', 'rallying', 'ran', 'rana', 'random', 'randomly', 'range', 'rank', 'ranked', 'ranking', 'rankings', 'rant', 'rare', 'rate', 'rates', 'rather', 'rating', 'ratings', 'ratio', 'ray', 're', 'reach', 'reached', 'reacquainted', 'read', 'reader', 'readership', 'reading', 'ready', 'real', 'realistic', 'reality', 'realize', 'realized', 'realizing', 'realllllllly', 'really', 'realtime', 'rear', 'reason', 'reasonable', 'reasoning', 'reasons', 'rebecca', 'rebeltv', 'rebranded', 'recap', 'received', 'recharge', 'recharging', 'recipe', 'recipes', 'recipient', 'reclaimed', 'recognition', 'recognize', 'recomds', 'recommend', 'recommendation', 'recommendations', 'recommended', 'recommends', 'record', 'recorder', 'recos', 'recovery', 'recreated', 'recs', 'recycled', 'red', 'redbox', 'redbull', 'reddit', 'rediculous', 'reel', 'ref', 'referrals', 'refine', 'refresh', 'refrigerator', 'regarded', 'regel', 'regions', 'register', 'registers', 'registrant', 'regrets', 'regretting', 'regular', 'regularly', 'rei', 'reid', 'reilly', 'reily', 'rejection', 'related', 'relation', 'relationship', 'relaxed', 'relaxing', 'release', 'released', 'releases', 'releasing', 'relevant', 'relic', 'relief', 'relies', 'religion', 'relinquish', 'relive', 'reliving', 'remaining', 'rematch', 'remedied', 'remember', 'remembered', 'reminding', 'removable', 'remove', 'rendering', 'renders', 'repair', 'replaced', 'replacement', 'replacing', 'replenished', 'replicate', 'replies', 'report', 'reporting', 'reports', 'repressed', 'reproducing', 'republic', 'reputation', 'rerouted', 'rescuing', 'research', 'resetting', 'resist', 'resonance', 'resource', 'resourceful', 'respect', 'respectfully', 'respecting', 'response', 'responses', 'responsibility', 'rest', 'restaurant', 'restaurants', 'restful', 'resting', 'restore', 'restored', 'restraunts', 'result', 'resulting', 'results', 'resume', 'retail', 'retiring', 'retrollect', 'return', 'retweet', 'retweeting', 'revealed', 'reveals', 'revelations', 'revenge', 'revenue', 'review', 'reviews', 'revolt', 'revolution', 'revolutionary', 'revolutions', 'reward', 'rewards', 'rewardswagon', 'rf', 'rhizome', 'richard', 'ridculous', 'ride', 'rides', 'ridic', 'ridicule', 'ridiculous', 'ridiculously', 'rig', 'rigeur', 'right', 'rightfully', 'rim', 'rimmed', 'ringing', 'rinna', 'riots', 'rip', 'ripped', 'ripping', 'rise', 'rite', 'river', 'rji', 'rm', 'road', 'roadie', 'roaming', 'robot', 'robots', 'rock', 'rockaroke', 'rocked', 'rockin', 'rocking', 'rocks', 'rockstache', 'role', 'roll', 'roof', 'room', 'rosso', 'rotational', 'round', 'route', 'routes', 'routing', 'row', 'rows', 'rpg', 'rsq', 'rsvp', 'rt', 'rub', 'rubbing', 'rule', 'rules', 'rumor', 'rumored', 'rumors', 'rumours', 'run', 'runaround', 'running', 'runs', 'rww', 'saatchiny', 'saber', 'sabotaged', 'sad', 'sadly', 'safari', 'said', 'sale', 'sales', 'salesperson', 'salon', 'sam', 'same', 'sampler', 'samsung', 'samsungmobileus', 'san', 'sandwich', 'sandwiched', 'sangre', 'sans', 'sapient', 'sat', 'saturday', 'sauce', 'save', 'savebrands', 'saved', 'saves', 'saveustechies', 'saving', 'savings', 'savvy', 'saw', 'say', 'saying', 'says', 'saysshewithoutanipad', 'scale', 'scan', 'scans', 'scarborough', 'scarbrough', 'scared', 'scarfing', 'scary', 'scavenger', 'scene', 'scenes', 'scepticism', 'sched', 'schedule', 'scheduled', 'scheduler', 'schedules', 'scheduling', 'schemas', 'school', 'schools', 'schtuff', 'schwag', 'science', 'scientific', 'scoping', 'score', 'scored', 'scoremore', 'scouts', 'screamed', 'screams', 'screen', 'screening', 'screenings', 'sd', 'sea', 'search', 'searchable', 'searches', 'searching', 'season', 'seat', 'seated', 'seats', 'seattle', 'sec', 'second', 'seconds', 'secret', 'security', 'see', 'seeing', 'seem', 'seemed', 'seemingly', 'seems', 'seen', 'seenocreepy', 'sees', 'seesmic', 'select', 'selected', 'selection', 'self', 'selfish', 'sell', 'selling', 'sells', 'sem', 'semantic', 'send', 'sending', 'sense', 'sent', 'seo', 'separate', 'september', 'serendipity', 'serious', 'seriously', 'seriousness', 'serv', 'serve', 'served', 'server', 'servers', 'serves', 'service', 'services', 'sesh', 'session', 'sessions', 'set', 'seta', 'sets', 'setting', 'settle', 'settling', 'setup', 'several', 'severe', 'severely', 'sfo', 'shade', 'shades', 'shakespeare', 'shall', 'shallow', 'shame', 'shamed', 'shameless', 'shaping', 'share', 'shareable', 'shared', 'sharers', 'sharing', 'sharp', 'shat', 'shatter', 'she', 'sheen', 'sheeple', 'shell', 'shelves', 'sheraton', 'shift', 'shill', 'shiner', 'shinmy', 'shiny', 'shipment', 'shipments', 'ships', 'shirt', 'shit', 'shite', 'shitty', 'shocked', 'shoot', 'shooting', 'shop', 'shops', 'short', 'shortcuts', 'shortening', 'shortly', 'shot', 'shotgun', 'should', 'shoulda', 'shoulder', 'shouldn', 'shout', 'shouts', 'show', 'showcase', 'showcased', 'showcases', 'showed', 'showing', 'shows', 'showusyouricrazy', 'shrink', 'shuffling', 'shut', 'sick', 'side', 'sides', 'sigh', 'sighting', 'sightings', 'sign', 'signal', 'signals', 'signed', 'signing', 'signs', 'silicon', 'sillier', 'silly', 'silver', 'simple', 'simply', 'simultaneously', 'sin', 'since', 'singing', 'single', 'singularity', 'sipping', 'sis', 'sister', 'sit', 'sitby', 'site', 'sites', 'sitting', 'six', 'sixth', 'size', 'skateboards', 'skepticism', 'sketch', 'sketchy', 'skiers', 'skill', 'skillfully', 'skills', 'skinny', 'skip', 'skulls', 'skyfire', 'skynet', 'skype', 'slap', 'slated', 'sleek', 'sleep', 'sleepy', 'sleeves', 'slice', 'sliced', 'slick', 'slides', 'slightly', 'slim', 'slips', 'sloanxsw', 'slow', 'slower', 'slowly', 'slowpoke', 'slp', 'smackdown', 'small', 'smallbiz', 'smaller', 'smart', 'smartcover', 'smarter', 'smartest', 'smartphone', 'smartphones', 'smartthings', 'smashed', 'smcdallas', 'smcomedyfyeah', 'smell', 'smileyparty', 'smm', 'smmnextgen', 'smokes', 'smooth', 'smtravel', 'smudgy', 'smugness', 'smurf', 'smut', 'smvis', 'smyle', 'sn', 'snagged', 'snakeheead', 'snap', 'snapping', 'snarky', 'sneakers', 'sneaky', 'so', 'socbiz', 'social', 'socialfuel', 'socially', 'socialmedia', 'socialmediabum', 'socialmuse', 'socialviewing', 'society', 'socks', 'socnet', 'softball', 'softlayer', 'software', 'sold', 'solely', 'solid', 'solo', 'solution', 'solutions', 'solves', 'solving', 'some', 'somebody', 'someday', 'somehow', 'someone', 'someones', 'something', 'somewhere', 'song', 'songs', 'sonos', 'sony', 'soo', 'soon', 'sore', 'sorry', 'sort', 'sorta', 'sorted', 'sound', 'soundcloud', 'sounding', 'sounds', 'source', 'south', 'southby', 'southpaw', 'southwest', 'space', 'spanking', 'spark', 'spasmatics', 'spazmatic', 'spazmatics', 'speak', 'speakeasy', 'speaking', 'speaks', 'special', 'specials', 'specific', 'speech', 'speed', 'speedup', 'spell', 'spend', 'spending', 'spent', 'spider', 'spilled', 'spin', 'spinning', 'spirit', 'spoiled', 'spoke', 'spoken', 'sponso', 'sponsored', 'spontaniety', 'sporting', 'spot', 'spots', 'spotted', 'spread', 'spring', 'sprinkle', 'sprint', 'spy', 'sq', 'square', 'squeal', 'squeeze', 'srsly', 'st', 'stabilizer', 'stacks', 'staff', 'stage', 'stand', 'standard', 'standardization', 'standing', 'star', 'starbu', 'starbucks', 'staring', 'starry', 'stars', 'start', 'started', 'starting', 'starts', 'startup', 'startupbus', 'startups', 'statement', 'states', 'station', 'stations', 'stats', 'statuses', 'stay', 'staying', 'stays', 'steady', 'stealing', 'steals', 'steampunk', 'steamy', 'stellar', 'step', 'stepped', 'stereo', 'sters', 'steve', 'stickers', 'still', 'stillman', 'stock', 'stogies', 'stoked', 'stole', 'stolen', 'stood', 'stop', 'stopped', 'stops', 'storage', 'store', 'stores', 'stories', 'storm', 'story', 'straight', 'strange', 'strangeproblems', 'stranger', 'strangers', 'straps', 'strategy', 'straw', 'stream', 'streaming', 'streams', 'street', 'streetview', 'strength', 'stress', 'stretches', 'striking', 'strip', 'strive', 'stroke', 'strong', 'structured', 'struggle', 'strums', 'stuck', 'studentsforcleanwater', 'studies', 'studios', 'study', 'studying', 'stuff', 'stumbledupon', 'stumbling', 'stunning', 'stunt', 'stupid', 'style', 'stylish', 'suasxsw', 'subscription', 'subscriptions', 'succeed', 'success', 'successful', 'succumb', 'such', 'suck', 'suckas', 'sucked', 'suckling', 'sucks', 'suddenly', 'suffered', 'suffering', 'suggest', 'suggestion', 'suggestions', 'suicidal', 'suicide', 'sullivan', 'sum', 'summer', 'summit', 'sun', 'sunday', 'sundayswagger', 'sunglasses', 'sunny', 'suns', 'super', 'superbia', 'supply', 'support', 'suppose', 'supposed', 'supposedly', 'sure', 'surely', 'surface', 'surpassed', 'surplus', 'surprise', 'surprises', 'surrounded', 'surui', 'survey', 'survival', 'survive', 'survived', 'suspense', 'sustainability', 'sux', 'suxsw', 'svcs', 'swag', 'swarming', 'swarms', 'sweater', 'sweeeeet', 'sweeeet', 'sweepstakes', 'sweet', 'sweets', 'swift', 'swing', 'swish', 'swisher', 'switch', 'switches', 'swonderlin', 'swoon', 'swsurrogates', 'swsx', 'sxfl', 'sxflip', 'sxprotect', 'sxsh', 'sxsurrogates', 'sxsw', 'sxsw11', 'sxsw2011', 'sxsw4japan', 'sxswaccel', 'sxswbarcrawl', 'sxswbigbrands', 'sxswbuffalo', 'sxswchi', 'sxswfail', 'sxswgood', 'sxswh', 'sxswi', 'sxswk', 'sxswlatam', 'sxswmobileapps', 'sxswmoot', 'sxswmusic', 'sxswmymistake', 'sxswnui', 'sxswpass', 'sxswsa', 'sxswsex', 'sxswsmall', 'sxswtoolkit', 'sxtxstate', 'sxwsi', 'sxxpress', 'syked', 'symbian', 'symbol', 'sync', 'synced', 'synching', 'syncing', 'syncs', 'synergy', 'system', 'systems', 'taariq', 'tab', 'table', 'tables', 'tablet', 'tablets', 'taccsxsw', 'tacos', 'tag', 'tagging', 'take', 'takeaway', 'taken', 'takeover', 'takes', 'takin', 'taking', 'talent', 'talented', 'talib', 'talk', 'talked', 'talking', 'talks', 'tan', 'tap', 'tapworthy', 'target', 'task', 'tastes', 'tattoo', 'tattooed', 'taught', 'taunt', 'tax', 'taxi', 'tbalinas', 'tbwasxsw', 'tc', 'tchin', 'tdg', 'teach', 'teaching', 'team', 'teamandroid', 'teamandroidsxsw', 'teams', 'tear', 'teathering', 'tech', 'tech4good', 'techcrunch', 'techenvy', 'techgeek', 'techie', 'techies', 'techiesunite', 'technews', 'technical', 'techno', 'technology', 'techrockstar', 'techsmith', 'tee', 'teeming', 'teeny', 'teeth', 'telegraph', 'teleporting', 'television', 'telework', 'tell', 'tells', 'temp', 'temperature', 'temperatures', 'temporary', 'tempt', 'temptation', 'tempted', 'tempting', 'ten', 'tenets', 'tent', 'teo', 'term', 'terminal', 'terms', 'terrible', 'test', 'tested', 'testing', 'tests', 'tether', 'tethering', 'texas', 'texasevery', 'text', 'texting', 'th', 'than', 'thank', 'thanks', 'thanksforthebrandedshades', 'thankyouecon', 'that', 'the', 'theatre', 'theem', 'theft', 'thegogame', 'theindustryparty', 'their', 'theirs', 'them', 'theme', 'themed', 'themselves', 'then', 'thenextweb', 'theplatform', 'ther', 'therapy', 'there', 'thereby', 'therefore', 'these', 'thewildernessdowntown', 'they', 'thick', 'thier', 'thin', 'thing', 'things', 'thingsthatdontgotogether', 'think', 'thinking', 'thinks', 'thinmints', 'thinner', 'third', 'thirsty', 'this', 'thisisdare', 'tho', 'thomas', 'thoora', 'those', 'though', 'thought', 'thoughtful', 'thoughts', 'thousands', 'threat', 'three', 'threw', 'thrilled', 'through', 'throughout', 'throw', 'throwin', 'throwing', 'thru', 'tht', 'thumbs', 'thunder', 'thursday', 'thus', 'thx', 'ticket', 'tidbit', 'tiff', 'tigerblood', 'til', 'till', 'tim', 'timberlake', 'time', 'timechange', 'timeline', 'timely', 'times', 'timing', 'tinkering', 'tiny', 'tinyurl', 'tip', 'tips', 'tis', 'title', 'titles', 'tix', 'tkts', 'tm', 'tme', 'tmobile', 'tmr', 'tmsxsw', 'tnw', 'tnx', 'to', 'toast', 'today', 'together', 'told', 'tomlinson', 'tomorrow', 'ton', 'tonchidot', 'tonigh', 'tonight', 'tons', 'too', 'toocoolforsxswanyway', 'toodamnlucky', 'took', 'tool', 'toolkit', 'toolongforme', 'tools', 'toooo', 'top', 'topicality', 'topics', 'topnews', 'tops', 'topspin', 'torch', 'tore', 'torture', 'torturous', 'total', 'totalitarian', 'totally', 'toting', 'touch', 'touched', 'touching', 'touchingstories', 'tough', 'tougher', 'toured', 'tournament', 'towards', 'towel', 'town', 'toy', 'track', 'tracker', 'trackpads', 'tracks', 'tractor', 'trade', 'traded', 'tradeshow', 'traffic', 'trailer', 'train', 'trajan', 'tramplings', 'transfer', 'transient', 'transition', 'translated', 'transparency', 'transparently', 'trashy', 'trauma', 'travel', 'travelers', 'traveling', 'traveller', 'treatment', 'trenches', 'trend', 'trending', 'trends', 'tribes', 'tricked', 'tried', 'tries', 'trigger', 'trip', 'tripping', 'tron', 'trophy', 'trouble', 'truck', 'trucks', 'true', 'truly', 'trumping', 'trumps', 'trust', 'trusted', 'trustworthiness', 'truth', 'try', 'trying', 'ts', 'tshirt', 'tsunami', 'tt', 'tub', 'tube', 'tuesday', 'tumblr', 'tunage', 'tune', 'tuned', 'tunehopper', 'tunes', 'turing', 'turkey', 'turn', 'turned', 'turning', 'turns', 'tv', 'tveverywhere', 'tvontheradio', 'tvs', 'tweeps', 'tweet', 'tweetcaster', 'tweetdeck', 'tweeted', 'tweethouse', 'tweetie', 'tweetignite', 'tweeting', 'tweets', 'tweetup', 'twice', 'twit', 'twitpic', 'twitter', 'twittering', 'twitterpower', 'two', 'tx', 'tye', 'type', 'typing', 'tyson', 'uber', 'uberguide', 'ubersocial', 'ubertwitter', 'ubiquitous', 'ubiquity', 'ubuntu', 'ugh', 'ughhh', 'ui', 'um', 'umassjour', 'umm', 'ummmm', 'umshini', 'un', 'una', 'unabashed', 'unadulterated', 'unbearable', 'unbelievable', 'unboxing', 'uncategorized', 'uncharged', 'unconfirmed', 'under', 'underestimate', 'underneath', 'understand', 'understanding', 'underway', 'underwire', 'undoubtedly', 'unequipped', 'unexpected', 'ungrateful', 'unimitated', 'unique', 'unite', 'united', 'units', 'universe', 'unleash', 'unless', 'unlisted', 'unloaded', 'unloading', 'unlockable', 'unlocking', 'unoffic', 'unofficial', 'unpack', 'unpaid', 'unreal', 'unscientific', 'unsix', 'unstable', 'untapped', 'until', 'unveil', 'unveiled', 'unveiling', 'unveils', 'uosxsw', 'up', 'upbeat', 'upc', 'update', 'updated', 'updates', 'updating', 'upgrade', 'upgrading', 'upload', 'uppward', 'ups', 'upset', 'upside', 'ur', 'urs', 'urthots', 'us', 'usa', 'usability', 'usage', 'usb', 'usdes', 'use', 'used', 'useful', 'usefulness', 'useless', 'user', 'users', 'uses', 'usguys', 'using', 'ustream', 'usual', 'usurped', 'utilize', 'utter', 'ux', 'uxdes', 'uzu', 'v1', 'v2', 'v3', 'v5', 'vacation', 'valid', 'valley', 'valuable', 'value', 'values', 'vast', 'vb', 'vcards', 've', 'vector', 'vectors', 'vegan', 'vegas', 'vending', 'venturebeat', 'venue', 'venues', 'ver', 'verizon', 'verpixelungsrecht', 'version', 'versions', 'very', 'veryslow', 'vestibule', 'veterans', 'via', 'viagra', 'vibe', 'vicariously', 'victims', 'vid', 'video', 'videogame', 'videogames', 'videos', 'vids', 'view', 'view512', 'viewed', 'viewing', 'views', 'vinh', 'vintage', 'vip', 'virgin', 'virginity', 'virtual', 'virtually', 'virtualoffice', 'virtualwallet', 'visigoths', 'visit', 'visiting', 'visitors', 'visits', 'visual', 'visualization', 'visualizing', 'vmware', 'voice', 'voicefeed', 'volume', 'voluntarily', 'volunteers', 'vortex', 'vote', 'voxpop', 'vp', 'vs', 'vuelta', 'vufinders', 'vuvuzela', 'w00t', 'waaaaaa', 'wack', 'wait', 'waited', 'waiting', 'wakeup', 'wal', 'walk', 'walked', 'walkin', 'walking', 'walks', 'wall', 'wallace', 'walmart', 'wam', 'wandered', 'wanderer', 'wanna', 'wannabe', 'want', 'wanted', 'wanting', 'wants', 'war', 'warmer', 'warmth', 'warning', 'wars', 'wary', 'was', 'wasn', 'waste', 'wasted', 'wasting', 'watch', 'watched', 'watching', 'water', 'waterproof', 'watson', 'wave', 'way', 'ways', 'waze', 'we', 'wearing', 'weasel', 'weather', 'web', 'web3', 'web30', 'webdoc', 'webkit', 'webmail', 'webmasters', 'website', 'websites', 'webvisions', 'wed', 'week', 'weekend', 'weeks', 'weeping', 'weight', 'weinschenk', 'weird', 'welcome', 'welivehere', 'well', 'went', 'were', 'weren', 'wesley83', 'weve', 'wew', 'whale', 'what', 'whatcha', 'when', 'where', 'whether', 'which', 'while', 'whimsical', 'white', 'whiteboarding', 'who', 'whoa', 'whole', 'whoooooo', 'whoops', 'whowillrise', 'whrrl', 'why', 'wi', 'wider', 'widfy', 'widgets', 'wife', 'wifi', 'wii', 'wil', 'wild', 'wilderness', 'will', 'williams', 'willing', 'willpay', 'willpower', 'wilting', 'win', 'winamp', 'windows', 'wine', 'wings', 'winner', 'winners', 'winning', 'wins', 'wintel', 'winwin', 'wipes', 'wired', 'wireless', 'wires', 'wise', 'wish', 'wishing', 'with', 'within', 'withme', 'without', 'witty', 'wjchat', 'wk', 'wkd', 'wkend', 'wknd', 'woah', 'wodpress', 'woes', 'wohooo', 'woke', 'wolfenstein', 'wolfram', 'woman', 'women', 'won', 'wonder', 'wonderful', 'wondering', 'wonders', 'woo', 'woohoo', 'wooooo', 'woops', 'woot', 'word', 'wordnerd', 'wordpress', 'words', 'work', 'worked', 'workers', 'workin', 'working', 'works', 'workspace', 'world', 'worlds', 'worldwide', 'worn', 'worried', 'worry', 'worse', 'worst', 'worth', 'worthwhile', 'wot', 'would', 'wouldn', 'wow', 'wowwwwww', 'wozniak', 'wp7', 'wr', 'wrap', 'wrapper', 'write', 'writer', 'writing', 'wrong', 'wrote', 'wsj', 'wssxsw', 'wtf', 'wth', 'wundertablet', 'wwsxsw', 'www', 'x6t1pi6av7', 'xbox', 'xd', 'xipad', 'xm', 'xmas', 'xml', 'xoom', 'xperia', 'xwave', 'ya', 'yai', 'yall', 'yawn', 'yay', 'yea', 'yeaayyy', 'yeah', 'year', 'years', 'yeasayer', 'yeay', 'yellow', 'yelp', 'yelping', 'yep', 'yer', 'yes', 'yesterday', 'yet', 'yield', 'yikes', 'yo', 'yobongo', 'yonkers', 'york', 'you', 'youneedthis', 'your', 'yours', 'yourself', 'youtube', 'yowza', 'yr', 'yrs', 'yummy', 'yup', 'zaarly', 'zaarlyiscoming', 'zagg', 'zaggle', 'zappos', 'zazzle', 'zazzlesxsw', 'zazzlsxsw', 'ze', 'zelda', 'zeldman', 'zero', 'zimride', 'zing', 'zip', 'zite', 'zms', 'zombies', 'zomg', 'zone', 'zoom', 'zzzs']"
     ]
    },
    {
     "name": "stdout",
     "output_type": "stream",
     "text": [
      "\n"
     ]
    }
   ],
   "source": [
    "vocab = vect.get_feature_names()\n",
    "print (vocab)"
   ]
  },
  {
   "cell_type": "code",
   "execution_count": null,
   "metadata": {},
   "outputs": [],
   "source": []
  },
  {
   "cell_type": "code",
   "execution_count": null,
   "metadata": {},
   "outputs": [],
   "source": []
  },
  {
   "cell_type": "markdown",
   "metadata": {
    "colab_type": "text",
    "id": "dwtgjTBeH0Ny"
   },
   "source": [
    "#### Tip: To see all available functions for an Object use dir"
   ]
  },
  {
   "cell_type": "code",
   "execution_count": null,
   "metadata": {
    "colab": {},
    "colab_type": "code",
    "id": "2n_iCcTNH0N0"
   },
   "outputs": [],
   "source": []
  },
  {
   "cell_type": "markdown",
   "metadata": {
    "colab_type": "text",
    "id": "ShA6D8jKH0N5"
   },
   "source": [
    "### 6. Find out how many Positive and Negative emotions are there.\n",
    "\n",
    "Hint: Use value_counts on that column"
   ]
  },
  {
   "cell_type": "code",
   "execution_count": 18,
   "metadata": {
    "colab": {},
    "colab_type": "code",
    "id": "q7LAl5pzH0N6"
   },
   "outputs": [
    {
     "data": {
      "text/plain": [
       "Positive emotion    2672\n",
       "Negative emotion     519\n",
       "Name: is_there_an_emotion_directed_at_a_brand_or_product, dtype: int64"
      ]
     },
     "execution_count": 18,
     "metadata": {},
     "output_type": "execute_result"
    }
   ],
   "source": [
    "data[\"is_there_an_emotion_directed_at_a_brand_or_product\"].value_counts()"
   ]
  },
  {
   "cell_type": "markdown",
   "metadata": {
    "colab_type": "text",
    "id": "IUvgj0FoH0N9"
   },
   "source": [
    "### 7. Change the labels for Positive and Negative emotions as 1 and 0 respectively and store in a different column in the same dataframe named 'Label'\n",
    "\n",
    "Hint: use map on that column and give labels"
   ]
  },
  {
   "cell_type": "code",
   "execution_count": 19,
   "metadata": {
    "colab": {},
    "colab_type": "code",
    "id": "YftKwFv7H0N9"
   },
   "outputs": [],
   "source": [
    "data[\"is_there_an_emotion_directed_at_a_brand_or_product\"] = data[\"is_there_an_emotion_directed_at_a_brand_or_product\"].replace(['Positive emotion','Negative emotion'],[1,0])"
   ]
  },
  {
   "cell_type": "code",
   "execution_count": null,
   "metadata": {},
   "outputs": [],
   "source": []
  },
  {
   "cell_type": "markdown",
   "metadata": {
    "colab_type": "text",
    "id": "3YErwYLCH0N_"
   },
   "source": [
    "### 8 Define the feature set (independent variable or X) to be `text` column and `labels` as target (or dependent variable)  and divide into train and test datasets"
   ]
  },
  {
   "cell_type": "code",
   "execution_count": 20,
   "metadata": {
    "colab": {},
    "colab_type": "code",
    "id": "lNkwrGgEH0OA"
   },
   "outputs": [],
   "source": [
    "X = data['text']\n",
    "Y = data['is_there_an_emotion_directed_at_a_brand_or_product']"
   ]
  },
  {
   "cell_type": "code",
   "execution_count": 21,
   "metadata": {},
   "outputs": [
    {
     "data": {
      "text/plain": [
       "(3191,)"
      ]
     },
     "execution_count": 21,
     "metadata": {},
     "output_type": "execute_result"
    },
    {
     "data": {
      "text/plain": [
       "(3191,)"
      ]
     },
     "execution_count": 21,
     "metadata": {},
     "output_type": "execute_result"
    }
   ],
   "source": [
    "X.shape\n",
    "Y.shape"
   ]
  },
  {
   "cell_type": "code",
   "execution_count": 22,
   "metadata": {},
   "outputs": [
    {
     "data": {
      "text/plain": [
       "(3191, 5600)"
      ]
     },
     "execution_count": 22,
     "metadata": {},
     "output_type": "execute_result"
    },
    {
     "data": {
      "text/plain": [
       "(3191,)"
      ]
     },
     "execution_count": 22,
     "metadata": {},
     "output_type": "execute_result"
    },
    {
     "data": {
      "text/plain": [
       "<3191x5600 sparse matrix of type '<class 'numpy.int64'>'\n",
       "\twith 53151 stored elements in Compressed Sparse Row format>"
      ]
     },
     "execution_count": 22,
     "metadata": {},
     "output_type": "execute_result"
    }
   ],
   "source": [
    "X = vector\n",
    "Y = data['is_there_an_emotion_directed_at_a_brand_or_product']\n",
    "X.shape\n",
    "Y.shape\n",
    "vector"
   ]
  },
  {
   "cell_type": "markdown",
   "metadata": {
    "colab_type": "text",
    "id": "Q5nlCuaaH0OD"
   },
   "source": [
    "## 9. **Predicting the sentiment:**\n",
    "\n",
    "\n",
    "### Use Naive Bayes and Logistic Regression and their accuracy scores for predicting the sentiment of the given text"
   ]
  },
  {
   "cell_type": "code",
   "execution_count": 23,
   "metadata": {
    "colab": {},
    "colab_type": "code",
    "id": "2AbVYssaH0OE"
   },
   "outputs": [],
   "source": [
    "from sklearn.model_selection import train_test_split\n",
    "X_train, X_test, Y_train, Y_test = train_test_split(X, Y, test_size=0.30, random_state=1)"
   ]
  },
  {
   "cell_type": "code",
   "execution_count": 25,
   "metadata": {},
   "outputs": [],
   "source": [
    "X_train=X_train.toarray()\n",
    "X_test=X_test.toarray()"
   ]
  },
  {
   "cell_type": "code",
   "execution_count": 26,
   "metadata": {},
   "outputs": [
    {
     "data": {
      "text/plain": [
       "GaussianNB(priors=None, var_smoothing=1e-09)"
      ]
     },
     "execution_count": 26,
     "metadata": {},
     "output_type": "execute_result"
    },
    {
     "data": {
      "text/plain": [
       "0.9520824003582624"
      ]
     },
     "execution_count": 26,
     "metadata": {},
     "output_type": "execute_result"
    },
    {
     "data": {
      "text/plain": [
       "0.767223382045929"
      ]
     },
     "execution_count": 26,
     "metadata": {},
     "output_type": "execute_result"
    },
    {
     "name": "stdout",
     "output_type": "stream",
     "text": [
      "              precision    recall  f1-score   support\n",
      "\n",
      "           0       0.39      0.44      0.41       179\n",
      "           1       0.87      0.84      0.85       779\n",
      "\n",
      "   micro avg       0.77      0.77      0.77       958\n",
      "   macro avg       0.63      0.64      0.63       958\n",
      "weighted avg       0.78      0.77      0.77       958\n",
      "\n",
      "[[ 78 101]\n",
      " [122 657]]\n"
     ]
    }
   ],
   "source": [
    "#naive bayes\n",
    "\n",
    "from sklearn.naive_bayes import GaussianNB\n",
    "model = GaussianNB()\n",
    "model.fit(X_train, Y_train)\n",
    "model.score(X_train, Y_train)\n",
    "model.score(X_test, Y_test)\n",
    "test_pred = model.predict(X_test)\n",
    "from sklearn import metrics\n",
    "print(metrics.classification_report(Y_test, test_pred))\n",
    "print(metrics.confusion_matrix(Y_test, test_pred))"
   ]
  },
  {
   "cell_type": "code",
   "execution_count": 27,
   "metadata": {},
   "outputs": [
    {
     "data": {
      "text/plain": [
       "LogisticRegression(C=1.0, class_weight=None, dual=False, fit_intercept=True,\n",
       "          intercept_scaling=1, max_iter=100, multi_class='warn',\n",
       "          n_jobs=None, penalty='l2', random_state=None, solver='warn',\n",
       "          tol=0.0001, verbose=0, warm_start=False)"
      ]
     },
     "execution_count": 27,
     "metadata": {},
     "output_type": "execute_result"
    },
    {
     "data": {
      "text/plain": [
       "0.9793999104343932"
      ]
     },
     "execution_count": 27,
     "metadata": {},
     "output_type": "execute_result"
    },
    {
     "data": {
      "text/plain": [
       "0.8549060542797495"
      ]
     },
     "execution_count": 27,
     "metadata": {},
     "output_type": "execute_result"
    },
    {
     "name": "stdout",
     "output_type": "stream",
     "text": [
      "              precision    recall  f1-score   support\n",
      "\n",
      "           0       0.73      0.35      0.48       179\n",
      "           1       0.87      0.97      0.92       779\n",
      "\n",
      "   micro avg       0.85      0.85      0.85       958\n",
      "   macro avg       0.80      0.66      0.70       958\n",
      "weighted avg       0.84      0.85      0.83       958\n",
      "\n",
      "[[ 63 116]\n",
      " [ 23 756]]\n"
     ]
    }
   ],
   "source": [
    "#Logistic\n",
    "from sklearn.linear_model import LogisticRegression\n",
    "model_LR = LogisticRegression()\n",
    "model_LR.fit(X_train, Y_train)\n",
    "\n",
    "model_LR.score(X_train, Y_train)\n",
    "model_LR.score(X_test, Y_test)\n",
    "\n",
    "test_pred = model_LR.predict(X_test)\n",
    "from sklearn import metrics\n",
    "print(metrics.classification_report(Y_test, test_pred))\n",
    "print(metrics.confusion_matrix(Y_test, test_pred))"
   ]
  },
  {
   "cell_type": "code",
   "execution_count": null,
   "metadata": {},
   "outputs": [],
   "source": []
  },
  {
   "cell_type": "code",
   "execution_count": null,
   "metadata": {
    "colab": {},
    "colab_type": "code",
    "id": "ktXrLhmOH0Of"
   },
   "outputs": [],
   "source": []
  },
  {
   "cell_type": "code",
   "execution_count": null,
   "metadata": {
    "colab": {},
    "colab_type": "code",
    "id": "clv2X0kKH0Ok"
   },
   "outputs": [],
   "source": []
  },
  {
   "cell_type": "code",
   "execution_count": null,
   "metadata": {
    "colab": {},
    "colab_type": "code",
    "id": "K86LRMfdH0Ou"
   },
   "outputs": [],
   "source": []
  },
  {
   "cell_type": "markdown",
   "metadata": {
    "colab_type": "text",
    "id": "sw-0B33tH0Ox"
   },
   "source": [
    "## 10. Create a function called `tokenize_predict` which can take count vectorizer object as input and prints the accuracy for x (text) and y (labels)"
   ]
  },
  {
   "cell_type": "code",
   "execution_count": 28,
   "metadata": {},
   "outputs": [],
   "source": [
    "X = data.text\n",
    "Y = data['is_there_an_emotion_directed_at_a_brand_or_product']"
   ]
  },
  {
   "cell_type": "code",
   "execution_count": 29,
   "metadata": {},
   "outputs": [],
   "source": [
    "from sklearn.model_selection import train_test_split\n",
    "x_train, x_test, y_train, y_test = train_test_split(X, Y, test_size=0.30, random_state=1)"
   ]
  },
  {
   "cell_type": "code",
   "execution_count": 30,
   "metadata": {
    "colab": {},
    "colab_type": "code",
    "id": "okCTOs1TH0Oy"
   },
   "outputs": [],
   "source": [
    "from sklearn.naive_bayes import MultinomialNB\n",
    "def tokenize_test(vect):\n",
    "    x_train_dtm = vect.fit_transform(x_train)\n",
    "    print('Features: ', x_train_dtm.shape[1])\n",
    "    x_test_dtm = vect.transform(x_test)\n",
    "    nb = MultinomialNB()\n",
    "    nb.fit(x_train_dtm, y_train)\n",
    "    y_pred_class = nb.predict(x_test_dtm)\n",
    "    print('Accuracy: ', metrics.accuracy_score(y_test, y_pred_class))"
   ]
  },
  {
   "cell_type": "code",
   "execution_count": 31,
   "metadata": {},
   "outputs": [],
   "source": [
    "def tokenize_predict(input):\n",
    "    return tokenize_test(input)"
   ]
  },
  {
   "cell_type": "code",
   "execution_count": 32,
   "metadata": {},
   "outputs": [
    {
     "name": "stdout",
     "output_type": "stream",
     "text": [
      "Features:  4707\n",
      "Accuracy:  0.8423799582463466\n"
     ]
    }
   ],
   "source": [
    "tokenize_predict(vect)"
   ]
  },
  {
   "cell_type": "code",
   "execution_count": null,
   "metadata": {},
   "outputs": [],
   "source": []
  },
  {
   "cell_type": "code",
   "execution_count": null,
   "metadata": {},
   "outputs": [],
   "source": []
  },
  {
   "cell_type": "markdown",
   "metadata": {
    "colab_type": "text",
    "id": "JxZ8jfPEH0O0"
   },
   "source": [
    "### 11 Create a count vectorizer function which includes n_grams = 1,2  and pass it to tokenize_predict function to print the accuracy score"
   ]
  },
  {
   "cell_type": "code",
   "execution_count": 33,
   "metadata": {
    "colab": {},
    "colab_type": "code",
    "id": "kdCyAN_IH0O0"
   },
   "outputs": [
    {
     "name": "stdout",
     "output_type": "stream",
     "text": [
      "Features:  23605\n",
      "Accuracy:  0.8496868475991649\n"
     ]
    }
   ],
   "source": [
    "\n",
    "vect1 = CountVectorizer(ngram_range=(1,2))\n",
    "tokenize_predict(vect1)"
   ]
  },
  {
   "cell_type": "code",
   "execution_count": null,
   "metadata": {},
   "outputs": [],
   "source": []
  },
  {
   "cell_type": "markdown",
   "metadata": {
    "colab_type": "text",
    "id": "axepytmgH0O4"
   },
   "source": [
    "### Q 12 Create a count vectorizer function with stopwords = 'english'  and pass it to tokenize_predict function to print the accuracy score"
   ]
  },
  {
   "cell_type": "code",
   "execution_count": 34,
   "metadata": {},
   "outputs": [
    {
     "name": "stdout",
     "output_type": "stream",
     "text": [
      "Features:  4471\n",
      "Accuracy:  0.8423799582463466\n"
     ]
    }
   ],
   "source": [
    "vect2 = CountVectorizer(stop_words='english')\n",
    "tokenize_predict(vect2)"
   ]
  },
  {
   "cell_type": "code",
   "execution_count": null,
   "metadata": {},
   "outputs": [],
   "source": []
  },
  {
   "cell_type": "code",
   "execution_count": null,
   "metadata": {},
   "outputs": [],
   "source": []
  },
  {
   "cell_type": "code",
   "execution_count": null,
   "metadata": {
    "colab": {},
    "colab_type": "code",
    "id": "HToGkq7vH0O4"
   },
   "outputs": [],
   "source": []
  },
  {
   "cell_type": "markdown",
   "metadata": {
    "colab_type": "text",
    "id": "iOIlJRxoH0O7"
   },
   "source": [
    "### Q 13 Create a count vectorizer function with stopwords = 'english' and max_features =300  and pass it to tokenize_predict function to print the accuracy score"
   ]
  },
  {
   "cell_type": "code",
   "execution_count": 35,
   "metadata": {},
   "outputs": [
    {
     "name": "stdout",
     "output_type": "stream",
     "text": [
      "Features:  300\n",
      "Accuracy:  0.8100208768267223\n"
     ]
    }
   ],
   "source": [
    "vect3 = CountVectorizer(stop_words='english', max_features=300)\n",
    "tokenize_predict(vect3)"
   ]
  },
  {
   "cell_type": "code",
   "execution_count": null,
   "metadata": {},
   "outputs": [],
   "source": []
  },
  {
   "cell_type": "code",
   "execution_count": null,
   "metadata": {},
   "outputs": [],
   "source": []
  },
  {
   "cell_type": "code",
   "execution_count": null,
   "metadata": {},
   "outputs": [],
   "source": []
  },
  {
   "cell_type": "code",
   "execution_count": null,
   "metadata": {
    "colab": {},
    "colab_type": "code",
    "id": "6fUhff-oH0O8"
   },
   "outputs": [],
   "source": []
  },
  {
   "cell_type": "markdown",
   "metadata": {
    "colab_type": "text",
    "id": "S2KZNWVkH0PA"
   },
   "source": [
    "### Q 14 Create a count vectorizer function with n_grams = 1,2  and max_features = 15000  and pass it to tokenize_predict function to print the accuracy score"
   ]
  },
  {
   "cell_type": "code",
   "execution_count": null,
   "metadata": {},
   "outputs": [],
   "source": []
  },
  {
   "cell_type": "code",
   "execution_count": 36,
   "metadata": {},
   "outputs": [
    {
     "name": "stdout",
     "output_type": "stream",
     "text": [
      "Features:  15000\n",
      "Accuracy:  0.8465553235908142\n"
     ]
    }
   ],
   "source": [
    "vect4 = CountVectorizer(ngram_range=(1,2), max_features=15000)\n",
    "tokenize_predict(vect4)"
   ]
  },
  {
   "cell_type": "code",
   "execution_count": null,
   "metadata": {},
   "outputs": [],
   "source": []
  },
  {
   "cell_type": "code",
   "execution_count": null,
   "metadata": {},
   "outputs": [],
   "source": []
  },
  {
   "cell_type": "code",
   "execution_count": null,
   "metadata": {
    "colab": {},
    "colab_type": "code",
    "id": "3v9XD082H0PB"
   },
   "outputs": [],
   "source": []
  },
  {
   "cell_type": "markdown",
   "metadata": {
    "colab_type": "text",
    "id": "We3JK_SRH0PO"
   },
   "source": [
    "### Q. 15 -Create a count vectorizer function with n_grams = 1,2  and include terms that appear at least 2 times (min_df = 2)  and pass it to tokenize_predict function to print the accuracy score"
   ]
  },
  {
   "cell_type": "code",
   "execution_count": 37,
   "metadata": {},
   "outputs": [
    {
     "name": "stdout",
     "output_type": "stream",
     "text": [
      "Features:  7230\n",
      "Accuracy:  0.8507306889352818\n"
     ]
    }
   ],
   "source": [
    "vect5 = CountVectorizer(ngram_range=(1,2), min_df=2)\n",
    "tokenize_predict(vect5)"
   ]
  },
  {
   "cell_type": "code",
   "execution_count": null,
   "metadata": {},
   "outputs": [],
   "source": []
  },
  {
   "cell_type": "code",
   "execution_count": null,
   "metadata": {},
   "outputs": [],
   "source": []
  },
  {
   "cell_type": "code",
   "execution_count": null,
   "metadata": {},
   "outputs": [],
   "source": []
  },
  {
   "cell_type": "code",
   "execution_count": null,
   "metadata": {
    "colab": {},
    "colab_type": "code",
    "id": "fUHrfDCyH0PP"
   },
   "outputs": [],
   "source": []
  },
  {
   "cell_type": "code",
   "execution_count": null,
   "metadata": {
    "colab": {},
    "colab_type": "code",
    "id": "3H4k_lVZH0PS"
   },
   "outputs": [],
   "source": []
  }
 ],
 "metadata": {
  "accelerator": "GPU",
  "colab": {
   "collapsed_sections": [],
   "name": "R8_Internal_Lab_Questions.ipynb",
   "provenance": [],
   "version": "0.3.2"
  },
  "kernelspec": {
   "display_name": "Python 3",
   "language": "python",
   "name": "python3"
  },
  "language_info": {
   "codemirror_mode": {
    "name": "ipython",
    "version": 3
   },
   "file_extension": ".py",
   "mimetype": "text/x-python",
   "name": "python",
   "nbconvert_exporter": "python",
   "pygments_lexer": "ipython3",
   "version": "3.7.3"
  }
 },
 "nbformat": 4,
 "nbformat_minor": 1
}

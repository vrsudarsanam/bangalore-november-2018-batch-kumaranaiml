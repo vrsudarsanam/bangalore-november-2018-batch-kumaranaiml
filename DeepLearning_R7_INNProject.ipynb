{
 "cells": [
  {
   "cell_type": "code",
   "execution_count": 1,
   "metadata": {},
   "outputs": [],
   "source": [
    "import numpy as np\n",
    "import h5py"
   ]
  },
  {
   "cell_type": "code",
   "execution_count": 2,
   "metadata": {},
   "outputs": [],
   "source": [
    "sv_data = h5py.File(\"SVHN_single_grey1.h5\")"
   ]
  },
  {
   "cell_type": "code",
   "execution_count": 3,
   "metadata": {},
   "outputs": [
    {
     "data": {
      "text/plain": [
       "['X_test', 'X_train', 'X_val', 'y_test', 'y_train', 'y_val']"
      ]
     },
     "execution_count": 3,
     "metadata": {},
     "output_type": "execute_result"
    }
   ],
   "source": [
    "list(sv_data)"
   ]
  },
  {
   "cell_type": "code",
   "execution_count": 4,
   "metadata": {},
   "outputs": [],
   "source": [
    "X_test = sv_data['X_test']\n",
    "X_train = sv_data['X_train']\n",
    "X_val = sv_data['X_val']\n",
    "y_test = sv_data['y_test']\n",
    "y_train = sv_data['y_train']\n",
    "y_val = sv_data['y_val']"
   ]
  },
  {
   "cell_type": "code",
   "execution_count": 5,
   "metadata": {},
   "outputs": [
    {
     "data": {
      "text/plain": [
       "(42000, 32, 32)"
      ]
     },
     "execution_count": 5,
     "metadata": {},
     "output_type": "execute_result"
    }
   ],
   "source": [
    "X_train.shape"
   ]
  },
  {
   "cell_type": "code",
   "execution_count": 6,
   "metadata": {},
   "outputs": [
    {
     "data": {
      "text/plain": [
       "(42000,)"
      ]
     },
     "execution_count": 6,
     "metadata": {},
     "output_type": "execute_result"
    }
   ],
   "source": [
    "y_train.shape"
   ]
  },
  {
   "cell_type": "code",
   "execution_count": 7,
   "metadata": {},
   "outputs": [
    {
     "data": {
      "text/plain": [
       "(18000, 32, 32)"
      ]
     },
     "execution_count": 7,
     "metadata": {},
     "output_type": "execute_result"
    }
   ],
   "source": [
    "X_test.shape"
   ]
  },
  {
   "cell_type": "code",
   "execution_count": 8,
   "metadata": {},
   "outputs": [
    {
     "data": {
      "text/plain": [
       "(18000,)"
      ]
     },
     "execution_count": 8,
     "metadata": {},
     "output_type": "execute_result"
    }
   ],
   "source": [
    "y_test.shape"
   ]
  },
  {
   "cell_type": "code",
   "execution_count": 9,
   "metadata": {},
   "outputs": [
    {
     "data": {
      "text/plain": [
       "(60000, 32, 32)"
      ]
     },
     "execution_count": 9,
     "metadata": {},
     "output_type": "execute_result"
    }
   ],
   "source": [
    "X_val.shape"
   ]
  },
  {
   "cell_type": "code",
   "execution_count": 10,
   "metadata": {},
   "outputs": [
    {
     "data": {
      "text/plain": [
       "(60000,)"
      ]
     },
     "execution_count": 10,
     "metadata": {},
     "output_type": "execute_result"
    }
   ],
   "source": [
    "y_val.shape"
   ]
  },
  {
   "cell_type": "code",
   "execution_count": 11,
   "metadata": {},
   "outputs": [],
   "source": [
    "train_X = np.reshape(X_train,(42000,32*32))"
   ]
  },
  {
   "cell_type": "code",
   "execution_count": 12,
   "metadata": {},
   "outputs": [
    {
     "data": {
      "text/plain": [
       "(42000, 1024)"
      ]
     },
     "execution_count": 12,
     "metadata": {},
     "output_type": "execute_result"
    }
   ],
   "source": [
    "train_X.shape"
   ]
  },
  {
   "cell_type": "code",
   "execution_count": 13,
   "metadata": {},
   "outputs": [],
   "source": [
    "test_X = np.reshape(X_test,(18000,32*32))"
   ]
  },
  {
   "cell_type": "code",
   "execution_count": 14,
   "metadata": {},
   "outputs": [
    {
     "data": {
      "text/plain": [
       "(18000, 1024)"
      ]
     },
     "execution_count": 14,
     "metadata": {},
     "output_type": "execute_result"
    }
   ],
   "source": [
    "test_X.shape"
   ]
  },
  {
   "cell_type": "code",
   "execution_count": 15,
   "metadata": {},
   "outputs": [],
   "source": [
    "from sklearn.neighbors import KNeighborsClassifier"
   ]
  },
  {
   "cell_type": "code",
   "execution_count": 16,
   "metadata": {},
   "outputs": [
    {
     "data": {
      "text/plain": [
       "KNeighborsClassifier(algorithm='auto', leaf_size=30, metric='minkowski',\n",
       "           metric_params=None, n_jobs=1, n_neighbors=15, p=2,\n",
       "           weights='uniform')"
      ]
     },
     "execution_count": 16,
     "metadata": {},
     "output_type": "execute_result"
    }
   ],
   "source": [
    "model = KNeighborsClassifier(n_neighbors=15)\n",
    "model.fit(train_X, y_train)"
   ]
  },
  {
   "cell_type": "code",
   "execution_count": 17,
   "metadata": {},
   "outputs": [],
   "source": [
    "y_pred = model.predict(test_X)"
   ]
  },
  {
   "cell_type": "code",
   "execution_count": 18,
   "metadata": {},
   "outputs": [],
   "source": [
    "from sklearn import metrics\n",
    "from sklearn.metrics import confusion_matrix"
   ]
  },
  {
   "cell_type": "code",
   "execution_count": 19,
   "metadata": {},
   "outputs": [
    {
     "name": "stdout",
     "output_type": "stream",
     "text": [
      "KNN Accuracy: 0.5235555555555556\n"
     ]
    }
   ],
   "source": [
    "print(\"KNN Accuracy:\", metrics.accuracy_score(y_pred,y_test))"
   ]
  },
  {
   "cell_type": "code",
   "execution_count": 20,
   "metadata": {},
   "outputs": [
    {
     "name": "stdout",
     "output_type": "stream",
     "text": [
      "KNN Confusion Metrix:  [[1233   95  100  136  117  163  318   98  249  335]\n",
      " [  68 1335  215  251  247  164  122  227  115  137]\n",
      " [  39   70  992  136   41   62   38  116   62   70]\n",
      " [  39   83  107  734   60  268   72   84  119   92]\n",
      " [  51   75   55   50 1182   63  129   26  100   65]\n",
      " [  46   34   30  160   14  683  128   35  120  108]\n",
      " [ 113   32   37   42   54  156  741   35  253   56]\n",
      " [  37   51  138   54   17   31   23 1116   28   69]\n",
      " [  86   21   54   98   34  114  210   30  655  119]\n",
      " [ 102   32   75   58   46   64   51   41  111  753]]\n"
     ]
    }
   ],
   "source": [
    "print(\"KNN Confusion Metrix: \", metrics.confusion_matrix(y_pred,y_test))"
   ]
  },
  {
   "cell_type": "code",
   "execution_count": 21,
   "metadata": {},
   "outputs": [
    {
     "name": "stdout",
     "output_type": "stream",
     "text": [
      "             precision    recall  f1-score   support\n",
      "\n",
      "          0       0.43      0.68      0.53      1814\n",
      "          1       0.46      0.73      0.57      1828\n",
      "          2       0.61      0.55      0.58      1803\n",
      "          3       0.44      0.43      0.43      1719\n",
      "          4       0.66      0.65      0.66      1812\n",
      "          5       0.50      0.39      0.44      1768\n",
      "          6       0.49      0.40      0.44      1832\n",
      "          7       0.71      0.62      0.66      1808\n",
      "          8       0.46      0.36      0.41      1812\n",
      "          9       0.56      0.42      0.48      1804\n",
      "\n",
      "avg / total       0.53      0.52      0.52     18000\n",
      "\n"
     ]
    }
   ],
   "source": [
    "cr=metrics.classification_report(y_test,y_pred)\n",
    "print(cr)"
   ]
  },
  {
   "cell_type": "code",
   "execution_count": 22,
   "metadata": {},
   "outputs": [],
   "source": [
    "import tensorflow as tf"
   ]
  },
  {
   "cell_type": "code",
   "execution_count": 23,
   "metadata": {},
   "outputs": [],
   "source": [
    "#Initialize Sequential model\n",
    "model = tf.keras.models.Sequential()\n",
    "#Reshape data from 2D to 1D -> 32X32 to 1024\n",
    "model.add(tf.keras.layers.Reshape((1024,),input_shape=(32,32)))"
   ]
  },
  {
   "cell_type": "code",
   "execution_count": 24,
   "metadata": {},
   "outputs": [
    {
     "name": "stdout",
     "output_type": "stream",
     "text": [
      "WARNING:tensorflow:From C:\\Users\\varuraje.ORADEV\\AppData\\Local\\Continuum\\anaconda3\\lib\\site-packages\\tensorflow\\python\\ops\\resource_variable_ops.py:435: colocate_with (from tensorflow.python.framework.ops) is deprecated and will be removed in a future version.\n",
      "Instructions for updating:\n",
      "Colocations handled automatically by placer.\n"
     ]
    }
   ],
   "source": [
    "#Normalize the data\n",
    "model.add(tf.keras.layers.BatchNormalization())"
   ]
  },
  {
   "cell_type": "code",
   "execution_count": 25,
   "metadata": {},
   "outputs": [],
   "source": [
    "#Hidden layers\n",
    "model.add(tf.keras.layers.Dense(200, activation='relu'))\n",
    "model.add(tf.keras.layers.Dense(100, activation='relu'))\n",
    "\n",
    "#Output layer\n",
    "model.add(tf.keras.layers.Dense(10, activation='softmax', name='Output'))"
   ]
  },
  {
   "cell_type": "code",
   "execution_count": 26,
   "metadata": {},
   "outputs": [],
   "source": [
    "model.compile(optimizer='sgd', loss='categorical_crossentropy', metrics=['accuracy'])"
   ]
  },
  {
   "cell_type": "code",
   "execution_count": 27,
   "metadata": {},
   "outputs": [],
   "source": [
    "trainY = tf.keras.utils.to_categorical(y_train, num_classes=10)\n",
    "testY = tf.keras.utils.to_categorical(y_test, num_classes=10)"
   ]
  },
  {
   "cell_type": "code",
   "execution_count": 28,
   "metadata": {},
   "outputs": [
    {
     "data": {
      "text/plain": [
       "(42000, 32, 32)"
      ]
     },
     "execution_count": 28,
     "metadata": {},
     "output_type": "execute_result"
    }
   ],
   "source": [
    "X_train.shape"
   ]
  },
  {
   "cell_type": "code",
   "execution_count": 29,
   "metadata": {},
   "outputs": [
    {
     "data": {
      "text/plain": [
       "(42000,)"
      ]
     },
     "execution_count": 29,
     "metadata": {},
     "output_type": "execute_result"
    }
   ],
   "source": [
    "y_train.shape"
   ]
  },
  {
   "cell_type": "code",
   "execution_count": 30,
   "metadata": {},
   "outputs": [
    {
     "data": {
      "text/plain": [
       "(18000, 32, 32)"
      ]
     },
     "execution_count": 30,
     "metadata": {},
     "output_type": "execute_result"
    }
   ],
   "source": [
    "X_test.shape"
   ]
  },
  {
   "cell_type": "code",
   "execution_count": 31,
   "metadata": {},
   "outputs": [
    {
     "data": {
      "text/plain": [
       "(18000,)"
      ]
     },
     "execution_count": 31,
     "metadata": {},
     "output_type": "execute_result"
    }
   ],
   "source": [
    "y_test.shape"
   ]
  },
  {
   "cell_type": "code",
   "execution_count": 32,
   "metadata": {},
   "outputs": [
    {
     "data": {
      "text/plain": [
       "(60000, 32, 32)"
      ]
     },
     "execution_count": 32,
     "metadata": {},
     "output_type": "execute_result"
    }
   ],
   "source": [
    "X_val.shape"
   ]
  },
  {
   "cell_type": "code",
   "execution_count": 33,
   "metadata": {},
   "outputs": [
    {
     "data": {
      "text/plain": [
       "(60000,)"
      ]
     },
     "execution_count": 33,
     "metadata": {},
     "output_type": "execute_result"
    }
   ],
   "source": [
    "y_val.shape"
   ]
  },
  {
   "cell_type": "code",
   "execution_count": 34,
   "metadata": {},
   "outputs": [
    {
     "name": "stdout",
     "output_type": "stream",
     "text": [
      "Train on 42000 samples, validate on 18000 samples\n",
      "WARNING:tensorflow:From C:\\Users\\varuraje.ORADEV\\AppData\\Local\\Continuum\\anaconda3\\lib\\site-packages\\tensorflow\\python\\ops\\math_ops.py:3066: to_int32 (from tensorflow.python.ops.math_ops) is deprecated and will be removed in a future version.\n",
      "Instructions for updating:\n",
      "Use tf.cast instead.\n",
      "Epoch 1/30\n",
      "42000/42000 [==============================] - 4s 96us/sample - loss: 2.0574 - acc: 0.2930 - val_loss: 1.7074 - val_acc: 0.4669\n",
      "Epoch 2/30\n",
      "42000/42000 [==============================] - 4s 90us/sample - loss: 1.4912 - acc: 0.5472 - val_loss: 1.2831 - val_acc: 0.6232\n",
      "Epoch 3/30\n",
      "42000/42000 [==============================] - 4s 89us/sample - loss: 1.1997 - acc: 0.6498 - val_loss: 1.0868 - val_acc: 0.6836\n",
      "Epoch 4/30\n",
      "42000/42000 [==============================] - 4s 85us/sample - loss: 1.0539 - acc: 0.6914 - val_loss: 0.9888 - val_acc: 0.7162\n",
      "Epoch 5/30\n",
      "42000/42000 [==============================] - 4s 85us/sample - loss: 0.9585 - acc: 0.7213 - val_loss: 0.9153 - val_acc: 0.7348\n",
      "Epoch 6/30\n",
      "42000/42000 [==============================] - 4s 87us/sample - loss: 0.8874 - acc: 0.7402 - val_loss: 0.8629 - val_acc: 0.7500\n",
      "Epoch 7/30\n",
      "42000/42000 [==============================] - 4s 85us/sample - loss: 0.8315 - acc: 0.7564 - val_loss: 0.8206 - val_acc: 0.7631\n",
      "Epoch 8/30\n",
      "42000/42000 [==============================] - 4s 90us/sample - loss: 0.7831 - acc: 0.7692 - val_loss: 0.7943 - val_acc: 0.7698\n",
      "Epoch 9/30\n",
      "42000/42000 [==============================] - 4s 87us/sample - loss: 0.7430 - acc: 0.7811 - val_loss: 0.7634 - val_acc: 0.7808\n",
      "Epoch 10/30\n",
      "42000/42000 [==============================] - 4s 85us/sample - loss: 0.7054 - acc: 0.7920 - val_loss: 0.7390 - val_acc: 0.7892\n",
      "Epoch 11/30\n",
      "42000/42000 [==============================] - 4s 88us/sample - loss: 0.6757 - acc: 0.8011 - val_loss: 0.7157 - val_acc: 0.7958\n",
      "Epoch 12/30\n",
      "42000/42000 [==============================] - 4s 103us/sample - loss: 0.6477 - acc: 0.8091 - val_loss: 0.6993 - val_acc: 0.7988\n",
      "Epoch 13/30\n",
      "42000/42000 [==============================] - 4s 91us/sample - loss: 0.6247 - acc: 0.8152 - val_loss: 0.6863 - val_acc: 0.8014\n",
      "Epoch 14/30\n",
      "42000/42000 [==============================] - 4s 105us/sample - loss: 0.6017 - acc: 0.8242 - val_loss: 0.6782 - val_acc: 0.8049\n",
      "Epoch 15/30\n",
      "42000/42000 [==============================] - 5s 108us/sample - loss: 0.5828 - acc: 0.8275 - val_loss: 0.6591 - val_acc: 0.8139\n",
      "Epoch 16/30\n",
      "42000/42000 [==============================] - 4s 98us/sample - loss: 0.5664 - acc: 0.8321 - val_loss: 0.6518 - val_acc: 0.8148\n",
      "Epoch 17/30\n",
      "42000/42000 [==============================] - 4s 107us/sample - loss: 0.5478 - acc: 0.8387 - val_loss: 0.6390 - val_acc: 0.8214\n",
      "Epoch 18/30\n",
      "42000/42000 [==============================] - 4s 99us/sample - loss: 0.5353 - acc: 0.8423 - val_loss: 0.6308 - val_acc: 0.8217\n",
      "Epoch 19/30\n",
      "42000/42000 [==============================] - 4s 98us/sample - loss: 0.5188 - acc: 0.8468 - val_loss: 0.6235 - val_acc: 0.8247\n",
      "Epoch 20/30\n",
      "42000/42000 [==============================] - 4s 96us/sample - loss: 0.5056 - acc: 0.8505 - val_loss: 0.6232 - val_acc: 0.8247\n",
      "Epoch 21/30\n",
      "42000/42000 [==============================] - 5s 108us/sample - loss: 0.4944 - acc: 0.8535 - val_loss: 0.6171 - val_acc: 0.8262\n",
      "Epoch 22/30\n",
      "42000/42000 [==============================] - 4s 100us/sample - loss: 0.4847 - acc: 0.8571 - val_loss: 0.6176 - val_acc: 0.8247\n",
      "Epoch 23/30\n",
      "42000/42000 [==============================] - 4s 95us/sample - loss: 0.4720 - acc: 0.8617 - val_loss: 0.6029 - val_acc: 0.8308\n",
      "Epoch 24/30\n",
      "42000/42000 [==============================] - 4s 93us/sample - loss: 0.4617 - acc: 0.8631 - val_loss: 0.6009 - val_acc: 0.8312\n",
      "Epoch 25/30\n",
      "42000/42000 [==============================] - 4s 97us/sample - loss: 0.4529 - acc: 0.8673 - val_loss: 0.6021 - val_acc: 0.8323\n",
      "Epoch 26/30\n",
      "42000/42000 [==============================] - 4s 96us/sample - loss: 0.4441 - acc: 0.8688 - val_loss: 0.5993 - val_acc: 0.8330\n",
      "Epoch 27/30\n",
      "42000/42000 [==============================] - 4s 98us/sample - loss: 0.4352 - acc: 0.8708 - val_loss: 0.6086 - val_acc: 0.8287\n",
      "Epoch 28/30\n",
      "42000/42000 [==============================] - 4s 98us/sample - loss: 0.4285 - acc: 0.8729 - val_loss: 0.5875 - val_acc: 0.8374\n",
      "Epoch 29/30\n",
      "42000/42000 [==============================] - 4s 98us/sample - loss: 0.4193 - acc: 0.8750 - val_loss: 0.5811 - val_acc: 0.8397\n",
      "Epoch 30/30\n",
      "42000/42000 [==============================] - 4s 100us/sample - loss: 0.4119 - acc: 0.8775 - val_loss: 0.5955 - val_acc: 0.8350\n"
     ]
    },
    {
     "data": {
      "text/plain": [
       "<tensorflow.python.keras.callbacks.History at 0x272534ea240>"
      ]
     },
     "execution_count": 34,
     "metadata": {},
     "output_type": "execute_result"
    }
   ],
   "source": [
    "#Train the model\n",
    "X_test_arr = np.array(X_test)\n",
    "model.fit(X_train,trainY,          \n",
    "          validation_data=(X_test_arr, testY),\n",
    "          epochs=30,\n",
    "          batch_size=100,validation_split = 0.01,\n",
    "         shuffle='batch')"
   ]
  },
  {
   "cell_type": "code",
   "execution_count": 35,
   "metadata": {},
   "outputs": [
    {
     "name": "stdout",
     "output_type": "stream",
     "text": [
      "18000/18000 [==============================] - 1s 78us/sample - loss: 0.5955 - acc: 0.8350\n",
      "[0.595527134709888, 0.835]\n"
     ]
    }
   ],
   "source": [
    "loss_and_metrics = model.evaluate(X_test, testY)\n",
    "print(loss_and_metrics)"
   ]
  },
  {
   "cell_type": "code",
   "execution_count": 36,
   "metadata": {},
   "outputs": [],
   "source": [
    "y_pred=model.predict_classes(X_test)"
   ]
  },
  {
   "cell_type": "code",
   "execution_count": 38,
   "metadata": {},
   "outputs": [
    {
     "name": "stdout",
     "output_type": "stream",
     "text": [
      "             precision    recall  f1-score   support\n",
      "\n",
      "          0       0.86      0.88      0.87      1814\n",
      "          1       0.84      0.85      0.85      1828\n",
      "          2       0.89      0.85      0.86      1803\n",
      "          3       0.81      0.78      0.79      1719\n",
      "          4       0.85      0.87      0.86      1812\n",
      "          5       0.81      0.83      0.82      1768\n",
      "          6       0.85      0.79      0.82      1832\n",
      "          7       0.87      0.87      0.87      1808\n",
      "          8       0.78      0.79      0.79      1812\n",
      "          9       0.80      0.83      0.81      1804\n",
      "\n",
      "avg / total       0.84      0.83      0.83     18000\n",
      "\n"
     ]
    }
   ],
   "source": [
    "cr=metrics.classification_report(y_test,y_pred)\n",
    "print(cr)"
   ]
  },
  {
   "cell_type": "markdown",
   "metadata": {},
   "source": [
    "## The F1-Score obtained as 0.52 on KNN and 0.83 on Neural networks. Neural Networks works better than KNN. "
   ]
  },
  {
   "cell_type": "code",
   "execution_count": null,
   "metadata": {},
   "outputs": [],
   "source": []
  }
 ],
 "metadata": {
  "kernelspec": {
   "display_name": "Python 3",
   "language": "python",
   "name": "python3"
  },
  "language_info": {
   "codemirror_mode": {
    "name": "ipython",
    "version": 3
   },
   "file_extension": ".py",
   "mimetype": "text/x-python",
   "name": "python",
   "nbconvert_exporter": "python",
   "pygments_lexer": "ipython3",
   "version": "3.7.3"
  }
 },
 "nbformat": 4,
 "nbformat_minor": 2
}

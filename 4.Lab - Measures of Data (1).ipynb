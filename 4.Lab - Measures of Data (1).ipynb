{
 "cells": [
  {
   "cell_type": "markdown",
   "metadata": {},
   "source": [
    "## Lab Brief - Statistical Learning with Python"
   ]
  },
  {
   "cell_type": "markdown",
   "metadata": {},
   "source": [
    "### Part-1"
   ]
  },
  {
   "cell_type": "markdown",
   "metadata": {},
   "source": [
    "## Measures of Data"
   ]
  },
  {
   "cell_type": "markdown",
   "metadata": {},
   "source": [
    "Descriptive Statistcs are measures that summarize important features of data. Producing these descriptive statistics is a common first step to take after cleaning and preparing a dataset for further analysis. Examples are like calculating Mean or Median. In this lab, we will be looking into some of these functions and explore several new ones."
   ]
  },
  {
   "cell_type": "markdown",
   "metadata": {},
   "source": [
    "#### Measures of Central Tendency"
   ]
  },
  {
   "cell_type": "markdown",
   "metadata": {},
   "source": [
    "Whenever you measure things of the same kind, a fairly large number of such measurements will tend to cluster around the middle value. Such a value is called a measure of \"Central Tendency\". The other terms that are used synonymously are \"Measures of Location\", or \"Statistical Averages\". "
   ]
  },
  {
   "cell_type": "code",
   "execution_count": 1,
   "metadata": {},
   "outputs": [],
   "source": [
    "import numpy as np\n",
    "import pandas as pd\n",
    "import matplotlib.pyplot as plt\n",
    "\n",
    "mtcars = pd.read_csv('mtcars.csv')"
   ]
  },
  {
   "cell_type": "markdown",
   "metadata": {},
   "source": [
    "##### Using the mtcars dataset.\n",
    "\n",
    "For the below set of questions, we will be using the cars data from [Motor Trend Car Road Tests](http://stat.ethz.ch/R-manual/R-devel/library/datasets/html/mtcars.html)\n",
    "\n",
    "The data was extracted from the 1974 Motor Trend US magazine, and comprises fuel consumption and 10 aspects of automobile design and performance for 32 automobiles (1973–74 models). \n",
    "\n",
    "\n",
    "Details :\n",
    "    \n",
    "A data frame with 32 observations on 11 (numeric) variables.\n",
    "\n",
    "[, 1] \tmpg \tMiles/(US) gallon\n",
    "\n",
    "[, 2] \tcyl \tNumber of cylinders\n",
    "\n",
    "[, 3] \tdisp \tDisplacement (cu.in.)\n",
    "\n",
    "[, 4] \thp \tGross horsepower\n",
    "\n",
    "[, 5] \tdrat \tRear axle ratio\n",
    "\n",
    "[, 6] \twt \tWeight (1000 lbs)\n",
    "\n",
    "[, 7] \tqsec \t1/4 mile time\n",
    "\n",
    "[, 8] \tvs \tEngine (0 = V-shaped, 1 = straight)\n",
    "\n",
    "[, 9] \tam \tTransmission (0 = automatic, 1 = manual)\n",
    "\n",
    "[,10] \tgear \tNumber of forward gears\n",
    "\n",
    "[,11] \tcarb \tNumber of carburetors "
   ]
  },
  {
   "cell_type": "markdown",
   "metadata": {},
   "source": [
    "#### Explore the data - Setting the index"
   ]
  },
  {
   "cell_type": "code",
   "execution_count": 2,
   "metadata": {},
   "outputs": [
    {
     "data": {
      "text/html": [
       "<div>\n",
       "<style scoped>\n",
       "    .dataframe tbody tr th:only-of-type {\n",
       "        vertical-align: middle;\n",
       "    }\n",
       "\n",
       "    .dataframe tbody tr th {\n",
       "        vertical-align: top;\n",
       "    }\n",
       "\n",
       "    .dataframe thead th {\n",
       "        text-align: right;\n",
       "    }\n",
       "</style>\n",
       "<table border=\"1\" class=\"dataframe\">\n",
       "  <thead>\n",
       "    <tr style=\"text-align: right;\">\n",
       "      <th></th>\n",
       "      <th>name</th>\n",
       "      <th>mpg</th>\n",
       "      <th>cyl</th>\n",
       "      <th>disp</th>\n",
       "      <th>hp</th>\n",
       "      <th>drat</th>\n",
       "      <th>wt</th>\n",
       "      <th>qsec</th>\n",
       "      <th>vs</th>\n",
       "      <th>am</th>\n",
       "      <th>gear</th>\n",
       "      <th>carb</th>\n",
       "    </tr>\n",
       "    <tr>\n",
       "      <th>name</th>\n",
       "      <th></th>\n",
       "      <th></th>\n",
       "      <th></th>\n",
       "      <th></th>\n",
       "      <th></th>\n",
       "      <th></th>\n",
       "      <th></th>\n",
       "      <th></th>\n",
       "      <th></th>\n",
       "      <th></th>\n",
       "      <th></th>\n",
       "      <th></th>\n",
       "    </tr>\n",
       "  </thead>\n",
       "  <tbody>\n",
       "    <tr>\n",
       "      <th>Mazda RX4</th>\n",
       "      <td>Mazda RX4</td>\n",
       "      <td>21.0</td>\n",
       "      <td>6</td>\n",
       "      <td>160.0</td>\n",
       "      <td>110</td>\n",
       "      <td>3.90</td>\n",
       "      <td>2.620</td>\n",
       "      <td>16.46</td>\n",
       "      <td>0</td>\n",
       "      <td>1</td>\n",
       "      <td>4</td>\n",
       "      <td>4</td>\n",
       "    </tr>\n",
       "    <tr>\n",
       "      <th>Mazda RX4 Wag</th>\n",
       "      <td>Mazda RX4 Wag</td>\n",
       "      <td>21.0</td>\n",
       "      <td>6</td>\n",
       "      <td>160.0</td>\n",
       "      <td>110</td>\n",
       "      <td>3.90</td>\n",
       "      <td>2.875</td>\n",
       "      <td>17.02</td>\n",
       "      <td>0</td>\n",
       "      <td>1</td>\n",
       "      <td>4</td>\n",
       "      <td>4</td>\n",
       "    </tr>\n",
       "    <tr>\n",
       "      <th>Datsun 710</th>\n",
       "      <td>Datsun 710</td>\n",
       "      <td>22.8</td>\n",
       "      <td>4</td>\n",
       "      <td>108.0</td>\n",
       "      <td>93</td>\n",
       "      <td>3.85</td>\n",
       "      <td>2.320</td>\n",
       "      <td>18.61</td>\n",
       "      <td>1</td>\n",
       "      <td>1</td>\n",
       "      <td>4</td>\n",
       "      <td>1</td>\n",
       "    </tr>\n",
       "    <tr>\n",
       "      <th>Hornet 4 Drive</th>\n",
       "      <td>Hornet 4 Drive</td>\n",
       "      <td>21.4</td>\n",
       "      <td>6</td>\n",
       "      <td>258.0</td>\n",
       "      <td>110</td>\n",
       "      <td>3.08</td>\n",
       "      <td>3.215</td>\n",
       "      <td>19.44</td>\n",
       "      <td>1</td>\n",
       "      <td>0</td>\n",
       "      <td>3</td>\n",
       "      <td>1</td>\n",
       "    </tr>\n",
       "    <tr>\n",
       "      <th>Hornet Sportabout</th>\n",
       "      <td>Hornet Sportabout</td>\n",
       "      <td>18.7</td>\n",
       "      <td>8</td>\n",
       "      <td>360.0</td>\n",
       "      <td>175</td>\n",
       "      <td>3.15</td>\n",
       "      <td>3.440</td>\n",
       "      <td>17.02</td>\n",
       "      <td>0</td>\n",
       "      <td>0</td>\n",
       "      <td>3</td>\n",
       "      <td>2</td>\n",
       "    </tr>\n",
       "  </tbody>\n",
       "</table>\n",
       "</div>"
      ],
      "text/plain": [
       "                                name   mpg  cyl   disp   hp  drat     wt  \\\n",
       "name                                                                       \n",
       "Mazda RX4                  Mazda RX4  21.0    6  160.0  110  3.90  2.620   \n",
       "Mazda RX4 Wag          Mazda RX4 Wag  21.0    6  160.0  110  3.90  2.875   \n",
       "Datsun 710                Datsun 710  22.8    4  108.0   93  3.85  2.320   \n",
       "Hornet 4 Drive        Hornet 4 Drive  21.4    6  258.0  110  3.08  3.215   \n",
       "Hornet Sportabout  Hornet Sportabout  18.7    8  360.0  175  3.15  3.440   \n",
       "\n",
       "                    qsec  vs  am  gear  carb  \n",
       "name                                          \n",
       "Mazda RX4          16.46   0   1     4     4  \n",
       "Mazda RX4 Wag      17.02   0   1     4     4  \n",
       "Datsun 710         18.61   1   1     4     1  \n",
       "Hornet 4 Drive     19.44   1   0     3     1  \n",
       "Hornet Sportabout  17.02   0   0     3     2  "
      ]
     },
     "execution_count": 2,
     "metadata": {},
     "output_type": "execute_result"
    }
   ],
   "source": [
    "mtcars.index = mtcars[\"name\"]\n",
    "mtcars.head()\n",
    "# mtcars.mean() #By default this will give the mean of each column"
   ]
  },
  {
   "cell_type": "markdown",
   "metadata": {},
   "source": [
    "### Question 1\n",
    "\n",
    "What is the first car name given in mtcars?\n",
    "\n",
    "** Make use of index which has been set previously **\n",
    "\n",
    "**Hint**: Use .loc function\n"
   ]
  },
  {
   "cell_type": "code",
   "execution_count": 5,
   "metadata": {
    "scrolled": true
   },
   "outputs": [
    {
     "data": {
      "text/plain": [
       "'Mazda RX4'"
      ]
     },
     "execution_count": 5,
     "metadata": {},
     "output_type": "execute_result"
    }
   ],
   "source": [
    "mtcars[\"name\"][0]"
   ]
  },
  {
   "cell_type": "markdown",
   "metadata": {},
   "source": [
    "### Question 2\n",
    "What is the highest difference between the hp and cyl?\n",
    "\n",
    "**Hint:** You can use **max()** function to find the difference"
   ]
  },
  {
   "cell_type": "code",
   "execution_count": 6,
   "metadata": {},
   "outputs": [
    {
     "data": {
      "text/plain": [
       "335"
      ]
     },
     "execution_count": 6,
     "metadata": {},
     "output_type": "execute_result"
    }
   ],
   "source": [
    "max(mtcars[\"hp\"])"
   ]
  },
  {
   "cell_type": "code",
   "execution_count": 8,
   "metadata": {},
   "outputs": [
    {
     "data": {
      "text/plain": [
       "8"
      ]
     },
     "execution_count": 8,
     "metadata": {},
     "output_type": "execute_result"
    }
   ],
   "source": [
    "max(mtcars[\"cyl\"])"
   ]
  },
  {
   "cell_type": "markdown",
   "metadata": {},
   "source": [
    "### Question 3\n",
    "What are the cars having highest weight(wt) and lowest weight(wt)?\n",
    "\n",
    "**Hint:** Use idxmax() and idxmin() to locate the row\n",
    "\n",
    "Use **.iloc** function to print the  row\n",
    "\n",
    "**Note:** Both idxmax and idxmin belong to pandas"
   ]
  },
  {
   "cell_type": "code",
   "execution_count": 11,
   "metadata": {},
   "outputs": [
    {
     "data": {
      "text/plain": [
       "wt    Lincoln Continental\n",
       "dtype: object"
      ]
     },
     "execution_count": 11,
     "metadata": {},
     "output_type": "execute_result"
    }
   ],
   "source": [
    "mtcars.iloc[:,6:7].idxmax()"
   ]
  },
  {
   "cell_type": "code",
   "execution_count": 12,
   "metadata": {},
   "outputs": [
    {
     "data": {
      "text/plain": [
       "wt    Lotus Europa\n",
       "dtype: object"
      ]
     },
     "execution_count": 12,
     "metadata": {},
     "output_type": "execute_result"
    }
   ],
   "source": [
    "mtcars.iloc[:,6:7].idxmin()"
   ]
  },
  {
   "cell_type": "markdown",
   "metadata": {},
   "source": [
    "### Question 4\n",
    "\n",
    "Find the mean of each row and each column in the given dataset.\n",
    "\n",
    "**Hint:** Use .mean() function. To operate on rows use **axis=0**, on columns use **axis=1**"
   ]
  },
  {
   "cell_type": "code",
   "execution_count": 13,
   "metadata": {},
   "outputs": [
    {
     "data": {
      "text/plain": [
       "name    (4.03630426495e-313+4.03179200313e-313j)\n",
       "mpg                      (20.090624999999996+0j)\n",
       "cyl                                  (6.1875+0j)\n",
       "disp                     (230.72187500000004+0j)\n",
       "hp                                 (146.6875+0j)\n",
       "drat                     (3.5965625000000006+0j)\n",
       "wt                       (3.2172499999999995+0j)\n",
       "qsec                     (17.848750000000003+0j)\n",
       "vs                                   (0.4375+0j)\n",
       "am                                  (0.40625+0j)\n",
       "gear                                 (3.6875+0j)\n",
       "carb                                 (2.8125+0j)\n",
       "dtype: complex128"
      ]
     },
     "execution_count": 13,
     "metadata": {},
     "output_type": "execute_result"
    }
   ],
   "source": [
    "mtcars.mean(axis=0)"
   ]
  },
  {
   "cell_type": "code",
   "execution_count": 14,
   "metadata": {},
   "outputs": [
    {
     "data": {
      "text/plain": [
       "name\n",
       "Mazda RX4              29.907273\n",
       "Mazda RX4 Wag          29.981364\n",
       "Datsun 710             23.598182\n",
       "Hornet 4 Drive         38.739545\n",
       "Hornet Sportabout      53.664545\n",
       "Valiant                35.049091\n",
       "Duster 360             59.720000\n",
       "Merc 240D              24.634545\n",
       "Merc 230               27.233636\n",
       "Merc 280               31.860000\n",
       "Merc 280C              31.787273\n",
       "Merc 450SE             46.430909\n",
       "Merc 450SL             46.500000\n",
       "Merc 450SLC            46.350000\n",
       "Cadillac Fleetwood     66.232727\n",
       "Lincoln Continental    66.058545\n",
       "Chrysler Imperial      65.972273\n",
       "Fiat 128               19.440909\n",
       "Honda Civic            17.742273\n",
       "Toyota Corolla         18.814091\n",
       "Toyota Corona          24.888636\n",
       "Dodge Challenger       47.240909\n",
       "AMC Javelin            46.007727\n",
       "Camaro Z28             58.752727\n",
       "Pontiac Firebird       57.379545\n",
       "Fiat X1-9              18.928636\n",
       "Porsche 914-2          24.779091\n",
       "Lotus Europa           24.880273\n",
       "Ford Pantera L         60.971818\n",
       "Ferrari Dino           34.508182\n",
       "Maserati Bora          63.155455\n",
       "Volvo 142E             26.262727\n",
       "dtype: float64"
      ]
     },
     "execution_count": 14,
     "metadata": {},
     "output_type": "execute_result"
    }
   ],
   "source": [
    "mtcars.mean(axis=1)"
   ]
  },
  {
   "cell_type": "markdown",
   "metadata": {},
   "source": [
    "### Question 5\n",
    "\n",
    "Plot mpg values of mtcards dataframe using matplotlib.\n",
    "\n",
    "**Hint: Use plt.plot function**"
   ]
  },
  {
   "cell_type": "code",
   "execution_count": 15,
   "metadata": {},
   "outputs": [
    {
     "data": {
      "text/plain": [
       "[<matplotlib.lines.Line2D at 0x260b53fee10>]"
      ]
     },
     "execution_count": 15,
     "metadata": {},
     "output_type": "execute_result"
    },
    {
     "data": {
      "image/png": "[encoded data removed]",
      "text/plain": [
       "<Figure size 432x288 with 1 Axes>"
      ]
     },
     "metadata": {
      "needs_background": "light"
     },
     "output_type": "display_data"
    }
   ],
   "source": [
    "plt.plot(mtcars[\"mpg\"])"
   ]
  },
  {
   "cell_type": "markdown",
   "metadata": {},
   "source": [
    "## Part 2"
   ]
  },
  {
   "cell_type": "markdown",
   "metadata": {},
   "source": [
    "## Measures of Dispersion"
   ]
  },
  {
   "cell_type": "markdown",
   "metadata": {},
   "source": [
    "Measures of Dispersion (Spread) are statistics that describe how data varies. Measure of dispersion gives us the sense of how much the data tends to diverge from the central tendency."
   ]
  },
  {
   "cell_type": "markdown",
   "metadata": {},
   "source": [
    "### Question 6\n",
    "\n",
    "What the range of `mpg` in the given dataset?\n",
    "\n",
    "**Hint:** Range = max-min"
   ]
  },
  {
   "cell_type": "code",
   "execution_count": 21,
   "metadata": {},
   "outputs": [
    {
     "data": {
      "text/plain": [
       "33.9"
      ]
     },
     "execution_count": 21,
     "metadata": {},
     "output_type": "execute_result"
    }
   ],
   "source": [
    "max(mtcars[\"mpg\"])"
   ]
  },
  {
   "cell_type": "code",
   "execution_count": 22,
   "metadata": {},
   "outputs": [],
   "source": [
    "range = max(mtcars[\"mpg\"])- min(mtcars[\"mpg\"])"
   ]
  },
  {
   "cell_type": "code",
   "execution_count": 23,
   "metadata": {},
   "outputs": [
    {
     "data": {
      "text/plain": [
       "23.5"
      ]
     },
     "execution_count": 23,
     "metadata": {},
     "output_type": "execute_result"
    }
   ],
   "source": [
    "range"
   ]
  },
  {
   "cell_type": "markdown",
   "metadata": {},
   "source": [
    "### Question 7\n",
    "\n",
    "Calculate the 25th quantile (lower quantile)for `mpg` in the given dataset.\n",
    "\n",
    "**Hint:** Use **.quantile()**"
   ]
  },
  {
   "cell_type": "code",
   "execution_count": 25,
   "metadata": {},
   "outputs": [
    {
     "data": {
      "text/plain": [
       "15.425"
      ]
     },
     "execution_count": 25,
     "metadata": {},
     "output_type": "execute_result"
    }
   ],
   "source": [
    "mtcars[\"mpg\"].quantile(0.25)"
   ]
  },
  {
   "cell_type": "markdown",
   "metadata": {},
   "source": [
    "### Question 8\n",
    "\n",
    "Calculate the Inter-Quartile Range(IQR) for `mpg` in the given dataset."
   ]
  },
  {
   "cell_type": "markdown",
   "metadata": {},
   "source": [
    "Interquartile range (IQR) is another common measure of spread. IQR is the distance between the 3rd quartile and the 1st quartile.\n",
    "\n",
    "**Hint:** IQR = Q3 - Q1"
   ]
  },
  {
   "cell_type": "code",
   "execution_count": 26,
   "metadata": {},
   "outputs": [
    {
     "data": {
      "text/plain": [
       "7.375"
      ]
     },
     "execution_count": 26,
     "metadata": {},
     "output_type": "execute_result"
    }
   ],
   "source": [
    "IQR =mtcars[\"mpg\"].quantile(0.75)- mtcars[\"mpg\"].quantile(0.25)\n",
    "IQR"
   ]
  },
  {
   "cell_type": "markdown",
   "metadata": {},
   "source": [
    "### Question 9\n",
    "\n",
    "Calculate the Variance, Standard Deviation and Median Absolute Deviation for `mpg`."
   ]
  },
  {
   "cell_type": "markdown",
   "metadata": {},
   "source": [
    "Variance and Standard Deviation are two other common measure of dispersion.\n",
    "\n",
    "**Hint:** Use .var() and .std()"
   ]
  },
  {
   "cell_type": "markdown",
   "metadata": {},
   "source": [
    "**Hint:** Median Absolute Deviation - alternative measure of spread based on the median. It is the median of the absolute value of the deviations from the median. "
   ]
  },
  {
   "cell_type": "code",
   "execution_count": 27,
   "metadata": {},
   "outputs": [
    {
     "data": {
      "text/plain": [
       "36.32410282258065"
      ]
     },
     "execution_count": 27,
     "metadata": {},
     "output_type": "execute_result"
    }
   ],
   "source": [
    "mtcars[\"mpg\"].var()"
   ]
  },
  {
   "cell_type": "code",
   "execution_count": 28,
   "metadata": {},
   "outputs": [
    {
     "data": {
      "text/plain": [
       "6.026948052089105"
      ]
     },
     "execution_count": 28,
     "metadata": {},
     "output_type": "execute_result"
    }
   ],
   "source": [
    "mtcars[\"mpg\"].std()"
   ]
  },
  {
   "cell_type": "code",
   "execution_count": 29,
   "metadata": {},
   "outputs": [
    {
     "data": {
      "text/plain": [
       "19.2"
      ]
     },
     "execution_count": 29,
     "metadata": {},
     "output_type": "execute_result"
    }
   ],
   "source": [
    "mtcars[\"mpg\"].median()"
   ]
  },
  {
   "cell_type": "markdown",
   "metadata": {},
   "source": [
    "## Part 3"
   ]
  },
  {
   "cell_type": "markdown",
   "metadata": {},
   "source": [
    "## Probability Distributions"
   ]
  },
  {
   "cell_type": "markdown",
   "metadata": {},
   "source": [
    "The probability distribution describes how a random variable is distributed. It tells us which values a variable is most likely to take on and which values are less likely to take on. "
   ]
  },
  {
   "cell_type": "markdown",
   "metadata": {},
   "source": [
    "Each value in the given range is equally likely to occur. "
   ]
  },
  {
   "cell_type": "code",
   "execution_count": 30,
   "metadata": {},
   "outputs": [],
   "source": [
    "import scipy.stats as stats # Many functions for probability distributions in python are in scipy.stats"
   ]
  },
  {
   "cell_type": "markdown",
   "metadata": {},
   "source": [
    "### Question 10\n",
    "\n",
    "Generate 1000 datapoints with standard normal distribution with mean 0 and standard deviation 1. "
   ]
  },
  {
   "cell_type": "markdown",
   "metadata": {},
   "source": [
    "#### Normal Distribution"
   ]
  },
  {
   "cell_type": "markdown",
   "metadata": {},
   "source": [
    "The normal or Gaussian Distribution is a continuos probability distribution given by a symmetric bell shaped curve. It is defined its center(mean) and spread(std)."
   ]
  },
  {
   "cell_type": "markdown",
   "metadata": {},
   "source": [
    "The bulk of the observations generated from a normal distribution lie near the mean which lies at the center. About 68% of the data lies within 1 std, 95% lies within 2 stds and 99.7% lies within 3 stds.\n",
    "\n",
    "**Hint:** You can use **np.random.normal()** function to generate normal distribution"
   ]
  },
  {
   "cell_type": "code",
   "execution_count": 31,
   "metadata": {},
   "outputs": [
    {
     "data": {
      "text/plain": [
       "array([-1.23385216e+00, -8.46734734e-01, -1.16315847e+00, -1.98300534e+00,\n",
       "        1.08589912e+00, -2.34685115e+00, -3.89112800e-01,  1.30979245e+00,\n",
       "       -2.18726624e-01, -3.97995972e-01, -2.87594696e+00,  5.74944345e-01,\n",
       "       -1.31709018e+00, -1.25920733e+00,  7.06193235e-01, -1.05032263e+00,\n",
       "        1.25889028e+00,  1.40981853e+00,  1.61810237e+00, -2.70901236e-01,\n",
       "        1.62239626e+00, -6.27370404e-01,  3.68674740e-01,  1.66879609e+00,\n",
       "       -1.23655138e+00, -2.64980569e-01,  7.96400513e-01,  1.20116453e-01,\n",
       "        7.09520393e-01,  7.80170416e-01, -9.88887579e-01, -4.45608469e-01,\n",
       "       -9.66710007e-03, -8.87780344e-01,  1.47496079e+00, -3.50412121e-01,\n",
       "        2.25304529e+00, -6.95477460e-01, -1.41552518e+00, -2.84271741e-01,\n",
       "        6.80768985e-01, -9.91020163e-01,  5.72039525e-01, -3.92073883e-02,\n",
       "       -2.34849504e-01,  9.29017617e-01, -1.69709935e+00,  5.34655072e-01,\n",
       "       -1.76887328e-01,  2.39363142e+00, -6.94773534e-01, -1.52267971e+00,\n",
       "       -7.62131029e-02, -1.60792346e+00, -1.46426957e+00,  5.90818994e-03,\n",
       "       -4.40178746e-01,  3.61128572e-02, -1.16094401e+00,  1.28718880e-01,\n",
       "       -6.67859346e-01,  6.35789192e-02, -6.72867823e-01, -6.08707973e-01,\n",
       "       -7.16773150e-01, -3.51159907e-01,  6.17938104e-01,  1.80337025e+00,\n",
       "        2.66282807e+00,  5.37587737e-01, -1.18915816e+00, -3.12181260e-01,\n",
       "        4.63532798e-01,  1.18978151e+00, -1.66914929e+00, -2.89188380e+00,\n",
       "        3.13208165e-01, -1.70558512e+00, -1.29153360e+00, -2.50684289e-01,\n",
       "        2.14702932e+00, -7.72630647e-01,  9.82261133e-01, -3.33779740e-01,\n",
       "        6.03505819e-01, -2.01033122e+00, -4.54770291e-01,  1.58906543e+00,\n",
       "        7.71071116e-01, -2.66646289e-01, -2.64601463e+00,  6.88344486e-01,\n",
       "        5.16307633e-02,  1.37299157e+00, -4.98556759e-01, -1.26775411e+00,\n",
       "       -1.11786733e+00, -5.50015352e-01,  3.86932011e-01, -2.25405115e-02,\n",
       "       -4.10236337e-01,  1.86514137e-01, -2.72145588e-01,  1.07874267e-01,\n",
       "        6.50910680e-01,  1.53034843e+00,  8.43151983e-01,  1.25999014e+00,\n",
       "       -1.23248578e+00,  2.77470920e-01, -5.71535768e-01,  1.63778617e+00,\n",
       "        5.16597598e-01, -1.40553996e+00,  2.15821970e-01,  2.08785766e-01,\n",
       "        3.47639766e-01,  2.47809430e-01,  1.59091207e+00,  1.69491076e+00,\n",
       "        1.57799189e+00,  9.09712230e-01, -5.19548386e-02, -1.90624362e+00,\n",
       "       -1.80472897e+00, -6.24425190e-01,  1.21281136e-01,  2.40771492e+00,\n",
       "        1.41631067e-01,  1.92408082e-01,  2.42386946e-01, -1.97561370e+00,\n",
       "       -1.47558410e-01,  6.95854121e-01, -1.43674220e+00, -1.36265755e+00,\n",
       "       -4.00166925e-01, -2.01322877e+00,  1.69123893e+00, -9.42629636e-01,\n",
       "        3.37206797e-01,  9.01950112e-01,  1.01229604e+00, -1.07105953e+00,\n",
       "        2.95270921e-01, -9.90050499e-01, -5.53000851e-01, -8.39113485e-01,\n",
       "        1.47507729e+00, -1.53992251e+00, -4.30866703e-01,  8.24010977e-01,\n",
       "       -1.90706279e+00, -1.34671041e+00, -2.24658295e+00,  5.05084862e-01,\n",
       "       -5.38747467e-01,  9.37522984e-01,  5.31550804e-01, -1.12507635e+00,\n",
       "       -1.12812157e+00,  1.53241426e+00,  7.75065273e-01,  2.92835848e-01,\n",
       "        1.88913919e-01, -5.02889284e-01, -1.47961476e+00, -4.95433460e-02,\n",
       "        1.89840780e+00,  4.47287330e-01, -1.31060546e+00, -5.12135676e-01,\n",
       "       -8.11435960e-01,  2.59126494e-01,  7.27975660e-01, -3.01161575e-01,\n",
       "       -1.99041847e-01, -2.37129189e-01,  2.86326495e-01,  5.84853690e-01,\n",
       "       -3.50935479e-01, -3.63683920e-01, -9.27060614e-01,  6.89872797e-01,\n",
       "       -1.65145333e+00,  7.43192723e-01, -1.99452874e+00, -3.91540534e-01,\n",
       "        8.61417178e-01,  8.75154347e-01, -5.27079627e-01, -2.20802552e+00,\n",
       "        8.29061900e-01,  4.15555107e-01, -9.32466150e-01,  6.86821606e-01,\n",
       "        1.90575229e+00,  6.89527968e-01,  6.40080382e-01,  1.65718777e+00,\n",
       "       -8.64935441e-01, -4.12020430e-01,  6.58799287e-01, -5.89579475e-01,\n",
       "       -1.62963987e+00, -7.85099325e-01, -1.56573965e+00, -7.86535083e-01,\n",
       "       -2.20139316e-01,  1.02780219e+00, -1.09971625e-01, -1.06963994e+00,\n",
       "       -3.03370284e-01,  2.13923059e+00, -2.26362228e-02,  1.06602751e+00,\n",
       "        9.73141143e-01, -4.39022756e-01, -2.09053129e+00,  6.78029352e-01,\n",
       "       -1.11745623e+00,  5.88435827e-01,  1.12333715e+00, -7.95378926e-01,\n",
       "        2.73524460e-01, -5.38026760e-01, -1.83229163e-01,  2.40255765e-01,\n",
       "        4.29125336e-03,  6.69575599e-01,  9.39946967e-01, -1.16327502e-03,\n",
       "        8.66182491e-02,  6.75998952e-01,  2.12692130e+00,  9.06268504e-01,\n",
       "        1.08319383e+00, -1.36244981e-01,  1.59272842e-01,  1.00009057e+00,\n",
       "       -2.45762464e-01, -1.72005289e+00,  5.61369445e-01,  3.54565457e-02,\n",
       "       -9.50936635e-01,  8.48327988e-01,  5.93651844e-01,  2.33229945e-01,\n",
       "        6.51867616e-01, -1.97141677e+00,  4.67774299e-01, -2.04601474e-01,\n",
       "       -4.24096772e-01, -8.16969132e-01,  5.23276593e-01, -1.70928779e-01,\n",
       "        3.76451965e-01, -1.10214403e+00,  1.34486626e+00,  6.76811690e-01,\n",
       "        2.50050801e-01,  4.93890590e-01,  5.49569904e-01, -1.27400965e+00,\n",
       "        3.25582721e-01, -7.78462496e-01,  4.04893875e-01,  9.83718193e-01,\n",
       "       -2.02023285e+00, -2.01653803e-02, -1.09853714e+00, -9.21994997e-01,\n",
       "       -1.80724417e-01,  1.35256700e+00,  2.86088984e-01, -1.15183635e+00,\n",
       "       -4.79315187e-01,  1.36727733e-01, -7.23794092e-01,  3.50733668e+00,\n",
       "       -3.93822130e-01, -4.55350367e-01, -1.94470876e+00, -8.80296435e-01,\n",
       "        9.49552176e-02,  1.09846613e+00,  4.95308606e-01, -2.75824156e-01,\n",
       "        1.67704025e-01,  9.50433873e-02, -2.13644369e-01,  1.38936973e+00,\n",
       "        3.26541614e-01,  6.54332576e-01,  6.61498800e-01, -3.00740865e-01,\n",
       "        1.52061636e+00,  2.10584767e-01, -1.96376753e+00, -3.36921252e-01,\n",
       "        1.04648874e+00, -4.86408481e-01, -3.81097921e-02, -2.92624947e-01,\n",
       "        6.01286208e-01,  8.81739242e-02,  6.66982756e-01, -1.15528917e-02,\n",
       "        1.64245350e+00,  4.76317975e-01,  2.86630700e-01, -1.14974558e+00,\n",
       "        1.31532055e+00,  5.48382164e-02, -1.24289987e+00,  1.91049688e+00,\n",
       "       -5.65587574e-01,  1.38636155e+00,  2.04022468e+00,  4.97998025e-01,\n",
       "       -8.08708244e-01,  7.61841159e-01,  1.91692477e+00, -4.68496198e-02,\n",
       "       -9.22549760e-01, -9.59538357e-01, -6.92877409e-01, -2.56949430e-01,\n",
       "       -1.19102543e+00,  1.73237332e+00,  1.35168161e+00, -2.01067798e+00,\n",
       "       -7.22695104e-01,  1.39290231e+00,  1.98769046e+00,  7.14981330e-01,\n",
       "       -1.16847076e+00, -7.75663087e-01,  1.77258258e+00,  3.93122427e-01,\n",
       "       -9.89166656e-01, -1.29958368e+00,  9.83316613e-01,  1.25280058e-01,\n",
       "       -6.01272556e-01, -1.62301087e-01,  7.74832905e-01,  1.04531031e+00,\n",
       "        9.00231163e-01,  5.75282269e-01,  1.46004815e+00, -2.39968579e+00,\n",
       "        4.83756546e-01,  1.21006804e+00,  2.66967419e-01, -1.96379015e-01,\n",
       "       -3.50193709e-01, -5.62686810e-02,  1.02074329e+00, -9.56881305e-01,\n",
       "        2.71263983e-01, -7.65527972e-01,  2.43179595e-01,  1.36112901e+00,\n",
       "        1.09801693e+00, -1.62052782e+00, -1.03626728e+00, -6.74590421e-01,\n",
       "       -8.36535610e-01, -1.73243746e-01,  1.75721211e+00,  7.00482824e-01,\n",
       "        1.33625486e+00, -1.18025638e+00, -8.36378062e-01, -9.89520223e-01,\n",
       "        8.80423841e-01, -3.77716982e-01,  1.58414790e+00,  1.50382169e+00,\n",
       "       -1.31952588e+00,  2.88524590e-01,  1.99169873e+00,  1.06341745e+00,\n",
       "        1.39245731e-01,  3.71960250e-01, -3.52929477e-01,  3.20715627e-01,\n",
       "        8.83779073e-01,  2.20351434e-01, -1.10890832e+00, -1.36892412e+00,\n",
       "       -1.48541010e-01, -5.00245792e-01, -2.09448846e+00, -2.48022158e-01,\n",
       "       -3.06522831e-01,  5.12098977e-01, -1.68936830e+00, -3.23292334e-01,\n",
       "       -6.36491168e-01,  1.10875891e+00,  1.18909052e-01,  1.00440926e+00,\n",
       "        1.38188233e+00, -1.20890353e+00, -1.42610847e+00, -1.12745915e+00,\n",
       "       -1.01371332e+00,  8.52975193e-01, -1.61441130e+00, -5.17472977e-01,\n",
       "       -5.03439157e-01,  4.57464774e-01,  1.05918315e+00,  7.16437599e-01,\n",
       "        3.21757950e+00, -7.41255282e-01, -3.72049795e-01,  5.36164074e-01,\n",
       "       -5.30301055e-01,  1.33142307e+00,  1.41892018e+00, -7.04936394e-02,\n",
       "        3.81142513e-01, -2.88348265e-01, -6.33547983e-01,  3.22816491e-02,\n",
       "        6.80976743e-02, -9.11744534e-01,  7.58212826e-01, -1.43378704e+00,\n",
       "        2.01830947e+00,  2.03121030e-01, -5.83595663e-01,  6.31721592e-01,\n",
       "       -6.01332554e-01, -6.40070381e-01, -1.47865889e+00,  1.23393587e+00,\n",
       "        1.67220800e+00, -7.96991399e-03, -1.89934995e-01, -3.59777334e-01,\n",
       "        3.56996877e-01,  4.70548650e-01, -1.08082706e+00,  1.00956888e+00,\n",
       "       -1.48802754e+00, -1.00245987e+00,  2.83082354e-01, -3.59372693e-01,\n",
       "       -1.20954615e+00, -1.43412853e+00, -1.76572430e-01,  9.41653227e-01,\n",
       "        1.29881404e+00, -6.96999264e-01, -8.22076187e-01, -2.96353183e-01,\n",
       "        3.42125657e-01, -3.29772452e-01,  7.28324204e-01, -1.08922371e-01,\n",
       "        1.55324261e-01,  4.17940107e-01,  1.28568887e+00, -6.16999036e-01,\n",
       "       -1.72242389e+00,  7.31233579e-01,  2.19204151e+00,  9.83286162e-01,\n",
       "        1.26555984e+00,  1.29537852e+00, -2.10171804e+00, -2.44018100e-01,\n",
       "       -4.10489462e-01, -1.65024412e+00,  1.06722464e+00,  4.16332680e-02,\n",
       "        1.39446525e+00,  6.08070570e-02, -6.27287234e-01,  6.93452408e-01,\n",
       "        6.98263333e-02,  2.50460226e-01,  1.17420029e-01, -1.19574954e+00,\n",
       "       -1.53900740e+00,  5.02865422e-01, -1.00320478e-01,  1.00557462e+00,\n",
       "       -4.72461817e-01, -2.38705646e-01,  3.59077015e-01,  8.37392171e-01,\n",
       "        1.06696627e+00, -9.26281106e-01,  6.65470266e-01,  1.81605962e-01,\n",
       "        1.86013406e+00, -4.06422334e-01, -8.51233770e-01, -1.17207484e+00,\n",
       "       -7.86176503e-01,  1.33657276e+00,  1.39424109e-01, -9.57532917e-01,\n",
       "       -5.47600839e-01,  2.56878350e-01,  2.03101495e-02,  1.72603086e-01,\n",
       "       -2.11223204e-01, -9.67214785e-01,  2.12135776e+00,  1.38748664e-01,\n",
       "       -1.88677094e+00, -1.37146646e+00,  1.97506824e-01, -1.72826885e+00,\n",
       "       -2.19633914e+00, -3.04650213e-01,  7.22150045e-01,  1.33512760e+00,\n",
       "       -1.35886082e+00,  3.42310185e-01,  4.68858863e-01,  3.14763152e-01,\n",
       "        1.62688099e+00,  3.02478691e-01,  6.05390416e-01, -8.70764754e-02,\n",
       "       -1.64739165e-01, -1.09679936e-01, -2.79466287e+00,  2.73150607e-01,\n",
       "       -2.99093412e-01, -7.97839347e-01, -4.50852894e-01,  4.49758465e-01,\n",
       "        3.83416372e-01, -2.70745467e-01, -2.15057644e+00, -8.28872161e-01,\n",
       "        6.27433333e-03, -2.56404688e-01,  1.83050687e+00,  9.52312511e-01,\n",
       "       -8.06325810e-01, -1.55270390e-03, -7.24818926e-01,  7.36180501e-01,\n",
       "       -5.30224735e-01, -1.24443539e+00, -3.32859308e-01,  2.12478383e+00,\n",
       "        7.38699777e-01,  1.90098289e+00, -3.75856038e-02, -2.55134111e-02,\n",
       "       -1.95398041e-01,  1.36130760e+00,  1.51233231e+00,  1.75770229e-01,\n",
       "       -1.11872575e+00, -1.11025227e-02,  2.02089710e+00, -1.83131581e+00,\n",
       "        5.30980631e-01, -1.42483292e-01,  2.20930420e-01,  2.94029750e-01,\n",
       "       -8.40901843e-01,  1.23821973e+00, -1.76728423e-01,  2.36163618e-01,\n",
       "       -6.26753184e-01,  2.46216627e-01,  4.95252844e-01,  5.82083948e-01,\n",
       "        8.26897514e-01, -3.17999394e+00, -1.88434150e+00, -1.12295991e+00,\n",
       "        1.58611239e+00, -1.88344608e+00,  1.80292120e+00, -6.34351279e-01,\n",
       "       -1.38761612e+00,  1.74471527e+00, -8.79210440e-01, -1.88253659e+00,\n",
       "       -1.82898911e-01,  6.15857230e-02, -7.84081773e-02,  5.00856767e-01,\n",
       "       -1.14431647e-01,  1.86238491e-01,  1.38398965e+00, -2.15232189e-01,\n",
       "       -1.03371817e+00,  7.84822371e-01, -9.48756001e-02, -6.54155068e-01,\n",
       "       -1.60119524e+00,  1.23685250e+00,  1.19074081e+00,  6.61012161e-01,\n",
       "       -2.19454566e+00,  6.39633283e-01, -4.48832739e-01, -5.54971782e-01,\n",
       "        7.12869915e-01, -8.74752210e-01,  4.02920157e-01, -7.10343242e-01,\n",
       "        4.09538041e-01, -4.00316976e-01, -9.69450399e-01,  3.17287723e-01,\n",
       "        1.02067059e+00,  1.15578112e+00, -5.90635692e-01,  7.33006546e-01,\n",
       "        1.76892435e+00, -2.70437808e+00,  5.42651149e-01,  8.93597051e-01,\n",
       "        1.90276340e+00, -4.51050884e-01, -4.11406816e-01, -5.64792886e-01,\n",
       "       -7.06292468e-02,  8.98757231e-01, -1.27662666e+00,  1.22642015e+00,\n",
       "        2.99001094e-01, -1.19373241e+00, -5.53495366e-01, -2.43396381e-01,\n",
       "        8.40087681e-01,  1.33330316e+00,  3.32264276e-01, -1.28282116e+00,\n",
       "        7.16617203e-01,  4.99921164e-01, -7.63145426e-01,  1.00387675e+00,\n",
       "       -6.87999653e-01,  1.65971799e-01,  1.04313929e-01,  3.10039362e-01,\n",
       "        2.43576188e+00, -1.25892701e+00, -5.49273593e-01,  1.66764850e+00,\n",
       "        5.37653005e-01,  3.17080945e+00, -3.65146727e-02, -6.79889237e-01,\n",
       "        8.93751180e-01, -5.40279815e-01,  2.30124888e+00,  1.74142661e+00,\n",
       "       -1.00897305e+00, -1.16319817e+00,  1.19160044e+00, -2.48935084e-01,\n",
       "       -9.47124416e-01, -1.28873037e+00,  8.81702493e-01,  2.73763434e-01,\n",
       "       -1.48038496e+00, -8.43106512e-01, -8.59559127e-01,  7.43832386e-02,\n",
       "       -5.11797453e-01, -1.05206717e+00, -7.88753060e-01,  1.99340979e+00,\n",
       "        5.40647261e-01, -1.72406768e+00, -3.35958666e-01,  2.70211065e-01,\n",
       "        3.96245832e-01, -1.28583770e+00,  1.90547443e+00, -1.54237961e-02,\n",
       "       -1.10577016e+00, -1.10954354e+00,  4.77654472e-01,  1.33185002e-01,\n",
       "       -1.31839197e+00, -6.37728851e-01,  1.21693407e+00,  1.13928043e+00,\n",
       "       -8.91468048e-01,  1.67289204e+00,  1.22119755e+00,  3.12165498e-01,\n",
       "       -6.02462036e-01, -5.14515501e-01,  1.06059721e+00, -1.55187631e+00,\n",
       "        2.65867147e-01,  2.19351913e-01,  1.87369181e+00,  4.76212005e-01,\n",
       "        1.07467928e+00,  4.99780312e-01, -3.79549195e-01, -3.80338865e-01,\n",
       "       -1.09089377e-01,  5.84900069e-01, -4.09715791e-01, -9.32024701e-01,\n",
       "       -6.58089219e-01, -1.16225402e+00, -2.00382444e-01, -2.42186854e+00,\n",
       "        4.20411003e-01, -1.19150279e+00,  1.95334230e+00,  3.02560160e-01,\n",
       "        2.13177577e-01, -7.10400703e-01,  1.24895485e+00,  1.35054690e-01,\n",
       "       -4.73398035e-01,  1.12176792e+00,  1.10775096e-01, -5.57905837e-01,\n",
       "        8.51978302e-01,  8.33630171e-01, -6.42273866e-01,  1.39030936e-01,\n",
       "        9.38446067e-01,  3.38255094e-02, -2.62702435e+00,  1.19880762e+00,\n",
       "       -1.13031903e+00,  5.90109177e-01,  1.59200922e+00, -3.68579600e-01,\n",
       "       -1.38077727e+00,  2.07937721e-01, -6.56645445e-01,  2.13923609e+00,\n",
       "       -1.78597612e-01,  1.66899062e-01,  4.88626242e-01, -2.64110074e+00,\n",
       "        1.19864413e+00,  3.45848127e-01, -6.81756841e-01, -3.09221882e-01,\n",
       "        2.98180822e-01, -2.01741029e+00,  2.07090507e+00, -1.32510518e+00,\n",
       "       -3.32401993e-01,  8.13938300e-01,  8.51579974e-01, -3.08073691e-01,\n",
       "        9.29248804e-01, -4.70439515e-01, -1.09037071e+00, -4.96306718e-02,\n",
       "        1.07935289e+00, -8.47595949e-01, -6.53613050e-01, -8.83862290e-01,\n",
       "        5.59000706e-01,  3.44433010e-01, -2.05287110e+00,  2.16380867e-01,\n",
       "        2.51532668e+00,  1.31004653e-01,  2.18331397e+00,  1.51243272e+00,\n",
       "        5.07938757e-01,  5.66781623e-01, -1.67400683e-01, -8.94444701e-01,\n",
       "        9.94027748e-01, -2.80874523e+00,  2.58891540e-01, -6.51594355e-01,\n",
       "       -5.99412307e-01, -5.89224606e-01, -8.69795687e-01, -4.90612486e-02,\n",
       "        1.37342257e+00, -6.65076225e-01,  7.12225236e-01, -1.29052169e+00,\n",
       "       -1.45144962e-01, -1.36643506e+00, -1.18124384e+00,  5.59299646e-01,\n",
       "        1.53254716e+00, -1.27476993e+00,  2.11934767e-01, -1.04945864e+00,\n",
       "       -2.49103446e-02, -3.59198446e-01,  1.58249194e-01,  4.01719055e-01,\n",
       "        9.64264361e-01,  1.07601524e+00,  3.52459215e-01,  3.24009657e-01,\n",
       "        1.68919628e+00,  1.26593837e+00, -1.48005173e+00, -1.46412391e+00,\n",
       "       -1.21662372e+00,  9.24769812e-01,  1.78564658e-01,  2.75266897e-01,\n",
       "       -4.61764082e-01,  1.33749112e+00,  1.31114455e+00, -6.47754124e-01,\n",
       "        7.74103140e-01, -1.57537966e+00, -2.72927927e-03,  6.84492789e-01,\n",
       "       -1.28383978e+00, -1.42178015e-01, -1.07229452e+00,  9.57412133e-02,\n",
       "       -1.54652717e-01, -1.05872523e+00,  6.73746982e-01,  1.35847709e+00,\n",
       "        1.58055333e-01,  1.20520951e+00, -6.16913395e-01, -1.08271152e+00,\n",
       "        4.42383125e-01, -3.41819943e-01,  1.84049656e+00, -2.32967236e+00,\n",
       "        7.16046023e-01,  2.38300405e-01, -6.76931969e-02, -7.81400038e-02,\n",
       "       -9.27274564e-01,  1.63826543e+00,  1.91454209e-01, -7.51144835e-02,\n",
       "        8.28736804e-01, -6.55326408e-01,  1.96583311e+00, -2.85410527e-01,\n",
       "        1.86617392e+00,  7.55810191e-01,  6.25211467e-01, -1.29148561e+00,\n",
       "        2.42502302e+00,  1.18271935e+00,  2.81319038e-01,  4.56285538e-01,\n",
       "       -2.00210925e-02,  1.26261594e+00,  1.33960687e+00,  1.19591364e+00,\n",
       "       -2.45754183e+00, -8.10033479e-01, -8.38457219e-01,  4.59890195e-01,\n",
       "       -9.43873632e-01,  1.65568107e+00, -5.35900842e-03, -4.46292329e-01,\n",
       "        9.44956568e-02,  1.73008485e-01,  6.47331271e-01,  4.55050935e-01,\n",
       "        1.99394235e+00, -1.37386274e+00,  6.73245694e-01, -1.54835494e+00,\n",
       "        1.79516884e-01,  2.05188654e-01, -1.24996331e+00, -2.73139633e+00,\n",
       "        9.59815222e-01, -9.32140019e-01,  1.10679694e+00,  9.24877678e-01,\n",
       "       -2.57222044e-01, -3.17936308e-01,  6.07820007e-01, -2.61977517e-02,\n",
       "        4.87659772e-02, -2.25531220e+00, -9.26383301e-01,  1.42769050e-01,\n",
       "       -2.23737899e-01,  1.17043928e+00, -1.73614593e+00, -3.85220032e-01,\n",
       "       -2.36243787e-01,  1.70912465e+00, -1.15500315e+00,  6.43637557e-01,\n",
       "       -1.13814172e+00, -3.95238726e-01,  6.08696480e-01,  5.31061868e-01,\n",
       "        1.01114230e+00,  1.31808663e-01,  4.77175370e-01,  1.27919434e+00,\n",
       "       -2.45176249e+00,  7.66587654e-01, -2.00301475e+00, -1.23986555e+00,\n",
       "       -7.49508054e-01,  9.24630450e-01,  1.07833284e+00,  1.31984438e+00,\n",
       "        1.02625152e+00, -4.33361922e-01, -4.37731797e-01, -7.53345926e-01,\n",
       "       -5.02893519e-01,  1.13169217e+00, -1.02059672e+00,  6.09050970e-02,\n",
       "        4.75594314e-01, -1.60411945e+00,  1.27307908e+00,  6.12676676e-02,\n",
       "        1.29043411e+00, -9.78285828e-01, -1.98229501e+00, -9.45129201e-01,\n",
       "        1.31809029e+00, -1.36130225e+00,  2.09394451e-01,  2.93085183e+00,\n",
       "        6.47117700e-01, -1.49038312e+00, -5.01156954e-02,  1.17581983e-01,\n",
       "       -2.94351506e-01,  9.33156269e-02,  9.60486814e-02, -9.19414506e-01,\n",
       "       -1.22313855e+00, -1.39456383e-01, -2.63986483e-01,  6.04969811e-03,\n",
       "       -5.46053471e-01,  9.53167083e-01,  1.96310395e-01,  7.55368164e-01,\n",
       "        9.60326786e-02, -7.62829517e-01, -6.64224333e-01,  1.47921730e-01,\n",
       "       -8.77020600e-02, -7.09207437e-01,  2.82535498e-01,  2.69036143e-01,\n",
       "        7.82590425e-01, -8.47442145e-01, -7.95016985e-01, -9.02139325e-01,\n",
       "        2.28229307e+00, -3.01888673e-01, -1.00335442e+00,  2.09531627e+00,\n",
       "        2.76631267e-01, -9.47274072e-01, -3.52516730e-01,  4.77429171e-01,\n",
       "        1.47215465e+00,  7.02795251e-01,  5.13624463e-01,  1.21792469e+00,\n",
       "        6.46810627e-01, -1.86551781e-01,  9.92466579e-01,  2.20226526e+00,\n",
       "       -5.83924082e-01, -1.44191353e+00,  1.29676681e+00, -7.56577535e-01,\n",
       "       -2.40267692e-01,  1.69757005e+00, -2.59721276e-01, -7.56352920e-02,\n",
       "       -6.12328219e-02, -1.39239933e+00, -2.97841350e-01, -9.70429800e-02])"
      ]
     },
     "execution_count": 31,
     "metadata": {},
     "output_type": "execute_result"
    }
   ],
   "source": [
    "np.random.normal(loc=0,scale=1, size=1000)"
   ]
  },
  {
   "cell_type": "code",
   "execution_count": null,
   "metadata": {},
   "outputs": [],
   "source": []
  },
  {
   "cell_type": "markdown",
   "metadata": {},
   "source": [
    "## Question 11\n",
    "\n",
    "Generate binomial distribution data for fair coin flipping of size 100. Assume `0` for head and `1` for tail.\n",
    "\n",
    "[ **Hint:** For fair coin flip `p=0.5` ]"
   ]
  },
  {
   "cell_type": "markdown",
   "metadata": {},
   "source": [
    "#### Binomial Distribution"
   ]
  },
  {
   "cell_type": "markdown",
   "metadata": {},
   "source": [
    "It is defined by 2 parameters: the probability of success and the number of trails. It tells about how likely it is possible to get a given number of successes in n trails."
   ]
  },
  {
   "cell_type": "code",
   "execution_count": 32,
   "metadata": {},
   "outputs": [
    {
     "data": {
      "text/plain": [
       "array([52, 54, 50, 48, 48, 48, 45, 51, 46, 41, 52, 55, 48, 39, 51, 50, 48,\n",
       "       44, 55, 46, 51, 47, 52, 53, 52, 54, 50, 43, 52, 51, 49, 54, 58, 55,\n",
       "       49, 52, 46, 52, 49, 58, 48, 53, 58, 56, 52, 41, 49, 45, 52, 49, 45,\n",
       "       51, 54, 43, 44, 46, 52, 50, 55, 56, 46, 52, 54, 44, 55, 42, 51, 50,\n",
       "       46, 40, 48, 56, 45, 49, 42, 51, 42, 57, 54, 47, 42, 53, 39, 49, 46,\n",
       "       62, 57, 46, 50, 54, 41, 56, 48, 52, 48, 46, 56, 52, 54, 51])"
      ]
     },
     "execution_count": 32,
     "metadata": {},
     "output_type": "execute_result"
    }
   ],
   "source": [
    "np.random.binomial(n=100,p=0.5,size=100)"
   ]
  },
  {
   "cell_type": "markdown",
   "metadata": {},
   "source": [
    "#### Visualizing Poisson Distribution"
   ]
  },
  {
   "cell_type": "markdown",
   "metadata": {},
   "source": [
    "It models the probability of seeing certain number of successes within a time interval."
   ]
  },
  {
   "cell_type": "code",
   "execution_count": 33,
   "metadata": {},
   "outputs": [
    {
     "data": {
      "image/png": "[encoded data removed]",
      "text/plain": [
       "<Figure size 432x288 with 1 Axes>"
      ]
     },
     "metadata": {
      "needs_background": "light"
     },
     "output_type": "display_data"
    }
   ],
   "source": [
    "poisson_data = stats.poisson.rvs(size=100,mu=10)\n",
    "\n",
    "pd.DataFrame(poisson_data).hist()\n",
    "\n",
    "plt.show()"
   ]
  },
  {
   "cell_type": "code",
   "execution_count": null,
   "metadata": {},
   "outputs": [],
   "source": []
  }
 ],
 "metadata": {
  "kernelspec": {
   "display_name": "Python 3",
   "language": "python",
   "name": "python3"
  },
  "language_info": {
   "codemirror_mode": {
    "name": "ipython",
    "version": 3
   },
   "file_extension": ".py",
   "mimetype": "text/x-python",
   "name": "python",
   "nbconvert_exporter": "python",
   "pygments_lexer": "ipython3",
   "version": "3.7.0"
  }
 },
 "nbformat": 4,
 "nbformat_minor": 2
}

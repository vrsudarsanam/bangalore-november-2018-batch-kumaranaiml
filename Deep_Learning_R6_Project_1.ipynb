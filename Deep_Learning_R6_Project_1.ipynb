{
 "cells": [
  {
   "cell_type": "code",
   "execution_count": 41,
   "metadata": {},
   "outputs": [],
   "source": [
    "import numpy as np\n",
    "import pandas as pd\n",
    "from sklearn import metrics\n",
    "from sklearn import preprocessing\n",
    "import tensorflow as tf\n",
    "tf.set_random_seed(42)\n",
    "import keras\n",
    "from sklearn.preprocessing import LabelEncoder,OneHotEncoder\n",
    "from sklearn.model_selection import train_test_split\n",
    "from sklearn.preprocessing import StandardScaler\n",
    "from keras.models import Sequential\n",
    "from keras.layers import Dense\n",
    "from sklearn.metrics import confusion_matrix"
   ]
  },
  {
   "cell_type": "markdown",
   "metadata": {},
   "source": [
    "### 1. Read the dataset"
   ]
  },
  {
   "cell_type": "code",
   "execution_count": 6,
   "metadata": {},
   "outputs": [],
   "source": [
    "bank_df = pd.read_csv(\"bank.csv\")"
   ]
  },
  {
   "cell_type": "code",
   "execution_count": 7,
   "metadata": {},
   "outputs": [
    {
     "data": {
      "text/html": [
       "<div>\n",
       "<style scoped>\n",
       "    .dataframe tbody tr th:only-of-type {\n",
       "        vertical-align: middle;\n",
       "    }\n",
       "\n",
       "    .dataframe tbody tr th {\n",
       "        vertical-align: top;\n",
       "    }\n",
       "\n",
       "    .dataframe thead th {\n",
       "        text-align: right;\n",
       "    }\n",
       "</style>\n",
       "<table border=\"1\" class=\"dataframe\">\n",
       "  <thead>\n",
       "    <tr style=\"text-align: right;\">\n",
       "      <th></th>\n",
       "      <th>RowNumber</th>\n",
       "      <th>CustomerId</th>\n",
       "      <th>Surname</th>\n",
       "      <th>CreditScore</th>\n",
       "      <th>Geography</th>\n",
       "      <th>Gender</th>\n",
       "      <th>Age</th>\n",
       "      <th>Tenure</th>\n",
       "      <th>Balance</th>\n",
       "      <th>NumOfProducts</th>\n",
       "      <th>HasCrCard</th>\n",
       "      <th>IsActiveMember</th>\n",
       "      <th>EstimatedSalary</th>\n",
       "      <th>Exited</th>\n",
       "    </tr>\n",
       "  </thead>\n",
       "  <tbody>\n",
       "    <tr>\n",
       "      <th>4826</th>\n",
       "      <td>4827</td>\n",
       "      <td>15713346</td>\n",
       "      <td>Panina</td>\n",
       "      <td>794</td>\n",
       "      <td>France</td>\n",
       "      <td>Male</td>\n",
       "      <td>24</td>\n",
       "      <td>10</td>\n",
       "      <td>146126.75</td>\n",
       "      <td>1</td>\n",
       "      <td>1</td>\n",
       "      <td>1</td>\n",
       "      <td>88992.05</td>\n",
       "      <td>0</td>\n",
       "    </tr>\n",
       "    <tr>\n",
       "      <th>4711</th>\n",
       "      <td>4712</td>\n",
       "      <td>15758831</td>\n",
       "      <td>Thornton</td>\n",
       "      <td>754</td>\n",
       "      <td>France</td>\n",
       "      <td>Male</td>\n",
       "      <td>39</td>\n",
       "      <td>3</td>\n",
       "      <td>74896.33</td>\n",
       "      <td>1</td>\n",
       "      <td>0</td>\n",
       "      <td>0</td>\n",
       "      <td>34430.16</td>\n",
       "      <td>0</td>\n",
       "    </tr>\n",
       "    <tr>\n",
       "      <th>3882</th>\n",
       "      <td>3883</td>\n",
       "      <td>15568328</td>\n",
       "      <td>Black</td>\n",
       "      <td>488</td>\n",
       "      <td>France</td>\n",
       "      <td>Female</td>\n",
       "      <td>22</td>\n",
       "      <td>6</td>\n",
       "      <td>0.00</td>\n",
       "      <td>2</td>\n",
       "      <td>1</td>\n",
       "      <td>1</td>\n",
       "      <td>66393.89</td>\n",
       "      <td>0</td>\n",
       "    </tr>\n",
       "    <tr>\n",
       "      <th>4002</th>\n",
       "      <td>4003</td>\n",
       "      <td>15811486</td>\n",
       "      <td>Tang</td>\n",
       "      <td>634</td>\n",
       "      <td>Germany</td>\n",
       "      <td>Female</td>\n",
       "      <td>29</td>\n",
       "      <td>8</td>\n",
       "      <td>130036.21</td>\n",
       "      <td>2</td>\n",
       "      <td>0</td>\n",
       "      <td>1</td>\n",
       "      <td>69849.55</td>\n",
       "      <td>0</td>\n",
       "    </tr>\n",
       "    <tr>\n",
       "      <th>2118</th>\n",
       "      <td>2119</td>\n",
       "      <td>15774857</td>\n",
       "      <td>Synnot</td>\n",
       "      <td>460</td>\n",
       "      <td>France</td>\n",
       "      <td>Female</td>\n",
       "      <td>27</td>\n",
       "      <td>7</td>\n",
       "      <td>0.00</td>\n",
       "      <td>2</td>\n",
       "      <td>1</td>\n",
       "      <td>0</td>\n",
       "      <td>156150.08</td>\n",
       "      <td>1</td>\n",
       "    </tr>\n",
       "  </tbody>\n",
       "</table>\n",
       "</div>"
      ],
      "text/plain": [
       "      RowNumber  CustomerId   Surname  CreditScore Geography  Gender  Age  \\\n",
       "4826       4827    15713346    Panina          794    France    Male   24   \n",
       "4711       4712    15758831  Thornton          754    France    Male   39   \n",
       "3882       3883    15568328     Black          488    France  Female   22   \n",
       "4002       4003    15811486      Tang          634   Germany  Female   29   \n",
       "2118       2119    15774857    Synnot          460    France  Female   27   \n",
       "\n",
       "      Tenure    Balance  NumOfProducts  HasCrCard  IsActiveMember  \\\n",
       "4826      10  146126.75              1          1               1   \n",
       "4711       3   74896.33              1          0               0   \n",
       "3882       6       0.00              2          1               1   \n",
       "4002       8  130036.21              2          0               1   \n",
       "2118       7       0.00              2          1               0   \n",
       "\n",
       "      EstimatedSalary  Exited  \n",
       "4826         88992.05       0  \n",
       "4711         34430.16       0  \n",
       "3882         66393.89       0  \n",
       "4002         69849.55       0  \n",
       "2118        156150.08       1  "
      ]
     },
     "execution_count": 7,
     "metadata": {},
     "output_type": "execute_result"
    }
   ],
   "source": [
    "bank_df.sample(5)"
   ]
  },
  {
   "cell_type": "code",
   "execution_count": 8,
   "metadata": {},
   "outputs": [
    {
     "name": "stdout",
     "output_type": "stream",
     "text": [
      "<class 'pandas.core.frame.DataFrame'>\n",
      "RangeIndex: 10000 entries, 0 to 9999\n",
      "Data columns (total 14 columns):\n",
      "RowNumber          10000 non-null int64\n",
      "CustomerId         10000 non-null int64\n",
      "Surname            10000 non-null object\n",
      "CreditScore        10000 non-null int64\n",
      "Geography          10000 non-null object\n",
      "Gender             10000 non-null object\n",
      "Age                10000 non-null int64\n",
      "Tenure             10000 non-null int64\n",
      "Balance            10000 non-null float64\n",
      "NumOfProducts      10000 non-null int64\n",
      "HasCrCard          10000 non-null int64\n",
      "IsActiveMember     10000 non-null int64\n",
      "EstimatedSalary    10000 non-null float64\n",
      "Exited             10000 non-null int64\n",
      "dtypes: float64(2), int64(9), object(3)\n",
      "memory usage: 1.1+ MB\n"
     ]
    }
   ],
   "source": [
    "bank_df.info()"
   ]
  },
  {
   "cell_type": "code",
   "execution_count": 10,
   "metadata": {},
   "outputs": [
    {
     "data": {
      "text/plain": [
       "(10000, 14)"
      ]
     },
     "execution_count": 10,
     "metadata": {},
     "output_type": "execute_result"
    }
   ],
   "source": [
    "bank_df.shape"
   ]
  },
  {
   "cell_type": "markdown",
   "metadata": {},
   "source": [
    "### 2. Drop the columns which are unique for all users like IDs (2.5 points)"
   ]
  },
  {
   "cell_type": "code",
   "execution_count": 11,
   "metadata": {},
   "outputs": [],
   "source": [
    "bank_df.drop(['RowNumber','CustomerId','Surname',],axis=1,inplace=True)"
   ]
  },
  {
   "cell_type": "code",
   "execution_count": 12,
   "metadata": {},
   "outputs": [
    {
     "name": "stdout",
     "output_type": "stream",
     "text": [
      "<class 'pandas.core.frame.DataFrame'>\n",
      "RangeIndex: 10000 entries, 0 to 9999\n",
      "Data columns (total 11 columns):\n",
      "CreditScore        10000 non-null int64\n",
      "Geography          10000 non-null object\n",
      "Gender             10000 non-null object\n",
      "Age                10000 non-null int64\n",
      "Tenure             10000 non-null int64\n",
      "Balance            10000 non-null float64\n",
      "NumOfProducts      10000 non-null int64\n",
      "HasCrCard          10000 non-null int64\n",
      "IsActiveMember     10000 non-null int64\n",
      "EstimatedSalary    10000 non-null float64\n",
      "Exited             10000 non-null int64\n",
      "dtypes: float64(2), int64(7), object(2)\n",
      "memory usage: 859.5+ KB\n"
     ]
    }
   ],
   "source": [
    "bank_df.info()"
   ]
  },
  {
   "cell_type": "code",
   "execution_count": 13,
   "metadata": {},
   "outputs": [
    {
     "data": {
      "text/html": [
       "<div>\n",
       "<style scoped>\n",
       "    .dataframe tbody tr th:only-of-type {\n",
       "        vertical-align: middle;\n",
       "    }\n",
       "\n",
       "    .dataframe tbody tr th {\n",
       "        vertical-align: top;\n",
       "    }\n",
       "\n",
       "    .dataframe thead th {\n",
       "        text-align: right;\n",
       "    }\n",
       "</style>\n",
       "<table border=\"1\" class=\"dataframe\">\n",
       "  <thead>\n",
       "    <tr style=\"text-align: right;\">\n",
       "      <th></th>\n",
       "      <th>CreditScore</th>\n",
       "      <th>Geography</th>\n",
       "      <th>Gender</th>\n",
       "      <th>Age</th>\n",
       "      <th>Tenure</th>\n",
       "      <th>Balance</th>\n",
       "      <th>NumOfProducts</th>\n",
       "      <th>HasCrCard</th>\n",
       "      <th>IsActiveMember</th>\n",
       "      <th>EstimatedSalary</th>\n",
       "      <th>Exited</th>\n",
       "    </tr>\n",
       "  </thead>\n",
       "  <tbody>\n",
       "    <tr>\n",
       "      <th>0</th>\n",
       "      <td>619</td>\n",
       "      <td>France</td>\n",
       "      <td>Female</td>\n",
       "      <td>42</td>\n",
       "      <td>2</td>\n",
       "      <td>0.00</td>\n",
       "      <td>1</td>\n",
       "      <td>1</td>\n",
       "      <td>1</td>\n",
       "      <td>101348.88</td>\n",
       "      <td>1</td>\n",
       "    </tr>\n",
       "    <tr>\n",
       "      <th>1</th>\n",
       "      <td>608</td>\n",
       "      <td>Spain</td>\n",
       "      <td>Female</td>\n",
       "      <td>41</td>\n",
       "      <td>1</td>\n",
       "      <td>83807.86</td>\n",
       "      <td>1</td>\n",
       "      <td>0</td>\n",
       "      <td>1</td>\n",
       "      <td>112542.58</td>\n",
       "      <td>0</td>\n",
       "    </tr>\n",
       "    <tr>\n",
       "      <th>2</th>\n",
       "      <td>502</td>\n",
       "      <td>France</td>\n",
       "      <td>Female</td>\n",
       "      <td>42</td>\n",
       "      <td>8</td>\n",
       "      <td>159660.80</td>\n",
       "      <td>3</td>\n",
       "      <td>1</td>\n",
       "      <td>0</td>\n",
       "      <td>113931.57</td>\n",
       "      <td>1</td>\n",
       "    </tr>\n",
       "    <tr>\n",
       "      <th>3</th>\n",
       "      <td>699</td>\n",
       "      <td>France</td>\n",
       "      <td>Female</td>\n",
       "      <td>39</td>\n",
       "      <td>1</td>\n",
       "      <td>0.00</td>\n",
       "      <td>2</td>\n",
       "      <td>0</td>\n",
       "      <td>0</td>\n",
       "      <td>93826.63</td>\n",
       "      <td>0</td>\n",
       "    </tr>\n",
       "    <tr>\n",
       "      <th>4</th>\n",
       "      <td>850</td>\n",
       "      <td>Spain</td>\n",
       "      <td>Female</td>\n",
       "      <td>43</td>\n",
       "      <td>2</td>\n",
       "      <td>125510.82</td>\n",
       "      <td>1</td>\n",
       "      <td>1</td>\n",
       "      <td>1</td>\n",
       "      <td>79084.10</td>\n",
       "      <td>0</td>\n",
       "    </tr>\n",
       "  </tbody>\n",
       "</table>\n",
       "</div>"
      ],
      "text/plain": [
       "   CreditScore Geography  Gender  Age  Tenure    Balance  NumOfProducts  \\\n",
       "0          619    France  Female   42       2       0.00              1   \n",
       "1          608     Spain  Female   41       1   83807.86              1   \n",
       "2          502    France  Female   42       8  159660.80              3   \n",
       "3          699    France  Female   39       1       0.00              2   \n",
       "4          850     Spain  Female   43       2  125510.82              1   \n",
       "\n",
       "   HasCrCard  IsActiveMember  EstimatedSalary  Exited  \n",
       "0          1               1        101348.88       1  \n",
       "1          0               1        112542.58       0  \n",
       "2          1               0        113931.57       1  \n",
       "3          0               0         93826.63       0  \n",
       "4          1               1         79084.10       0  "
      ]
     },
     "execution_count": 13,
     "metadata": {},
     "output_type": "execute_result"
    }
   ],
   "source": [
    "bank_df.head()"
   ]
  },
  {
   "cell_type": "markdown",
   "metadata": {},
   "source": [
    "### 3. Distinguish the feature and target set (2.5 points)"
   ]
  },
  {
   "cell_type": "code",
   "execution_count": 15,
   "metadata": {},
   "outputs": [],
   "source": [
    "X = bank_df.iloc[:,0:10].values"
   ]
  },
  {
   "cell_type": "code",
   "execution_count": 16,
   "metadata": {},
   "outputs": [],
   "source": [
    "Y = bank_df.iloc[:,-1].values"
   ]
  },
  {
   "cell_type": "markdown",
   "metadata": {},
   "source": [
    "### 4.  Divide the data set into Train and test sets"
   ]
  },
  {
   "cell_type": "code",
   "execution_count": 18,
   "metadata": {},
   "outputs": [],
   "source": [
    "X_Encoder = LabelEncoder()"
   ]
  },
  {
   "cell_type": "code",
   "execution_count": 19,
   "metadata": {},
   "outputs": [],
   "source": [
    "X[:,1] = X_Encoder.fit_transform(X[:,1])"
   ]
  },
  {
   "cell_type": "code",
   "execution_count": 20,
   "metadata": {},
   "outputs": [],
   "source": [
    "X_Encoder1 = LabelEncoder()"
   ]
  },
  {
   "cell_type": "code",
   "execution_count": 21,
   "metadata": {},
   "outputs": [],
   "source": [
    "X[:,2] = X_Encoder1.fit_transform(X[:,2])"
   ]
  },
  {
   "cell_type": "code",
   "execution_count": 22,
   "metadata": {},
   "outputs": [],
   "source": [
    "oneHotEncoder = OneHotEncoder(categorical_features = [1])"
   ]
  },
  {
   "cell_type": "code",
   "execution_count": 24,
   "metadata": {},
   "outputs": [
    {
     "name": "stderr",
     "output_type": "stream",
     "text": [
      "C:\\Users\\kumar\\Anaconda3\\lib\\site-packages\\sklearn\\preprocessing\\_encoders.py:371: FutureWarning: The handling of integer data will change in version 0.22. Currently, the categories are determined based on the range [0, max(values)], while in the future they will be determined based on the unique values.\n",
      "If you want the future behaviour and silence this warning, you can specify \"categories='auto'\".\n",
      "In case you used a LabelEncoder before this OneHotEncoder to convert the categories to integers, then you can now use the OneHotEncoder directly.\n",
      "  warnings.warn(msg, FutureWarning)\n",
      "C:\\Users\\kumar\\Anaconda3\\lib\\site-packages\\sklearn\\preprocessing\\_encoders.py:392: DeprecationWarning: The 'categorical_features' keyword is deprecated in version 0.20 and will be removed in 0.22. You can use the ColumnTransformer instead.\n",
      "  \"use the ColumnTransformer instead.\", DeprecationWarning)\n"
     ]
    }
   ],
   "source": [
    "X = oneHotEncoder.fit_transform(X).toarray()"
   ]
  },
  {
   "cell_type": "code",
   "execution_count": 25,
   "metadata": {},
   "outputs": [],
   "source": [
    "X = X[:,1:]"
   ]
  },
  {
   "cell_type": "code",
   "execution_count": 26,
   "metadata": {},
   "outputs": [],
   "source": [
    "X_train, X_test, y_train, y_test = train_test_split(X, Y, test_size=0.2, random_state=7)"
   ]
  },
  {
   "cell_type": "markdown",
   "metadata": {},
   "source": [
    "### 5. Normalize the train and test data (2.5 points)"
   ]
  },
  {
   "cell_type": "code",
   "execution_count": 27,
   "metadata": {},
   "outputs": [],
   "source": [
    "scaler = StandardScaler()"
   ]
  },
  {
   "cell_type": "code",
   "execution_count": 28,
   "metadata": {},
   "outputs": [],
   "source": [
    "X_train_Scale = scaler.fit_transform(X_train)"
   ]
  },
  {
   "cell_type": "code",
   "execution_count": 29,
   "metadata": {},
   "outputs": [],
   "source": [
    "X_test_Scale = scaler.transform(X_test)"
   ]
  },
  {
   "cell_type": "markdown",
   "metadata": {},
   "source": [
    "### 6.  Initialize & build the model (10 points)"
   ]
  },
  {
   "cell_type": "code",
   "execution_count": 30,
   "metadata": {},
   "outputs": [
    {
     "data": {
      "text/plain": [
       "(8000, 11)"
      ]
     },
     "execution_count": 30,
     "metadata": {},
     "output_type": "execute_result"
    }
   ],
   "source": [
    "X_train_Scale.shape"
   ]
  },
  {
   "cell_type": "code",
   "execution_count": 31,
   "metadata": {},
   "outputs": [
    {
     "data": {
      "text/plain": [
       "(2000, 11)"
      ]
     },
     "execution_count": 31,
     "metadata": {},
     "output_type": "execute_result"
    }
   ],
   "source": [
    "X_test_Scale.shape"
   ]
  },
  {
   "cell_type": "code",
   "execution_count": 34,
   "metadata": {},
   "outputs": [],
   "source": [
    "model = Sequential()\n",
    "model.add(Dense(6, input_dim=11, activation='relu'))\n",
    "model.add(Dense(6, activation='relu'))\n",
    "model.add(Dense(1, activation='sigmoid'))\n",
    "model.compile(loss='binary_crossentropy', optimizer='adam', metrics=['accuracy'])"
   ]
  },
  {
   "cell_type": "code",
   "execution_count": 35,
   "metadata": {},
   "outputs": [
    {
     "name": "stdout",
     "output_type": "stream",
     "text": [
      "WARNING:tensorflow:From C:\\Users\\kumar\\Anaconda3\\lib\\site-packages\\tensorflow\\python\\ops\\math_ops.py:3066: to_int32 (from tensorflow.python.ops.math_ops) is deprecated and will be removed in a future version.\n",
      "Instructions for updating:\n",
      "Use tf.cast instead.\n",
      "Train on 8000 samples, validate on 2000 samples\n",
      "Epoch 1/50\n",
      "8000/8000 [==============================] - 0s 28us/step - loss: 0.8946 - acc: 0.3010 - val_loss: 0.8910 - val_acc: 0.3100\n",
      "Epoch 2/50\n",
      "8000/8000 [==============================] - 0s 1us/step - loss: 0.8899 - acc: 0.3077 - val_loss: 0.8864 - val_acc: 0.3210\n",
      "Epoch 3/50\n",
      "8000/8000 [==============================] - 0s 1us/step - loss: 0.8853 - acc: 0.3146 - val_loss: 0.8818 - val_acc: 0.3310\n",
      "Epoch 4/50\n",
      "8000/8000 [==============================] - 0s 1us/step - loss: 0.8808 - acc: 0.3243 - val_loss: 0.8773 - val_acc: 0.3320\n",
      "Epoch 5/50\n",
      "8000/8000 [==============================] - 0s 1us/step - loss: 0.8763 - acc: 0.3299 - val_loss: 0.8728 - val_acc: 0.3335\n",
      "Epoch 6/50\n",
      "8000/8000 [==============================] - 0s 1us/step - loss: 0.8719 - acc: 0.3332 - val_loss: 0.8685 - val_acc: 0.3365\n",
      "Epoch 7/50\n",
      "8000/8000 [==============================] - 0s 1us/step - loss: 0.8675 - acc: 0.3365 - val_loss: 0.8641 - val_acc: 0.3385\n",
      "Epoch 8/50\n",
      "8000/8000 [==============================] - 0s 1us/step - loss: 0.8632 - acc: 0.3392 - val_loss: 0.8599 - val_acc: 0.3410\n",
      "Epoch 9/50\n",
      "8000/8000 [==============================] - 0s 1us/step - loss: 0.8590 - acc: 0.3434 - val_loss: 0.8556 - val_acc: 0.3420\n",
      "Epoch 10/50\n",
      "8000/8000 [==============================] - 0s 1us/step - loss: 0.8548 - acc: 0.3467 - val_loss: 0.8515 - val_acc: 0.3440\n",
      "Epoch 11/50\n",
      "8000/8000 [==============================] - 0s 2us/step - loss: 0.8506 - acc: 0.3505 - val_loss: 0.8474 - val_acc: 0.3455\n",
      "Epoch 12/50\n",
      "8000/8000 [==============================] - 0s 1us/step - loss: 0.8465 - acc: 0.3545 - val_loss: 0.8433 - val_acc: 0.3495\n",
      "Epoch 13/50\n",
      "8000/8000 [==============================] - 0s 1us/step - loss: 0.8425 - acc: 0.3576 - val_loss: 0.8393 - val_acc: 0.3545\n",
      "Epoch 14/50\n",
      "8000/8000 [==============================] - 0s 1us/step - loss: 0.8385 - acc: 0.3610 - val_loss: 0.8354 - val_acc: 0.3595\n",
      "Epoch 15/50\n",
      "8000/8000 [==============================] - 0s 2us/step - loss: 0.8346 - acc: 0.3651 - val_loss: 0.8315 - val_acc: 0.3615\n",
      "Epoch 16/50\n",
      "8000/8000 [==============================] - 0s 1us/step - loss: 0.8307 - acc: 0.3677 - val_loss: 0.8277 - val_acc: 0.3670\n",
      "Epoch 17/50\n",
      "8000/8000 [==============================] - 0s 1us/step - loss: 0.8269 - acc: 0.3711 - val_loss: 0.8240 - val_acc: 0.3720\n",
      "Epoch 18/50\n",
      "8000/8000 [==============================] - 0s 1us/step - loss: 0.8231 - acc: 0.3746 - val_loss: 0.8203 - val_acc: 0.3735\n",
      "Epoch 19/50\n",
      "8000/8000 [==============================] - 0s 2us/step - loss: 0.8194 - acc: 0.3767 - val_loss: 0.8166 - val_acc: 0.3785\n",
      "Epoch 20/50\n",
      "8000/8000 [==============================] - 0s 2us/step - loss: 0.8158 - acc: 0.3806 - val_loss: 0.8130 - val_acc: 0.3800\n",
      "Epoch 21/50\n",
      "8000/8000 [==============================] - 0s 1us/step - loss: 0.8122 - acc: 0.3853 - val_loss: 0.8095 - val_acc: 0.3820\n",
      "Epoch 22/50\n",
      "8000/8000 [==============================] - 0s 1us/step - loss: 0.8086 - acc: 0.3889 - val_loss: 0.8060 - val_acc: 0.3870\n",
      "Epoch 23/50\n",
      "8000/8000 [==============================] - 0s 1us/step - loss: 0.8052 - acc: 0.3923 - val_loss: 0.8026 - val_acc: 0.3880\n",
      "Epoch 24/50\n",
      "8000/8000 [==============================] - 0s 1us/step - loss: 0.8017 - acc: 0.3956 - val_loss: 0.7992 - val_acc: 0.3935\n",
      "Epoch 25/50\n",
      "8000/8000 [==============================] - 0s 1us/step - loss: 0.7984 - acc: 0.3994 - val_loss: 0.7959 - val_acc: 0.3980\n",
      "Epoch 26/50\n",
      "8000/8000 [==============================] - 0s 1us/step - loss: 0.7950 - acc: 0.4015 - val_loss: 0.7926 - val_acc: 0.4015\n",
      "Epoch 27/50\n",
      "8000/8000 [==============================] - 0s 1us/step - loss: 0.7918 - acc: 0.4055 - val_loss: 0.7894 - val_acc: 0.4060\n",
      "Epoch 28/50\n",
      "8000/8000 [==============================] - 0s 1us/step - loss: 0.7885 - acc: 0.4103 - val_loss: 0.7862 - val_acc: 0.4095\n",
      "Epoch 29/50\n",
      "8000/8000 [==============================] - 0s 1us/step - loss: 0.7854 - acc: 0.4142 - val_loss: 0.7831 - val_acc: 0.4165\n",
      "Epoch 30/50\n",
      "8000/8000 [==============================] - 0s 1us/step - loss: 0.7822 - acc: 0.4190 - val_loss: 0.7800 - val_acc: 0.4210\n",
      "Epoch 31/50\n",
      "8000/8000 [==============================] - 0s 1us/step - loss: 0.7792 - acc: 0.4238 - val_loss: 0.7769 - val_acc: 0.4300\n",
      "Epoch 32/50\n",
      "8000/8000 [==============================] - 0s 1us/step - loss: 0.7762 - acc: 0.4265 - val_loss: 0.7740 - val_acc: 0.4350\n",
      "Epoch 33/50\n",
      "8000/8000 [==============================] - 0s 1us/step - loss: 0.7732 - acc: 0.4311 - val_loss: 0.7710 - val_acc: 0.4395\n",
      "Epoch 34/50\n",
      "8000/8000 [==============================] - 0s 1us/step - loss: 0.7702 - acc: 0.4370 - val_loss: 0.7681 - val_acc: 0.4430\n",
      "Epoch 35/50\n",
      "8000/8000 [==============================] - 0s 1us/step - loss: 0.7674 - acc: 0.4400 - val_loss: 0.7652 - val_acc: 0.4520\n",
      "Epoch 36/50\n",
      "8000/8000 [==============================] - 0s 1us/step - loss: 0.7645 - acc: 0.4467 - val_loss: 0.7624 - val_acc: 0.4570\n",
      "Epoch 37/50\n",
      "8000/8000 [==============================] - 0s 1us/step - loss: 0.7617 - acc: 0.4507 - val_loss: 0.7597 - val_acc: 0.4610\n",
      "Epoch 38/50\n",
      "8000/8000 [==============================] - 0s 1us/step - loss: 0.7590 - acc: 0.4540 - val_loss: 0.7569 - val_acc: 0.4665\n",
      "Epoch 39/50\n",
      "8000/8000 [==============================] - 0s 1us/step - loss: 0.7562 - acc: 0.4594 - val_loss: 0.7542 - val_acc: 0.4725\n",
      "Epoch 40/50\n",
      "8000/8000 [==============================] - 0s 1us/step - loss: 0.7536 - acc: 0.4622 - val_loss: 0.7516 - val_acc: 0.4735\n",
      "Epoch 41/50\n",
      "8000/8000 [==============================] - 0s 1us/step - loss: 0.7509 - acc: 0.4666 - val_loss: 0.7490 - val_acc: 0.4800\n",
      "Epoch 42/50\n",
      "8000/8000 [==============================] - 0s 1us/step - loss: 0.7483 - acc: 0.4726 - val_loss: 0.7464 - val_acc: 0.4840\n",
      "Epoch 43/50\n",
      "8000/8000 [==============================] - 0s 1us/step - loss: 0.7458 - acc: 0.4781 - val_loss: 0.7439 - val_acc: 0.4900\n",
      "Epoch 44/50\n",
      "8000/8000 [==============================] - 0s 1us/step - loss: 0.7433 - acc: 0.4832 - val_loss: 0.7414 - val_acc: 0.4930\n",
      "Epoch 45/50\n",
      "8000/8000 [==============================] - 0s 1us/step - loss: 0.7408 - acc: 0.4861 - val_loss: 0.7389 - val_acc: 0.4945\n",
      "Epoch 46/50\n",
      "8000/8000 [==============================] - 0s 1us/step - loss: 0.7383 - acc: 0.4910 - val_loss: 0.7365 - val_acc: 0.5015\n",
      "Epoch 47/50\n",
      "8000/8000 [==============================] - 0s 1us/step - loss: 0.7359 - acc: 0.4954 - val_loss: 0.7341 - val_acc: 0.5050\n",
      "Epoch 48/50\n",
      "8000/8000 [==============================] - 0s 1us/step - loss: 0.7335 - acc: 0.5011 - val_loss: 0.7317 - val_acc: 0.5125\n",
      "Epoch 49/50\n",
      "8000/8000 [==============================] - 0s 1us/step - loss: 0.7311 - acc: 0.5049 - val_loss: 0.7294 - val_acc: 0.5150\n",
      "Epoch 50/50\n",
      "8000/8000 [==============================] - 0s 1us/step - loss: 0.7288 - acc: 0.5105 - val_loss: 0.7271 - val_acc: 0.5210\n"
     ]
    },
    {
     "data": {
      "text/plain": [
       "<keras.callbacks.History at 0x28250dd4668>"
      ]
     },
     "execution_count": 35,
     "metadata": {},
     "output_type": "execute_result"
    }
   ],
   "source": [
    "model.fit(X_train_Scale, y_train, \n",
    "          validation_data=(X_test_Scale, y_test), \n",
    "          epochs=50,\n",
    "          batch_size=X_train_Scale.shape[0])"
   ]
  },
  {
   "cell_type": "code",
   "execution_count": 36,
   "metadata": {},
   "outputs": [],
   "source": [
    "model = tf.keras.models.Sequential()\n",
    "model.add(tf.keras.layers.Dense(6, input_dim=11, activation='relu'))\n",
    "model.add(tf.keras.layers.Dense(6, activation='relu'))\n",
    "model.add(tf.keras.layers.Dense(1, activation='sigmoid'))\n",
    "sgd_optimizer = tf.keras.optimizers.SGD(lr=0.5)"
   ]
  },
  {
   "cell_type": "code",
   "execution_count": 37,
   "metadata": {},
   "outputs": [],
   "source": [
    "model.compile(loss='binary_crossentropy', optimizer=sgd_optimizer, metrics=['accuracy'])"
   ]
  },
  {
   "cell_type": "code",
   "execution_count": 38,
   "metadata": {},
   "outputs": [
    {
     "name": "stdout",
     "output_type": "stream",
     "text": [
      "Train on 8000 samples, validate on 2000 samples\n",
      "Epoch 1/50\n",
      "8000/8000 [==============================] - 0s 21us/sample - loss: 0.6842 - acc: 0.5659 - val_loss: 0.6358 - val_acc: 0.7760\n",
      "Epoch 2/50\n",
      "8000/8000 [==============================] - 0s 1us/sample - loss: 0.6336 - acc: 0.7830 - val_loss: 0.6063 - val_acc: 0.7950\n",
      "Epoch 3/50\n",
      "8000/8000 [==============================] - 0s 1us/sample - loss: 0.6037 - acc: 0.7964 - val_loss: 0.5838 - val_acc: 0.7945\n",
      "Epoch 4/50\n",
      "8000/8000 [==============================] - 0s 1us/sample - loss: 0.5812 - acc: 0.7968 - val_loss: 0.5654 - val_acc: 0.7945\n",
      "Epoch 5/50\n",
      "8000/8000 [==============================] - 0s 1us/sample - loss: 0.5630 - acc: 0.7968 - val_loss: 0.5498 - val_acc: 0.7945\n",
      "Epoch 6/50\n",
      "8000/8000 [==============================] - 0s 2us/sample - loss: 0.5478 - acc: 0.7968 - val_loss: 0.5365 - val_acc: 0.7945\n",
      "Epoch 7/50\n",
      "8000/8000 [==============================] - 0s 1us/sample - loss: 0.5348 - acc: 0.7968 - val_loss: 0.5249 - val_acc: 0.7945\n",
      "Epoch 8/50\n",
      "8000/8000 [==============================] - 0s 1us/sample - loss: 0.5236 - acc: 0.7968 - val_loss: 0.5148 - val_acc: 0.7945\n",
      "Epoch 9/50\n",
      "8000/8000 [==============================] - 0s 1us/sample - loss: 0.5138 - acc: 0.7968 - val_loss: 0.5059 - val_acc: 0.7945\n",
      "Epoch 10/50\n",
      "8000/8000 [==============================] - 0s 1us/sample - loss: 0.5053 - acc: 0.7968 - val_loss: 0.4980 - val_acc: 0.7945\n",
      "Epoch 11/50\n",
      "8000/8000 [==============================] - 0s 2us/sample - loss: 0.4977 - acc: 0.7968 - val_loss: 0.4910 - val_acc: 0.7945\n",
      "Epoch 12/50\n",
      "8000/8000 [==============================] - 0s 2us/sample - loss: 0.4910 - acc: 0.7968 - val_loss: 0.4847 - val_acc: 0.7945\n",
      "Epoch 13/50\n",
      "8000/8000 [==============================] - 0s 1us/sample - loss: 0.4850 - acc: 0.7968 - val_loss: 0.4790 - val_acc: 0.7945\n",
      "Epoch 14/50\n",
      "8000/8000 [==============================] - 0s 1us/sample - loss: 0.4797 - acc: 0.7968 - val_loss: 0.4739 - val_acc: 0.7955\n",
      "Epoch 15/50\n",
      "8000/8000 [==============================] - 0s 2us/sample - loss: 0.4749 - acc: 0.7966 - val_loss: 0.4694 - val_acc: 0.7965\n",
      "Epoch 16/50\n",
      "8000/8000 [==============================] - 0s 1us/sample - loss: 0.4707 - acc: 0.7971 - val_loss: 0.4653 - val_acc: 0.8000\n",
      "Epoch 17/50\n",
      "8000/8000 [==============================] - 0s 1us/sample - loss: 0.4669 - acc: 0.7977 - val_loss: 0.4617 - val_acc: 0.8020\n",
      "Epoch 18/50\n",
      "8000/8000 [==============================] - 0s 1us/sample - loss: 0.4635 - acc: 0.7983 - val_loss: 0.4584 - val_acc: 0.8030\n",
      "Epoch 19/50\n",
      "8000/8000 [==============================] - 0s 1us/sample - loss: 0.4604 - acc: 0.7986 - val_loss: 0.4555 - val_acc: 0.8055\n",
      "Epoch 20/50\n",
      "8000/8000 [==============================] - 0s 1us/sample - loss: 0.4577 - acc: 0.8004 - val_loss: 0.4530 - val_acc: 0.8080\n",
      "Epoch 21/50\n",
      "8000/8000 [==============================] - 0s 1us/sample - loss: 0.4553 - acc: 0.8009 - val_loss: 0.4507 - val_acc: 0.8095\n",
      "Epoch 22/50\n",
      "8000/8000 [==============================] - 0s 1us/sample - loss: 0.4532 - acc: 0.8004 - val_loss: 0.4487 - val_acc: 0.8130\n",
      "Epoch 23/50\n",
      "8000/8000 [==============================] - 0s 1us/sample - loss: 0.4513 - acc: 0.8020 - val_loss: 0.4469 - val_acc: 0.8150\n",
      "Epoch 24/50\n",
      "8000/8000 [==============================] - 0s 1us/sample - loss: 0.4495 - acc: 0.8043 - val_loss: 0.4453 - val_acc: 0.8135\n",
      "Epoch 25/50\n",
      "8000/8000 [==============================] - 0s 1us/sample - loss: 0.4480 - acc: 0.8050 - val_loss: 0.4439 - val_acc: 0.8130\n",
      "Epoch 26/50\n",
      "8000/8000 [==============================] - 0s 1us/sample - loss: 0.4466 - acc: 0.8051 - val_loss: 0.4426 - val_acc: 0.8130\n",
      "Epoch 27/50\n",
      "8000/8000 [==============================] - 0s 1us/sample - loss: 0.4453 - acc: 0.8067 - val_loss: 0.4414 - val_acc: 0.8120\n",
      "Epoch 28/50\n",
      "8000/8000 [==============================] - 0s 1us/sample - loss: 0.4442 - acc: 0.8073 - val_loss: 0.4404 - val_acc: 0.8110\n",
      "Epoch 29/50\n",
      "8000/8000 [==============================] - 0s 1us/sample - loss: 0.4432 - acc: 0.8073 - val_loss: 0.4394 - val_acc: 0.8115\n",
      "Epoch 30/50\n",
      "8000/8000 [==============================] - 0s 1us/sample - loss: 0.4422 - acc: 0.8075 - val_loss: 0.4386 - val_acc: 0.8085\n",
      "Epoch 31/50\n",
      "8000/8000 [==============================] - 0s 1us/sample - loss: 0.4413 - acc: 0.8076 - val_loss: 0.4378 - val_acc: 0.8090\n",
      "Epoch 32/50\n",
      "8000/8000 [==============================] - 0s 1us/sample - loss: 0.4405 - acc: 0.8079 - val_loss: 0.4371 - val_acc: 0.8085\n",
      "Epoch 33/50\n",
      "8000/8000 [==============================] - 0s 1us/sample - loss: 0.4398 - acc: 0.8090 - val_loss: 0.4364 - val_acc: 0.8085\n",
      "Epoch 34/50\n",
      "8000/8000 [==============================] - 0s 1us/sample - loss: 0.4391 - acc: 0.8094 - val_loss: 0.4358 - val_acc: 0.8095\n",
      "Epoch 35/50\n",
      "8000/8000 [==============================] - 0s 1us/sample - loss: 0.4385 - acc: 0.8100 - val_loss: 0.4352 - val_acc: 0.8100\n",
      "Epoch 36/50\n",
      "8000/8000 [==============================] - 0s 1us/sample - loss: 0.4378 - acc: 0.8098 - val_loss: 0.4347 - val_acc: 0.8100\n",
      "Epoch 37/50\n",
      "8000/8000 [==============================] - 0s 1us/sample - loss: 0.4373 - acc: 0.8100 - val_loss: 0.4342 - val_acc: 0.8105\n",
      "Epoch 38/50\n",
      "8000/8000 [==============================] - 0s 1us/sample - loss: 0.4367 - acc: 0.8102 - val_loss: 0.4336 - val_acc: 0.8115\n",
      "Epoch 39/50\n",
      "8000/8000 [==============================] - 0s 1us/sample - loss: 0.4362 - acc: 0.8106 - val_loss: 0.4331 - val_acc: 0.8115\n",
      "Epoch 40/50\n",
      "8000/8000 [==============================] - 0s 1us/sample - loss: 0.4357 - acc: 0.8102 - val_loss: 0.4327 - val_acc: 0.8115\n",
      "Epoch 41/50\n",
      "8000/8000 [==============================] - 0s 1us/sample - loss: 0.4352 - acc: 0.8110 - val_loss: 0.4323 - val_acc: 0.8115\n",
      "Epoch 42/50\n",
      "8000/8000 [==============================] - 0s 1us/sample - loss: 0.4348 - acc: 0.8111 - val_loss: 0.4319 - val_acc: 0.8110\n",
      "Epoch 43/50\n",
      "8000/8000 [==============================] - 0s 1us/sample - loss: 0.4343 - acc: 0.8112 - val_loss: 0.4315 - val_acc: 0.8105\n",
      "Epoch 44/50\n",
      "8000/8000 [==============================] - 0s 1us/sample - loss: 0.4339 - acc: 0.8115 - val_loss: 0.4311 - val_acc: 0.8105\n",
      "Epoch 45/50\n",
      "8000/8000 [==============================] - 0s 1us/sample - loss: 0.4335 - acc: 0.8116 - val_loss: 0.4307 - val_acc: 0.8120\n",
      "Epoch 46/50\n",
      "8000/8000 [==============================] - 0s 1us/sample - loss: 0.4331 - acc: 0.8120 - val_loss: 0.4303 - val_acc: 0.8115\n",
      "Epoch 47/50\n",
      "8000/8000 [==============================] - 0s 1us/sample - loss: 0.4327 - acc: 0.8121 - val_loss: 0.4300 - val_acc: 0.8110\n",
      "Epoch 48/50\n",
      "8000/8000 [==============================] - 0s 1us/sample - loss: 0.4323 - acc: 0.8123 - val_loss: 0.4296 - val_acc: 0.8105\n",
      "Epoch 49/50\n",
      "8000/8000 [==============================] - 0s 1us/sample - loss: 0.4320 - acc: 0.8125 - val_loss: 0.4293 - val_acc: 0.8100\n",
      "Epoch 50/50\n",
      "8000/8000 [==============================] - 0s 1us/sample - loss: 0.4316 - acc: 0.8129 - val_loss: 0.4290 - val_acc: 0.8100\n"
     ]
    },
    {
     "data": {
      "text/plain": [
       "<tensorflow.python.keras.callbacks.History at 0x282534e8940>"
      ]
     },
     "execution_count": 38,
     "metadata": {},
     "output_type": "execute_result"
    }
   ],
   "source": [
    "model.fit(X_train_Scale, y_train, \n",
    "          validation_data=(X_test_Scale, y_test), \n",
    "          epochs=50,\n",
    "          batch_size=X_train_Scale.shape[0])"
   ]
  },
  {
   "cell_type": "markdown",
   "metadata": {},
   "source": [
    "##### __Insight__ \n",
    "##### There is slight improvement here"
   ]
  },
  {
   "cell_type": "markdown",
   "metadata": {},
   "source": [
    "### 8. Predict the results using 0.5 as a threshold (5 points)"
   ]
  },
  {
   "cell_type": "code",
   "execution_count": 39,
   "metadata": {},
   "outputs": [],
   "source": [
    "y_predict = model.predict(X_test_Scale)"
   ]
  },
  {
   "cell_type": "code",
   "execution_count": 40,
   "metadata": {},
   "outputs": [],
   "source": [
    "y_predict = (y_predict>0.5)"
   ]
  },
  {
   "cell_type": "markdown",
   "metadata": {},
   "source": [
    "### 9. Print the Accuracy score and confusion matrix (2.5 points)"
   ]
  },
  {
   "cell_type": "code",
   "execution_count": 42,
   "metadata": {},
   "outputs": [],
   "source": [
    "cm = confusion_matrix(y_test,y_predict)"
   ]
  },
  {
   "cell_type": "code",
   "execution_count": 43,
   "metadata": {},
   "outputs": [
    {
     "data": {
      "text/plain": [
       "array([[1533,   56],\n",
       "       [ 324,   87]], dtype=int64)"
      ]
     },
     "execution_count": 43,
     "metadata": {},
     "output_type": "execute_result"
    }
   ],
   "source": [
    "cm"
   ]
  },
  {
   "cell_type": "code",
   "execution_count": 44,
   "metadata": {},
   "outputs": [
    {
     "data": {
      "text/plain": [
       "0.81"
      ]
     },
     "execution_count": 44,
     "metadata": {},
     "output_type": "execute_result"
    }
   ],
   "source": [
    "metrics.accuracy_score(y_test,y_predict)"
   ]
  },
  {
   "cell_type": "code",
   "execution_count": 45,
   "metadata": {},
   "outputs": [
    {
     "name": "stdout",
     "output_type": "stream",
     "text": [
      "              precision    recall  f1-score   support\n",
      "\n",
      "           0       0.83      0.96      0.89      1589\n",
      "           1       0.61      0.21      0.31       411\n",
      "\n",
      "   micro avg       0.81      0.81      0.81      2000\n",
      "   macro avg       0.72      0.59      0.60      2000\n",
      "weighted avg       0.78      0.81      0.77      2000\n",
      "\n"
     ]
    }
   ],
   "source": [
    "cr=metrics.classification_report(y_test,y_predict)\n",
    "print(cr)"
   ]
  }
 ],
 "metadata": {
  "kernelspec": {
   "display_name": "Python 3",
   "language": "python",
   "name": "python3"
  },
  "language_info": {
   "codemirror_mode": {
    "name": "ipython",
    "version": 3
   },
   "file_extension": ".py",
   "mimetype": "text/x-python",
   "name": "python",
   "nbconvert_exporter": "python",
   "pygments_lexer": "ipython3",
   "version": "3.7.3"
  }
 },
 "nbformat": 4,
 "nbformat_minor": 2
}

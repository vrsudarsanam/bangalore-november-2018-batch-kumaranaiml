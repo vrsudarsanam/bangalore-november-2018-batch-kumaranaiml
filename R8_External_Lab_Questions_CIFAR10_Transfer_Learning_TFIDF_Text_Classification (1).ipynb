{
 "cells": [
  {
   "cell_type": "markdown",
   "metadata": {
    "colab_type": "text",
    "id": "QGIsF1ADyJ58"
   },
   "source": [
    "# Transfer Learning CIFAR10"
   ]
  },
  {
   "cell_type": "markdown",
   "metadata": {
    "colab_type": "text",
    "id": "E-n6tVFayGBe"
   },
   "source": [
    "* Train a simple convnet on the CIFAR dataset the first 5 output classes [0..4].\n",
    "* Freeze convolutional layers and fine-tune dense layers for the last 5 ouput classes [5..9].\n"
   ]
  },
  {
   "cell_type": "markdown",
   "metadata": {},
   "source": [
    "Ignoring warnings"
   ]
  },
  {
   "cell_type": "code",
   "execution_count": 1,
   "metadata": {},
   "outputs": [],
   "source": [
    "from IPython.core.interactiveshell import InteractiveShell\n",
    "InteractiveShell.ast_node_interactivity = \"all\"\n",
    "import warnings\n",
    "warnings.filterwarnings('ignore')"
   ]
  },
  {
   "cell_type": "markdown",
   "metadata": {},
   "source": [
    "Importing Libraries"
   ]
  },
  {
   "cell_type": "code",
   "execution_count": 2,
   "metadata": {},
   "outputs": [],
   "source": [
    "import pandas as pd\n",
    "import numpy as np\n",
    "from matplotlib import pyplot as plt"
   ]
  },
  {
   "cell_type": "markdown",
   "metadata": {
    "colab_type": "text",
    "id": "Cq8ejXHJyGYq"
   },
   "source": [
    "### 1. Import CIFAR10 data and create 2 datasets with one dataset having classes from 0 to 4 and other having classes from 5 to 9 "
   ]
  },
  {
   "cell_type": "markdown",
   "metadata": {},
   "source": [
    "Import CIFAR10 Data"
   ]
  },
  {
   "cell_type": "code",
   "execution_count": 3,
   "metadata": {
    "colab": {},
    "colab_type": "code",
    "id": "uWYbxnBayFUP"
   },
   "outputs": [
    {
     "name": "stderr",
     "output_type": "stream",
     "text": [
      "Using TensorFlow backend.\n"
     ]
    }
   ],
   "source": [
    "import keras\n",
    "from keras.datasets import cifar10\n",
    "from keras.layers import Dense, Convolution2D, Flatten, Activation, MaxPooling2D, Dropout\n",
    "from keras.models import Sequential\n",
    "from keras.utils import np_utils\n"
   ]
  },
  {
   "cell_type": "markdown",
   "metadata": {},
   "source": [
    "Train and Test the dataset"
   ]
  },
  {
   "cell_type": "code",
   "execution_count": 4,
   "metadata": {},
   "outputs": [],
   "source": [
    "(X_Train, Y_Train), (X_Test, Y_Test) = cifar10.load_data()\n",
    "Examples = 50000\n",
    "\n",
    "\n",
    "X1_Train = []\n",
    "X1_Test = []\n",
    "X2_Train = []\n",
    "X2_Test = []\n",
    "Y1_Train = []\n",
    "Y1_Test = []\n",
    "Y2_Train = []\n",
    "Y2_Test = []"
   ]
  },
  {
   "cell_type": "markdown",
   "metadata": {},
   "source": [
    "Put the data in the datasets"
   ]
  },
  {
   "cell_type": "code",
   "execution_count": 5,
   "metadata": {},
   "outputs": [],
   "source": [
    "for ix in range(Examples):\n",
    "    if Y_Train[ix] < 5:\n",
    "        X1_Train.append(X_Train[ix]/255.0)\n",
    "        Y1_Train.append(Y_Train[ix])\n",
    "    else:\n",
    "        X2_Train.append(X_Train[ix]/255.0)\n",
    "        Y2_Train.append(Y_Train[ix])\n",
    "\n",
    "for ix in range(Y_Test.shape[0]):\n",
    "    if Y_Test[ix] < 5:\n",
    "        X1_Test.append(X_Test[ix]/255.0)\n",
    "        Y1_Test.append(Y_Test[ix])\n",
    "    else:\n",
    "        X2_Test.append(X_Test[ix]/255.0)\n",
    "        Y2_Test.append(Y_Test[ix])\n"
   ]
  },
  {
   "cell_type": "code",
   "execution_count": 6,
   "metadata": {},
   "outputs": [
    {
     "data": {
      "text/plain": [
       "25000"
      ]
     },
     "execution_count": 6,
     "metadata": {},
     "output_type": "execute_result"
    }
   ],
   "source": [
    "len(X1_Train)"
   ]
  },
  {
   "cell_type": "markdown",
   "metadata": {},
   "source": [
    "### Reshape the test and train datasets"
   ]
  },
  {
   "cell_type": "code",
   "execution_count": 7,
   "metadata": {},
   "outputs": [
    {
     "name": "stdout",
     "output_type": "stream",
     "text": [
      "(25000, 32, 32, 3) (5000, 32, 32, 3)\n"
     ]
    }
   ],
   "source": [
    "X1_Train = np.asarray(X1_Train).reshape((-1, 32, 32, 3))\n",
    "X1_Test = np.asarray(X1_Test).reshape((-1, 32, 32, 3))\n",
    "X2_Train = np.asarray(X2_Train).reshape((-1, 32, 32, 3))\n",
    "X2_Test = np.asarray(X2_Test).reshape((-1, 32, 32, 3))\n",
    "\n",
    "print(X1_Train.shape, X1_Test.shape)\n"
   ]
  },
  {
   "cell_type": "markdown",
   "metadata": {
    "colab_type": "text",
    "id": "xtCKmQh4yXhT"
   },
   "source": [
    "### 2. Use One-hot encoding to divide y_train and y_test into required no of output classes"
   ]
  },
  {
   "cell_type": "markdown",
   "metadata": {},
   "source": [
    "### Creating y_train adn Y_test"
   ]
  },
  {
   "cell_type": "code",
   "execution_count": 9,
   "metadata": {},
   "outputs": [
    {
     "name": "stdout",
     "output_type": "stream",
     "text": [
      "(25000, 5, 5) (5000, 5, 5)\n"
     ]
    }
   ],
   "source": [
    "Y1_Train = np_utils.to_categorical(np.asarray(Y1_Train), num_classes=5)\n",
    "Y1_Test = np_utils.to_categorical(np.asarray(Y1_Test), num_classes=5)\n",
    "\n",
    "Y2_Train = np_utils.to_categorical(np.asarray(Y2_Train), num_classes=10)\n",
    "Y2_Test = np_utils.to_categorical(np.asarray(Y2_Test), num_classes=10)\n",
    "print(Y1_Train.shape, Y1_Test.shape)"
   ]
  },
  {
   "cell_type": "code",
   "execution_count": 10,
   "metadata": {},
   "outputs": [],
   "source": [
    "#Put the data"
   ]
  },
  {
   "cell_type": "code",
   "execution_count": 11,
   "metadata": {},
   "outputs": [],
   "source": [
    "set1 = int(0.8 * X1_Train.shape[0])\n",
    "set2 = int(0.8 * X2_Train.shape[0])\n",
    "\n",
    "X1_Vals = X1_Train[set1:]\n",
    "X1_train = X1_Train[:set1]\n",
    "Y1_Vals = Y1_Train[set1:]\n",
    "Y1_train = Y1_Train[:set1]\n",
    "\n",
    "X2_Vals = X2_Train[set2:]\n",
    "X2_train = X2_Train[:set2]\n",
    "Y2_Vals = Y2_Train[set2:]\n",
    "Y2_Train = Y2_Train[:set2]"
   ]
  },
  {
   "cell_type": "markdown",
   "metadata": {
    "colab_type": "text",
    "id": "cuOiKWfeybAl"
   },
   "source": [
    "### 3. Build a sequential neural network model which can classify the classes 0 to 4 of CIFAR10 dataset with at least 80% accuracy on test data"
   ]
  },
  {
   "cell_type": "code",
   "execution_count": 12,
   "metadata": {},
   "outputs": [
    {
     "name": "stdout",
     "output_type": "stream",
     "text": [
      "WARNING:tensorflow:From C:\\Users\\Jeyakumar\\Anaconda3\\lib\\site-packages\\tensorflow\\python\\framework\\op_def_library.py:263: colocate_with (from tensorflow.python.framework.ops) is deprecated and will be removed in a future version.\n",
      "Instructions for updating:\n",
      "Colocations handled automatically by placer.\n",
      "WARNING:tensorflow:From C:\\Users\\Jeyakumar\\Anaconda3\\lib\\site-packages\\keras\\backend\\tensorflow_backend.py:3445: calling dropout (from tensorflow.python.ops.nn_ops) with keep_prob is deprecated and will be removed in a future version.\n",
      "Instructions for updating:\n",
      "Please use `rate` instead of `keep_prob`. Rate should be set to `rate = 1 - keep_prob`.\n",
      "_________________________________________________________________\n",
      "Layer (type)                 Output Shape              Param #   \n",
      "=================================================================\n",
      "conv2d_1 (Conv2D)            (None, 28, 28, 32)        2432      \n",
      "_________________________________________________________________\n",
      "conv2d_2 (Conv2D)            (None, 24, 24, 16)        12816     \n",
      "_________________________________________________________________\n",
      "max_pooling2d_1 (MaxPooling2 (None, 12, 12, 16)        0         \n",
      "_________________________________________________________________\n",
      "conv2d_3 (Conv2D)            (None, 10, 10, 8)         1160      \n",
      "_________________________________________________________________\n",
      "flatten_1 (Flatten)          (None, 800)               0         \n",
      "_________________________________________________________________\n",
      "dropout_1 (Dropout)          (None, 800)               0         \n",
      "_________________________________________________________________\n",
      "dense_1 (Dense)              (None, 128)               102528    \n",
      "_________________________________________________________________\n",
      "activation_1 (Activation)    (None, 128)               0         \n",
      "_________________________________________________________________\n",
      "dense_2 (Dense)              (None, 5)                 645       \n",
      "_________________________________________________________________\n",
      "activation_2 (Activation)    (None, 5)                 0         \n",
      "=================================================================\n",
      "Total params: 119,581\n",
      "Trainable params: 119,581\n",
      "Non-trainable params: 0\n",
      "_________________________________________________________________\n"
     ]
    }
   ],
   "source": [
    "Model1 = Sequential()\n",
    "\n",
    "Model1.add(Convolution2D(32, 5, 5, input_shape=(32, 32, 3), activation='relu'))\n",
    "Model1.add(Convolution2D(16, 5, 5, activation='relu'))\n",
    "Model1.add(MaxPooling2D(pool_size=(2,2)))\n",
    "Model1.add(Convolution2D(8, 3, 3, activation='relu'))\n",
    "Model1.add(Flatten())\n",
    "Model1.add(Dropout(0.42))\n",
    "\n",
    "Model1.add(Dense(128))\n",
    "Model1.add(Activation('relu'))\n",
    "\n",
    "Model1.add(Dense(5))\n",
    "Model1.add(Activation('softmax'))\n",
    "\n",
    "Model1.summary()\n",
    "Model1.compile(loss='categorical_crossentropy', optimizer='adam', metrics=['accuracy'])"
   ]
  },
  {
   "cell_type": "markdown",
   "metadata": {},
   "source": [
    "### Testing"
   ]
  },
  {
   "cell_type": "code",
   "execution_count": 9,
   "metadata": {},
   "outputs": [
    {
     "name": "stdout",
     "output_type": "stream",
     "text": [
      "WARNING:tensorflow:From C:\\Users\\varuraje.ORADEV\\AppData\\Local\\Continuum\\anaconda3\\lib\\site-packages\\tensorflow\\python\\ops\\math_ops.py:3066: to_int32 (from tensorflow.python.ops.math_ops) is deprecated and will be removed in a future version.\n",
      "Instructions for updating:\n",
      "Use tf.cast instead.\n",
      "Train on 20000 samples, validate on 5000 samples\n",
      "Epoch 1/25\n",
      " - 76s - loss: 1.2346 - acc: 0.4748 - val_loss: 1.0432 - val_acc: 0.5790\n",
      "Epoch 2/25\n",
      " - 76s - loss: 1.0111 - acc: 0.5801 - val_loss: 0.9453 - val_acc: 0.6236\n",
      "Epoch 3/25\n",
      " - 76s - loss: 0.9423 - acc: 0.6153 - val_loss: 0.9138 - val_acc: 0.6328\n",
      "Epoch 4/25\n",
      " - 77s - loss: 0.8987 - acc: 0.6357 - val_loss: 0.8630 - val_acc: 0.6616\n",
      "Epoch 5/25\n",
      " - 76s - loss: 0.8618 - acc: 0.6530 - val_loss: 0.8378 - val_acc: 0.6684\n",
      "Epoch 6/25\n",
      " - 78s - loss: 0.8243 - acc: 0.6735 - val_loss: 0.8408 - val_acc: 0.6736\n",
      "Epoch 7/25\n",
      " - 76s - loss: 0.7985 - acc: 0.6844 - val_loss: 0.8031 - val_acc: 0.6926\n",
      "Epoch 8/25\n",
      " - 83s - loss: 0.7753 - acc: 0.6936 - val_loss: 0.8089 - val_acc: 0.6888\n",
      "Epoch 9/25\n",
      " - 77s - loss: 0.7476 - acc: 0.7077 - val_loss: 0.8019 - val_acc: 0.6906\n",
      "Epoch 10/25\n",
      " - 78s - loss: 0.7222 - acc: 0.7189 - val_loss: 0.7728 - val_acc: 0.7026\n",
      "Epoch 11/25\n",
      " - 76s - loss: 0.7139 - acc: 0.7193 - val_loss: 0.7627 - val_acc: 0.7074\n",
      "Epoch 12/25\n",
      " - 78s - loss: 0.7000 - acc: 0.7302 - val_loss: 0.8581 - val_acc: 0.6872\n",
      "Epoch 13/25\n",
      " - 76s - loss: 0.6850 - acc: 0.7364 - val_loss: 0.7499 - val_acc: 0.7218\n",
      "Epoch 14/25\n",
      " - 78s - loss: 0.6674 - acc: 0.7443 - val_loss: 0.7408 - val_acc: 0.7214\n",
      "Epoch 15/25\n",
      " - 75s - loss: 0.6486 - acc: 0.7483 - val_loss: 0.7300 - val_acc: 0.7240\n",
      "Epoch 16/25\n",
      " - 73s - loss: 0.6296 - acc: 0.7584 - val_loss: 0.7514 - val_acc: 0.7160\n",
      "Epoch 17/25\n",
      " - 73s - loss: 0.6145 - acc: 0.7602 - val_loss: 0.7420 - val_acc: 0.7268\n",
      "Epoch 18/25\n",
      " - 74s - loss: 0.5977 - acc: 0.7677 - val_loss: 0.7220 - val_acc: 0.7284\n",
      "Epoch 19/25\n",
      " - 73s - loss: 0.5886 - acc: 0.7749 - val_loss: 0.7489 - val_acc: 0.7172\n",
      "Epoch 20/25\n",
      " - 73s - loss: 0.5734 - acc: 0.7820 - val_loss: 0.7416 - val_acc: 0.7320\n",
      "Epoch 21/25\n",
      " - 81s - loss: 0.5688 - acc: 0.7770 - val_loss: 0.7319 - val_acc: 0.7238\n",
      "Epoch 22/25\n",
      " - 75s - loss: 0.5477 - acc: 0.7879 - val_loss: 0.7507 - val_acc: 0.7232\n",
      "Epoch 23/25\n",
      " - 73s - loss: 0.5434 - acc: 0.7894 - val_loss: 0.7461 - val_acc: 0.7186\n",
      "Epoch 24/25\n",
      " - 72s - loss: 0.5330 - acc: 0.7935 - val_loss: 0.7604 - val_acc: 0.7248\n",
      "Epoch 25/25\n",
      " - 73s - loss: 0.5121 - acc: 0.8013 - val_loss: 0.7425 - val_acc: 0.7286\n",
      "\n",
      "\n",
      " -------------------- \n",
      "\n",
      "Time taken for first training:  0:31:34.430064\n",
      "\n",
      " -------------------- \n",
      "\n",
      "\n"
     ]
    }
   ],
   "source": [
    "import time, datetime\n",
    "\n",
    "starttime = datetime.datetime.now()\n",
    "test = Model1.fit(x1_train, y1_train,\n",
    "         nb_epoch=25,\n",
    "         shuffle=True,\n",
    "         batch_size=100,\n",
    "         validation_data=(x1_val, y1_val), verbose=2)\n",
    "\n",
    "time_taken = datetime.datetime.now() - starttime\n",
    "print('\\n'*2, '-'*20, '\\n')\n",
    "print('Time taken for first training: ', time_taken)\n",
    "print('\\n', '-'*20, '\\n'*2)\n"
   ]
  },
  {
   "cell_type": "markdown",
   "metadata": {},
   "source": [
    "## We can see that it Achieved 80% accuracy in 25th epoch and a validation accuracy is 72.86%. However, the training time was 31 minutes and 34 seconds.\n"
   ]
  },
  {
   "cell_type": "markdown",
   "metadata": {
    "colab_type": "text",
    "id": "woTfNst_ynRG"
   },
   "source": [
    "### 4. In the model which was built above (for classification of classes 0-4 in CIFAR10), make only the dense layers to be trainable and conv layers to be non-trainable"
   ]
  },
  {
   "cell_type": "code",
   "execution_count": 10,
   "metadata": {},
   "outputs": [],
   "source": [
    "for l in model.layers[:6]:\n",
    "    l.trainable = False"
   ]
  },
  {
   "cell_type": "code",
   "execution_count": null,
   "metadata": {
    "colab": {},
    "colab_type": "code",
    "id": "o_VCDB3Byb1a"
   },
   "outputs": [],
   "source": []
  },
  {
   "cell_type": "markdown",
   "metadata": {
    "colab_type": "text",
    "id": "1-uUPqWpyeyX"
   },
   "source": [
    "### 5. Utilize the the model trained on CIFAR 10 (classes 0 to 4) to classify the classes 5 to 9 of CIFAR 10  (Use Transfer Learning) <br>\n",
    "Achieve an accuracy of more than 85% on test data"
   ]
  },
  {
   "cell_type": "code",
   "execution_count": 11,
   "metadata": {
    "colab": {},
    "colab_type": "code",
    "id": "szHjJgDvyfCt"
   },
   "outputs": [
    {
     "name": "stdout",
     "output_type": "stream",
     "text": [
      "_________________________________________________________________\n",
      "Layer (type)                 Output Shape              Param #   \n",
      "=================================================================\n",
      "conv2d_1 (Conv2D)            (None, 28, 28, 32)        2432      \n",
      "_________________________________________________________________\n",
      "conv2d_2 (Conv2D)            (None, 24, 24, 16)        12816     \n",
      "_________________________________________________________________\n",
      "max_pooling2d_1 (MaxPooling2 (None, 12, 12, 16)        0         \n",
      "_________________________________________________________________\n",
      "conv2d_3 (Conv2D)            (None, 10, 10, 8)         1160      \n",
      "_________________________________________________________________\n",
      "flatten_1 (Flatten)          (None, 800)               0         \n",
      "_________________________________________________________________\n",
      "dropout_1 (Dropout)          (None, 800)               0         \n",
      "_________________________________________________________________\n",
      "dense_3 (Dense)              (None, 128)               102528    \n",
      "_________________________________________________________________\n",
      "activation_3 (Activation)    (None, 128)               0         \n",
      "_________________________________________________________________\n",
      "dense_4 (Dense)              (None, 10)                1290      \n",
      "_________________________________________________________________\n",
      "activation_4 (Activation)    (None, 10)                0         \n",
      "=================================================================\n",
      "Total params: 120,226\n",
      "Trainable params: 103,818\n",
      "Non-trainable params: 16,408\n",
      "_________________________________________________________________\n"
     ]
    }
   ],
   "source": [
    "re_model = Sequential(model.layers[:6])\n",
    "\n",
    "re_model.add(Dense(128))\n",
    "re_model.add(Activation('relu'))\n",
    "re_model.add(Dense(10))\n",
    "re_model.add(Activation('softmax'))\n",
    "\n",
    "re_model.summary()\n",
    "re_model.compile(loss='categorical_crossentropy', optimizer='adam', metrics=['accuracy'])"
   ]
  },
  {
   "cell_type": "code",
   "execution_count": 12,
   "metadata": {},
   "outputs": [
    {
     "name": "stdout",
     "output_type": "stream",
     "text": [
      "Train on 20000 samples, validate on 5000 samples\n",
      "Epoch 1/25\n",
      " - 35s - loss: 0.8946 - acc: 0.6637 - val_loss: 0.7356 - val_acc: 0.7290\n",
      "Epoch 2/25\n",
      " - 35s - loss: 0.7633 - acc: 0.7114 - val_loss: 0.7372 - val_acc: 0.7318\n",
      "Epoch 3/25\n",
      " - 35s - loss: 0.7375 - acc: 0.7222 - val_loss: 0.6987 - val_acc: 0.7486\n",
      "Epoch 4/25\n",
      " - 35s - loss: 0.7051 - acc: 0.7328 - val_loss: 0.6828 - val_acc: 0.7554\n",
      "Epoch 5/25\n",
      " - 35s - loss: 0.6777 - acc: 0.7416 - val_loss: 0.6684 - val_acc: 0.7556\n",
      "Epoch 6/25\n",
      " - 35s - loss: 0.6550 - acc: 0.7527 - val_loss: 0.6630 - val_acc: 0.7570\n",
      "Epoch 7/25\n",
      " - 35s - loss: 0.6331 - acc: 0.7619 - val_loss: 0.6449 - val_acc: 0.7686\n",
      "Epoch 8/25\n",
      " - 35s - loss: 0.6122 - acc: 0.7667 - val_loss: 0.6434 - val_acc: 0.7688\n",
      "Epoch 9/25\n",
      " - 36s - loss: 0.5946 - acc: 0.7733 - val_loss: 0.6324 - val_acc: 0.7756\n",
      "Epoch 10/25\n",
      " - 35s - loss: 0.5747 - acc: 0.7838 - val_loss: 0.6323 - val_acc: 0.7752\n",
      "Epoch 11/25\n",
      " - 35s - loss: 0.5593 - acc: 0.7897 - val_loss: 0.6299 - val_acc: 0.7740\n",
      "Epoch 12/25\n",
      " - 35s - loss: 0.5449 - acc: 0.7978 - val_loss: 0.6253 - val_acc: 0.7700\n",
      "Epoch 13/25\n",
      " - 35s - loss: 0.5308 - acc: 0.7985 - val_loss: 0.6302 - val_acc: 0.7718\n",
      "Epoch 14/25\n",
      " - 35s - loss: 0.5146 - acc: 0.8068 - val_loss: 0.6201 - val_acc: 0.7794\n",
      "Epoch 15/25\n",
      " - 35s - loss: 0.4997 - acc: 0.8135 - val_loss: 0.6244 - val_acc: 0.7742\n",
      "Epoch 16/25\n",
      " - 35s - loss: 0.4948 - acc: 0.8141 - val_loss: 0.6211 - val_acc: 0.7766\n",
      "Epoch 17/25\n",
      " - 35s - loss: 0.4785 - acc: 0.8174 - val_loss: 0.6224 - val_acc: 0.7740\n",
      "Epoch 18/25\n",
      " - 36s - loss: 0.4701 - acc: 0.8236 - val_loss: 0.6261 - val_acc: 0.7742\n",
      "Epoch 19/25\n",
      " - 36s - loss: 0.4577 - acc: 0.8263 - val_loss: 0.6257 - val_acc: 0.7742\n",
      "Epoch 20/25\n",
      " - 36s - loss: 0.4527 - acc: 0.8310 - val_loss: 0.6355 - val_acc: 0.7726\n",
      "Epoch 21/25\n",
      " - 36s - loss: 0.4405 - acc: 0.8378 - val_loss: 0.6308 - val_acc: 0.7688\n",
      "Epoch 22/25\n",
      " - 36s - loss: 0.4341 - acc: 0.8385 - val_loss: 0.6303 - val_acc: 0.7752\n",
      "Epoch 23/25\n",
      " - 36s - loss: 0.4231 - acc: 0.8426 - val_loss: 0.6329 - val_acc: 0.7732\n",
      "Epoch 24/25\n",
      " - 36s - loss: 0.4156 - acc: 0.8426 - val_loss: 0.6333 - val_acc: 0.7736\n",
      "Epoch 25/25\n",
      " - 36s - loss: 0.4074 - acc: 0.8508 - val_loss: 0.6382 - val_acc: 0.7750\n",
      "\n",
      "\n",
      " -------------------- \n",
      "\n",
      "Time taken for first training:  0:14:43.969717\n",
      "\n",
      " -------------------- \n",
      "\n",
      "\n"
     ]
    }
   ],
   "source": [
    "starttime = datetime.datetime.now()\n",
    "test2 = trans_model.fit(X2_train, Y2_train, nb_epoch=25, shuffle=True, batch_size=100, validation_data=(X2_Vals, Y2_Vals), verbose=2)\n",
    "time_taken = datetime.datetime.now() - starttime\n",
    "print('\\n'*2, '-'*20, '\\n')\n",
    "print('Time taken for first training: ', time_taken)\n",
    "print('\\n', '-'*20, '\\n'*2)"
   ]
  },
  {
   "cell_type": "markdown",
   "metadata": {},
   "source": [
    "## We can see that it achieved 85% accuracy using 25th Epoch. The second model trained for classes 5..9 used transfer learning.  It achieved validadation accuracy of 77.50% using 25 epochs. Train time was down to just 14 minnutes and 43 seconds.\n",
    "\n"
   ]
  },
  {
   "cell_type": "markdown",
   "metadata": {},
   "source": [
    "## Therefore, transfer learning significantly brought down the time for processing of data."
   ]
  },
  {
   "cell_type": "markdown",
   "metadata": {
    "colab_type": "text",
    "id": "0zDuRecXzEtr"
   },
   "source": [
    "# Text classification using TF-IDF"
   ]
  },
  {
   "cell_type": "markdown",
   "metadata": {
    "colab_type": "text",
    "id": "xMPlEJhHzb6P"
   },
   "source": [
    "### 6. Load the dataset from sklearn.datasets"
   ]
  },
  {
   "cell_type": "code",
   "execution_count": 13,
   "metadata": {
    "colab": {},
    "colab_type": "code",
    "id": "Fe-B59u3zHNb"
   },
   "outputs": [],
   "source": [
    "from sklearn.datasets import fetch_20newsgroups"
   ]
  },
  {
   "cell_type": "code",
   "execution_count": 14,
   "metadata": {
    "colab": {},
    "colab_type": "code",
    "id": "PRrMemVQzbHU"
   },
   "outputs": [],
   "source": [
    "categories = ['alt.atheism', 'soc.religion.christian', 'comp.graphics', 'sci.med']"
   ]
  },
  {
   "cell_type": "markdown",
   "metadata": {
    "colab_type": "text",
    "id": "-sZX0UbJzmg5"
   },
   "source": [
    "### 7. Training data"
   ]
  },
  {
   "cell_type": "code",
   "execution_count": 15,
   "metadata": {
    "colab": {},
    "colab_type": "code",
    "id": "CITr_5aXziJ2"
   },
   "outputs": [],
   "source": [
    "twenty_train = fetch_20newsgroups(subset='train', categories=categories, shuffle=True, random_state=42)"
   ]
  },
  {
   "cell_type": "code",
   "execution_count": 16,
   "metadata": {},
   "outputs": [
    {
     "data": {
      "text/plain": [
       "sklearn.utils.Bunch"
      ]
     },
     "execution_count": 16,
     "metadata": {},
     "output_type": "execute_result"
    }
   ],
   "source": [
    "type(twenty_train)"
   ]
  },
  {
   "cell_type": "code",
   "execution_count": 17,
   "metadata": {},
   "outputs": [
    {
     "data": {
      "text/plain": [
       "6"
      ]
     },
     "execution_count": 17,
     "metadata": {},
     "output_type": "execute_result"
    }
   ],
   "source": [
    "len(twenty_train)"
   ]
  },
  {
   "cell_type": "markdown",
   "metadata": {
    "colab_type": "text",
    "id": "xcESc5QXzr6p"
   },
   "source": [
    "### 8. Test data"
   ]
  },
  {
   "cell_type": "code",
   "execution_count": 18,
   "metadata": {
    "colab": {},
    "colab_type": "code",
    "id": "ysInblUMzpvl"
   },
   "outputs": [],
   "source": [
    "twenty_test = fetch_20newsgroups(subset='test', categories=categories, shuffle=True, random_state=42)"
   ]
  },
  {
   "cell_type": "code",
   "execution_count": 19,
   "metadata": {},
   "outputs": [
    {
     "data": {
      "text/plain": [
       "6"
      ]
     },
     "execution_count": 19,
     "metadata": {},
     "output_type": "execute_result"
    }
   ],
   "source": [
    "len(twenty_test)"
   ]
  },
  {
   "cell_type": "markdown",
   "metadata": {
    "colab_type": "text",
    "id": "DriL2yZ50DQq"
   },
   "source": [
    "###  a.  You can access the values for the target variable using .target attribute \n",
    "###  b. You can access the name of the class in the target variable with .target_names\n"
   ]
  },
  {
   "cell_type": "code",
   "execution_count": null,
   "metadata": {},
   "outputs": [],
   "source": []
  },
  {
   "cell_type": "code",
   "execution_count": 20,
   "metadata": {
    "colab": {},
    "colab_type": "code",
    "id": "vlUuai99z1hX"
   },
   "outputs": [
    {
     "data": {
      "text/plain": [
       "array([1, 1, 3, ..., 2, 2, 2], dtype=int64)"
      ]
     },
     "execution_count": 20,
     "metadata": {},
     "output_type": "execute_result"
    }
   ],
   "source": [
    "twenty_train.target"
   ]
  },
  {
   "cell_type": "code",
   "execution_count": 21,
   "metadata": {
    "colab": {},
    "colab_type": "code",
    "id": "VEKzaDfSz5E-"
   },
   "outputs": [
    {
     "data": {
      "text/plain": [
       "['alt.atheism', 'comp.graphics', 'sci.med', 'soc.religion.christian']"
      ]
     },
     "execution_count": 21,
     "metadata": {},
     "output_type": "execute_result"
    }
   ],
   "source": [
    "twenty_train.target_names"
   ]
  },
  {
   "cell_type": "code",
   "execution_count": 22,
   "metadata": {
    "colab": {},
    "colab_type": "code",
    "id": "clBMKHzC0_N1"
   },
   "outputs": [
    {
     "data": {
      "text/plain": [
       "['From: sd345@city.ac.uk (Michael Collier)\\nSubject: Converting images to HP LaserJet III?\\nNntp-Posting-Host: hampton\\nOrganization: The City University\\nLines: 14\\n\\nDoes anyone know of a good way (standard PC application/PD utility) to\\nconvert tif/img/tga files into LaserJet III format.  We would also like to\\ndo the same, converting to HPGL (HP plotter) files.\\n\\nPlease email any response.\\n\\nIs this the correct group?\\n\\nThanks in advance.  Michael.\\n-- \\nMichael Collier (Programmer)                 The Computer Unit,\\nEmail: M.P.Collier@uk.ac.city                The City University,\\nTel: 071 477-8000 x3769                      London,\\nFax: 071 477-8565                            EC1V 0HB.\\n',\n",
       " \"From: ani@ms.uky.edu (Aniruddha B. Deglurkar)\\nSubject: help: Splitting a trimming region along a mesh \\nOrganization: University Of Kentucky, Dept. of Math Sciences\\nLines: 28\\n\\n\\n\\n\\tHi,\\n\\n\\tI have a problem, I hope some of the 'gurus' can help me solve.\\n\\n\\tBackground of the problem:\\n\\tI have a rectangular mesh in the uv domain, i.e  the mesh is a \\n\\tmapping of a 3d Bezier patch into 2d. The area in this domain\\n\\twhich is inside a trimming loop had to be rendered. The trimming\\n\\tloop is a set of 2d Bezier curve segments.\\n\\tFor the sake of notation: the mesh is made up of cells.\\n\\n\\tMy problem is this :\\n\\tThe trimming area has to be split up into individual smaller\\n\\tcells bounded by the trimming curve segments. If a cell\\n\\tis wholly inside the area...then it is output as a whole ,\\n\\telse it is trivially rejected. \\n\\n\\tDoes any body know how thiss can be done, or is there any algo. \\n\\tsomewhere for doing this.\\n\\n\\tAny help would be appreciated.\\n\\n\\tThanks, \\n\\tAni.\\n-- \\nTo get irritated is human, to stay cool, divine.\\n\",\n",
       " \"From: djohnson@cs.ucsd.edu (Darin Johnson)\\nSubject: Re: harrassed at work, could use some prayers\\nOrganization: =CSE Dept., U.C. San Diego\\nLines: 63\\n\\n(Well, I'll email also, but this may apply to other people, so\\nI'll post also.)\\n\\n>I've been working at this company for eight years in various\\n>engineering jobs.  I'm female.  Yesterday I counted and realized that\\n>on seven different occasions I've been sexually harrassed at this\\n>company.\\n\\n>I dreaded coming back to work today.  What if my boss comes in to ask\\n>me some kind of question...\\n\\nYour boss should be the person bring these problems to.  If he/she\\ndoes not seem to take any action, keep going up higher and higher.\\nSexual harrassment does not need to be tolerated, and it can be an\\nenormous emotional support to discuss this with someone and know that\\nthey are trying to do something about it.  If you feel you can not\\ndiscuss this with your boss, perhaps your company has a personnel\\ndepartment that can work for you while preserving your privacy.  Most\\ncompanies will want to deal with this problem because constant anxiety\\ndoes seriously affect how effectively employees do their jobs.\\n\\nIt is unclear from your letter if you have done this or not.  It is\\nnot inconceivable that management remains ignorant of employee\\nproblems/strife even after eight years (it's a miracle if they do\\nnotice).  Perhaps your manager did not bring to the attention of\\nhigher ups?  If the company indeed does seem to want to ignore the\\nentire problem, there may be a state agency willing to fight with\\nyou.  (check with a lawyer, a women's resource center, etc to find out)\\n\\nYou may also want to discuss this with your paster, priest, husband,\\netc.  That is, someone you know will not be judgemental and that is\\nsupportive, comforting, etc.  This will bring a lot of healing.\\n\\n>So I returned at 11:25, only to find that ever single\\n>person had already left for lunch.  They left at 11:15 or so.  No one\\n>could be bothered to call me at the other building, even though my\\n>number was posted.\\n\\nThis happens to a lot of people.  Honest.  I believe it may seem\\nto be due to gross insensitivity because of the feelings you are\\ngoing through.  People in offices tend to be more insensitive while\\nworking than they normally are (maybe it's the hustle or stress or...)\\nI've had this happen to me a lot, often because they didn't realize\\nmy car was broken, etc.  Then they will come back and wonder why I\\ndidn't want to go (this would tend to make me stop being angry at\\nbeing ignored and make me laugh).  Once, we went off without our\\nboss, who was paying for the lunch :-)\\n\\n>For this\\n>reason I hope good Mr. Moderator allows me this latest indulgence.\\n\\nWell, if you can't turn to the computer for support, what would\\nwe do?  (signs of the computer age :-)\\n\\nIn closing, please don't let the hateful actions of a single person\\nharm you.  They are doing it because they are still the playground\\nbully and enjoy seeing the hurt they cause.  And you should not\\naccept the opinions of an imbecile that you are worthless - much\\nwiser people hold you in great esteem.\\n-- \\nDarin Johnson\\ndjohnson@ucsd.edu\\n  - Luxury!  In MY day, we had to make do with 5 bytes of swap...\\n\",\n",
       " 'From: s0612596@let.rug.nl (M.M. Zwart)\\nSubject: catholic church poland\\nOrganization: Faculteit der Letteren, Rijksuniversiteit Groningen, NL\\nLines: 10\\n\\nHello,\\n\\nI\\'m writing a paper on the role of the catholic church in Poland after 1989. \\nCan anyone tell me more about this, or fill me in on recent books/articles(\\nin english, german or french). Most important for me is the role of the \\nchurch concerning the abortion-law, religious education at schools,\\nbirth-control and the relation church-state(government). Thanx,\\n\\n                                                 Masja,\\n\"M.M.Zwart\"<s0612596@let.rug.nl>\\n',\n",
       " 'From: stanly@grok11.columbiasc.ncr.com (stanly)\\nSubject: Re: Elder Brother\\nOrganization: NCR Corp., Columbia SC\\nLines: 15\\n\\nIn article <Apr.8.00.57.41.1993.28246@athos.rutgers.edu> REXLEX@fnal.gov writes:\\n>In article <Apr.7.01.56.56.1993.22824@athos.rutgers.edu> shrum@hpfcso.fc.hp.com\\n>Matt. 22:9-14 \\'Go therefore to the main highways, and as many as you find\\n>there, invite to the wedding feast.\\'...\\n\\n>hmmmmmm.  Sounds like your theology and Christ\\'s are at odds. Which one am I \\n>to believe?\\n\\nIn this parable, Jesus tells the parable of the wedding feast. \"The kingdom\\nof heaven is like unto a certain king which made a marriage for his son\".\\nSo the wedding clothes were customary,  and \"given\" to those who \"chose\" to\\nattend.  This man \"refused\" to wear the clothes.  The wedding clothes are\\nequalivant to the \"clothes of righteousness\".  When Jesus died for our sins,\\nthose \"clothes\" were then provided.  Like that man, it is our decision to\\nput the clothes on.\\n']"
      ]
     },
     "execution_count": 22,
     "metadata": {},
     "output_type": "execute_result"
    }
   ],
   "source": [
    "twenty_train.data[0:5]"
   ]
  },
  {
   "cell_type": "code",
   "execution_count": null,
   "metadata": {},
   "outputs": [],
   "source": [
    "#Xtrain"
   ]
  },
  {
   "cell_type": "code",
   "execution_count": 23,
   "metadata": {},
   "outputs": [
    {
     "data": {
      "text/plain": [
       "(2257, 35788)"
      ]
     },
     "execution_count": 23,
     "metadata": {},
     "output_type": "execute_result"
    }
   ],
   "source": [
    "from sklearn.feature_extraction.text import CountVectorizer\n",
    "count_vect = CountVectorizer()\n",
    "X_Train_counts = count_vect.fit_transform(twenty_train.data)\n",
    "X_Train_counts.shape"
   ]
  },
  {
   "cell_type": "markdown",
   "metadata": {
    "colab_type": "text",
    "id": "hTz4EaN_1WGc"
   },
   "source": [
    "### 9.  Now with dependent and independent data available for both train and test datasets, using TfidfVectorizer fit and transform the training data and test data and get the tfidf features for both"
   ]
  },
  {
   "cell_type": "code",
   "execution_count": 13,
   "metadata": {},
   "outputs": [],
   "source": [
    "# Import libraries NLP"
   ]
  },
  {
   "cell_type": "code",
   "execution_count": 28,
   "metadata": {},
   "outputs": [],
   "source": [
    "from sklearn.feature_extraction.text import TfidfVectorizer"
   ]
  },
  {
   "cell_type": "code",
   "execution_count": 29,
   "metadata": {},
   "outputs": [
    {
     "name": "stdout",
     "output_type": "stream",
     "text": [
      "(2257, 2384)\n",
      "(1502, 2384)\n",
      "[[0.         0.         0.         ... 0.         0.         0.        ]\n",
      " [0.         0.         0.         ... 0.         0.         0.        ]\n",
      " [0.         0.         0.         ... 0.         0.         0.        ]\n",
      " ...\n",
      " [0.         0.         0.         ... 0.         0.         0.        ]\n",
      " [0.         0.         0.         ... 0.         0.01186874 0.        ]\n",
      " [0.         0.         0.         ... 0.         0.         0.        ]] [1 1 3 ... 2 2 2] [[0.         0.         0.         ... 0.         0.         0.        ]\n",
      " [0.         0.         0.         ... 0.         0.         0.        ]\n",
      " [0.         0.         0.         ... 0.         0.         0.        ]\n",
      " ...\n",
      " [0.         0.         0.06224145 ... 0.         0.         0.        ]\n",
      " [0.         0.         0.         ... 0.         0.         0.        ]\n",
      " [0.         0.         0.         ... 0.         0.         0.        ]] [2 2 2 ... 2 2 1]\n"
     ]
    }
   ],
   "source": [
    "vectorizer = TfidfVectorizer(min_df=0.01, max_df=0.95)\n",
    "train = vectorizer.fit_transform(twenty_train.data)\n",
    "test = vectorizer.transform(twenty_test.data)\n",
    "train = train.todense()\n",
    "test = test.todense()\n",
    "train_labels = twenty_train.target\n",
    "test_labels = twenty_test.target\n",
    "\n",
    "print(train.shape)\n",
    "print(test.shape)\n",
    "\n",
    "print(train, train_labels, test, test_labels)"
   ]
  },
  {
   "cell_type": "code",
   "execution_count": null,
   "metadata": {},
   "outputs": [],
   "source": [
    "#Train the datasets using count vectorizer\n",
    "cvec = CountVectorizer()\n",
    "train_features=cvec.fit(twenty_train.data)\n",
    "cvecdata= cvec.transform(twenty_train.data)\n",
    "df=pd.DataFrame(cvecdata.todense(),columns=cvec.get_feature_names())"
   ]
  },
  {
   "cell_type": "code",
   "execution_count": 30,
   "metadata": {},
   "outputs": [
    {
     "name": "stdout",
     "output_type": "stream",
     "text": [
      "Features :        00  000  0000  0000001200  000005102000  0001  000100255pixel  00014  \\\n",
      "0      0    0     0           0             0     0               0      0   \n",
      "1      0    0     0           0             0     0               0      0   \n",
      "2      0    0     0           0             0     0               0      0   \n",
      "3      0    0     0           0             0     0               0      0   \n",
      "4      1    0     0           0             0     0               0      0   \n",
      "5      1    0     0           0             0     0               0      0   \n",
      "6      0    0     0           0             0     0               0      0   \n",
      "7      0    0     0           0             0     0               0      0   \n",
      "8      0    0     0           0             0     0               0      0   \n",
      "9      0    0     0           0             0     0               0      0   \n",
      "10     0    0     0           0             0     0               0      0   \n",
      "11     0    0     0           0             0     0               0      0   \n",
      "12     0    0     0           0             0     0               0      0   \n",
      "13     0    0     0           0             0     0               0      0   \n",
      "14     0    0     0           0             0     0               0      0   \n",
      "15     0    0     0           0             0     0               0      0   \n",
      "16     0    0     0           0             0     0               0      0   \n",
      "17     0    0     0           0             0     0               0      0   \n",
      "18     0    0     0           0             0     0               0      0   \n",
      "19     0    0     0           0             0     0               0      0   \n",
      "20     0    0     0           0             0     0               0      0   \n",
      "21     0    0     0           0             0     0               0      0   \n",
      "22     0    0     0           0             0     0               0      0   \n",
      "23     0    0     0           0             0     0               0      0   \n",
      "24     0    0     0           0             0     0               0      0   \n",
      "25     0    0     0           0             0     0               0      0   \n",
      "26     0    0     0           0             0     0               0      0   \n",
      "27     0    0     0           0             0     0               0      0   \n",
      "28     0    0     0           0             0     0               0      0   \n",
      "29     0    0     0           0             0     0               0      0   \n",
      "...   ..  ...   ...         ...           ...   ...             ...    ...   \n",
      "2227   0    0     0           0             0     0               0      0   \n",
      "2228   0    0     0           0             0     0               0      0   \n",
      "2229   0    0     0           0             0     0               0      0   \n",
      "2230   0    0     0           0             0     0               0      0   \n",
      "2231   0    0     0           0             0     0               0      0   \n",
      "2232   0    0     0           0             0     0               0      0   \n",
      "2233   0    0     0           0             0     0               0      0   \n",
      "2234   0    0     0           0             0     0               0      0   \n",
      "2235   0    0     0           0             0     0               0      0   \n",
      "2236   0    0     0           0             0     0               0      0   \n",
      "2237   0    0     0           0             0     0               0      0   \n",
      "2238   0    0     0           0             0     0               0      0   \n",
      "2239   0    0     0           0             0     0               0      0   \n",
      "2240   0    0     0           0             0     0               0      0   \n",
      "2241   0    0     0           0             0     0               0      0   \n",
      "2242   0    0     0           0             0     0               0      0   \n",
      "2243   0    0     0           0             0     0               0      0   \n",
      "2244   0    0     0           0             0     0               0      0   \n",
      "2245   0    0     0           0             0     0               0      0   \n",
      "2246   0    0     0           0             0     0               0      0   \n",
      "2247   0    0     0           0             0     0               0      0   \n",
      "2248   0    0     0           0             0     0               0      0   \n",
      "2249   0    0     0           0             0     0               0      0   \n",
      "2250   0    0     0           0             0     0               0      0   \n",
      "2251   0    0     0           0             0     0               0      0   \n",
      "2252   0    0     0           0             0     0               0      1   \n",
      "2253   0    0     0           0             0     0               0      0   \n",
      "2254   0    0     0           0             0     0               0      0   \n",
      "2255   0    0     0           0             0     0               0      0   \n",
      "2256   0    0     0           0             0     0               0      0   \n",
      "\n",
      "      000406  0007    ...     zvi  zvonko  zwart  zyeh  zyklon  zyxel  zz  \\\n",
      "0          0     0    ...       0       0      0     0       0      0   0   \n",
      "1          0     0    ...       0       0      0     0       0      0   0   \n",
      "2          0     0    ...       0       0      0     0       0      0   0   \n",
      "3          0     0    ...       0       0      2     0       0      0   0   \n",
      "4          0     0    ...       0       0      0     0       0      0   0   \n",
      "5          0     0    ...       0       0      0     0       0      0   0   \n",
      "6          0     0    ...       0       0      0     0       0      0   0   \n",
      "7          0     0    ...       0       0      0     0       0      0   0   \n",
      "8          0     0    ...       0       0      0     0       0      0   0   \n",
      "9          0     0    ...       0       0      0     0       0      0   0   \n",
      "10         0     0    ...       0       0      0     0       0      0   0   \n",
      "11         0     0    ...       0       0      0     0       0      0   0   \n",
      "12         0     0    ...       0       0      0     0       0      0   0   \n",
      "13         0     0    ...       0       0      0     0       0      0   0   \n",
      "14         0     0    ...       0       0      0     0       0      0   0   \n",
      "15         0     0    ...       0       0      0     0       0      0   0   \n",
      "16         0     0    ...       0       0      0     0       0      0   0   \n",
      "17         0     0    ...       0       0      0     0       0      0   0   \n",
      "18         0     0    ...       0       0      0     0       0      0   0   \n",
      "19         0     0    ...       0       0      0     0       0      0   0   \n",
      "20         0     0    ...       0       0      0     0       0      0   0   \n",
      "21         0     0    ...       0       0      0     0       0      0   0   \n",
      "22         0     0    ...       0       0      0     0       0      0   0   \n",
      "23         0     0    ...       0       0      0     0       0      0   0   \n",
      "24         0     0    ...       0       0      0     0       0      0   0   \n",
      "25         0     0    ...       0       0      0     0       0      0   0   \n",
      "26         0     0    ...       0       0      0     0       0      0   0   \n",
      "27         0     0    ...       0       0      0     0       0      0   0   \n",
      "28         0     0    ...       0       0      0     0       0      0   0   \n",
      "29         0     0    ...       0       0      0     0       0      0   0   \n",
      "...      ...   ...    ...     ...     ...    ...   ...     ...    ...  ..   \n",
      "2227       0     0    ...       0       0      0     0       0      0   0   \n",
      "2228       0     0    ...       0       0      0     0       0      0   0   \n",
      "2229       0     0    ...       0       0      0     0       0      0   0   \n",
      "2230       0     0    ...       0       0      0     0       0      0   0   \n",
      "2231       0     0    ...       0       0      0     0       0      0   0   \n",
      "2232       0     0    ...       0       0      0     0       0      0   0   \n",
      "2233       0     0    ...       0       0      0     0       0      0   0   \n",
      "2234       0     0    ...       0       0      0     0       0      0   0   \n",
      "2235       0     0    ...       0       0      0     0       0      0   0   \n",
      "2236       0     0    ...       0       0      0     0       0      0   0   \n",
      "2237       0     0    ...       0       0      0     0       0      0   0   \n",
      "2238       0     0    ...       0       0      0     0       0      0   0   \n",
      "2239       0     0    ...       0       0      0     0       0      0   0   \n",
      "2240       0     0    ...       0       0      0     0       0      0   0   \n",
      "2241       0     0    ...       0       0      0     0       0      0   0   \n",
      "2242       0     0    ...       0       0      0     0       0      0   0   \n",
      "2243       0     0    ...       0       0      0     0       0      0   0   \n",
      "2244       0     0    ...       0       0      0     0       0      0   0   \n",
      "2245       0     0    ...       0       0      0     0       0      0   0   \n",
      "2246       0     0    ...       0       0      0     0       0      0   0   \n",
      "2247       0     0    ...       0       0      0     0       0      0   0   \n",
      "2248       0     0    ...       0       0      0     0       0      0   0   \n",
      "2249       0     0    ...       0       0      0     0       0      0   0   \n",
      "2250       0     0    ...       0       0      0     0       0      0   0   \n",
      "2251       0     0    ...       0       0      0     0       0      0   0   \n",
      "2252       0     0    ...       0       0      0     0       0      0   0   \n",
      "2253       0     0    ...       0       0      0     0       0      0   0   \n",
      "2254       0     0    ...       0       0      0     0       0      0   0   \n",
      "2255       0     0    ...       0       0      0     0       0      0   0   \n",
      "2256       0     0    ...       0       0      0     0       0      0   0   \n",
      "\n",
      "      zzz  ªl  íålittin  \n",
      "0       0   0         0  \n",
      "1       0   0         0  \n",
      "2       0   0         0  \n",
      "3       0   0         0  \n",
      "4       0   0         0  \n",
      "5       0   0         0  \n",
      "6       0   0         0  \n",
      "7       0   0         0  \n",
      "8       0   0         0  \n",
      "9       0   0         0  \n",
      "10      0   0         0  \n",
      "11      0   0         0  \n",
      "12      0   0         0  \n",
      "13      0   0         0  \n",
      "14      0   0         0  \n",
      "15      0   0         0  \n",
      "16      0   0         0  \n",
      "17      0   0         0  \n",
      "18      0   0         0  \n",
      "19      0   0         0  \n",
      "20      0   0         0  \n",
      "21      0   0         0  \n",
      "22      0   0         0  \n",
      "23      0   0         0  \n",
      "24      0   0         0  \n",
      "25      0   0         0  \n",
      "26      0   0         0  \n",
      "27      0   0         0  \n",
      "28      0   0         0  \n",
      "29      0   0         0  \n",
      "...   ...  ..       ...  \n",
      "2227    0   0         0  \n",
      "2228    0   0         0  \n",
      "2229    0   0         0  \n",
      "2230    0   0         0  \n",
      "2231    0   0         0  \n",
      "2232    0   0         0  \n",
      "2233    0   0         0  \n",
      "2234    0   0         0  \n",
      "2235    0   0         0  \n",
      "2236    0   0         0  \n",
      "2237    0   0         0  \n",
      "2238    0   0         0  \n",
      "2239    0   0         0  \n",
      "2240    0   0         0  \n",
      "2241    0   0         0  \n",
      "2242    0   0         0  \n",
      "2243    0   0         0  \n",
      "2244    0   0         0  \n",
      "2245    0   0         0  \n",
      "2246    0   0         0  \n",
      "2247    0   0         0  \n",
      "2248    0   0         0  \n",
      "2249    0   0         0  \n",
      "2250    0   0         0  \n",
      "2251    0   0         0  \n",
      "2252    0   0         0  \n",
      "2253    0   0         0  \n",
      "2254    0   0         0  \n",
      "2255    0   0         0  \n",
      "2256    0   0         0  \n",
      "\n",
      "[2257 rows x 35788 columns]\n"
     ]
    }
   ],
   "source": [
    "print(\"Features : \", df)"
   ]
  },
  {
   "cell_type": "markdown",
   "metadata": {
    "colab_type": "text",
    "id": "tp_fDINJ1t4L"
   },
   "source": [
    "### 10. Use logisticRegression with tfidf features as input and targets as output and train the model and report the train and test accuracy score"
   ]
  },
  {
   "cell_type": "code",
   "execution_count": 31,
   "metadata": {},
   "outputs": [],
   "source": [
    "from sklearn.linear_model import LogisticRegression\n",
    "y=twenty_train.target\n",
    "model=LogisticRegression()\n",
    "log_model=model.fit(df,y)"
   ]
  },
  {
   "cell_type": "code",
   "execution_count": 32,
   "metadata": {},
   "outputs": [
    {
     "data": {
      "text/plain": [
       "0.9007989347536618"
      ]
     },
     "execution_count": 32,
     "metadata": {},
     "output_type": "execute_result"
    }
   ],
   "source": [
    "X_Test=cvec.transform(twenty_test.data)\n",
    "Y_Test=twenty_test.target\n",
    "log_model.score(X_Test,Y_Test)"
   ]
  },
  {
   "cell_type": "code",
   "execution_count": 34,
   "metadata": {},
   "outputs": [
    {
     "name": "stdout",
     "output_type": "stream",
     "text": [
      "             precision    recall  f1-score   support\n",
      "\n",
      "          0       0.93      0.81      0.86       319\n",
      "          1       0.88      0.96      0.92       389\n",
      "          2       0.93      0.84      0.88       396\n",
      "          3       0.88      0.98      0.93       398\n",
      "\n",
      "avg / total       0.90      0.90      0.90      1502\n",
      "\n",
      "[[258   8  13  40]\n",
      " [  5 373   9   2]\n",
      " [ 12  40 333  11]\n",
      " [  3   3   3 389]]\n"
     ]
    }
   ],
   "source": [
    "test_pred = model.predict(X_Test)\n",
    "from sklearn import metrics\n",
    "print(metrics.classification_report(Y_Test, test_pred))\n",
    "print(metrics.confusion_matrix(Y_Test, test_pred))"
   ]
  },
  {
   "cell_type": "markdown",
   "metadata": {},
   "source": [
    "## It achieved 90% accuracy"
   ]
  },
  {
   "cell_type": "code",
   "execution_count": null,
   "metadata": {},
   "outputs": [],
   "source": []
  }
 ],
 "metadata": {
  "colab": {
   "collapsed_sections": [],
   "name": "R8_External_Lab_Questions.ipynb",
   "provenance": [],
   "version": "0.3.2"
  },
  "kernelspec": {
   "display_name": "Python 3",
   "language": "python",
   "name": "python3"
  }
 },
 "nbformat": 4,
 "nbformat_minor": 1
}
